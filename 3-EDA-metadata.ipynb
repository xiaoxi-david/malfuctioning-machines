{
 "cells": [
  {
   "cell_type": "code",
   "execution_count": 1,
   "metadata": {},
   "outputs": [],
   "source": [
    "import pandas as pd\r\n",
    "\r\n",
    "import os\r\n",
    "\r\n",
    "import warnings\r\n",
    "warnings.filterwarnings('ignore')"
   ]
  },
  {
   "cell_type": "code",
   "execution_count": 2,
   "metadata": {},
   "outputs": [
    {
     "name": "stdout",
     "output_type": "stream",
     "text": [
      "Pandas: 1.2.4\n"
     ]
    }
   ],
   "source": [
    "print(f\"Pandas: {pd.__version__}\")"
   ]
  },
  {
   "cell_type": "code",
   "execution_count": 3,
   "metadata": {},
   "outputs": [],
   "source": [
    "filenames_df = pd.read_csv(os.path.join(\"csv\", \"filenames.csv\"))"
   ]
  },
  {
   "cell_type": "code",
   "execution_count": 4,
   "metadata": {},
   "outputs": [
    {
     "data": {
      "text/html": "<div>\n<style scoped>\n    .dataframe tbody tr th:only-of-type {\n        vertical-align: middle;\n    }\n\n    .dataframe tbody tr th {\n        vertical-align: top;\n    }\n\n    .dataframe thead th {\n        text-align: right;\n    }\n</style>\n<table border=\"1\" class=\"dataframe\">\n  <thead>\n    <tr style=\"text-align: right;\">\n      <th></th>\n      <th>filename</th>\n    </tr>\n  </thead>\n  <tbody>\n    <tr>\n      <th>3217</th>\n      <td>pump\\train\\normal_id_04_00000550.wav</td>\n    </tr>\n    <tr>\n      <th>2027</th>\n      <td>pump\\train\\normal_id_02_00000265.wav</td>\n    </tr>\n    <tr>\n      <th>1859</th>\n      <td>pump\\train\\normal_id_02_00000097.wav</td>\n    </tr>\n    <tr>\n      <th>3789</th>\n      <td>pump\\train\\normal_id_06_00000520.wav</td>\n    </tr>\n    <tr>\n      <th>2918</th>\n      <td>pump\\train\\normal_id_04_00000251.wav</td>\n    </tr>\n  </tbody>\n</table>\n</div>",
      "text/plain": "                                  filename\n3217  pump\\train\\normal_id_04_00000550.wav\n2027  pump\\train\\normal_id_02_00000265.wav\n1859  pump\\train\\normal_id_02_00000097.wav\n3789  pump\\train\\normal_id_06_00000520.wav\n2918  pump\\train\\normal_id_04_00000251.wav"
     },
     "execution_count": 4,
     "metadata": {},
     "output_type": "execute_result"
    }
   ],
   "source": [
    "filenames_df.sample(5)"
   ]
  },
  {
   "cell_type": "code",
   "execution_count": 5,
   "metadata": {},
   "outputs": [],
   "source": [
    "machines_df = (\r\n",
    "    filenames_df[\"filename\"]\r\n",
    "    .str.extract(r\"(pump).(train|test).(normal|anomaly)_id_(\\d{2})_\\d{4}(\\d{4})\", expand=True)\r\n",
    "    .rename(columns={0: \"machine_type\", 1: \"split\", 2: \"label\", 3: \"machine_id\", 4: \"audio_id\", 5: \"ext\"})\r\n",
    ")"
   ]
  },
  {
   "cell_type": "code",
   "execution_count": 6,
   "metadata": {},
   "outputs": [
    {
     "data": {
      "text/html": "<div>\n<style scoped>\n    .dataframe tbody tr th:only-of-type {\n        vertical-align: middle;\n    }\n\n    .dataframe tbody tr th {\n        vertical-align: top;\n    }\n\n    .dataframe thead th {\n        text-align: right;\n    }\n</style>\n<table border=\"1\" class=\"dataframe\">\n  <thead>\n    <tr style=\"text-align: right;\">\n      <th></th>\n      <th>machine_type</th>\n      <th>split</th>\n      <th>label</th>\n      <th>machine_id</th>\n      <th>audio_id</th>\n    </tr>\n  </thead>\n  <tbody>\n    <tr>\n      <th>3558</th>\n      <td>pump</td>\n      <td>train</td>\n      <td>normal</td>\n      <td>06</td>\n      <td>0289</td>\n    </tr>\n    <tr>\n      <th>3766</th>\n      <td>pump</td>\n      <td>train</td>\n      <td>normal</td>\n      <td>06</td>\n      <td>0497</td>\n    </tr>\n    <tr>\n      <th>4074</th>\n      <td>pump</td>\n      <td>train</td>\n      <td>normal</td>\n      <td>06</td>\n      <td>0805</td>\n    </tr>\n    <tr>\n      <th>1561</th>\n      <td>pump</td>\n      <td>train</td>\n      <td>normal</td>\n      <td>00</td>\n      <td>0705</td>\n    </tr>\n    <tr>\n      <th>1176</th>\n      <td>pump</td>\n      <td>train</td>\n      <td>normal</td>\n      <td>00</td>\n      <td>0320</td>\n    </tr>\n  </tbody>\n</table>\n</div>",
      "text/plain": "     machine_type  split   label machine_id audio_id\n3558         pump  train  normal         06     0289\n3766         pump  train  normal         06     0497\n4074         pump  train  normal         06     0805\n1561         pump  train  normal         00     0705\n1176         pump  train  normal         00     0320"
     },
     "execution_count": 6,
     "metadata": {},
     "output_type": "execute_result"
    }
   ],
   "source": [
    "machines_df.sample(5)"
   ]
  },
  {
   "cell_type": "code",
   "execution_count": 7,
   "metadata": {},
   "outputs": [
    {
     "name": "stdout",
     "output_type": "stream",
     "text": [
      "<class 'pandas.core.frame.DataFrame'>\n",
      "RangeIndex: 4205 entries, 0 to 4204\n",
      "Data columns (total 5 columns):\n",
      " #   Column        Non-Null Count  Dtype \n",
      "---  ------        --------------  ----- \n",
      " 0   machine_type  4205 non-null   object\n",
      " 1   split         4205 non-null   object\n",
      " 2   label         4205 non-null   object\n",
      " 3   machine_id    4205 non-null   object\n",
      " 4   audio_id      4205 non-null   object\n",
      "dtypes: object(5)\n",
      "memory usage: 164.4+ KB\n"
     ]
    }
   ],
   "source": [
    "machines_df.info()"
   ]
  },
  {
   "cell_type": "code",
   "execution_count": 8,
   "metadata": {},
   "outputs": [
    {
     "data": {
      "text/plain": "Index              128\nmachine_type    256505\nsplit           259854\nlabel           265371\nmachine_id      248095\naudio_id        256505\ndtype: int64"
     },
     "execution_count": 8,
     "metadata": {},
     "output_type": "execute_result"
    }
   ],
   "source": [
    "machines_df.memory_usage(deep=True)"
   ]
  },
  {
   "cell_type": "code",
   "execution_count": 9,
   "metadata": {},
   "outputs": [],
   "source": [
    "dct_types = {\r\n",
    "    \"machine_type\": \"category\",\r\n",
    "    \"split\": \"category\",\r\n",
    "    \"label\": \"category\",\r\n",
    "    \"machine_id\": \"category\",\r\n",
    "    \"audio_id\": \"category\",\r\n",
    "}\r\n",
    "machines_df = machines_df.astype(dct_types)"
   ]
  },
  {
   "cell_type": "code",
   "execution_count": 10,
   "metadata": {},
   "outputs": [
    {
     "data": {
      "text/plain": "machine_type    category\nsplit           category\nlabel           category\nmachine_id      category\naudio_id        category\ndtype: object"
     },
     "execution_count": 10,
     "metadata": {},
     "output_type": "execute_result"
    }
   ],
   "source": [
    "machines_df.dtypes"
   ]
  },
  {
   "cell_type": "code",
   "execution_count": 11,
   "metadata": {},
   "outputs": [
    {
     "data": {
      "text/html": "<div>\n<style scoped>\n    .dataframe tbody tr th:only-of-type {\n        vertical-align: middle;\n    }\n\n    .dataframe tbody tr th {\n        vertical-align: top;\n    }\n\n    .dataframe thead th {\n        text-align: right;\n    }\n</style>\n<table border=\"1\" class=\"dataframe\">\n  <thead>\n    <tr style=\"text-align: right;\">\n      <th></th>\n      <th>machine_type</th>\n      <th>split</th>\n      <th>label</th>\n      <th>machine_id</th>\n      <th>audio_id</th>\n    </tr>\n  </thead>\n  <tbody>\n    <tr>\n      <th>2861</th>\n      <td>pump</td>\n      <td>train</td>\n      <td>normal</td>\n      <td>04</td>\n      <td>0194</td>\n    </tr>\n    <tr>\n      <th>1178</th>\n      <td>pump</td>\n      <td>train</td>\n      <td>normal</td>\n      <td>00</td>\n      <td>0322</td>\n    </tr>\n    <tr>\n      <th>2627</th>\n      <td>pump</td>\n      <td>train</td>\n      <td>normal</td>\n      <td>02</td>\n      <td>0865</td>\n    </tr>\n    <tr>\n      <th>2016</th>\n      <td>pump</td>\n      <td>train</td>\n      <td>normal</td>\n      <td>02</td>\n      <td>0254</td>\n    </tr>\n    <tr>\n      <th>2172</th>\n      <td>pump</td>\n      <td>train</td>\n      <td>normal</td>\n      <td>02</td>\n      <td>0410</td>\n    </tr>\n  </tbody>\n</table>\n</div>",
      "text/plain": "     machine_type  split   label machine_id audio_id\n2861         pump  train  normal         04     0194\n1178         pump  train  normal         00     0322\n2627         pump  train  normal         02     0865\n2016         pump  train  normal         02     0254\n2172         pump  train  normal         02     0410"
     },
     "execution_count": 11,
     "metadata": {},
     "output_type": "execute_result"
    }
   ],
   "source": [
    "machines_df.sample(5)"
   ]
  },
  {
   "cell_type": "code",
   "execution_count": 12,
   "metadata": {},
   "outputs": [
    {
     "data": {
      "text/plain": "Index             128\nmachine_type     4374\nsplit            4436\nlabel            4440\nmachine_id       4613\naudio_id        98570\ndtype: int64"
     },
     "execution_count": 12,
     "metadata": {},
     "output_type": "execute_result"
    }
   ],
   "source": [
    "machines_df.memory_usage(deep=True)"
   ]
  },
  {
   "cell_type": "code",
   "execution_count": 13,
   "metadata": {},
   "outputs": [
    {
     "data": {
      "text/plain": "Index             128\nmachine_type     4374\nsplit            4436\nlabel            4440\nmachine_id       4613\naudio_id        98570\ndtype: int64"
     },
     "execution_count": 13,
     "metadata": {},
     "output_type": "execute_result"
    }
   ],
   "source": [
    "machines_df.memory_usage(deep=True)"
   ]
  },
  {
   "cell_type": "code",
   "execution_count": 14,
   "metadata": {},
   "outputs": [
    {
     "data": {
      "text/html": "<div>\n<style scoped>\n    .dataframe tbody tr th:only-of-type {\n        vertical-align: middle;\n    }\n\n    .dataframe tbody tr th {\n        vertical-align: top;\n    }\n\n    .dataframe thead tr th {\n        text-align: left;\n    }\n\n    .dataframe thead tr:last-of-type th {\n        text-align: right;\n    }\n</style>\n<table border=\"1\" class=\"dataframe\">\n  <thead>\n    <tr>\n      <th>split</th>\n      <th colspan=\"2\" halign=\"left\">test</th>\n      <th>train</th>\n    </tr>\n    <tr>\n      <th>label</th>\n      <th>anomaly</th>\n      <th>normal</th>\n      <th>normal</th>\n    </tr>\n    <tr>\n      <th>machine_id</th>\n      <th></th>\n      <th></th>\n      <th></th>\n    </tr>\n  </thead>\n  <tbody>\n    <tr>\n      <th>00</th>\n      <td>143</td>\n      <td>100</td>\n      <td>906</td>\n    </tr>\n    <tr>\n      <th>02</th>\n      <td>111</td>\n      <td>100</td>\n      <td>905</td>\n    </tr>\n    <tr>\n      <th>04</th>\n      <td>100</td>\n      <td>100</td>\n      <td>602</td>\n    </tr>\n    <tr>\n      <th>06</th>\n      <td>102</td>\n      <td>100</td>\n      <td>936</td>\n    </tr>\n  </tbody>\n</table>\n</div>",
      "text/plain": "split         test         train\nlabel      anomaly normal normal\nmachine_id                      \n00             143    100    906\n02             111    100    905\n04             100    100    602\n06             102    100    936"
     },
     "execution_count": 14,
     "metadata": {},
     "output_type": "execute_result"
    }
   ],
   "source": [
    "(\r\n",
    "    machines_df\r\n",
    "    .filter([\"machine_id\", \"split\", \"label\", \"audio_id\"])\r\n",
    "    .pivot_table(\r\n",
    "        values=\"audio_id\",\r\n",
    "        index=[\"machine_id\"],\r\n",
    "        columns=[\"split\",\"label\"],\r\n",
    "        aggfunc='count',\r\n",
    "        fill_value=0,\r\n",
    "        observed=True)\r\n",
    ")"
   ]
  },
  {
   "cell_type": "code",
   "execution_count": 15,
   "metadata": {},
   "outputs": [],
   "source": [
    "machines_df.to_csv(os.path.join(\"csv\", \"machines.csv\"), index=False)"
   ]
  }
 ],
 "metadata": {
  "kernelspec": {
   "display_name": "Python 3.8.8 64-bit ('tfm': conda)",
   "name": "python388jvsc74a57bd057fde4dc6cdb19e1d76ed7331772e4cf7a15b1a70b768f05e2959c60594bd89b"
  },
  "language_info": {
   "codemirror_mode": {
    "name": "ipython",
    "version": 3
   },
   "file_extension": ".py",
   "mimetype": "text/x-python",
   "name": "python",
   "nbconvert_exporter": "python",
   "pygments_lexer": "ipython3",
   "version": "3.8.8"
  },
  "metadata": {
   "interpreter": {
    "hash": "57fde4dc6cdb19e1d76ed7331772e4cf7a15b1a70b768f05e2959c60594bd89b"
   }
  },
  "orig_nbformat": 2
 },
 "nbformat": 4,
 "nbformat_minor": 2
}