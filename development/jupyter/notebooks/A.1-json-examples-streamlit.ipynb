{
 "cells": [
  {
   "cell_type": "code",
   "execution_count": 1,
   "metadata": {},
   "outputs": [],
   "source": [
    "import tensorflow_datasets as tfds\r\n",
    "import json\r\n",
    "import os\r\n",
    "\r\n",
    "import warnings\r\n",
    "warnings.filterwarnings('ignore')"
   ]
  },
  {
   "cell_type": "code",
   "execution_count": 2,
   "metadata": {},
   "outputs": [
    {
     "name": "stdout",
     "output_type": "stream",
     "text": [
      "Tensorflow datasets: 4.2.0\n"
     ]
    }
   ],
   "source": [
    "print(f\"Tensorflow datasets: {tfds.__version__}\")"
   ]
  },
  {
   "cell_type": "code",
   "execution_count": 3,
   "metadata": {},
   "outputs": [],
   "source": [
    "import pump\r\n",
    "data_dir = \"../dataset\"\r\n",
    "\r\n",
    "(train, val, test), info = tfds.load(\r\n",
    "    \"pump\",\r\n",
    "    split=[\"test[:70%]\", \"test[70%:90%]\", \"test[90%:]\"],\r\n",
    "    data_dir=data_dir,\r\n",
    "    with_info=True,\r\n",
    ")"
   ]
  },
  {
   "cell_type": "code",
   "execution_count": 4,
   "metadata": {},
   "outputs": [],
   "source": [
    "# Wrap bitstring in JSON\r\n",
    "\r\n",
    "\r\n",
    "for item in tfds.as_numpy(test.shuffle(2048).take(10)):\r\n",
    "    test_audios = []\r\n",
    "    test_audios.append(item[\"audio\"].tolist())\r\n",
    "\r\n",
    "    data = json.dumps({\"signature_name\": \"serving_default\", \"instances\": test_audios})\r\n",
    "    label = [\"normal\", \"anomaly\"][item[\"label\"]]\r\n",
    "    machine_id = item[\"audio/machine\"].decode('utf-8')\r\n",
    "    audio_id = item[\"audio/id\"].decode('utf-8')\r\n",
    "\r\n",
    "    fname=f\"{label}_id_{machine_id}_0000{audio_id}.json\"\r\n",
    "    path = os.path.join(\"..\", \"json\", fname)\r\n",
    "\r\n",
    "    with open(path, \"w\") as json_file:\r\n",
    "        json_file.write(data)"
   ]
  }
 ],
 "metadata": {
  "kernelspec": {
   "display_name": "Python 3.7.10 64-bit ('tfm': conda)",
   "name": "python3710jvsc74a57bd057fde4dc6cdb19e1d76ed7331772e4cf7a15b1a70b768f05e2959c60594bd89b"
  },
  "language_info": {
   "codemirror_mode": {
    "name": "ipython",
    "version": 3
   },
   "file_extension": ".py",
   "mimetype": "text/x-python",
   "name": "python",
   "nbconvert_exporter": "python",
   "pygments_lexer": "ipython3",
   "version": "3.7.10"
  },
  "orig_nbformat": 2
 },
 "nbformat": 4,
 "nbformat_minor": 2
}