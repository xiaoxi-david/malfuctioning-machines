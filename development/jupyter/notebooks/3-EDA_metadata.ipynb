{
 "cells": [
  {
   "cell_type": "markdown",
   "metadata": {},
   "source": [
    "# EDA of the dataset metadata"
   ]
  },
  {
   "cell_type": "markdown",
   "metadata": {},
   "source": [
    "## Libraries"
   ]
  },
  {
   "cell_type": "markdown",
   "metadata": {},
   "source": [
    "Let's load the libraries for this notebook:\r\n",
    "- Pandas to create and manipulate DataFrames"
   ]
  },
  {
   "cell_type": "code",
   "execution_count": 1,
   "metadata": {},
   "outputs": [],
   "source": [
    "import pandas as pd\n",
    "\n",
    "import warnings\n",
    "warnings.filterwarnings('ignore')"
   ]
  },
  {
   "cell_type": "code",
   "execution_count": 2,
   "metadata": {},
   "outputs": [
    {
     "name": "stdout",
     "output_type": "stream",
     "text": [
      "Pandas: 1.2.4\n"
     ]
    }
   ],
   "source": [
    "print(f\"Pandas: {pd.__version__}\")"
   ]
  },
  {
   "cell_type": "markdown",
   "metadata": {},
   "source": [
    "## Dataset"
   ]
  },
  {
   "cell_type": "markdown",
   "metadata": {},
   "source": [
    "Let's see how many audio samples the train and test set have. To save time, I have created a one-column csv dataset with the names of each audio sample from the zip file."
   ]
  },
  {
   "cell_type": "code",
   "execution_count": 3,
   "metadata": {},
   "outputs": [],
   "source": [
    "filenames_df = pd.read_csv(\"https://raw.githubusercontent.com/xiaoxi-david/malfunctioning-machines/main/development/jupyter/csv/filenames.csv\")"
   ]
  },
  {
   "cell_type": "markdown",
   "metadata": {},
   "source": [
    "The filenames show whether the audio sample is normal or anomaly, which machine it belongs to and an audio id. \r\n",
    "\r\n",
    "Audio files are divided into two folders: train and test and the filename explains whether the audio sample is normal or anomaly,  "
   ]
  },
  {
   "cell_type": "code",
   "execution_count": 4,
   "metadata": {},
   "outputs": [
    {
     "data": {
      "text/html": "<div>\n<style scoped>\n    .dataframe tbody tr th:only-of-type {\n        vertical-align: middle;\n    }\n\n    .dataframe tbody tr th {\n        vertical-align: top;\n    }\n\n    .dataframe thead th {\n        text-align: right;\n    }\n</style>\n<table border=\"1\" class=\"dataframe\">\n  <thead>\n    <tr style=\"text-align: right;\">\n      <th></th>\n      <th>filename</th>\n    </tr>\n  </thead>\n  <tbody>\n    <tr>\n      <th>3141</th>\n      <td>pump\\train\\normal_id_04_00000474.wav</td>\n    </tr>\n    <tr>\n      <th>2099</th>\n      <td>pump\\train\\normal_id_02_00000337.wav</td>\n    </tr>\n    <tr>\n      <th>3889</th>\n      <td>pump\\train\\normal_id_06_00000620.wav</td>\n    </tr>\n    <tr>\n      <th>4076</th>\n      <td>pump\\train\\normal_id_06_00000807.wav</td>\n    </tr>\n    <tr>\n      <th>509</th>\n      <td>pump\\test\\normal_id_00_00000053.wav</td>\n    </tr>\n  </tbody>\n</table>\n</div>",
      "text/plain": "                                  filename\n3141  pump\\train\\normal_id_04_00000474.wav\n2099  pump\\train\\normal_id_02_00000337.wav\n3889  pump\\train\\normal_id_06_00000620.wav\n4076  pump\\train\\normal_id_06_00000807.wav\n509    pump\\test\\normal_id_00_00000053.wav"
     },
     "execution_count": 4,
     "metadata": {},
     "output_type": "execute_result"
    }
   ],
   "source": [
    "filenames_df.sample(5)"
   ]
  },
  {
   "cell_type": "markdown",
   "metadata": {},
   "source": [
    "Let's extract the split (train/test), the label (normal/anomaly), the machine id and the last four digits of the audio id for each filename. "
   ]
  },
  {
   "cell_type": "code",
   "execution_count": 5,
   "metadata": {},
   "outputs": [],
   "source": [
    "machines_df = (\r\n",
    "    filenames_df[\"filename\"]\r\n",
    "    .str.extract(r\"(train|test).(normal|anomaly)_id_(\\d{2})_\\d{4}(\\d{4})\", expand=True)\r\n",
    "    .rename(columns={0: \"split\", 1: \"label\", 2: \"machine_id\", 3: \"audio_id\"})\r\n",
    ")"
   ]
  },
  {
   "cell_type": "code",
   "execution_count": 6,
   "metadata": {},
   "outputs": [
    {
     "data": {
      "text/html": "<div>\n<style scoped>\n    .dataframe tbody tr th:only-of-type {\n        vertical-align: middle;\n    }\n\n    .dataframe tbody tr th {\n        vertical-align: top;\n    }\n\n    .dataframe thead th {\n        text-align: right;\n    }\n</style>\n<table border=\"1\" class=\"dataframe\">\n  <thead>\n    <tr style=\"text-align: right;\">\n      <th></th>\n      <th>split</th>\n      <th>label</th>\n      <th>machine_id</th>\n      <th>audio_id</th>\n    </tr>\n  </thead>\n  <tbody>\n    <tr>\n      <th>4075</th>\n      <td>train</td>\n      <td>normal</td>\n      <td>06</td>\n      <td>0806</td>\n    </tr>\n    <tr>\n      <th>3129</th>\n      <td>train</td>\n      <td>normal</td>\n      <td>04</td>\n      <td>0462</td>\n    </tr>\n    <tr>\n      <th>3072</th>\n      <td>train</td>\n      <td>normal</td>\n      <td>04</td>\n      <td>0405</td>\n    </tr>\n    <tr>\n      <th>3389</th>\n      <td>train</td>\n      <td>normal</td>\n      <td>06</td>\n      <td>0120</td>\n    </tr>\n    <tr>\n      <th>3391</th>\n      <td>train</td>\n      <td>normal</td>\n      <td>06</td>\n      <td>0122</td>\n    </tr>\n  </tbody>\n</table>\n</div>",
      "text/plain": "      split   label machine_id audio_id\n4075  train  normal         06     0806\n3129  train  normal         04     0462\n3072  train  normal         04     0405\n3389  train  normal         06     0120\n3391  train  normal         06     0122"
     },
     "execution_count": 6,
     "metadata": {},
     "output_type": "execute_result"
    }
   ],
   "source": [
    "machines_df.sample(5)"
   ]
  },
  {
   "cell_type": "markdown",
   "metadata": {},
   "source": [
    "## Dataframe manipulation"
   ]
  },
  {
   "cell_type": "markdown",
   "metadata": {},
   "source": [
    "Let's check the data types of the columns to see if we can save some memory."
   ]
  },
  {
   "cell_type": "code",
   "execution_count": 7,
   "metadata": {},
   "outputs": [
    {
     "name": "stdout",
     "output_type": "stream",
     "text": [
      "<class 'pandas.core.frame.DataFrame'>\n",
      "RangeIndex: 4205 entries, 0 to 4204\n",
      "Data columns (total 4 columns):\n",
      " #   Column      Non-Null Count  Dtype \n",
      "---  ------      --------------  ----- \n",
      " 0   split       4205 non-null   object\n",
      " 1   label       4205 non-null   object\n",
      " 2   machine_id  4205 non-null   object\n",
      " 3   audio_id    4205 non-null   object\n",
      "dtypes: object(4)\n",
      "memory usage: 131.5+ KB\n"
     ]
    }
   ],
   "source": [
    "machines_df.info()"
   ]
  },
  {
   "cell_type": "code",
   "execution_count": 8,
   "metadata": {},
   "outputs": [
    {
     "data": {
      "text/plain": "Index            128\nsplit         259854\nlabel         265371\nmachine_id    248095\naudio_id      256505\ndtype: int64"
     },
     "execution_count": 8,
     "metadata": {},
     "output_type": "execute_result"
    }
   ],
   "source": [
    "machines_df.memory_usage(deep=True)"
   ]
  },
  {
   "cell_type": "markdown",
   "metadata": {},
   "source": [
    "Object type columns needs more memory than category type columns. So, let's transform columns from *object* to *category* to save memory."
   ]
  },
  {
   "cell_type": "code",
   "execution_count": 9,
   "metadata": {},
   "outputs": [],
   "source": [
    "dct_types = {\r\n",
    "    \"split\": \"category\",\r\n",
    "    \"label\": \"category\",\r\n",
    "    \"machine_id\": \"category\",\r\n",
    "    \"audio_id\": \"category\",\r\n",
    "}\r\n",
    "machines_df = machines_df.astype(dct_types)"
   ]
  },
  {
   "cell_type": "code",
   "execution_count": 10,
   "metadata": {},
   "outputs": [
    {
     "data": {
      "text/plain": "split         category\nlabel         category\nmachine_id    category\naudio_id      category\ndtype: object"
     },
     "execution_count": 10,
     "metadata": {},
     "output_type": "execute_result"
    }
   ],
   "source": [
    "machines_df.dtypes"
   ]
  },
  {
   "cell_type": "code",
   "execution_count": 11,
   "metadata": {},
   "outputs": [
    {
     "data": {
      "text/plain": "Index           128\nsplit          4436\nlabel          4440\nmachine_id     4613\naudio_id      98570\ndtype: int64"
     },
     "execution_count": 11,
     "metadata": {},
     "output_type": "execute_result"
    }
   ],
   "source": [
    "machines_df.memory_usage(deep=True)"
   ]
  },
  {
   "cell_type": "markdown",
   "metadata": {},
   "source": [
    "The info of the dataframe is the same, but we have saved some memory."
   ]
  },
  {
   "cell_type": "code",
   "execution_count": 12,
   "metadata": {},
   "outputs": [
    {
     "data": {
      "text/html": "<div>\n<style scoped>\n    .dataframe tbody tr th:only-of-type {\n        vertical-align: middle;\n    }\n\n    .dataframe tbody tr th {\n        vertical-align: top;\n    }\n\n    .dataframe thead th {\n        text-align: right;\n    }\n</style>\n<table border=\"1\" class=\"dataframe\">\n  <thead>\n    <tr style=\"text-align: right;\">\n      <th></th>\n      <th>split</th>\n      <th>label</th>\n      <th>machine_id</th>\n      <th>audio_id</th>\n    </tr>\n  </thead>\n  <tbody>\n    <tr>\n      <th>1211</th>\n      <td>train</td>\n      <td>normal</td>\n      <td>00</td>\n      <td>0355</td>\n    </tr>\n    <tr>\n      <th>2981</th>\n      <td>train</td>\n      <td>normal</td>\n      <td>04</td>\n      <td>0314</td>\n    </tr>\n    <tr>\n      <th>1328</th>\n      <td>train</td>\n      <td>normal</td>\n      <td>00</td>\n      <td>0472</td>\n    </tr>\n    <tr>\n      <th>1319</th>\n      <td>train</td>\n      <td>normal</td>\n      <td>00</td>\n      <td>0463</td>\n    </tr>\n    <tr>\n      <th>1462</th>\n      <td>train</td>\n      <td>normal</td>\n      <td>00</td>\n      <td>0606</td>\n    </tr>\n  </tbody>\n</table>\n</div>",
      "text/plain": "      split   label machine_id audio_id\n1211  train  normal         00     0355\n2981  train  normal         04     0314\n1328  train  normal         00     0472\n1319  train  normal         00     0463\n1462  train  normal         00     0606"
     },
     "execution_count": 12,
     "metadata": {},
     "output_type": "execute_result"
    }
   ],
   "source": [
    "machines_df.sample(5)"
   ]
  },
  {
   "cell_type": "markdown",
   "metadata": {},
   "source": [
    "## Summary"
   ]
  },
  {
   "cell_type": "markdown",
   "metadata": {},
   "source": [
    "Let's make a pivot table to count the audio samples per split (train/test), machine_id (00,02,04,06) and label (normal/anomaly)."
   ]
  },
  {
   "cell_type": "code",
   "execution_count": 13,
   "metadata": {},
   "outputs": [
    {
     "data": {
      "text/html": "<div>\n<style scoped>\n    .dataframe tbody tr th:only-of-type {\n        vertical-align: middle;\n    }\n\n    .dataframe tbody tr th {\n        vertical-align: top;\n    }\n\n    .dataframe thead tr th {\n        text-align: left;\n    }\n\n    .dataframe thead tr:last-of-type th {\n        text-align: right;\n    }\n</style>\n<table border=\"1\" class=\"dataframe\">\n  <thead>\n    <tr>\n      <th>split</th>\n      <th colspan=\"2\" halign=\"left\">test</th>\n      <th>train</th>\n    </tr>\n    <tr>\n      <th>label</th>\n      <th>anomaly</th>\n      <th>normal</th>\n      <th>normal</th>\n    </tr>\n    <tr>\n      <th>machine_id</th>\n      <th></th>\n      <th></th>\n      <th></th>\n    </tr>\n  </thead>\n  <tbody>\n    <tr>\n      <th>00</th>\n      <td>143</td>\n      <td>100</td>\n      <td>906</td>\n    </tr>\n    <tr>\n      <th>02</th>\n      <td>111</td>\n      <td>100</td>\n      <td>905</td>\n    </tr>\n    <tr>\n      <th>04</th>\n      <td>100</td>\n      <td>100</td>\n      <td>602</td>\n    </tr>\n    <tr>\n      <th>06</th>\n      <td>102</td>\n      <td>100</td>\n      <td>936</td>\n    </tr>\n  </tbody>\n</table>\n</div>",
      "text/plain": "split         test         train\nlabel      anomaly normal normal\nmachine_id                      \n00             143    100    906\n02             111    100    905\n04             100    100    602\n06             102    100    936"
     },
     "execution_count": 13,
     "metadata": {},
     "output_type": "execute_result"
    }
   ],
   "source": [
    "(\n",
    "    machines_df\n",
    "    .filter([\"machine_id\", \"split\", \"label\", \"audio_id\"])\n",
    "    .pivot_table(\n",
    "        values=\"audio_id\",\n",
    "        index=[\"machine_id\"],\n",
    "        columns=[\"split\",\"label\"],\n",
    "        aggfunc='count',\n",
    "        fill_value=0,\n",
    "        observed=True)\n",
    ")"
   ]
  },
  {
   "cell_type": "markdown",
   "metadata": {},
   "source": [
    "From the pivot table, we see that:\r\n",
    "- The train set only has normal audios\r\n",
    "- The test set has normal and anomaly audios."
   ]
  },
  {
   "cell_type": "markdown",
   "metadata": {},
   "source": [
    "## Conclusion"
   ]
  },
  {
   "cell_type": "markdown",
   "metadata": {},
   "source": [
    "As we can see from the pivot table, this dataset is suitable for *semi-supervised anomaly detection* as the train split has only normal audios and the test split contains normal and anomaly audios."
   ]
  }
 ],
 "metadata": {
  "kernelspec": {
   "display_name": "Python 3.8.8 64-bit ('tfm': conda)",
   "language": "python",
   "name": "python388jvsc74a57bd057fde4dc6cdb19e1d76ed7331772e4cf7a15b1a70b768f05e2959c60594bd89b"
  },
  "language_info": {
   "name": "python",
   "version": ""
  },
  "metadata": {
   "interpreter": {
    "hash": "57fde4dc6cdb19e1d76ed7331772e4cf7a15b1a70b768f05e2959c60594bd89b"
   }
  }
 },
 "nbformat": 4,
 "nbformat_minor": 2
}