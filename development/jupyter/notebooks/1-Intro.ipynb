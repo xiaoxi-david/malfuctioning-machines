{
 "cells": [
  {
   "cell_type": "markdown",
   "metadata": {},
   "source": [
    "# Anomaly sound detection in pumps"
   ]
  },
  {
   "cell_type": "markdown",
   "metadata": {},
   "source": [
    "## Introduction"
   ]
  },
  {
   "cell_type": "markdown",
   "metadata": {},
   "source": [
    "**Anomaly Sound Detection (ASD)** is, nowadays, one of the topical subjects in machine listening discipline. It is attracting a lot of interest due to its immediate applicability in many fields. For example, related to industrial processes, the early detection of malfunctions or damage in machines can mean great savings and an improvement in the efficiency of industrial processes.\r\n",
    "\r\n",
    "Anomaly detection techniques can be categorized as:. \r\n",
    "- **Supervised anomaly detection** requires the entire dataset to be labeled \"normal\" or \"abnormal\". This technique is a binary classification task. \r\n",
    "- **Semi-supervised anomaly detection** requires only data considered \"normal\" to be labeled. In this technique, the model will learn what \"normal\" data are like. \r\n",
    "- **Unsupervised anomaly detection** involves unlabeled data. In this technique, the model will learn which data is \"normal\" and \"abnormal\"."
   ]
  },
  {
   "cell_type": "markdown",
   "metadata": {},
   "source": [
    "## State of the art"
   ]
  },
  {
   "cell_type": "markdown",
   "metadata": {},
   "source": [
    "This wordcloud shows that according to the paper [Anomalous Sound Detection with Machine Learning: A Systematic Review](https://www.arxiv-vanity.com/papers/2102.07820/), the ToyADMOS, MIMII, and Mivia datasets, the Mel-frequency cepstral coefficients (MFCC) method for extracting features, the Autoencoder (AE) and Convolutional Neural Network (CNN) models of ML, the AUC and F1-score evaluation methods were most cited.\r\n",
    "\r\n",
    "![Wordcloud](../figures/wordcloud.png)\r\n",
    "\r\n",
    "The **2-StateArt** notebook shows how to create this word cloud."
   ]
  },
  {
   "cell_type": "markdown",
   "metadata": {},
   "source": [
    "## Dataset"
   ]
  },
  {
   "cell_type": "markdown",
   "metadata": {},
   "source": [
    "For this project, I will use the [development dataset](https://zenodo.org/record/3678171) of pumps from the 2nd task of the [2020 DCASE Challenge](http://dcase.community/challenge2020/task-unsupervised-detection-of-anomalous-sounds) \r\n",
    "\r\n",
    "This pivot table shows the number of audios per split (train/test), machine_id (00,02,04,06) and label (normal/anomaly)."
   ]
  },
  {
   "cell_type": "code",
   "execution_count": 1,
   "metadata": {},
   "outputs": [
    {
     "data": {
      "text/html": "<div>\n<style scoped>\n    .dataframe tbody tr th:only-of-type {\n        vertical-align: middle;\n    }\n\n    .dataframe tbody tr th {\n        vertical-align: top;\n    }\n\n    .dataframe thead tr th {\n        text-align: left;\n    }\n\n    .dataframe thead tr:last-of-type th {\n        text-align: right;\n    }\n</style>\n<table border=\"1\" class=\"dataframe\">\n  <thead>\n    <tr>\n      <th>split</th>\n      <th colspan=\"2\" halign=\"left\">test</th>\n      <th>train</th>\n    </tr>\n    <tr>\n      <th>label</th>\n      <th>anomaly</th>\n      <th>normal</th>\n      <th>normal</th>\n    </tr>\n    <tr>\n      <th>machine_id</th>\n      <th></th>\n      <th></th>\n      <th></th>\n    </tr>\n  </thead>\n  <tbody>\n    <tr>\n      <th>00</th>\n      <td>143</td>\n      <td>100</td>\n      <td>906</td>\n    </tr>\n    <tr>\n      <th>02</th>\n      <td>111</td>\n      <td>100</td>\n      <td>905</td>\n    </tr>\n    <tr>\n      <th>04</th>\n      <td>100</td>\n      <td>100</td>\n      <td>602</td>\n    </tr>\n    <tr>\n      <th>06</th>\n      <td>102</td>\n      <td>100</td>\n      <td>936</td>\n    </tr>\n  </tbody>\n</table>\n</div>",
      "text/plain": "split         test         train\nlabel      anomaly normal normal\nmachine_id                      \n00             143    100    906\n02             111    100    905\n04             100    100    602\n06             102    100    936"
     },
     "execution_count": 1,
     "metadata": {},
     "output_type": "execute_result"
    }
   ],
   "source": [
    "import pandas as pd\r\n",
    "\r\n",
    "# Load filenames of the audios\r\n",
    "filenames_df = pd.read_csv(\"https://raw.githubusercontent.com/xiaoxi-david/malfunctioning-machines/main/development/jupyter/csv/filenames.csv\")\r\n",
    "\r\n",
    "dct_types = {\r\n",
    "    \"split\": \"category\",\r\n",
    "    \"label\": \"category\",\r\n",
    "    \"machine_id\": \"category\",\r\n",
    "    \"audio_id\": \"category\",\r\n",
    "}\r\n",
    "\r\n",
    "# Extract the split, machine_id and label from the filenames\r\n",
    "machines_df = (\r\n",
    "    filenames_df[\"filename\"]\r\n",
    "    .str.extract(r\"(train|test).(normal|anomaly)_id_(\\d{2})_\\d{4}(\\d{4})\", expand=True)\r\n",
    "    .rename(columns={0: \"split\", 1: \"label\", 2: \"machine_id\", 3: \"audio_id\"})\r\n",
    "    # Convert columns to categories to save memory\r\n",
    "    .astype(dct_types)\r\n",
    ")\r\n",
    "\r\n",
    "# Summary of the number of examples per split, machine_id and split\r\n",
    "(\r\n",
    "    machines_df\r\n",
    "    .filter([\"machine_id\", \"split\", \"label\", \"audio_id\"])\r\n",
    "    .pivot_table(\r\n",
    "        values=\"audio_id\",\r\n",
    "        index=[\"machine_id\"],\r\n",
    "        columns=[\"split\",\"label\"],\r\n",
    "        aggfunc='count',\r\n",
    "        fill_value=0,\r\n",
    "        observed=True)\r\n",
    ")"
   ]
  },
  {
   "cell_type": "markdown",
   "metadata": {},
   "source": [
    "This dataset is suitable for *semi-supervised anomaly detection* as the train split has only normal audios and the test split contains normal and anomaly audios."
   ]
  },
  {
   "cell_type": "markdown",
   "metadata": {},
   "source": [
    "All the audios last 10 seconds and were recorded at 16kHz with a resolution of 16 bits. You can listen to some of them on the **4-EDA_samples** notebook.  "
   ]
  },
  {
   "cell_type": "markdown",
   "metadata": {},
   "source": [
    "## Metodology"
   ]
  }
 ],
 "metadata": {
  "kernelspec": {
   "display_name": "Python 3.8.8 64-bit",
   "name": "python388jvsc74a57bd057fde4dc6cdb19e1d76ed7331772e4cf7a15b1a70b768f05e2959c60594bd89b"
  },
  "language_info": {
   "name": "python",
   "version": ""
  },
  "orig_nbformat": 2
 },
 "nbformat": 4,
 "nbformat_minor": 2
}