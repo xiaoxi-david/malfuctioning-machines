{
 "cells": [
  {
   "cell_type": "markdown",
   "metadata": {},
   "source": [
    "# Anomaly sound detection in pumps"
   ]
  },
  {
   "cell_type": "markdown",
   "metadata": {},
   "source": [
    "## Introduction"
   ]
  },
  {
   "cell_type": "markdown",
   "metadata": {},
   "source": [
    "**Anomaly sound detection (ASD)** is the task to identify whether the sound emitted from a target machine is normal or anomalous. Automatically detecting mechanical failure is an essential technology in the fourth industrial revolution, including artificial intelligence (AI)-based factory automation. Prompt detection of machine anomaly by observing its sounds may be useful for machine condition monitoring.\n",
    "\n",
    " ![Anomaly detector](http://d33wubrfki0l68.cloudfront.net/268bbc4666654d6e5ef28c449067626fbfee7488/2ad7c/images/tasks/challenge2020/task2_unsupervised_detection_of_anomalous_sounds_for_machine_condition_monitoring_01.png)\n",
    "\n",
    "Anomaly detection techniques can be categorized as:. \n",
    "- **Supervised anomaly detection** requires the entire dataset to be labeled \"normal\" or \"abnormal\". This technique is a binary classification task. \n",
    "- **Semi-supervised anomaly detection** requires only data considered \"normal\" to be labeled. In this technique, the model will learn what \"normal\" data are like. \n",
    "- **Unsupervised anomaly detection** involves unlabeled data. In this technique, the model will learn which data is \"normal\" and \"abnormal\"."
   ]
  },
  {
   "cell_type": "markdown",
   "metadata": {},
   "source": [
    "## State of the art"
   ]
  },
  {
   "attachments": {},
   "cell_type": "markdown",
   "metadata": {},
   "source": [
    "This wordcloud shows that according to the paper [Anomalous Sound Detection with Machine Learning: A Systematic Review](https://www.arxiv-vanity.com/papers/2102.07820/), the ToyADMOS, MIMII, and Mivia datasets, the Mel-frequency cepstral coefficients (MFCC) method for extracting features, the Autoencoder (AE) and Convolutional Neural Network (CNN) models of ML, the AUC and F1-score evaluation methods were most cited.\n",
    "\n",
    "![Wordcloud](wordcloud.png)\n",
    "\n",
    "The **2-StateArt** notebook shows how to create this word cloud."
   ]
  },
  {
   "cell_type": "markdown",
   "metadata": {},
   "source": [
    "## Dataset"
   ]
  },
  {
   "cell_type": "markdown",
   "metadata": {},
   "source": [
    "For this project, I will use the [development dataset](https://zenodo.org/record/3678171) of pumps from the 2nd task of the [2020 DCASE Challenge](http://dcase.community/challenge2020/task-unsupervised-detection-of-anomalous-sounds) \n",
    "\n",
    "This pivot table shows the number of audios per split (train/test), machine_id (00,02,04,06) and label (normal/anomaly)."
   ]
  },
  {
   "cell_type": "code",
   "execution_count": 1,
   "metadata": {},
   "outputs": [
    {
     "data": {
      "text/html": [
       "<div>\n",
       "<style scoped>\n",
       "    .dataframe tbody tr th:only-of-type {\n",
       "        vertical-align: middle;\n",
       "    }\n",
       "\n",
       "    .dataframe tbody tr th {\n",
       "        vertical-align: top;\n",
       "    }\n",
       "\n",
       "    .dataframe thead tr th {\n",
       "        text-align: left;\n",
       "    }\n",
       "\n",
       "    .dataframe thead tr:last-of-type th {\n",
       "        text-align: right;\n",
       "    }\n",
       "</style>\n",
       "<table border=\"1\" class=\"dataframe\">\n",
       "  <thead>\n",
       "    <tr>\n",
       "      <th>split</th>\n",
       "      <th colspan=\"2\" halign=\"left\">test</th>\n",
       "      <th>train</th>\n",
       "    </tr>\n",
       "    <tr>\n",
       "      <th>label</th>\n",
       "      <th>anomaly</th>\n",
       "      <th>normal</th>\n",
       "      <th>normal</th>\n",
       "    </tr>\n",
       "    <tr>\n",
       "      <th>machine_id</th>\n",
       "      <th></th>\n",
       "      <th></th>\n",
       "      <th></th>\n",
       "    </tr>\n",
       "  </thead>\n",
       "  <tbody>\n",
       "    <tr>\n",
       "      <th>00</th>\n",
       "      <td>143</td>\n",
       "      <td>100</td>\n",
       "      <td>906</td>\n",
       "    </tr>\n",
       "    <tr>\n",
       "      <th>02</th>\n",
       "      <td>111</td>\n",
       "      <td>100</td>\n",
       "      <td>905</td>\n",
       "    </tr>\n",
       "    <tr>\n",
       "      <th>04</th>\n",
       "      <td>100</td>\n",
       "      <td>100</td>\n",
       "      <td>602</td>\n",
       "    </tr>\n",
       "    <tr>\n",
       "      <th>06</th>\n",
       "      <td>102</td>\n",
       "      <td>100</td>\n",
       "      <td>936</td>\n",
       "    </tr>\n",
       "  </tbody>\n",
       "</table>\n",
       "</div>"
      ],
      "text/plain": [
       "split         test         train\n",
       "label      anomaly normal normal\n",
       "machine_id                      \n",
       "00             143    100    906\n",
       "02             111    100    905\n",
       "04             100    100    602\n",
       "06             102    100    936"
      ]
     },
     "execution_count": 1,
     "metadata": {},
     "output_type": "execute_result"
    }
   ],
   "source": [
    "import pandas as pd\n",
    "\n",
    "# Load filenames of the audios\n",
    "filenames_df = pd.read_csv(\"https://raw.githubusercontent.com/xiaoxi-david/malfunctioning-machines/main/development/jupyter/csv/filenames.csv\")\n",
    "\n",
    "dct_types = {\n",
    "    \"split\": \"category\",\n",
    "    \"label\": \"category\",\n",
    "    \"machine_id\": \"category\",\n",
    "    \"audio_id\": \"category\",\n",
    "}\n",
    "\n",
    "# Extract the split, machine_id and label from the filenames\n",
    "machines_df = (\n",
    "    filenames_df[\"filename\"]\n",
    "    .str.extract(r\"(train|test).(normal|anomaly)_id_(\\d{2})_\\d{4}(\\d{4})\", expand=True)\n",
    "    .rename(columns={0: \"split\", 1: \"label\", 2: \"machine_id\", 3: \"audio_id\"})\n",
    "    # Convert columns to categories to save memory\n",
    "    .astype(dct_types)\n",
    ")\n",
    "\n",
    "# Summary of the number of examples per split, machine_id and split\n",
    "(\n",
    "    machines_df\n",
    "    .filter([\"machine_id\", \"split\", \"label\", \"audio_id\"])\n",
    "    .pivot_table(\n",
    "        values=\"audio_id\",\n",
    "        index=[\"machine_id\"],\n",
    "        columns=[\"split\",\"label\"],\n",
    "        aggfunc='count',\n",
    "        fill_value=0,\n",
    "        observed=True)\n",
    ")"
   ]
  },
  {
   "cell_type": "markdown",
   "metadata": {},
   "source": [
    "This dataset is suitable for *semi-supervised anomaly detection* as the train split has only normal audios and the test split contains normal and anomaly audios."
   ]
  },
  {
   "cell_type": "markdown",
   "metadata": {},
   "source": [
    "All the audios last 10 seconds and were recorded at 16kHz with a resolution of 16 bits. You can listen to some of them on the **4-EDA_samples** notebook.  "
   ]
  },
  {
   "cell_type": "markdown",
   "metadata": {},
   "source": [
    "## Metodology"
   ]
  },
  {
   "cell_type": "markdown",
   "metadata": {},
   "source": [
    "Although this dataset is only suitable for semi-supervised anomaly detectors, we can practide supervised anomaly detection with the test data.\n",
    "\n",
    "- Notebook 5 and 6 shows to create supervised anomaly detectors using CNNs.\n",
    "- Notebook 7, 8 and 9 shows to create semi-supervised anomaly detectors using AEs.\n",
    "\n",
    "I use [Tensorflow](https://www.tensorflow.org), [Tensorboard](https://www.tensorflow.org/tensorboard/) and [Tensorflow serving](https://www.tensorflow.org/tfx/guide/serving) to solve the problem."
   ]
  },
  {
   "cell_type": "markdown",
   "metadata": {},
   "source": [
    "## Conclusions"
   ]
  },
  {
   "cell_type": "markdown",
   "metadata": {},
   "source": [
    "Train a semi-supervised anomaly detector is much more difficult than train a supervised anomaly detector because common guidelines for supervised machine learning don't apply to semi-supervised machine learning."
   ]
  }
 ],
 "metadata": {
  "kernelspec": {
   "display_name": "Python 3",
   "language": "python",
   "name": "python3"
  },
  "language_info": {
   "codemirror_mode": {
    "name": "ipython",
    "version": 3
   },
   "file_extension": ".py",
   "mimetype": "text/x-python",
   "name": "python",
   "nbconvert_exporter": "python",
   "pygments_lexer": "ipython3",
   "version": "3.7.10"
  }
 },
 "nbformat": 4,
 "nbformat_minor": 2
}
