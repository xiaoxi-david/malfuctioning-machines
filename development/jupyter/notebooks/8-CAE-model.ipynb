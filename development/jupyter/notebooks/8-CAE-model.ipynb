{
 "cells": [
  {
   "cell_type": "code",
   "execution_count": null,
   "metadata": {},
   "outputs": [],
   "source": [
    "import tensorflow_datasets as tfds\r\n",
    "import tensorflow as tf\r\n",
    "\r\n",
    "from tensorflow.keras.layers import (\r\n",
    "    Input,\r\n",
    "    Dense,\r\n",
    "    Flatten,\r\n",
    "    Reshape,\r\n",
    "    Conv2D,\r\n",
    "    MaxPooling2D,\r\n",
    "    UpSampling2D,\r\n",
    ")\r\n",
    "\r\n",
    "from tensorflow.keras import Sequential\r\n",
    "from tensorflow.keras.models import Model\r\n",
    "from tensorflow.keras.losses import MeanSquaredError\r\n",
    "\r\n",
    "import numpy as np\r\n",
    "import pandas as pd\r\n",
    "import matplotlib\r\n",
    "import matplotlib.pyplot as plt\r\n",
    "\r\n",
    "import warnings\r\n",
    "warnings.filterwarnings('ignore')"
   ]
  },
  {
   "cell_type": "code",
   "execution_count": null,
   "metadata": {},
   "outputs": [],
   "source": [
    "print(f\"Tensorflow datasets: {tfds.__version__}\")\r\n",
    "print(f\"Tensorflow: {tf.__version__}\")\r\n",
    "print(f\"Numpy: {np.__version__}\")\r\n",
    "print(f\"Pandas: {pd.__version__}\")\r\n",
    "print(f\"Matplotlib: {matplotlib.__version__}\")"
   ]
  },
  {
   "cell_type": "code",
   "execution_count": null,
   "metadata": {},
   "outputs": [],
   "source": [
    "import pump\r\n",
    "data_dir = \"../dataset\"\r\n",
    "\r\n",
    "(train, test), info = tfds.load('pump', split=[\"train\", \"test\"], data_dir=data_dir, with_info=True)"
   ]
  },
  {
   "cell_type": "code",
   "execution_count": null,
   "metadata": {},
   "outputs": [],
   "source": [
    "tfds.as_dataframe(train.take(1), info)"
   ]
  },
  {
   "cell_type": "code",
   "execution_count": null,
   "metadata": {},
   "outputs": [],
   "source": [
    "df = tfds.as_dataframe(train.take(5), info)\n",
    "df.head()"
   ]
  },
  {
   "cell_type": "code",
   "execution_count": null,
   "metadata": {},
   "outputs": [],
   "source": [
    "A = tf.signal.linear_to_mel_weight_matrix(\r\n",
    "    num_mel_bins=128, num_spectrogram_bins=256+1, sample_rate=16000, dtype=tf.float32\r\n",
    ")"
   ]
  },
  {
   "cell_type": "code",
   "execution_count": null,
   "metadata": {},
   "outputs": [],
   "source": [
    "def mel(item):\r\n",
    "    audio = tf.cast(item[\"audio\"], tf.float32)\r\n",
    "    audio = audio / 2**15\r\n",
    "\r\n",
    "    stfts = tf.signal.stft(\r\n",
    "            audio,\r\n",
    "            frame_length=512,\r\n",
    "            frame_step=256,\r\n",
    "            pad_end=False,  # librosa test compatibility\r\n",
    "        )\r\n",
    "    mag_stfts = tf.abs(stfts)\r\n",
    "\r\n",
    "    melgrams = tf.tensordot(\r\n",
    "            tf.square(mag_stfts), A, axes=1\r\n",
    "    )\r\n",
    "\r\n",
    "    def _tf_log10(x):\r\n",
    "        numerator = tf.math.log(x)\r\n",
    "        denominator = tf.math.log(tf.constant(10, dtype=numerator.dtype))\r\n",
    "        return numerator / denominator\r\n",
    "        \r\n",
    "    log_melgrams = _tf_log10(melgrams + 10e-6)\r\n",
    "    return log_melgrams, log_melgrams"
   ]
  },
  {
   "cell_type": "code",
   "execution_count": null,
   "metadata": {},
   "outputs": [],
   "source": [
    "def mel_test(item):\r\n",
    "    audio = tf.cast(item[\"audio\"], tf.float32)\r\n",
    "    audio = audio / 2**15\r\n",
    "\r\n",
    "    stfts = tf.signal.stft(\r\n",
    "            audio,\r\n",
    "            frame_length=512,\r\n",
    "            frame_step=256,\r\n",
    "            pad_end=False,  # librosa test compatibility\r\n",
    "        )\r\n",
    "    mag_stfts = tf.abs(stfts)\r\n",
    "\r\n",
    "    melgrams = tf.tensordot(\r\n",
    "            tf.square(mag_stfts), A, axes=1\r\n",
    "    )\r\n",
    "\r\n",
    "    def _tf_log10(x):\r\n",
    "        numerator = tf.math.log(x)\r\n",
    "        denominator = tf.math.log(tf.constant(10, dtype=numerator.dtype))\r\n",
    "        return numerator / denominator\r\n",
    "        \r\n",
    "    item[\"audio\"] = _tf_log10(melgrams + 10e-6)\r\n",
    "    return item"
   ]
  },
  {
   "cell_type": "code",
   "execution_count": null,
   "metadata": {},
   "outputs": [],
   "source": [
    "BATCH_SIZE = 128\r\n",
    "SHUFFLE_BUFFER_SIZE = 32\r\n",
    "\r\n",
    "audio_train = train.map(mel).batch(BATCH_SIZE)\r\n",
    "label_train = train.map(lambda item: item[\"label\"])\r\n",
    "\r\n",
    "normal_test = test.filter(lambda item: item[\"label\"]==0).map(mel_test).batch(BATCH_SIZE)\r\n",
    "anomaly_test = test.filter(lambda item: item[\"label\"]==1).map(mel_test).batch(BATCH_SIZE)"
   ]
  },
  {
   "cell_type": "code",
   "execution_count": null,
   "metadata": {},
   "outputs": [],
   "source": [
    "autoencoder = tf.keras.Sequential(\r\n",
    "    [\r\n",
    "        Reshape((624, 128, 1), input_shape=(624, 128)),\r\n",
    "        Conv2D(filters=64, kernel_size=(2,2), activation='relu', padding='same'),\r\n",
    "        MaxPooling2D(pool_size=(4,4)),\r\n",
    "        Conv2D(filters=128, kernel_size=(3,3), activation='relu', padding='same'),\r\n",
    "        MaxPooling2D(pool_size=(2,2)),\r\n",
    "        Conv2D(filters=256, kernel_size=(3,3), activation='relu', padding='same'),\r\n",
    "        Conv2D(filters=1, kernel_size=(3,3), activation='sigmoid', padding='same'),\r\n",
    "        Conv2D(filters=128, kernel_size=(3,3), activation='relu', padding='same'),\r\n",
    "        UpSampling2D(size=(2,2)),\r\n",
    "        Conv2D(filters=4, kernel_size=(3,3), activation='relu', padding='same'),\r\n",
    "        UpSampling2D(size=(4,4)),\r\n",
    "        Conv2D(filters=1, kernel_size=(3,3), padding='same')\r\n",
    "    ]\r\n",
    ")\r\n",
    "\r\n",
    "autoencoder.summary()"
   ]
  },
  {
   "cell_type": "code",
   "execution_count": null,
   "metadata": {},
   "outputs": [],
   "source": [
    "autoencoder.compile(optimizer='adam', loss=MeanSquaredError())"
   ]
  },
  {
   "cell_type": "code",
   "execution_count": null,
   "metadata": {},
   "outputs": [],
   "source": [
    "history = autoencoder.fit(train,\r\n",
    "                epochs=10,\r\n",
    "                shuffle=True)"
   ]
  },
  {
   "cell_type": "code",
   "execution_count": null,
   "metadata": {},
   "outputs": [],
   "source": [
    "reconstruction = autoencoder.predict(audio_train)\r\n",
    "train2 = np.stack(audio_train.unbatch().map(lambda x, _: x), axis=1).T\r\n",
    "\r\n",
    "train_loss = tf.keras.losses.mae(train2, reconstruction)\r\n",
    "\r\n",
    "plt.hist(train_loss, bins=20)\r\n",
    "plt.xlabel(\"Train loss\")\r\n",
    "plt.ylabel(\"No of examples\")\r\n",
    "plt.show()"
   ]
  },
  {
   "cell_type": "code",
   "execution_count": null,
   "metadata": {},
   "outputs": [],
   "source": [
    "df = pd.DataFrame({\"error\": train_loss.numpy()})\r\n",
    "df.describe()"
   ]
  },
  {
   "cell_type": "code",
   "execution_count": null,
   "metadata": {},
   "outputs": [],
   "source": [
    "reconstruction = autoencoder.predict(normal_test.map(lambda item: item[\"audio\"]))\r\n",
    "test2 = np.stack(normal_test.unbatch().map(lambda item: item[\"audio\"]), axis=1).T\r\n",
    "\r\n",
    "test_loss = tf.keras.losses.mae(test2, reconstruction)\r\n",
    "\r\n",
    "plt.hist(test_loss, bins=10)\r\n",
    "plt.xlabel(\"Test loss\")\r\n",
    "plt.ylabel(\"No of examples\")\r\n",
    "plt.show()"
   ]
  },
  {
   "cell_type": "code",
   "execution_count": null,
   "metadata": {},
   "outputs": [],
   "source": [
    "df = pd.DataFrame({\"error\": test_loss.numpy()})\r\n",
    "df.describe()"
   ]
  },
  {
   "cell_type": "code",
   "execution_count": null,
   "metadata": {},
   "outputs": [],
   "source": [
    "reconstruction = autoencoder.predict(anomaly_test.map(lambda item: item[\"audio\"]))\r\n",
    "test2 = np.stack(anomaly_test.unbatch().map(lambda item: item[\"audio\"]), axis=1).T\r\n",
    "\r\n",
    "test_loss = tf.keras.losses.mae(test2, reconstruction)\r\n",
    "\r\n",
    "plt.hist(test_loss, bins=10)\r\n",
    "plt.xlabel(\"Test loss\")\r\n",
    "plt.ylabel(\"No of examples\")\r\n",
    "plt.show()"
   ]
  },
  {
   "cell_type": "code",
   "execution_count": null,
   "metadata": {},
   "outputs": [],
   "source": [
    "df = pd.DataFrame({\"error\": test_loss.numpy()})\r\n",
    "df.describe()"
   ]
  }
 ],
 "metadata": {
  "kernelspec": {
   "display_name": "Python 3.7.10 64-bit ('tfm': conda)",
   "name": "python3710jvsc74a57bd057fde4dc6cdb19e1d76ed7331772e4cf7a15b1a70b768f05e2959c60594bd89b"
  },
  "language_info": {
   "name": "python",
   "version": ""
  },
  "metadata": {
   "interpreter": {
    "hash": "57fde4dc6cdb19e1d76ed7331772e4cf7a15b1a70b768f05e2959c60594bd89b"
   }
  }
 },
 "nbformat": 4,
 "nbformat_minor": 2
}