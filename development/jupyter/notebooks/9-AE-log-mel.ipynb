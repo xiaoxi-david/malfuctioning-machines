{
 "cells": [
  {
   "cell_type": "markdown",
   "metadata": {},
   "source": [
    "# Semi-supervised anomaly detection: log mel-spectrogram - model 2"
   ]
  },
  {
   "cell_type": "markdown",
   "metadata": {},
   "source": [
    "This notebook will show to implement in Tensorflow the AE model described in the paper [MIMII Dataset: Sound Dataset for\n",
    "Malfunctioning Industrial Machine Investigation and Inspection](https://www.arxiv-vanity.com/papers/1909.09347/)"
   ]
  },
  {
   "cell_type": "markdown",
   "metadata": {},
   "source": [
    "## Libraries"
   ]
  },
  {
   "cell_type": "markdown",
   "metadata": {},
   "source": [
    "Let's load the libraries for this notebook.\n",
    "- **Tensorflow dataset** to load the dataset\n",
    "- **Tensorflow** to create an AE model\n",
    "- **Pandas** to manipulate results\n",
    "- **Sklearn** to compute metrics\n",
    "- **Plotnine** to plot results"
   ]
  },
  {
   "cell_type": "code",
   "execution_count": 1,
   "metadata": {},
   "outputs": [],
   "source": [
    "import tensorflow_datasets as tfds\n",
    "import tensorflow as tf\n",
    "\n",
    "from tensorflow.keras.layers import (\n",
    "    InputLayer,\n",
    "    Dense,\n",
    ")\n",
    "\n",
    "from tensorflow.keras import Sequential\n",
    "from tensorflow.keras.optimizers import Adam\n",
    "from tensorflow.keras.losses import MeanSquaredError\n",
    "\n",
    "import numpy as np\n",
    "import pandas as pd\n",
    "\n",
    "import sklearn\n",
    "from sklearn.metrics import (\n",
    "    confusion_matrix, \n",
    "    classification_report,\n",
    "    roc_auc_score\n",
    ")\n",
    "\n",
    "import plotnine as p9\n",
    "\n",
    "import datetime\n",
    "\n",
    "import os\n",
    "\n",
    "import warnings\n",
    "warnings.filterwarnings('ignore')"
   ]
  },
  {
   "cell_type": "code",
   "execution_count": 2,
   "metadata": {},
   "outputs": [
    {
     "name": "stdout",
     "output_type": "stream",
     "text": [
      "Tensorflow datasets: 4.3.0\n",
      "Tensorflow: 2.4.1\n",
      "Sklearn: 0.24.2\n",
      "Numpy: 1.19.5\n",
      "Pandas: 1.2.4\n",
      "Plotnine: 0.8.0\n"
     ]
    }
   ],
   "source": [
    "print(f\"Tensorflow datasets: {tfds.__version__}\")\n",
    "print(f\"Tensorflow: {tf.__version__}\")\n",
    "print(f\"Sklearn: {sklearn.__version__}\")\n",
    "print(f\"Numpy: {np.__version__}\")\n",
    "print(f\"Pandas: {pd.__version__}\")\n",
    "print(f\"Plotnine: {p9.__version__}\")"
   ]
  },
  {
   "cell_type": "markdown",
   "metadata": {},
   "source": [
    "Let's set the seed for the Tensorflow dataset."
   ]
  },
  {
   "cell_type": "code",
   "execution_count": 3,
   "metadata": {},
   "outputs": [],
   "source": [
    "config = tfds.ReadConfig(try_autocache=True, shuffle_seed=42)"
   ]
  },
  {
   "cell_type": "markdown",
   "metadata": {},
   "source": [
    "## Dataset"
   ]
  },
  {
   "cell_type": "markdown",
   "metadata": {},
   "source": [
    "Let's load the dataset and create three sets (train, validation, test). We make the train set (90%) and validation set (10%) from the train data and the test set from the test data. "
   ]
  },
  {
   "cell_type": "code",
   "execution_count": 4,
   "metadata": {},
   "outputs": [],
   "source": [
    "import pump\n",
    "data_dir = \"../dataset\"\n",
    "\n",
    "(train, val, test), info = tfds.load(\n",
    "    \"pump\",\n",
    "    split=[\"train[:90%]\", \"train[90%:]\", \"test\"],\n",
    "    data_dir=data_dir,\n",
    "    with_info=True,\n",
    "    shuffle_files=True,\n",
    "    read_config=config,\n",
    ")"
   ]
  },
  {
   "cell_type": "markdown",
   "metadata": {},
   "source": [
    "## Feature extraction"
   ]
  },
  {
   "cell_type": "markdown",
   "metadata": {},
   "source": [
    "We will use 64 log mel-band energies from a spectrogram with an analysis frame of 64 ms and 50% hop size. "
   ]
  },
  {
   "cell_type": "code",
   "execution_count": 5,
   "metadata": {},
   "outputs": [],
   "source": [
    "A = tf.signal.linear_to_mel_weight_matrix(\n",
    "    num_mel_bins=64, num_spectrogram_bins=512+1, sample_rate=16_000, dtype=tf.float32\n",
    ")"
   ]
  },
  {
   "cell_type": "code",
   "execution_count": 6,
   "metadata": {},
   "outputs": [],
   "source": [
    "def mel(item):\n",
    "    audio = tf.cast(item[\"audio\"], tf.float32)\n",
    "    audio = audio / 2**15\n",
    "\n",
    "    # Calculate the STFT of the audio signal\n",
    "    stfts = tf.signal.stft(\n",
    "            audio,\n",
    "            frame_length=1024,\n",
    "            frame_step=512,\n",
    "            pad_end=False,  # librosa test compatibility\n",
    "        )\n",
    "    # Get Magnitude fo the STFT\n",
    "    mag_stfts = tf.abs(stfts)\n",
    "\n",
    "    # Get the mel-spectrogram\n",
    "    melgrams = tf.tensordot(\n",
    "            tf.square(mag_stfts), A, axes=1\n",
    "    )\n",
    "\n",
    "    # Change of base for logarithmics: from natural logarithmic to common logarithmic \n",
    "    def _tf_log10(x):\n",
    "        numerator = tf.math.log(x)\n",
    "        denominator = tf.math.log(tf.constant(10, dtype=numerator.dtype))\n",
    "        return numerator / denominator\n",
    "\n",
    "    # Calculate the log-mel spectrogram    \n",
    "    log_melgrams = 20 / 2 * _tf_log10(melgrams + 10e-6)\n",
    "\n",
    "    # Concat 5 time frames together to feed the model\n",
    "    concat_melgrams = tf.concat(\n",
    "        [\n",
    "            tf.roll(log_melgrams, shift=1, axis=0),\n",
    "            tf.roll(log_melgrams, shift=2, axis=0),\n",
    "            log_melgrams,\n",
    "            tf.roll(log_melgrams, shift=-1, axis=0),\n",
    "            tf.roll(log_melgrams, shift=-2, axis=0)\n",
    "        ],\n",
    "        axis=1,\n",
    "    )\n",
    "    concat_melgrams = concat_melgrams[2:-2,:]\n",
    "\n",
    "    item[\"audio\"] = concat_melgrams\n",
    "    return item"
   ]
  },
  {
   "cell_type": "markdown",
   "metadata": {},
   "source": [
    "Let's prepare the sets for training. AE models need that the input and the output be the same."
   ]
  },
  {
   "cell_type": "code",
   "execution_count": 7,
   "metadata": {},
   "outputs": [],
   "source": [
    "def prep_train(item):\n",
    "    return item[\"audio\"], item[\"audio\"]"
   ]
  },
  {
   "cell_type": "code",
   "execution_count": 8,
   "metadata": {},
   "outputs": [],
   "source": [
    "BATCH_SIZE = 512\n",
    "SHUFFLE_BUFFER_SIZE = 1024\n",
    "\n",
    "train = train.map(mel)\n",
    "train2 = train.map(prep_train).batch(BATCH_SIZE)\n",
    "\n",
    "val = train.map(mel)\n",
    "val2 = train.map(prep_train).batch(BATCH_SIZE)\n",
    "\n",
    "test = test.map(mel)\n",
    "test2 = test.batch(BATCH_SIZE)"
   ]
  },
  {
   "cell_type": "markdown",
   "metadata": {},
   "source": [
    "## Training"
   ]
  },
  {
   "cell_type": "markdown",
   "metadata": {},
   "source": [
    "This is the AE model described in the paper [MIMII Dataset: Sound Dataset for\n",
    "Malfunctioning Industrial Machine Investigation and Inspection](https://www.arxiv-vanity.com/papers/1909.09347/)"
   ]
  },
  {
   "cell_type": "code",
   "execution_count": 9,
   "metadata": {},
   "outputs": [],
   "source": [
    "autoencoder = Sequential(\n",
    "    [\n",
    "        InputLayer(input_shape=(307, 320)),\n",
    "        Dense(64, activation='relu'),\n",
    "        Dense(64, activation='relu'),\n",
    "        Dense(8, activation='relu'),\n",
    "        Dense(64, activation='relu'),\n",
    "        Dense(64, activation='relu'),\n",
    "        Dense(320, activation=None)\n",
    "    ]\n",
    ")"
   ]
  },
  {
   "cell_type": "code",
   "execution_count": 10,
   "metadata": {},
   "outputs": [
    {
     "name": "stdout",
     "output_type": "stream",
     "text": [
      "Model: \"sequential\"\n",
      "_________________________________________________________________\n",
      "Layer (type)                 Output Shape              Param #   \n",
      "=================================================================\n",
      "dense (Dense)                (None, 307, 64)           20544     \n",
      "_________________________________________________________________\n",
      "dense_1 (Dense)              (None, 307, 64)           4160      \n",
      "_________________________________________________________________\n",
      "dense_2 (Dense)              (None, 307, 8)            520       \n",
      "_________________________________________________________________\n",
      "dense_3 (Dense)              (None, 307, 64)           576       \n",
      "_________________________________________________________________\n",
      "dense_4 (Dense)              (None, 307, 64)           4160      \n",
      "_________________________________________________________________\n",
      "dense_5 (Dense)              (None, 307, 320)          20800     \n",
      "=================================================================\n",
      "Total params: 50,760\n",
      "Trainable params: 50,760\n",
      "Non-trainable params: 0\n",
      "_________________________________________________________________\n"
     ]
    }
   ],
   "source": [
    "autoencoder.summary()"
   ]
  },
  {
   "cell_type": "markdown",
   "metadata": {},
   "source": [
    "We use same parameters as the paper."
   ]
  },
  {
   "cell_type": "code",
   "execution_count": 11,
   "metadata": {},
   "outputs": [],
   "source": [
    "autoencoder.compile(optimizer=Adam(learning_rate=0.001), loss=MeanSquaredError())"
   ]
  },
  {
   "cell_type": "markdown",
   "metadata": {},
   "source": [
    "Let's create a Tensorboard callback to check the results in Tensorboard and a ModelCheckpoint callback to save the best model."
   ]
  },
  {
   "cell_type": "code",
   "execution_count": 12,
   "metadata": {},
   "outputs": [],
   "source": [
    "log_dir = os.path.join('..', 'logs', 'semi-mel2', datetime.datetime.now().strftime('%Y%m%d-%H%M%S'))\n",
    "tb_callback = tf.keras.callbacks.TensorBoard(\n",
    "    log_dir, update_freq=1, histogram_freq=1, write_graph=True\n",
    ")"
   ]
  },
  {
   "cell_type": "code",
   "execution_count": 13,
   "metadata": {},
   "outputs": [],
   "source": [
    "checkpoint_filepath = os.path.join(\"tmp\", \"semi-mel2\", \"checkpoint\")\n",
    "model_checkpoint_callback = tf.keras.callbacks.ModelCheckpoint(\n",
    "    filepath=checkpoint_filepath,\n",
    "    save_weights_only=True,\n",
    "    monitor='val_loss',\n",
    "    mode='min',\n",
    "    save_best_only=True)"
   ]
  },
  {
   "cell_type": "code",
   "execution_count": 14,
   "metadata": {},
   "outputs": [
    {
     "name": "stdout",
     "output_type": "stream",
     "text": [
      "Epoch 1/50\n",
      "6/6 [==============================] - 158s 29s/step - loss: 131.6253 - val_loss: 116.9478\n",
      "Epoch 2/50\n",
      "6/6 [==============================] - 159s 29s/step - loss: 109.6556 - val_loss: 83.0146\n",
      "Epoch 3/50\n",
      "6/6 [==============================] - 157s 29s/step - loss: 75.2256 - val_loss: 51.3200\n",
      "Epoch 4/50\n",
      "6/6 [==============================] - 155s 28s/step - loss: 45.9704 - val_loss: 31.7235\n",
      "Epoch 5/50\n",
      "6/6 [==============================] - 156s 28s/step - loss: 29.1095 - val_loss: 22.9366\n",
      "Epoch 6/50\n",
      "6/6 [==============================] - 156s 29s/step - loss: 21.8481 - val_loss: 19.4684\n",
      "Epoch 7/50\n",
      "6/6 [==============================] - 157s 29s/step - loss: 18.9459 - val_loss: 17.9887\n",
      "Epoch 8/50\n",
      "6/6 [==============================] - 156s 29s/step - loss: 17.8988 - val_loss: 17.3321\n",
      "Epoch 9/50\n",
      "6/6 [==============================] - 156s 29s/step - loss: 17.1063 - val_loss: 16.9841\n",
      "Epoch 10/50\n",
      "6/6 [==============================] - 156s 29s/step - loss: 16.7615 - val_loss: 16.8177\n",
      "Epoch 11/50\n",
      "6/6 [==============================] - 156s 29s/step - loss: 16.8671 - val_loss: 16.7359\n",
      "Epoch 12/50\n",
      "6/6 [==============================] - 156s 28s/step - loss: 16.6684 - val_loss: 16.6845\n",
      "Epoch 13/50\n",
      "6/6 [==============================] - 155s 28s/step - loss: 16.6893 - val_loss: 16.6471\n",
      "Epoch 14/50\n",
      "6/6 [==============================] - 156s 29s/step - loss: 16.5128 - val_loss: 16.6089\n",
      "Epoch 15/50\n",
      "6/6 [==============================] - 156s 29s/step - loss: 16.6441 - val_loss: 16.5666\n",
      "Epoch 16/50\n",
      "6/6 [==============================] - 156s 29s/step - loss: 16.4941 - val_loss: 16.5088\n",
      "Epoch 17/50\n",
      "6/6 [==============================] - 156s 28s/step - loss: 16.4833 - val_loss: 16.4162\n",
      "Epoch 18/50\n",
      "6/6 [==============================] - 155s 28s/step - loss: 16.4526 - val_loss: 16.2627\n",
      "Epoch 19/50\n",
      "6/6 [==============================] - 156s 28s/step - loss: 16.2322 - val_loss: 16.0447\n",
      "Epoch 20/50\n",
      "6/6 [==============================] - 156s 28s/step - loss: 15.9474 - val_loss: 15.7954\n",
      "Epoch 21/50\n",
      "6/6 [==============================] - 154s 28s/step - loss: 15.7704 - val_loss: 15.5545\n",
      "Epoch 22/50\n",
      "6/6 [==============================] - 156s 28s/step - loss: 15.4239 - val_loss: 15.3346\n",
      "Epoch 23/50\n",
      "6/6 [==============================] - 156s 28s/step - loss: 15.2983 - val_loss: 15.1382\n",
      "Epoch 24/50\n",
      "6/6 [==============================] - 155s 28s/step - loss: 15.0912 - val_loss: 14.9503\n",
      "Epoch 25/50\n",
      "6/6 [==============================] - 156s 28s/step - loss: 14.9453 - val_loss: 14.7459\n",
      "Epoch 26/50\n",
      "6/6 [==============================] - 156s 28s/step - loss: 14.7343 - val_loss: 14.5478\n",
      "Epoch 27/50\n",
      "6/6 [==============================] - 155s 28s/step - loss: 14.5251 - val_loss: 14.3625\n",
      "Epoch 28/50\n",
      "6/6 [==============================] - 156s 28s/step - loss: 14.3165 - val_loss: 14.2225\n",
      "Epoch 29/50\n",
      "6/6 [==============================] - 156s 28s/step - loss: 14.2310 - val_loss: 14.1049\n",
      "Epoch 30/50\n",
      "6/6 [==============================] - 155s 28s/step - loss: 14.0758 - val_loss: 14.0359\n",
      "Epoch 31/50\n",
      "6/6 [==============================] - 156s 28s/step - loss: 13.9897 - val_loss: 13.9811\n",
      "Epoch 32/50\n",
      "6/6 [==============================] - 156s 28s/step - loss: 13.9644 - val_loss: 13.9422\n",
      "Epoch 33/50\n",
      "6/6 [==============================] - 155s 28s/step - loss: 13.9686 - val_loss: 13.9135\n",
      "Epoch 34/50\n",
      "6/6 [==============================] - 156s 28s/step - loss: 13.9669 - val_loss: 13.8838\n",
      "Epoch 35/50\n",
      "6/6 [==============================] - 156s 28s/step - loss: 13.9182 - val_loss: 13.8574\n",
      "Epoch 36/50\n",
      "6/6 [==============================] - 156s 28s/step - loss: 13.8585 - val_loss: 13.8324\n",
      "Epoch 37/50\n",
      "6/6 [==============================] - 156s 29s/step - loss: 13.9259 - val_loss: 13.8104\n",
      "Epoch 38/50\n",
      "6/6 [==============================] - 156s 28s/step - loss: 13.8106 - val_loss: 13.7879\n",
      "Epoch 39/50\n",
      "6/6 [==============================] - 156s 28s/step - loss: 13.7428 - val_loss: 13.7669\n",
      "Epoch 40/50\n",
      "6/6 [==============================] - 156s 29s/step - loss: 13.7739 - val_loss: 13.7441\n",
      "Epoch 41/50\n",
      "6/6 [==============================] - 156s 29s/step - loss: 13.7231 - val_loss: 13.7218\n",
      "Epoch 42/50\n",
      "6/6 [==============================] - 156s 29s/step - loss: 13.7015 - val_loss: 13.6992\n",
      "Epoch 43/50\n",
      "6/6 [==============================] - 156s 29s/step - loss: 13.7466 - val_loss: 13.6780\n",
      "Epoch 44/50\n",
      "6/6 [==============================] - 156s 29s/step - loss: 13.6893 - val_loss: 13.6518\n",
      "Epoch 45/50\n",
      "6/6 [==============================] - 156s 29s/step - loss: 13.5787 - val_loss: 13.6282\n",
      "Epoch 46/50\n",
      "6/6 [==============================] - 156s 29s/step - loss: 13.6783 - val_loss: 13.6029\n",
      "Epoch 47/50\n",
      "6/6 [==============================] - 155s 28s/step - loss: 13.5518 - val_loss: 13.5800\n",
      "Epoch 48/50\n",
      "6/6 [==============================] - 156s 29s/step - loss: 13.5713 - val_loss: 13.5520\n",
      "Epoch 49/50\n",
      "6/6 [==============================] - 156s 29s/step - loss: 13.5769 - val_loss: 13.5238\n",
      "Epoch 50/50\n",
      "6/6 [==============================] - 156s 29s/step - loss: 13.5331 - val_loss: 13.4940\n"
     ]
    }
   ],
   "source": [
    "history = autoencoder.fit(\n",
    "    train2,\n",
    "    epochs=50,\n",
    "    shuffle=True,\n",
    "    validation_data=val2,\n",
    "    callbacks=[tb_callback, model_checkpoint_callback],\n",
    "    verbose=1,\n",
    ")"
   ]
  },
  {
   "cell_type": "markdown",
   "metadata": {},
   "source": [
    "## Testing"
   ]
  },
  {
   "cell_type": "markdown",
   "metadata": {},
   "source": [
    "Let's join train and test set together for faster predictions."
   ]
  },
  {
   "cell_type": "code",
   "execution_count": 15,
   "metadata": {},
   "outputs": [],
   "source": [
    "audios = train.concatenate(test)"
   ]
  },
  {
   "cell_type": "code",
   "execution_count": 16,
   "metadata": {},
   "outputs": [],
   "source": [
    "pred = autoencoder.predict(audios.map(lambda item: item[\"audio\"]).batch(BATCH_SIZE))"
   ]
  },
  {
   "cell_type": "markdown",
   "metadata": {},
   "source": [
    "Let's compute the reconstruction error for all audios."
   ]
  },
  {
   "cell_type": "code",
   "execution_count": 17,
   "metadata": {},
   "outputs": [],
   "source": [
    "error_lst = []\n",
    "for item, pred in zip(tfds.as_numpy(audios), pred):\n",
    "    error = np.mean(np.square(item[\"audio\"] - pred))\n",
    "    error_lst.append(error)"
   ]
  },
  {
   "cell_type": "markdown",
   "metadata": {},
   "source": [
    "To check how the model behaves, we can tranform the Tensorflow dataset into a dataframe and add the previous computed reconstruction error to it."
   ]
  },
  {
   "cell_type": "code",
   "execution_count": 18,
   "metadata": {},
   "outputs": [
    {
     "data": {
      "text/html": [
       "<div>\n",
       "<style scoped>\n",
       "    .dataframe tbody tr th:only-of-type {\n",
       "        vertical-align: middle;\n",
       "    }\n",
       "\n",
       "    .dataframe tbody tr th {\n",
       "        vertical-align: top;\n",
       "    }\n",
       "\n",
       "    .dataframe thead th {\n",
       "        text-align: right;\n",
       "    }\n",
       "</style>\n",
       "<table border=\"1\" class=\"dataframe\">\n",
       "  <thead>\n",
       "    <tr style=\"text-align: right;\">\n",
       "      <th></th>\n",
       "      <th>audio</th>\n",
       "      <th>id</th>\n",
       "      <th>machine_id</th>\n",
       "      <th>split</th>\n",
       "      <th>label</th>\n",
       "    </tr>\n",
       "  </thead>\n",
       "  <tbody>\n",
       "    <tr>\n",
       "      <th>2477</th>\n",
       "      <td>[[-2.7875395, 1.6016552, -6.4621453, -5.028084...</td>\n",
       "      <td>0192</td>\n",
       "      <td>00</td>\n",
       "      <td>train</td>\n",
       "      <td>normal</td>\n",
       "    </tr>\n",
       "    <tr>\n",
       "      <th>1790</th>\n",
       "      <td>[[-4.411544, -6.801692, -4.9843354, -5.578091,...</td>\n",
       "      <td>0027</td>\n",
       "      <td>00</td>\n",
       "      <td>train</td>\n",
       "      <td>normal</td>\n",
       "    </tr>\n",
       "    <tr>\n",
       "      <th>847</th>\n",
       "      <td>[[-7.286358, -0.038434725, -1.4054885, -3.7830...</td>\n",
       "      <td>0572</td>\n",
       "      <td>02</td>\n",
       "      <td>train</td>\n",
       "      <td>normal</td>\n",
       "    </tr>\n",
       "    <tr>\n",
       "      <th>910</th>\n",
       "      <td>[[-8.980205, -1.3517476, -1.8648397, 1.4344592...</td>\n",
       "      <td>0489</td>\n",
       "      <td>04</td>\n",
       "      <td>train</td>\n",
       "      <td>normal</td>\n",
       "    </tr>\n",
       "    <tr>\n",
       "      <th>304</th>\n",
       "      <td>[[0.2650661, 0.10619744, 1.789721, -6.756939, ...</td>\n",
       "      <td>0835</td>\n",
       "      <td>06</td>\n",
       "      <td>train</td>\n",
       "      <td>normal</td>\n",
       "    </tr>\n",
       "  </tbody>\n",
       "</table>\n",
       "</div>"
      ],
      "text/plain": [
       "                                                  audio    id machine_id  \\\n",
       "2477  [[-2.7875395, 1.6016552, -6.4621453, -5.028084...  0192         00   \n",
       "1790  [[-4.411544, -6.801692, -4.9843354, -5.578091,...  0027         00   \n",
       "847   [[-7.286358, -0.038434725, -1.4054885, -3.7830...  0572         02   \n",
       "910   [[-8.980205, -1.3517476, -1.8648397, 1.4344592...  0489         04   \n",
       "304   [[0.2650661, 0.10619744, 1.789721, -6.756939, ...  0835         06   \n",
       "\n",
       "      split   label  \n",
       "2477  train  normal  \n",
       "1790  train  normal  \n",
       "847   train  normal  \n",
       "910   train  normal  \n",
       "304   train  normal  "
      ]
     },
     "execution_count": 18,
     "metadata": {},
     "output_type": "execute_result"
    }
   ],
   "source": [
    "audios_df = tfds.as_dataframe(audios, info)\n",
    "\n",
    "# Convert byte-type texts to string-type texts\n",
    "for col in audios_df:\n",
    "    if isinstance(audios_df[col][0], bytes):\n",
    "        audios_df[col] = audios_df[col].str.decode(\"utf8\")\n",
    "\n",
    "dct_columns = {\n",
    "    \"audio/id\": \"id\", \n",
    "    \"audio/machine\": \"machine_id\", \n",
    "    \"audio/split\": \"split\",\n",
    "}\n",
    "\n",
    "# Convert object-type columns to a more convenient data type\n",
    "dct_types = {\n",
    "    \"id\": \"string\",\n",
    "    \"machine_id\": \"category\",\n",
    "    \"split\": \"category\",\n",
    "    \"label\": \"category\",\n",
    "}\n",
    "\n",
    "audios_df = (\n",
    "    audios_df\n",
    "    .rename(columns=dct_columns)\n",
    "    .astype(dct_types)\n",
    ")\n",
    "\n",
    "audios_df[\"split\"] = audios_df[\"split\"].cat.rename_categories({0: \"train\", 1: \"test\"})\n",
    "audios_df[\"label\"] = audios_df[\"label\"].cat.rename_categories({0: \"normal\", 1: \"anomaly\"})\n",
    "\n",
    "audios_df.sample(5)"
   ]
  },
  {
   "cell_type": "code",
   "execution_count": 19,
   "metadata": {},
   "outputs": [],
   "source": [
    "audios_df[\"error\"] = error_lst"
   ]
  },
  {
   "cell_type": "code",
   "execution_count": 20,
   "metadata": {},
   "outputs": [
    {
     "data": {
      "text/html": [
       "<div>\n",
       "<style scoped>\n",
       "    .dataframe tbody tr th:only-of-type {\n",
       "        vertical-align: middle;\n",
       "    }\n",
       "\n",
       "    .dataframe tbody tr th {\n",
       "        vertical-align: top;\n",
       "    }\n",
       "\n",
       "    .dataframe thead th {\n",
       "        text-align: right;\n",
       "    }\n",
       "</style>\n",
       "<table border=\"1\" class=\"dataframe\">\n",
       "  <thead>\n",
       "    <tr style=\"text-align: right;\">\n",
       "      <th></th>\n",
       "      <th>audio</th>\n",
       "      <th>id</th>\n",
       "      <th>machine_id</th>\n",
       "      <th>split</th>\n",
       "      <th>label</th>\n",
       "      <th>error</th>\n",
       "    </tr>\n",
       "  </thead>\n",
       "  <tbody>\n",
       "    <tr>\n",
       "      <th>1430</th>\n",
       "      <td>[[-0.68483007, 0.81773925, 1.2178646, -0.00749...</td>\n",
       "      <td>0325</td>\n",
       "      <td>06</td>\n",
       "      <td>train</td>\n",
       "      <td>normal</td>\n",
       "      <td>13.578239</td>\n",
       "    </tr>\n",
       "    <tr>\n",
       "      <th>1665</th>\n",
       "      <td>[[0.33393234, -2.5177956, -5.673082, -5.216605...</td>\n",
       "      <td>0526</td>\n",
       "      <td>04</td>\n",
       "      <td>train</td>\n",
       "      <td>normal</td>\n",
       "      <td>41.273838</td>\n",
       "    </tr>\n",
       "    <tr>\n",
       "      <th>2826</th>\n",
       "      <td>[[0.24224415, -0.38163954, -7.695062, -12.0245...</td>\n",
       "      <td>0356</td>\n",
       "      <td>04</td>\n",
       "      <td>train</td>\n",
       "      <td>normal</td>\n",
       "      <td>21.630625</td>\n",
       "    </tr>\n",
       "    <tr>\n",
       "      <th>3433</th>\n",
       "      <td>[[-4.3812113, 0.63253725, 2.549387, 0.57952595...</td>\n",
       "      <td>0070</td>\n",
       "      <td>04</td>\n",
       "      <td>test</td>\n",
       "      <td>anomaly</td>\n",
       "      <td>28.914246</td>\n",
       "    </tr>\n",
       "    <tr>\n",
       "      <th>3722</th>\n",
       "      <td>[[-6.234923, 1.0997583, 0.201184, 1.6336286, -...</td>\n",
       "      <td>0068</td>\n",
       "      <td>04</td>\n",
       "      <td>test</td>\n",
       "      <td>normal</td>\n",
       "      <td>61.475533</td>\n",
       "    </tr>\n",
       "  </tbody>\n",
       "</table>\n",
       "</div>"
      ],
      "text/plain": [
       "                                                  audio    id machine_id  \\\n",
       "1430  [[-0.68483007, 0.81773925, 1.2178646, -0.00749...  0325         06   \n",
       "1665  [[0.33393234, -2.5177956, -5.673082, -5.216605...  0526         04   \n",
       "2826  [[0.24224415, -0.38163954, -7.695062, -12.0245...  0356         04   \n",
       "3433  [[-4.3812113, 0.63253725, 2.549387, 0.57952595...  0070         04   \n",
       "3722  [[-6.234923, 1.0997583, 0.201184, 1.6336286, -...  0068         04   \n",
       "\n",
       "      split    label      error  \n",
       "1430  train   normal  13.578239  \n",
       "1665  train   normal  41.273838  \n",
       "2826  train   normal  21.630625  \n",
       "3433   test  anomaly  28.914246  \n",
       "3722   test   normal  61.475533  "
      ]
     },
     "execution_count": 20,
     "metadata": {},
     "output_type": "execute_result"
    }
   ],
   "source": [
    "audios_df.sample(5)"
   ]
  },
  {
   "cell_type": "markdown",
   "metadata": {},
   "source": [
    "Let's compute the mean and the standard deviation of the reconstruction error of the train set."
   ]
  },
  {
   "cell_type": "code",
   "execution_count": 21,
   "metadata": {},
   "outputs": [
    {
     "data": {
      "text/html": [
       "<div>\n",
       "<style scoped>\n",
       "    .dataframe tbody tr th:only-of-type {\n",
       "        vertical-align: middle;\n",
       "    }\n",
       "\n",
       "    .dataframe tbody tr th {\n",
       "        vertical-align: top;\n",
       "    }\n",
       "\n",
       "    .dataframe thead tr th {\n",
       "        text-align: left;\n",
       "    }\n",
       "\n",
       "    .dataframe thead tr:last-of-type th {\n",
       "        text-align: right;\n",
       "    }\n",
       "</style>\n",
       "<table border=\"1\" class=\"dataframe\">\n",
       "  <thead>\n",
       "    <tr>\n",
       "      <th></th>\n",
       "      <th colspan=\"2\" halign=\"left\">error</th>\n",
       "    </tr>\n",
       "    <tr>\n",
       "      <th></th>\n",
       "      <th>mean</th>\n",
       "      <th>std</th>\n",
       "    </tr>\n",
       "    <tr>\n",
       "      <th>machine_id</th>\n",
       "      <th></th>\n",
       "      <th></th>\n",
       "    </tr>\n",
       "  </thead>\n",
       "  <tbody>\n",
       "    <tr>\n",
       "      <th>00</th>\n",
       "      <td>26.651006</td>\n",
       "      <td>13.876286</td>\n",
       "    </tr>\n",
       "    <tr>\n",
       "      <th>02</th>\n",
       "      <td>27.280892</td>\n",
       "      <td>15.340480</td>\n",
       "    </tr>\n",
       "    <tr>\n",
       "      <th>04</th>\n",
       "      <td>26.247069</td>\n",
       "      <td>13.974535</td>\n",
       "    </tr>\n",
       "    <tr>\n",
       "      <th>06</th>\n",
       "      <td>26.572646</td>\n",
       "      <td>14.895569</td>\n",
       "    </tr>\n",
       "  </tbody>\n",
       "</table>\n",
       "</div>"
      ],
      "text/plain": [
       "                error           \n",
       "                 mean        std\n",
       "machine_id                      \n",
       "00          26.651006  13.876286\n",
       "02          27.280892  15.340480\n",
       "04          26.247069  13.974535\n",
       "06          26.572646  14.895569"
      ]
     },
     "execution_count": 21,
     "metadata": {},
     "output_type": "execute_result"
    }
   ],
   "source": [
    "(\n",
    "    audios_df\n",
    "    .query(\"split == 'train'\")\n",
    "    .groupby(\"machine_id\")\n",
    "    .agg({\"error\": [\"mean\", \"std\"]})\n",
    ")"
   ]
  },
  {
   "cell_type": "markdown",
   "metadata": {},
   "source": [
    "Let's compute the mean and the standard deviation of the reconstruction error of the test set."
   ]
  },
  {
   "cell_type": "code",
   "execution_count": 22,
   "metadata": {},
   "outputs": [
    {
     "data": {
      "text/html": [
       "<div>\n",
       "<style scoped>\n",
       "    .dataframe tbody tr th:only-of-type {\n",
       "        vertical-align: middle;\n",
       "    }\n",
       "\n",
       "    .dataframe tbody tr th {\n",
       "        vertical-align: top;\n",
       "    }\n",
       "\n",
       "    .dataframe thead tr th {\n",
       "        text-align: left;\n",
       "    }\n",
       "\n",
       "    .dataframe thead tr:last-of-type th {\n",
       "        text-align: right;\n",
       "    }\n",
       "</style>\n",
       "<table border=\"1\" class=\"dataframe\">\n",
       "  <thead>\n",
       "    <tr>\n",
       "      <th></th>\n",
       "      <th></th>\n",
       "      <th colspan=\"2\" halign=\"left\">error</th>\n",
       "    </tr>\n",
       "    <tr>\n",
       "      <th></th>\n",
       "      <th></th>\n",
       "      <th>mean</th>\n",
       "      <th>std</th>\n",
       "    </tr>\n",
       "    <tr>\n",
       "      <th>label</th>\n",
       "      <th>machine_id</th>\n",
       "      <th></th>\n",
       "      <th></th>\n",
       "    </tr>\n",
       "  </thead>\n",
       "  <tbody>\n",
       "    <tr>\n",
       "      <th rowspan=\"4\" valign=\"top\">normal</th>\n",
       "      <th>00</th>\n",
       "      <td>34.871846</td>\n",
       "      <td>22.538611</td>\n",
       "    </tr>\n",
       "    <tr>\n",
       "      <th>02</th>\n",
       "      <td>31.767972</td>\n",
       "      <td>16.968680</td>\n",
       "    </tr>\n",
       "    <tr>\n",
       "      <th>04</th>\n",
       "      <td>32.670067</td>\n",
       "      <td>15.326876</td>\n",
       "    </tr>\n",
       "    <tr>\n",
       "      <th>06</th>\n",
       "      <td>36.446039</td>\n",
       "      <td>24.027785</td>\n",
       "    </tr>\n",
       "    <tr>\n",
       "      <th rowspan=\"4\" valign=\"top\">anomaly</th>\n",
       "      <th>00</th>\n",
       "      <td>37.357290</td>\n",
       "      <td>23.681935</td>\n",
       "    </tr>\n",
       "    <tr>\n",
       "      <th>02</th>\n",
       "      <td>35.827076</td>\n",
       "      <td>25.128134</td>\n",
       "    </tr>\n",
       "    <tr>\n",
       "      <th>04</th>\n",
       "      <td>32.519774</td>\n",
       "      <td>19.392254</td>\n",
       "    </tr>\n",
       "    <tr>\n",
       "      <th>06</th>\n",
       "      <td>31.502627</td>\n",
       "      <td>16.016001</td>\n",
       "    </tr>\n",
       "  </tbody>\n",
       "</table>\n",
       "</div>"
      ],
      "text/plain": [
       "                        error           \n",
       "                         mean        std\n",
       "label   machine_id                      \n",
       "normal  00          34.871846  22.538611\n",
       "        02          31.767972  16.968680\n",
       "        04          32.670067  15.326876\n",
       "        06          36.446039  24.027785\n",
       "anomaly 00          37.357290  23.681935\n",
       "        02          35.827076  25.128134\n",
       "        04          32.519774  19.392254\n",
       "        06          31.502627  16.016001"
      ]
     },
     "execution_count": 22,
     "metadata": {},
     "output_type": "execute_result"
    }
   ],
   "source": [
    "(\n",
    "    audios_df\n",
    "    .query(\"split == 'test'\")\n",
    "    .groupby([\"label\", \"machine_id\"])\n",
    "    .agg({\"error\": [\"mean\", \"std\"]})\n",
    ")"
   ]
  },
  {
   "cell_type": "markdown",
   "metadata": {},
   "source": [
    "It seems this model can't distinguish anomaly sound from normal sounds very well.\n",
    "\n",
    "Let's plot the a histogram of the construction error per machine to see more clear."
   ]
  },
  {
   "cell_type": "code",
   "execution_count": 23,
   "metadata": {},
   "outputs": [
    {
     "name": "stderr",
     "output_type": "stream",
     "text": [
      "WARNING:matplotlib.font_manager:findfont: Font family ['Tahoma'] not found. Falling back to DejaVu Sans.\n",
      "WARNING:matplotlib.font_manager:findfont: Font family ['Tahoma'] not found. Falling back to DejaVu Sans.\n",
      "WARNING:matplotlib.font_manager:findfont: Font family ['Tahoma'] not found. Falling back to DejaVu Sans.\n",
      "WARNING:matplotlib.font_manager:findfont: Font family ['Tahoma'] not found. Falling back to DejaVu Sans.\n"
     ]
    },
    {
     "data": {
      "image/png": "[encoded data removed]",
      "text/plain": [
       "<Figure size 640x480 with 4 Axes>"
      ]
     },
     "metadata": {},
     "output_type": "display_data"
    },
    {
     "name": "stdout",
     "output_type": "stream",
     "text": [
      "\n"
     ]
    }
   ],
   "source": [
    "p = (\n",
    "    p9.ggplot(audios_df.query(\"split == 'test'\"), p9.aes(x=\"error\", fill=\"label\"))\n",
    "    + p9.geom_histogram(\n",
    "        p9.aes(y=\"stat(count)\"), position=\"identity\", alpha=0.75\n",
    "    )\n",
    "    + p9.scale_x_continuous(name=\"Testing reconstruction error\")\n",
    "    + p9.scale_y_continuous(name=\"Number samples\")\n",
    "    + p9.labs(\n",
    "        title=\"Reconstruction error distributions\",\n",
    "    )\n",
    "    + p9.scale_fill_brewer(type=\"qualitative\", palette=\"Accent\") \n",
    "    + p9.facet_grid(\"machine_id ~ .\", scales=\"free\")\n",
    "    + p9.theme_bw()\n",
    "    + p9.theme(\n",
    "        panel_border=p9.element_rect(colour=\"black\", fill=None, size=0.5),\n",
    "        axis_text_x=p9.element_text(colour=\"black\", size=9),\n",
    "        axis_text_y=p9.element_text(colour=\"black\", size=9),\n",
    "        legend_key=p9.element_blank(),\n",
    "        legend_title=p9.element_blank(),\n",
    "        panel_grid_major=p9.element_line(colour=\"#d3d3d3\"),\n",
    "        panel_grid_minor=p9.element_blank(),\n",
    "        panel_background=p9.element_blank(),\n",
    "        plot_title=p9.element_text(size=14, family=\"Tahoma\", face=\"bold\"),\n",
    "        text=p9.element_text(family=\"Tahoma\"),\n",
    "    )\n",
    ")\n",
    "\n",
    "print(p)"
   ]
  },
  {
   "cell_type": "markdown",
   "metadata": {},
   "source": [
    "Histograms show more clear that the model can't differentiate anomaly audios from normal audio very well."
   ]
  },
  {
   "cell_type": "markdown",
   "metadata": {},
   "source": [
    "This [AWS](https://aws.amazon.com/es/blogs/machine-learning/performing-anomaly-detection-on-industrial-equipment-using-audio-signals/) post shows how the histogram from a good model should look like.\n",
    "\n",
    "![Better model](https://d2908q01vomqb2.cloudfront.net/f1f836cb4ea6efb2a0b1b99f41ad8b103eff4b59/2020/12/22/ML-1479-4.jpg)"
   ]
  },
  {
   "cell_type": "markdown",
   "metadata": {},
   "source": [
    "## Metrics"
   ]
  },
  {
   "cell_type": "markdown",
   "metadata": {},
   "source": [
    "Let's see how bad our model is. To distinguish anomaly audios from normal audios, we set the threshold one standard deviation above the mean of the train set. "
   ]
  },
  {
   "cell_type": "code",
   "execution_count": 24,
   "metadata": {},
   "outputs": [],
   "source": [
    "avg = (\n",
    "    audios_df\n",
    "    .query(\"split == 'train'\")\n",
    "    [\"error\"]\n",
    "    .mean()\n",
    ")\n",
    "\n",
    "std = (\n",
    "    audios_df\n",
    "    .query(\"split == 'train'\")\n",
    "    [\"error\"]\n",
    "    .std()\n",
    ")\n",
    "\n",
    "threshold = avg + std"
   ]
  },
  {
   "cell_type": "code",
   "execution_count": 25,
   "metadata": {},
   "outputs": [
    {
     "name": "stdout",
     "output_type": "stream",
     "text": [
      "41.30918907813345\n"
     ]
    }
   ],
   "source": [
    "print(threshold)"
   ]
  },
  {
   "cell_type": "markdown",
   "metadata": {},
   "source": [
    "Let's create a new column with the predicted label based on the threshold."
   ]
  },
  {
   "cell_type": "code",
   "execution_count": 26,
   "metadata": {},
   "outputs": [],
   "source": [
    "audios_df[\"label_pred\"] = audios_df[\"error\"] > threshold"
   ]
  },
  {
   "cell_type": "code",
   "execution_count": 27,
   "metadata": {},
   "outputs": [
    {
     "data": {
      "text/html": [
       "<div>\n",
       "<style scoped>\n",
       "    .dataframe tbody tr th:only-of-type {\n",
       "        vertical-align: middle;\n",
       "    }\n",
       "\n",
       "    .dataframe tbody tr th {\n",
       "        vertical-align: top;\n",
       "    }\n",
       "\n",
       "    .dataframe thead th {\n",
       "        text-align: right;\n",
       "    }\n",
       "</style>\n",
       "<table border=\"1\" class=\"dataframe\">\n",
       "  <thead>\n",
       "    <tr style=\"text-align: right;\">\n",
       "      <th></th>\n",
       "      <th>audio</th>\n",
       "      <th>id</th>\n",
       "      <th>machine_id</th>\n",
       "      <th>split</th>\n",
       "      <th>label</th>\n",
       "      <th>error</th>\n",
       "      <th>label_pred</th>\n",
       "    </tr>\n",
       "  </thead>\n",
       "  <tbody>\n",
       "    <tr>\n",
       "      <th>0</th>\n",
       "      <td>[[4.3435826, -1.4703677, -6.8795943, -5.232863...</td>\n",
       "      <td>0784</td>\n",
       "      <td>06</td>\n",
       "      <td>train</td>\n",
       "      <td>normal</td>\n",
       "      <td>20.192614</td>\n",
       "      <td>False</td>\n",
       "    </tr>\n",
       "    <tr>\n",
       "      <th>1</th>\n",
       "      <td>[[-4.171905, -7.304402, -6.1516943, -0.3673963...</td>\n",
       "      <td>0215</td>\n",
       "      <td>02</td>\n",
       "      <td>train</td>\n",
       "      <td>normal</td>\n",
       "      <td>66.811012</td>\n",
       "      <td>True</td>\n",
       "    </tr>\n",
       "    <tr>\n",
       "      <th>2</th>\n",
       "      <td>[[-3.672999, -4.516965, 1.8487122, 1.7680111, ...</td>\n",
       "      <td>0918</td>\n",
       "      <td>06</td>\n",
       "      <td>train</td>\n",
       "      <td>normal</td>\n",
       "      <td>16.891802</td>\n",
       "      <td>False</td>\n",
       "    </tr>\n",
       "    <tr>\n",
       "      <th>3</th>\n",
       "      <td>[[-1.0986718, -0.51198477, 1.760179, -8.916344...</td>\n",
       "      <td>0033</td>\n",
       "      <td>06</td>\n",
       "      <td>train</td>\n",
       "      <td>normal</td>\n",
       "      <td>22.767317</td>\n",
       "      <td>False</td>\n",
       "    </tr>\n",
       "    <tr>\n",
       "      <th>4</th>\n",
       "      <td>[[-4.7961698, 1.6355705, -0.73018026, -3.11030...</td>\n",
       "      <td>0580</td>\n",
       "      <td>02</td>\n",
       "      <td>train</td>\n",
       "      <td>normal</td>\n",
       "      <td>25.093842</td>\n",
       "      <td>False</td>\n",
       "    </tr>\n",
       "  </tbody>\n",
       "</table>\n",
       "</div>"
      ],
      "text/plain": [
       "                                               audio    id machine_id  split  \\\n",
       "0  [[4.3435826, -1.4703677, -6.8795943, -5.232863...  0784         06  train   \n",
       "1  [[-4.171905, -7.304402, -6.1516943, -0.3673963...  0215         02  train   \n",
       "2  [[-3.672999, -4.516965, 1.8487122, 1.7680111, ...  0918         06  train   \n",
       "3  [[-1.0986718, -0.51198477, 1.760179, -8.916344...  0033         06  train   \n",
       "4  [[-4.7961698, 1.6355705, -0.73018026, -3.11030...  0580         02  train   \n",
       "\n",
       "    label      error  label_pred  \n",
       "0  normal  20.192614       False  \n",
       "1  normal  66.811012        True  \n",
       "2  normal  16.891802       False  \n",
       "3  normal  22.767317       False  \n",
       "4  normal  25.093842       False  "
      ]
     },
     "execution_count": 27,
     "metadata": {},
     "output_type": "execute_result"
    }
   ],
   "source": [
    "audios_df.head()"
   ]
  },
  {
   "cell_type": "markdown",
   "metadata": {},
   "source": [
    "Let's show the precision, recall, f1-score and roc-auc score for the four machines."
   ]
  },
  {
   "cell_type": "code",
   "execution_count": 28,
   "metadata": {},
   "outputs": [],
   "source": [
    "audios_df[\"label\"] = audios_df[\"label\"].cat.rename_categories({\"normal\": 0, \"anomaly\": 1})"
   ]
  },
  {
   "cell_type": "markdown",
   "metadata": {},
   "source": [
    "### Machine_id=00"
   ]
  },
  {
   "cell_type": "code",
   "execution_count": 29,
   "metadata": {},
   "outputs": [
    {
     "name": "stdout",
     "output_type": "stream",
     "text": [
      "              precision    recall  f1-score   support\n",
      "\n",
      "           0       0.42      0.73      0.54       100\n",
      "           1       0.62      0.31      0.41       143\n",
      "\n",
      "    accuracy                           0.48       243\n",
      "   macro avg       0.52      0.52      0.47       243\n",
      "weighted avg       0.54      0.48      0.46       243\n",
      "\n"
     ]
    }
   ],
   "source": [
    "machine_id = \"00\"\n",
    "temp = (\n",
    "    audios_df\n",
    "    .query(\"machine_id == @machine_id and split == 'test'\")\n",
    ")  \n",
    "print(classification_report(temp[\"label\"], temp[\"label_pred\"]))"
   ]
  },
  {
   "cell_type": "code",
   "execution_count": 30,
   "metadata": {},
   "outputs": [
    {
     "name": "stdout",
     "output_type": "stream",
     "text": [
      "[[73 27]\n",
      " [99 44]]\n"
     ]
    }
   ],
   "source": [
    "print(confusion_matrix(temp[\"label\"], temp[\"label_pred\"]))"
   ]
  },
  {
   "cell_type": "code",
   "execution_count": 31,
   "metadata": {},
   "outputs": [
    {
     "name": "stdout",
     "output_type": "stream",
     "text": [
      "ROC-AUC score: 0.5188\n"
     ]
    }
   ],
   "source": [
    "score = roc_auc_score(temp[\"label\"], temp[\"label_pred\"])\n",
    "print(f\"ROC-AUC score: {score:.4f}\")"
   ]
  },
  {
   "cell_type": "markdown",
   "metadata": {},
   "source": [
    "This model is slightly better distinguishing sounds for this machine that tossing a coin. "
   ]
  },
  {
   "cell_type": "markdown",
   "metadata": {},
   "source": [
    "### Machine_id=02"
   ]
  },
  {
   "cell_type": "code",
   "execution_count": 32,
   "metadata": {},
   "outputs": [
    {
     "name": "stdout",
     "output_type": "stream",
     "text": [
      "              precision    recall  f1-score   support\n",
      "\n",
      "           0       0.48      0.74      0.58       100\n",
      "           1       0.54      0.28      0.37       111\n",
      "\n",
      "    accuracy                           0.50       211\n",
      "   macro avg       0.51      0.51      0.48       211\n",
      "weighted avg       0.51      0.50      0.47       211\n",
      "\n"
     ]
    }
   ],
   "source": [
    "machine_id = \"02\"\n",
    "temp = (\n",
    "    audios_df\n",
    "    .query(\"machine_id == @machine_id and split == 'test'\")\n",
    ")  \n",
    "print(classification_report(temp[\"label\"], temp[\"label_pred\"]))"
   ]
  },
  {
   "cell_type": "code",
   "execution_count": 33,
   "metadata": {},
   "outputs": [
    {
     "name": "stdout",
     "output_type": "stream",
     "text": [
      "[[74 26]\n",
      " [80 31]]\n"
     ]
    }
   ],
   "source": [
    "print(confusion_matrix(temp[\"label\"], temp[\"label_pred\"]))"
   ]
  },
  {
   "cell_type": "code",
   "execution_count": 34,
   "metadata": {},
   "outputs": [
    {
     "name": "stdout",
     "output_type": "stream",
     "text": [
      "ROC-AUC score: 0.5096\n"
     ]
    }
   ],
   "source": [
    "score = roc_auc_score(temp[\"label\"], temp[\"label_pred\"])\n",
    "print(f\"ROC-AUC score: {score:.4f}\")"
   ]
  },
  {
   "cell_type": "markdown",
   "metadata": {},
   "source": [
    "This model is slightly better distinguishing sounds for this machine that tossing a coin. "
   ]
  },
  {
   "cell_type": "markdown",
   "metadata": {},
   "source": [
    "### Machine_id=04"
   ]
  },
  {
   "cell_type": "code",
   "execution_count": 35,
   "metadata": {},
   "outputs": [
    {
     "name": "stdout",
     "output_type": "stream",
     "text": [
      "              precision    recall  f1-score   support\n",
      "\n",
      "           0       0.51      0.78      0.62       100\n",
      "           1       0.53      0.25      0.34       100\n",
      "\n",
      "    accuracy                           0.52       200\n",
      "   macro avg       0.52      0.52      0.48       200\n",
      "weighted avg       0.52      0.52      0.48       200\n",
      "\n"
     ]
    }
   ],
   "source": [
    "machine_id = \"04\"\n",
    "temp = (\n",
    "    audios_df\n",
    "    .query(\"machine_id == @machine_id and split == 'test'\")\n",
    ")  \n",
    "print(classification_report(temp[\"label\"], temp[\"label_pred\"]))"
   ]
  },
  {
   "cell_type": "code",
   "execution_count": 36,
   "metadata": {},
   "outputs": [
    {
     "name": "stdout",
     "output_type": "stream",
     "text": [
      "[[78 22]\n",
      " [75 25]]\n"
     ]
    }
   ],
   "source": [
    "print(confusion_matrix(temp[\"label\"], temp[\"label_pred\"]))"
   ]
  },
  {
   "cell_type": "code",
   "execution_count": 37,
   "metadata": {},
   "outputs": [
    {
     "name": "stdout",
     "output_type": "stream",
     "text": [
      "ROC-AUC score: 0.5150\n"
     ]
    }
   ],
   "source": [
    "score = roc_auc_score(temp[\"label\"], temp[\"label_pred\"])\n",
    "print(f\"ROC-AUC score: {score:.4f}\")"
   ]
  },
  {
   "cell_type": "markdown",
   "metadata": {},
   "source": [
    "This model is so bad distinguishing sounds for this machine that tossing a coin can predict better. "
   ]
  },
  {
   "cell_type": "markdown",
   "metadata": {},
   "source": [
    "### Machine_id=06"
   ]
  },
  {
   "cell_type": "code",
   "execution_count": 38,
   "metadata": {},
   "outputs": [
    {
     "name": "stdout",
     "output_type": "stream",
     "text": [
      "              precision    recall  f1-score   support\n",
      "\n",
      "           0       0.48      0.74      0.58       100\n",
      "           1       0.47      0.23      0.30       102\n",
      "\n",
      "    accuracy                           0.48       202\n",
      "   macro avg       0.48      0.48      0.44       202\n",
      "weighted avg       0.48      0.48      0.44       202\n",
      "\n"
     ]
    }
   ],
   "source": [
    "machine_id = \"06\"\n",
    "temp = (\n",
    "    audios_df\n",
    "    .query(\"machine_id == @machine_id and split == 'test'\")\n",
    ")  \n",
    "print(classification_report(temp[\"label\"], temp[\"label_pred\"]))"
   ]
  },
  {
   "cell_type": "code",
   "execution_count": 39,
   "metadata": {},
   "outputs": [
    {
     "name": "stdout",
     "output_type": "stream",
     "text": [
      "[[74 26]\n",
      " [79 23]]\n"
     ]
    }
   ],
   "source": [
    "print(confusion_matrix(temp[\"label\"], temp[\"label_pred\"]))"
   ]
  },
  {
   "cell_type": "code",
   "execution_count": 40,
   "metadata": {},
   "outputs": [
    {
     "name": "stdout",
     "output_type": "stream",
     "text": [
      "ROC-AUC score: 0.4827\n"
     ]
    }
   ],
   "source": [
    "score = roc_auc_score(temp[\"label\"], temp[\"label_pred\"])\n",
    "print(f\"ROC-AUC score: {score:.4f}\")"
   ]
  },
  {
   "cell_type": "markdown",
   "metadata": {},
   "source": [
    "This model is so bad distinguishing sounds for this machine that tossing a coin can predict better. "
   ]
  },
  {
   "cell_type": "markdown",
   "metadata": {},
   "source": [
    "## Conclusions"
   ]
  },
  {
   "cell_type": "markdown",
   "metadata": {},
   "source": [
    "Although we tried to copy the model of the paper, metrics are worse."
   ]
  }
 ],
 "metadata": {
  "interpreter": {
   "hash": "57fde4dc6cdb19e1d76ed7331772e4cf7a15b1a70b768f05e2959c60594bd89b"
  },
  "kernelspec": {
   "display_name": "Python 3",
   "language": "python",
   "name": "python3"
  },
  "language_info": {
   "codemirror_mode": {
    "name": "ipython",
    "version": 3
   },
   "file_extension": ".py",
   "mimetype": "text/x-python",
   "name": "python",
   "nbconvert_exporter": "python",
   "pygments_lexer": "ipython3",
   "version": "3.7.10"
  },
  "metadata": {
   "interpreter": {
    "hash": "57fde4dc6cdb19e1d76ed7331772e4cf7a15b1a70b768f05e2959c60594bd89b"
   }
  }
 },
 "nbformat": 4,
 "nbformat_minor": 2
}
