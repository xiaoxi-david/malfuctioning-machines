{
 "cells": [
  {
   "cell_type": "markdown",
   "metadata": {},
   "source": [
    "# Semi-supervised anomaly detection: log mel-spectrogram - model 2"
   ]
  },
  {
   "cell_type": "markdown",
   "metadata": {},
   "source": [
    "This notebook will show to implement in Tensorflow the AE model described in the paper [MIMII Dataset: Sound Dataset for\r\n",
    "Malfunctioning Industrial Machine Investigation and Inspection](https://www.arxiv-vanity.com/papers/1909.09347/)"
   ]
  },
  {
   "cell_type": "markdown",
   "metadata": {},
   "source": [
    "## Libraries"
   ]
  },
  {
   "cell_type": "markdown",
   "metadata": {},
   "source": [
    "Let's load the libraries for this notebook.\r\n",
    "- **Tensorflow dataset** to load the dataset\r\n",
    "- **Tensorflow** to create an AE model\r\n",
    "- **Pandas** to manipulate results\r\n",
    "- **Sklearn** to compute metrics\r\n",
    "- **Plotnine** to plot results"
   ]
  },
  {
   "cell_type": "code",
   "execution_count": 1,
   "metadata": {},
   "outputs": [],
   "source": [
    "import tensorflow_datasets as tfds\r\n",
    "import tensorflow as tf\r\n",
    "\r\n",
    "from tensorflow.keras.layers import (\r\n",
    "    InputLayer,\r\n",
    "    Dense,\r\n",
    ")\r\n",
    "\r\n",
    "from tensorflow.keras import Sequential\r\n",
    "from tensorflow.keras.optimizers import Adam\r\n",
    "from tensorflow.keras.losses import MeanSquaredError\r\n",
    "\r\n",
    "import numpy as np\r\n",
    "import pandas as pd\r\n",
    "\r\n",
    "import sklearn\r\n",
    "from sklearn.metrics import (\r\n",
    "    confusion_matrix, \r\n",
    "    classification_report,\r\n",
    "    roc_auc_score\r\n",
    ")\r\n",
    "\r\n",
    "import plotnine as p9\r\n",
    "\r\n",
    "import datetime\r\n",
    "\r\n",
    "import os\r\n",
    "\r\n",
    "import warnings\r\n",
    "warnings.filterwarnings('ignore')"
   ]
  },
  {
   "cell_type": "code",
   "execution_count": 2,
   "metadata": {},
   "outputs": [
    {
     "name": "stdout",
     "output_type": "stream",
     "text": [
      "Tensorflow datasets: 4.2.0\n",
      "Tensorflow: 2.4.1\n",
      "Sklearn: 0.24.2\n",
      "Numpy: 1.19.5\n",
      "Pandas: 1.2.4\n",
      "Plotnine: 0.8.0\n"
     ]
    }
   ],
   "source": [
    "print(f\"Tensorflow datasets: {tfds.__version__}\")\r\n",
    "print(f\"Tensorflow: {tf.__version__}\")\r\n",
    "print(f\"Sklearn: {sklearn.__version__}\")\r\n",
    "print(f\"Numpy: {np.__version__}\")\r\n",
    "print(f\"Pandas: {pd.__version__}\")\r\n",
    "print(f\"Plotnine: {p9.__version__}\")"
   ]
  },
  {
   "cell_type": "markdown",
   "metadata": {},
   "source": [
    "Let's set the seed for the Tensorflow dataset."
   ]
  },
  {
   "cell_type": "code",
   "execution_count": 3,
   "metadata": {},
   "outputs": [],
   "source": [
    "config = tfds.ReadConfig(try_autocache=True, shuffle_seed=42)"
   ]
  },
  {
   "cell_type": "markdown",
   "metadata": {},
   "source": [
    "## Dataset"
   ]
  },
  {
   "cell_type": "markdown",
   "metadata": {},
   "source": [
    "Let's load the dataset and create three sets (train, validation, test). We make the train set (90%) and validation set (10%) from the train data and the test set from the test data. "
   ]
  },
  {
   "cell_type": "code",
   "execution_count": 4,
   "metadata": {},
   "outputs": [],
   "source": [
    "import pump\n",
    "data_dir = \"../dataset\"\n",
    "\n",
    "(train, val, test), info = tfds.load(\n",
    "    \"pump\",\n",
    "    split=[\"train[:90%]\", \"train[90%:]\", \"test\"],\n",
    "    data_dir=data_dir,\n",
    "    with_info=True,\n",
    "    shuffle_files=True,\n",
    "    read_config=config,\n",
    ")"
   ]
  },
  {
   "cell_type": "markdown",
   "metadata": {},
   "source": [
    "## Feature extraction"
   ]
  },
  {
   "cell_type": "markdown",
   "metadata": {},
   "source": [
    "We will use 64 log mel-band energies from a spectrogram with an analysis frame of 64 ms and 50% hop size. "
   ]
  },
  {
   "cell_type": "code",
   "execution_count": 5,
   "metadata": {},
   "outputs": [],
   "source": [
    "A = tf.signal.linear_to_mel_weight_matrix(\r\n",
    "    num_mel_bins=64, num_spectrogram_bins=512+1, sample_rate=16_000, dtype=tf.float32\r\n",
    ")"
   ]
  },
  {
   "cell_type": "code",
   "execution_count": 6,
   "metadata": {},
   "outputs": [],
   "source": [
    "def mel(item):\r\n",
    "    audio = tf.cast(item[\"audio\"], tf.float32)\r\n",
    "    audio = audio / 2**15\r\n",
    "\r\n",
    "    # Calculate the STFT of the audio signal\r\n",
    "    stfts = tf.signal.stft(\r\n",
    "            audio,\r\n",
    "            frame_length=1024,\r\n",
    "            frame_step=512,\r\n",
    "            pad_end=False,  # librosa test compatibility\r\n",
    "        )\r\n",
    "    # Get Magnitude fo the STFT\r\n",
    "    mag_stfts = tf.abs(stfts)\r\n",
    "\r\n",
    "    # Get the mel-spectrogram\r\n",
    "    melgrams = tf.tensordot(\r\n",
    "            tf.square(mag_stfts), A, axes=1\r\n",
    "    )\r\n",
    "\r\n",
    "    # Change of base for logarithmics: from natural logarithmic to common logarithmic \r\n",
    "    def _tf_log10(x):\r\n",
    "        numerator = tf.math.log(x)\r\n",
    "        denominator = tf.math.log(tf.constant(10, dtype=numerator.dtype))\r\n",
    "        return numerator / denominator\r\n",
    "\r\n",
    "    # Calculate the log-mel spectrogram    \r\n",
    "    log_melgrams = 20 / 2 * _tf_log10(melgrams + 10e-6)\r\n",
    "\r\n",
    "    # Concat 5 time frames together to feed the model\r\n",
    "    concat_melgrams = tf.concat(\r\n",
    "        [\r\n",
    "            tf.roll(log_melgrams, shift=1, axis=0),\r\n",
    "            tf.roll(log_melgrams, shift=2, axis=0),\r\n",
    "            log_melgrams,\r\n",
    "            tf.roll(log_melgrams, shift=-1, axis=0),\r\n",
    "            tf.roll(log_melgrams, shift=-2, axis=0)\r\n",
    "        ],\r\n",
    "        axis=1,\r\n",
    "    )\r\n",
    "    concat_melgrams = concat_melgrams[2:-2,:]\r\n",
    "\r\n",
    "    item[\"audio\"] = concat_melgrams\r\n",
    "    return item"
   ]
  },
  {
   "cell_type": "markdown",
   "metadata": {},
   "source": [
    "Let's prepare the sets for training. AE models need that the input and the output be the same."
   ]
  },
  {
   "cell_type": "code",
   "execution_count": 7,
   "metadata": {},
   "outputs": [],
   "source": [
    "def prep_train(item):\r\n",
    "    return item[\"audio\"], item[\"audio\"]"
   ]
  },
  {
   "cell_type": "code",
   "execution_count": 8,
   "metadata": {},
   "outputs": [],
   "source": [
    "BATCH_SIZE = 512\n",
    "SHUFFLE_BUFFER_SIZE = 1024\n",
    "\n",
    "train = train.map(mel)\n",
    "train2 = train.map(prep_train).batch(BATCH_SIZE)\n",
    "\n",
    "val = train.map(mel)\n",
    "val2 = train.map(prep_train).batch(BATCH_SIZE)\n",
    "\n",
    "test = test.map(mel)\n",
    "test2 = test.batch(BATCH_SIZE)"
   ]
  },
  {
   "cell_type": "markdown",
   "metadata": {},
   "source": [
    "## Training"
   ]
  },
  {
   "cell_type": "markdown",
   "metadata": {},
   "source": [
    "This is the AE model described in the paper [MIMII Dataset: Sound Dataset for\r\n",
    "Malfunctioning Industrial Machine Investigation and Inspection](https://www.arxiv-vanity.com/papers/1909.09347/)"
   ]
  },
  {
   "cell_type": "code",
   "execution_count": 9,
   "metadata": {},
   "outputs": [],
   "source": [
    "autoencoder = Sequential(\r\n",
    "    [\r\n",
    "        InputLayer(input_shape=(307, 320)),\r\n",
    "        Dense(64, activation='relu'),\r\n",
    "        Dense(64, activation='relu'),\r\n",
    "        Dense(8, activation='relu'),\r\n",
    "        Dense(64, activation='relu'),\r\n",
    "        Dense(64, activation='relu'),\r\n",
    "        Dense(320, activation=None)\r\n",
    "    ]\r\n",
    ")"
   ]
  },
  {
   "cell_type": "code",
   "execution_count": 10,
   "metadata": {},
   "outputs": [
    {
     "name": "stdout",
     "output_type": "stream",
     "text": [
      "Model: \"sequential\"\n",
      "_________________________________________________________________\n",
      "Layer (type)                 Output Shape              Param #   \n",
      "=================================================================\n",
      "dense (Dense)                (None, 307, 64)           20544     \n",
      "_________________________________________________________________\n",
      "dense_1 (Dense)              (None, 307, 64)           4160      \n",
      "_________________________________________________________________\n",
      "dense_2 (Dense)              (None, 307, 8)            520       \n",
      "_________________________________________________________________\n",
      "dense_3 (Dense)              (None, 307, 64)           576       \n",
      "_________________________________________________________________\n",
      "dense_4 (Dense)              (None, 307, 64)           4160      \n",
      "_________________________________________________________________\n",
      "dense_5 (Dense)              (None, 307, 320)          20800     \n",
      "=================================================================\n",
      "Total params: 50,760\n",
      "Trainable params: 50,760\n",
      "Non-trainable params: 0\n",
      "_________________________________________________________________\n"
     ]
    }
   ],
   "source": [
    "autoencoder.summary()"
   ]
  },
  {
   "cell_type": "markdown",
   "metadata": {},
   "source": [
    "We use same parameters as the paper."
   ]
  },
  {
   "cell_type": "code",
   "execution_count": 11,
   "metadata": {},
   "outputs": [],
   "source": [
    "autoencoder.compile(optimizer=Adam(learning_rate=0.001), loss=MeanSquaredError())"
   ]
  },
  {
   "cell_type": "markdown",
   "metadata": {},
   "source": [
    "Let's create a Tensorboard callback to check the results in Tensorboard and a ModelCheckpoint callback to save the best model."
   ]
  },
  {
   "cell_type": "code",
   "execution_count": 12,
   "metadata": {},
   "outputs": [],
   "source": [
    "log_dir = os.path.join('..', 'logs', 'semi-mel2', datetime.datetime.now().strftime('%Y%m%d-%H%M%S'))\r\n",
    "tb_callback = tf.keras.callbacks.TensorBoard(\r\n",
    "    log_dir, update_freq=1, histogram_freq=1, write_graph=True\r\n",
    ")"
   ]
  },
  {
   "cell_type": "code",
   "execution_count": 13,
   "metadata": {},
   "outputs": [],
   "source": [
    "checkpoint_filepath = os.path.join(\"tmp\", \"semi-mel2\", \"checkpoint\")\r\n",
    "model_checkpoint_callback = tf.keras.callbacks.ModelCheckpoint(\r\n",
    "    filepath=checkpoint_filepath,\r\n",
    "    save_weights_only=True,\r\n",
    "    monitor='val_loss',\r\n",
    "    mode='min',\r\n",
    "    save_best_only=True)"
   ]
  },
  {
   "cell_type": "code",
   "execution_count": 14,
   "metadata": {},
   "outputs": [
    {
     "name": "stdout",
     "output_type": "stream",
     "text": [
      "Epoch 1/50\n",
      "6/6 [==============================] - 55s 10s/step - loss: 130.8504 - val_loss: 117.5570\n",
      "Epoch 2/50\n",
      "6/6 [==============================] - 52s 10s/step - loss: 110.3534 - val_loss: 83.9491\n",
      "Epoch 3/50\n",
      "6/6 [==============================] - 52s 10s/step - loss: 75.7216 - val_loss: 51.0405\n",
      "Epoch 4/50\n",
      "6/6 [==============================] - 49s 9s/step - loss: 45.5870 - val_loss: 31.4599\n",
      "Epoch 5/50\n",
      "6/6 [==============================] - 50s 9s/step - loss: 28.9180 - val_loss: 22.7894\n",
      "Epoch 6/50\n",
      "6/6 [==============================] - 51s 9s/step - loss: 21.6699 - val_loss: 19.1685\n",
      "Epoch 7/50\n",
      "6/6 [==============================] - 51s 9s/step - loss: 18.6551 - val_loss: 17.7824\n",
      "Epoch 8/50\n",
      "6/6 [==============================] - 53s 10s/step - loss: 17.7109 - val_loss: 17.2379\n",
      "Epoch 9/50\n",
      "6/6 [==============================] - 53s 10s/step - loss: 17.0269 - val_loss: 16.9567\n",
      "Epoch 10/50\n",
      "6/6 [==============================] - 53s 10s/step - loss: 16.7412 - val_loss: 16.7900\n",
      "Epoch 11/50\n",
      "6/6 [==============================] - 54s 10s/step - loss: 16.8424 - val_loss: 16.7160\n",
      "Epoch 12/50\n",
      "6/6 [==============================] - 50s 9s/step - loss: 16.6505 - val_loss: 16.6618\n",
      "Epoch 13/50\n",
      "6/6 [==============================] - 51s 9s/step - loss: 16.6631 - val_loss: 16.6112\n",
      "Epoch 14/50\n",
      "6/6 [==============================] - 51s 9s/step - loss: 16.4764 - val_loss: 16.5706\n",
      "Epoch 15/50\n",
      "6/6 [==============================] - 50s 9s/step - loss: 16.6066 - val_loss: 16.5255\n",
      "Epoch 16/50\n",
      "6/6 [==============================] - 52s 9s/step - loss: 16.4553 - val_loss: 16.4727\n",
      "Epoch 17/50\n",
      "6/6 [==============================] - 52s 10s/step - loss: 16.4531 - val_loss: 16.4085\n",
      "Epoch 18/50\n",
      "6/6 [==============================] - 52s 10s/step - loss: 16.4558 - val_loss: 16.3203\n",
      "Epoch 19/50\n",
      "6/6 [==============================] - 52s 10s/step - loss: 16.3086 - val_loss: 16.1991\n",
      "Epoch 20/50\n",
      "6/6 [==============================] - 52s 9s/step - loss: 16.1156 - val_loss: 16.0361\n",
      "Epoch 21/50\n",
      "6/6 [==============================] - 51s 9s/step - loss: 16.0053 - val_loss: 15.8308\n",
      "Epoch 22/50\n",
      "6/6 [==============================] - 51s 9s/step - loss: 15.6793 - val_loss: 15.6058\n",
      "Epoch 23/50\n",
      "6/6 [==============================] - 52s 9s/step - loss: 15.5591 - val_loss: 15.3907\n",
      "Epoch 24/50\n",
      "6/6 [==============================] - 52s 9s/step - loss: 15.3526 - val_loss: 15.2029\n",
      "Epoch 25/50\n",
      "6/6 [==============================] - 53s 10s/step - loss: 15.2066 - val_loss: 15.0582\n",
      "Epoch 26/50\n",
      "6/6 [==============================] - 54s 10s/step - loss: 15.0620 - val_loss: 14.9543\n",
      "Epoch 27/50\n",
      "6/6 [==============================] - 53s 10s/step - loss: 14.9580 - val_loss: 14.8628\n",
      "Epoch 28/50\n",
      "6/6 [==============================] - 52s 9s/step - loss: 14.8368 - val_loss: 14.8031\n",
      "Epoch 29/50\n",
      "6/6 [==============================] - 39s 7s/step - loss: 14.8407 - val_loss: 14.7361\n",
      "Epoch 30/50\n",
      "6/6 [==============================] - 35s 6s/step - loss: 14.7130 - val_loss: 14.6551\n",
      "Epoch 31/50\n",
      "6/6 [==============================] - 35s 6s/step - loss: 14.6093 - val_loss: 14.5529\n",
      "Epoch 32/50\n",
      "6/6 [==============================] - 35s 6s/step - loss: 14.5343 - val_loss: 14.4467\n",
      "Epoch 33/50\n",
      "6/6 [==============================] - 35s 6s/step - loss: 14.4577 - val_loss: 14.3316\n",
      "Epoch 34/50\n",
      "6/6 [==============================] - 41s 8s/step - loss: 14.3785 - val_loss: 14.2315\n",
      "Epoch 35/50\n",
      "6/6 [==============================] - 35s 6s/step - loss: 14.2693 - val_loss: 14.1512\n",
      "Epoch 36/50\n",
      "6/6 [==============================] - 35s 6s/step - loss: 14.1473 - val_loss: 14.0799\n",
      "Epoch 37/50\n",
      "6/6 [==============================] - 35s 6s/step - loss: 14.1738 - val_loss: 14.0182\n",
      "Epoch 38/50\n",
      "6/6 [==============================] - 39s 7s/step - loss: 14.0109 - val_loss: 13.9529\n",
      "Epoch 39/50\n",
      "6/6 [==============================] - 39s 7s/step - loss: 13.8810 - val_loss: 13.8771\n",
      "Epoch 40/50\n",
      "6/6 [==============================] - 35s 6s/step - loss: 13.8779 - val_loss: 13.7836\n",
      "Epoch 41/50\n",
      "6/6 [==============================] - 35s 6s/step - loss: 13.7391 - val_loss: 13.6744\n",
      "Epoch 42/50\n",
      "6/6 [==============================] - 36s 6s/step - loss: 13.6326 - val_loss: 13.5444\n",
      "Epoch 43/50\n",
      "6/6 [==============================] - 35s 6s/step - loss: 13.5664 - val_loss: 13.4055\n",
      "Epoch 44/50\n",
      "6/6 [==============================] - 36s 6s/step - loss: 13.3888 - val_loss: 13.2679\n",
      "Epoch 45/50\n",
      "6/6 [==============================] - 36s 6s/step - loss: 13.1798 - val_loss: 13.1449\n",
      "Epoch 46/50\n",
      "6/6 [==============================] - 36s 7s/step - loss: 13.1851 - val_loss: 13.0503\n",
      "Epoch 47/50\n",
      "6/6 [==============================] - 37s 7s/step - loss: 13.0084 - val_loss: 12.9733\n",
      "Epoch 48/50\n",
      "6/6 [==============================] - 37s 7s/step - loss: 12.9636 - val_loss: 12.9167\n",
      "Epoch 49/50\n",
      "6/6 [==============================] - 37s 7s/step - loss: 12.9492 - val_loss: 12.8750\n",
      "Epoch 50/50\n",
      "6/6 [==============================] - 36s 6s/step - loss: 12.8786 - val_loss: 12.8419\n"
     ]
    }
   ],
   "source": [
    "history = autoencoder.fit(\r\n",
    "    train2,\r\n",
    "    epochs=50,\r\n",
    "    shuffle=True,\r\n",
    "    validation_data=val2,\r\n",
    "    callbacks=[tb_callback, model_checkpoint_callback],\r\n",
    "    verbose=1,\r\n",
    ")"
   ]
  },
  {
   "cell_type": "markdown",
   "metadata": {},
   "source": [
    "## Testing"
   ]
  },
  {
   "cell_type": "markdown",
   "metadata": {},
   "source": [
    "Let's join train and test set together for faster predictions."
   ]
  },
  {
   "cell_type": "code",
   "execution_count": 15,
   "metadata": {},
   "outputs": [],
   "source": [
    "audios = train.concatenate(test)"
   ]
  },
  {
   "cell_type": "code",
   "execution_count": 16,
   "metadata": {},
   "outputs": [],
   "source": [
    "pred = autoencoder.predict(audios.map(lambda item: item[\"audio\"]).batch(BATCH_SIZE))"
   ]
  },
  {
   "cell_type": "markdown",
   "metadata": {},
   "source": [
    "Let's compute the reconstruction error for all audios."
   ]
  },
  {
   "cell_type": "code",
   "execution_count": 17,
   "metadata": {},
   "outputs": [],
   "source": [
    "error_lst = []\r\n",
    "for item, pred in zip(tfds.as_numpy(audios), pred):\r\n",
    "    error = np.mean(np.square(item[\"audio\"] - pred))\r\n",
    "    error_lst.append(error)"
   ]
  },
  {
   "cell_type": "markdown",
   "metadata": {},
   "source": [
    "To check how the model behaves, we can tranform the Tensorflow dataset into a dataframe and add the previous computed reconstruction error to it."
   ]
  },
  {
   "cell_type": "code",
   "execution_count": 18,
   "metadata": {},
   "outputs": [
    {
     "data": {
      "text/html": "<div>\n<style scoped>\n    .dataframe tbody tr th:only-of-type {\n        vertical-align: middle;\n    }\n\n    .dataframe tbody tr th {\n        vertical-align: top;\n    }\n\n    .dataframe thead th {\n        text-align: right;\n    }\n</style>\n<table border=\"1\" class=\"dataframe\">\n  <thead>\n    <tr style=\"text-align: right;\">\n      <th></th>\n      <th>audio</th>\n      <th>id</th>\n      <th>machine_id</th>\n      <th>split</th>\n      <th>label</th>\n    </tr>\n  </thead>\n  <tbody>\n    <tr>\n      <th>1570</th>\n      <td>[[-3.556941, -10.046806, -4.0233784, -5.850686...</td>\n      <td>0449</td>\n      <td>02</td>\n      <td>0</td>\n      <td>0</td>\n    </tr>\n    <tr>\n      <th>256</th>\n      <td>[[-12.229973, -3.1116858, 0.78803945, -4.23137...</td>\n      <td>0429</td>\n      <td>04</td>\n      <td>0</td>\n      <td>0</td>\n    </tr>\n    <tr>\n      <th>3023</th>\n      <td>[[-15.540577, -8.640378, -9.688185, -9.342045,...</td>\n      <td>0098</td>\n      <td>00</td>\n      <td>1</td>\n      <td>0</td>\n    </tr>\n    <tr>\n      <th>147</th>\n      <td>[[5.5389814, 2.9668143, -2.8833034, -0.7131963...</td>\n      <td>0724</td>\n      <td>00</td>\n      <td>0</td>\n      <td>0</td>\n    </tr>\n    <tr>\n      <th>1167</th>\n      <td>[[-14.932514, -6.6957703, 0.5308838, 2.7300396...</td>\n      <td>0887</td>\n      <td>00</td>\n      <td>0</td>\n      <td>0</td>\n    </tr>\n  </tbody>\n</table>\n</div>",
      "text/plain": "                                                  audio    id machine_id  \\\n1570  [[-3.556941, -10.046806, -4.0233784, -5.850686...  0449         02   \n256   [[-12.229973, -3.1116858, 0.78803945, -4.23137...  0429         04   \n3023  [[-15.540577, -8.640378, -9.688185, -9.342045,...  0098         00   \n147   [[5.5389814, 2.9668143, -2.8833034, -0.7131963...  0724         00   \n1167  [[-14.932514, -6.6957703, 0.5308838, 2.7300396...  0887         00   \n\n     split label  \n1570     0     0  \n256      0     0  \n3023     1     0  \n147      0     0  \n1167     0     0  "
     },
     "execution_count": 18,
     "metadata": {},
     "output_type": "execute_result"
    }
   ],
   "source": [
    "audios_df = tfds.as_dataframe(audios, info)\n",
    "\n",
    "# Convert byte-type texts to string-type texts\n",
    "for col in audios_df:\n",
    "    if isinstance(audios_df[col][0], bytes):\n",
    "        audios_df[col] = audios_df[col].str.decode(\"utf8\")\n",
    "\n",
    "dct_columns = {\n",
    "    \"audio/id\": \"id\", \n",
    "    \"audio/machine\": \"machine_id\", \n",
    "    \"audio/split\": \"split\",\n",
    "}\n",
    "\n",
    "# Convert object-type columns to a more convenient data type\n",
    "dct_types = {\n",
    "    \"id\": \"string\",\n",
    "    \"machine_id\": \"category\",\n",
    "    \"split\": \"category\",\n",
    "    \"label\": \"category\",\n",
    "}\n",
    "\n",
    "audios_df = (\n",
    "    audios_df\n",
    "    .rename(columns=dct_columns)\n",
    "    .astype(dct_types)\n",
    ")\n",
    "\n",
    "audios_df.sample(5)"
   ]
  },
  {
   "cell_type": "code",
   "execution_count": 19,
   "metadata": {},
   "outputs": [],
   "source": [
    "audios_df[\"error\"] = error_lst"
   ]
  },
  {
   "cell_type": "code",
   "execution_count": 20,
   "metadata": {},
   "outputs": [
    {
     "data": {
      "text/html": "<div>\n<style scoped>\n    .dataframe tbody tr th:only-of-type {\n        vertical-align: middle;\n    }\n\n    .dataframe tbody tr th {\n        vertical-align: top;\n    }\n\n    .dataframe thead th {\n        text-align: right;\n    }\n</style>\n<table border=\"1\" class=\"dataframe\">\n  <thead>\n    <tr style=\"text-align: right;\">\n      <th></th>\n      <th>audio</th>\n      <th>id</th>\n      <th>machine_id</th>\n      <th>split</th>\n      <th>label</th>\n      <th>error</th>\n    </tr>\n  </thead>\n  <tbody>\n    <tr>\n      <th>8</th>\n      <td>[[-2.5934253, -5.8448534, -0.25472486, 0.96838...</td>\n      <td>0591</td>\n      <td>02</td>\n      <td>0</td>\n      <td>0</td>\n      <td>22.324446</td>\n    </tr>\n    <tr>\n      <th>1464</th>\n      <td>[[-1.1289089, 1.7798036, -1.743696, -4.5153446...</td>\n      <td>0871</td>\n      <td>02</td>\n      <td>0</td>\n      <td>0</td>\n      <td>35.472057</td>\n    </tr>\n    <tr>\n      <th>3133</th>\n      <td>[[-1.0600116, 1.8603239, -2.8747277, -6.047671...</td>\n      <td>0014</td>\n      <td>00</td>\n      <td>1</td>\n      <td>0</td>\n      <td>27.988899</td>\n    </tr>\n    <tr>\n      <th>1350</th>\n      <td>[[-4.1860347, -5.824897, -18.068216, -15.29117...</td>\n      <td>0550</td>\n      <td>04</td>\n      <td>0</td>\n      <td>0</td>\n      <td>33.881165</td>\n    </tr>\n    <tr>\n      <th>1619</th>\n      <td>[[-4.97328, -2.1126065, -4.842038, -3.5150242,...</td>\n      <td>0473</td>\n      <td>02</td>\n      <td>0</td>\n      <td>0</td>\n      <td>23.904062</td>\n    </tr>\n  </tbody>\n</table>\n</div>",
      "text/plain": "                                                  audio    id machine_id  \\\n8     [[-2.5934253, -5.8448534, -0.25472486, 0.96838...  0591         02   \n1464  [[-1.1289089, 1.7798036, -1.743696, -4.5153446...  0871         02   \n3133  [[-1.0600116, 1.8603239, -2.8747277, -6.047671...  0014         00   \n1350  [[-4.1860347, -5.824897, -18.068216, -15.29117...  0550         04   \n1619  [[-4.97328, -2.1126065, -4.842038, -3.5150242,...  0473         02   \n\n     split label      error  \n8        0     0  22.324446  \n1464     0     0  35.472057  \n3133     1     0  27.988899  \n1350     0     0  33.881165  \n1619     0     0  23.904062  "
     },
     "execution_count": 20,
     "metadata": {},
     "output_type": "execute_result"
    }
   ],
   "source": [
    "audios_df.sample(5)"
   ]
  },
  {
   "cell_type": "markdown",
   "metadata": {},
   "source": [
    "Let's compute the mean and the standard deviation of the reconstruction error of the train set."
   ]
  },
  {
   "cell_type": "code",
   "execution_count": 21,
   "metadata": {},
   "outputs": [
    {
     "data": {
      "text/html": "<div>\n<style scoped>\n    .dataframe tbody tr th:only-of-type {\n        vertical-align: middle;\n    }\n\n    .dataframe tbody tr th {\n        vertical-align: top;\n    }\n\n    .dataframe thead tr th {\n        text-align: left;\n    }\n\n    .dataframe thead tr:last-of-type th {\n        text-align: right;\n    }\n</style>\n<table border=\"1\" class=\"dataframe\">\n  <thead>\n    <tr>\n      <th></th>\n      <th colspan=\"2\" halign=\"left\">error</th>\n    </tr>\n    <tr>\n      <th></th>\n      <th>mean</th>\n      <th>std</th>\n    </tr>\n    <tr>\n      <th>machine_id</th>\n      <th></th>\n      <th></th>\n    </tr>\n  </thead>\n  <tbody>\n    <tr>\n      <th>00</th>\n      <td>27.281505</td>\n      <td>14.076459</td>\n    </tr>\n    <tr>\n      <th>02</th>\n      <td>27.978354</td>\n      <td>15.447013</td>\n    </tr>\n    <tr>\n      <th>04</th>\n      <td>26.869280</td>\n      <td>14.283533</td>\n    </tr>\n    <tr>\n      <th>06</th>\n      <td>27.203599</td>\n      <td>15.052430</td>\n    </tr>\n  </tbody>\n</table>\n</div>",
      "text/plain": "                error           \n                 mean        std\nmachine_id                      \n00          27.281505  14.076459\n02          27.978354  15.447013\n04          26.869280  14.283533\n06          27.203599  15.052430"
     },
     "execution_count": 21,
     "metadata": {},
     "output_type": "execute_result"
    }
   ],
   "source": [
    "(\n",
    "    audios_df\n",
    "    .query(\"split == 0\")\n",
    "    .groupby(\"machine_id\")\n",
    "    .agg({\"error\": [\"mean\", \"std\"]})\n",
    ")"
   ]
  },
  {
   "cell_type": "markdown",
   "metadata": {},
   "source": [
    "Let's compute the mean and the standard deviation of the reconstruction error of the test set."
   ]
  },
  {
   "cell_type": "code",
   "execution_count": 22,
   "metadata": {},
   "outputs": [
    {
     "data": {
      "text/html": "<div>\n<style scoped>\n    .dataframe tbody tr th:only-of-type {\n        vertical-align: middle;\n    }\n\n    .dataframe tbody tr th {\n        vertical-align: top;\n    }\n\n    .dataframe thead tr th {\n        text-align: left;\n    }\n\n    .dataframe thead tr:last-of-type th {\n        text-align: right;\n    }\n</style>\n<table border=\"1\" class=\"dataframe\">\n  <thead>\n    <tr>\n      <th></th>\n      <th></th>\n      <th colspan=\"2\" halign=\"left\">error</th>\n    </tr>\n    <tr>\n      <th></th>\n      <th></th>\n      <th>mean</th>\n      <th>std</th>\n    </tr>\n    <tr>\n      <th>label</th>\n      <th>machine_id</th>\n      <th></th>\n      <th></th>\n    </tr>\n  </thead>\n  <tbody>\n    <tr>\n      <th rowspan=\"4\" valign=\"top\">0</th>\n      <th>00</th>\n      <td>35.308341</td>\n      <td>22.540344</td>\n    </tr>\n    <tr>\n      <th>02</th>\n      <td>32.098102</td>\n      <td>16.751448</td>\n    </tr>\n    <tr>\n      <th>04</th>\n      <td>33.179823</td>\n      <td>15.316982</td>\n    </tr>\n    <tr>\n      <th>06</th>\n      <td>36.700430</td>\n      <td>23.950227</td>\n    </tr>\n    <tr>\n      <th rowspan=\"4\" valign=\"top\">1</th>\n      <th>00</th>\n      <td>37.809625</td>\n      <td>23.451231</td>\n    </tr>\n    <tr>\n      <th>02</th>\n      <td>36.213753</td>\n      <td>25.061969</td>\n    </tr>\n    <tr>\n      <th>04</th>\n      <td>33.083227</td>\n      <td>19.246610</td>\n    </tr>\n    <tr>\n      <th>06</th>\n      <td>32.267794</td>\n      <td>16.443709</td>\n    </tr>\n  </tbody>\n</table>\n</div>",
      "text/plain": "                      error           \n                       mean        std\nlabel machine_id                      \n0     00          35.308341  22.540344\n      02          32.098102  16.751448\n      04          33.179823  15.316982\n      06          36.700430  23.950227\n1     00          37.809625  23.451231\n      02          36.213753  25.061969\n      04          33.083227  19.246610\n      06          32.267794  16.443709"
     },
     "execution_count": 22,
     "metadata": {},
     "output_type": "execute_result"
    }
   ],
   "source": [
    "(\n",
    "    audios_df\n",
    "    .query(\"split == 1\")\n",
    "    .groupby([\"label\", \"machine_id\"])\n",
    "    .agg({\"error\": [\"mean\", \"std\"]})\n",
    ")"
   ]
  },
  {
   "cell_type": "markdown",
   "metadata": {},
   "source": [
    "It seems this model can't distinguish anomaly sound from normal sounds very well.\r\n",
    "\r\n",
    "Let's plot the a histogram of the construction error per machine to see more clear."
   ]
  },
  {
   "cell_type": "code",
   "execution_count": 23,
   "metadata": {},
   "outputs": [
    {
     "data": {
      "image/png": "[encoded data removed]",
      "text/plain": "<Figure size 640x480 with 4 Axes>"
     },
     "metadata": {},
     "output_type": "display_data"
    },
    {
     "name": "stdout",
     "output_type": "stream",
     "text": [
      "\n"
     ]
    }
   ],
   "source": [
    "p = (\n",
    "    p9.ggplot(audios_df.query(\"split == 1\"), p9.aes(x=\"error\", fill=\"label\"))\n",
    "    + p9.geom_histogram(\n",
    "        p9.aes(y=\"stat(count)\"), position=\"identity\", alpha=0.75\n",
    "    )\n",
    "    + p9.scale_x_continuous(name=\"Reconstruction error\")\n",
    "    + p9.scale_y_continuous(name=\"Count\")\n",
    "    + p9.labs(\n",
    "        title=\"Histogram of reconstruction error\",\n",
    "    )\n",
    "    + p9.scale_fill_brewer(type=\"qualitative\", palette=\"Accent\") \n",
    "    + p9.facet_grid(\"machine_id ~ .\", scales=\"free\")\n",
    "    + p9.theme_bw()\n",
    "    + p9.theme(\n",
    "        panel_border=p9.element_rect(colour=\"black\", fill=None, size=0.5),\n",
    "        axis_text_x=p9.element_text(colour=\"black\", size=9),\n",
    "        axis_text_y=p9.element_text(colour=\"black\", size=9),\n",
    "        legend_key=p9.element_blank(),\n",
    "        legend_title=p9.element_blank(),\n",
    "        panel_grid_major=p9.element_line(colour=\"#d3d3d3\"),\n",
    "        panel_grid_minor=p9.element_blank(),\n",
    "        panel_background=p9.element_blank(),\n",
    "        plot_title=p9.element_text(size=14, family=\"Tahoma\", face=\"bold\"),\n",
    "        text=p9.element_text(family=\"Tahoma\"),\n",
    "    )\n",
    ")\n",
    "\n",
    "print(p)"
   ]
  },
  {
   "cell_type": "markdown",
   "metadata": {},
   "source": [
    "Histograms show more clear that the model can't differentiate anomaly audios from normal audio very well."
   ]
  },
  {
   "cell_type": "markdown",
   "metadata": {},
   "source": [
    "This [AWS](https://aws.amazon.com/es/blogs/machine-learning/performing-anomaly-detection-on-industrial-equipment-using-audio-signals/) post shows how the histogram from a good model should look like.\r\n",
    "\r\n",
    "![Better model](https://d2908q01vomqb2.cloudfront.net/f1f836cb4ea6efb2a0b1b99f41ad8b103eff4b59/2020/12/22/ML-1479-4.jpg)"
   ]
  },
  {
   "cell_type": "markdown",
   "metadata": {},
   "source": [
    "## Metrics"
   ]
  },
  {
   "cell_type": "markdown",
   "metadata": {},
   "source": [
    "Let's see how bad our model is. To distinguish anomaly audios from normal audios, we set the threshold one standard deviation above the mean of the train set. "
   ]
  },
  {
   "cell_type": "code",
   "execution_count": 24,
   "metadata": {},
   "outputs": [],
   "source": [
    "avg = (\r\n",
    "    audios_df\r\n",
    "    .query(\"split == 0\")\r\n",
    "    [\"error\"]\r\n",
    "    .mean()\r\n",
    ")\r\n",
    "\r\n",
    "std = (\r\n",
    "    audios_df\r\n",
    "    .query(\"split == 0\")\r\n",
    "    [\"error\"]\r\n",
    "    .std()\r\n",
    ")\r\n",
    "\r\n",
    "threshold = avg + std"
   ]
  },
  {
   "cell_type": "code",
   "execution_count": 25,
   "metadata": {},
   "outputs": [
    {
     "name": "stdout",
     "output_type": "stream",
     "text": [
      "42.13697157438229\n"
     ]
    }
   ],
   "source": [
    "print(threshold)"
   ]
  },
  {
   "cell_type": "markdown",
   "metadata": {},
   "source": [
    "Let's create a new column with the predicted label based on the threshold."
   ]
  },
  {
   "cell_type": "code",
   "execution_count": 26,
   "metadata": {},
   "outputs": [],
   "source": [
    "audios_df[\"label_pred\"] = audios_df[\"error\"] > threshold"
   ]
  },
  {
   "cell_type": "code",
   "execution_count": 27,
   "metadata": {},
   "outputs": [
    {
     "data": {
      "text/html": "<div>\n<style scoped>\n    .dataframe tbody tr th:only-of-type {\n        vertical-align: middle;\n    }\n\n    .dataframe tbody tr th {\n        vertical-align: top;\n    }\n\n    .dataframe thead th {\n        text-align: right;\n    }\n</style>\n<table border=\"1\" class=\"dataframe\">\n  <thead>\n    <tr style=\"text-align: right;\">\n      <th></th>\n      <th>audio</th>\n      <th>id</th>\n      <th>machine_id</th>\n      <th>split</th>\n      <th>label</th>\n      <th>error</th>\n      <th>label_pred</th>\n    </tr>\n  </thead>\n  <tbody>\n    <tr>\n      <th>0</th>\n      <td>[[4.3435826, -1.4703677, -6.8795943, -5.232863...</td>\n      <td>0784</td>\n      <td>06</td>\n      <td>0</td>\n      <td>0</td>\n      <td>20.133316</td>\n      <td>False</td>\n    </tr>\n    <tr>\n      <th>1</th>\n      <td>[[-4.171905, -7.304402, -6.1516943, -0.3673963...</td>\n      <td>0215</td>\n      <td>02</td>\n      <td>0</td>\n      <td>0</td>\n      <td>67.171089</td>\n      <td>True</td>\n    </tr>\n    <tr>\n      <th>2</th>\n      <td>[[-3.672999, -4.516965, 1.8487122, 1.7680111, ...</td>\n      <td>0918</td>\n      <td>06</td>\n      <td>0</td>\n      <td>0</td>\n      <td>17.989687</td>\n      <td>False</td>\n    </tr>\n    <tr>\n      <th>3</th>\n      <td>[[-1.0986718, -0.51198477, 1.760179, -8.916344...</td>\n      <td>0033</td>\n      <td>06</td>\n      <td>0</td>\n      <td>0</td>\n      <td>23.110121</td>\n      <td>False</td>\n    </tr>\n    <tr>\n      <th>4</th>\n      <td>[[-4.7961698, 1.6355705, -0.73018026, -3.11030...</td>\n      <td>0580</td>\n      <td>02</td>\n      <td>0</td>\n      <td>0</td>\n      <td>28.541954</td>\n      <td>False</td>\n    </tr>\n  </tbody>\n</table>\n</div>",
      "text/plain": "                                               audio    id machine_id split  \\\n0  [[4.3435826, -1.4703677, -6.8795943, -5.232863...  0784         06     0   \n1  [[-4.171905, -7.304402, -6.1516943, -0.3673963...  0215         02     0   \n2  [[-3.672999, -4.516965, 1.8487122, 1.7680111, ...  0918         06     0   \n3  [[-1.0986718, -0.51198477, 1.760179, -8.916344...  0033         06     0   \n4  [[-4.7961698, 1.6355705, -0.73018026, -3.11030...  0580         02     0   \n\n  label      error  label_pred  \n0     0  20.133316       False  \n1     0  67.171089        True  \n2     0  17.989687       False  \n3     0  23.110121       False  \n4     0  28.541954       False  "
     },
     "execution_count": 27,
     "metadata": {},
     "output_type": "execute_result"
    }
   ],
   "source": [
    "audios_df.head()"
   ]
  },
  {
   "cell_type": "markdown",
   "metadata": {},
   "source": [
    "Let's show the precision, recall, f1-score and roc-auc score for the four machines."
   ]
  },
  {
   "cell_type": "markdown",
   "metadata": {},
   "source": [
    "### Machine_id=00"
   ]
  },
  {
   "cell_type": "code",
   "execution_count": 28,
   "metadata": {},
   "outputs": [
    {
     "name": "stdout",
     "output_type": "stream",
     "text": [
      "              precision    recall  f1-score   support\n",
      "\n",
      "           0       0.43      0.74      0.54       100\n",
      "           1       0.63      0.31      0.42       143\n",
      "\n",
      "    accuracy                           0.49       243\n",
      "   macro avg       0.53      0.53      0.48       243\n",
      "weighted avg       0.55      0.49      0.47       243\n",
      "\n"
     ]
    }
   ],
   "source": [
    "machine_id = \"00\"\r\n",
    "temp = (\r\n",
    "    audios_df\r\n",
    "    .query(\"machine_id == @machine_id and split == 1\")\r\n",
    ")  \r\n",
    "print(classification_report(temp[\"label\"], temp[\"label_pred\"]))"
   ]
  },
  {
   "cell_type": "code",
   "execution_count": 29,
   "metadata": {},
   "outputs": [
    {
     "name": "stdout",
     "output_type": "stream",
     "text": [
      "[[74 26]\n",
      " [98 45]]\n"
     ]
    }
   ],
   "source": [
    "print(confusion_matrix(temp[\"label\"], temp[\"label_pred\"]))"
   ]
  },
  {
   "cell_type": "code",
   "execution_count": 30,
   "metadata": {},
   "outputs": [
    {
     "name": "stdout",
     "output_type": "stream",
     "text": [
      "ROC-AUC score: 0.5273\n"
     ]
    }
   ],
   "source": [
    "score = roc_auc_score(temp[\"label\"], temp[\"label_pred\"])\r\n",
    "print(f\"ROC-AUC score: {score:.4f}\")"
   ]
  },
  {
   "cell_type": "markdown",
   "metadata": {},
   "source": [
    "This model is slightly better distinguishing sounds for this machine that tossing a coin. "
   ]
  },
  {
   "cell_type": "markdown",
   "metadata": {},
   "source": [
    "### Machine_id=02"
   ]
  },
  {
   "cell_type": "code",
   "execution_count": 31,
   "metadata": {},
   "outputs": [
    {
     "name": "stdout",
     "output_type": "stream",
     "text": [
      "              precision    recall  f1-score   support\n",
      "\n",
      "           0       0.48      0.75      0.58       100\n",
      "           1       0.54      0.26      0.35       111\n",
      "\n",
      "    accuracy                           0.49       211\n",
      "   macro avg       0.51      0.51      0.47       211\n",
      "weighted avg       0.51      0.49      0.46       211\n",
      "\n"
     ]
    }
   ],
   "source": [
    "machine_id = \"02\"\r\n",
    "temp = (\r\n",
    "    audios_df\r\n",
    "    .query(\"machine_id == @machine_id and split == 1\")\r\n",
    ")  \r\n",
    "print(classification_report(temp[\"label\"], temp[\"label_pred\"]))"
   ]
  },
  {
   "cell_type": "code",
   "execution_count": 32,
   "metadata": {},
   "outputs": [
    {
     "name": "stdout",
     "output_type": "stream",
     "text": [
      "[[75 25]\n",
      " [82 29]]\n"
     ]
    }
   ],
   "source": [
    "print(confusion_matrix(temp[\"label\"], temp[\"label_pred\"]))"
   ]
  },
  {
   "cell_type": "code",
   "execution_count": 33,
   "metadata": {},
   "outputs": [
    {
     "name": "stdout",
     "output_type": "stream",
     "text": [
      "ROC-AUC score: 0.5056\n"
     ]
    }
   ],
   "source": [
    "score = roc_auc_score(temp[\"label\"], temp[\"label_pred\"])\r\n",
    "print(f\"ROC-AUC score: {score:.4f}\")"
   ]
  },
  {
   "cell_type": "markdown",
   "metadata": {},
   "source": [
    "This model is slightly better distinguishing sounds for this machine that tossing a coin. "
   ]
  },
  {
   "cell_type": "markdown",
   "metadata": {},
   "source": [
    "### Machine_id=04"
   ]
  },
  {
   "cell_type": "code",
   "execution_count": 34,
   "metadata": {},
   "outputs": [
    {
     "name": "stdout",
     "output_type": "stream",
     "text": [
      "              precision    recall  f1-score   support\n",
      "\n",
      "           0       0.50      0.76      0.60       100\n",
      "           1       0.49      0.23      0.31       100\n",
      "\n",
      "    accuracy                           0.49       200\n",
      "   macro avg       0.49      0.49      0.46       200\n",
      "weighted avg       0.49      0.49      0.46       200\n",
      "\n"
     ]
    }
   ],
   "source": [
    "machine_id = \"04\"\r\n",
    "temp = (\r\n",
    "    audios_df\r\n",
    "    .query(\"machine_id == @machine_id and split == 1\")\r\n",
    ")  \r\n",
    "print(classification_report(temp[\"label\"], temp[\"label_pred\"]))"
   ]
  },
  {
   "cell_type": "code",
   "execution_count": 35,
   "metadata": {},
   "outputs": [
    {
     "name": "stdout",
     "output_type": "stream",
     "text": [
      "[[76 24]\n",
      " [77 23]]\n"
     ]
    }
   ],
   "source": [
    "print(confusion_matrix(temp[\"label\"], temp[\"label_pred\"]))"
   ]
  },
  {
   "cell_type": "code",
   "execution_count": 36,
   "metadata": {},
   "outputs": [
    {
     "name": "stdout",
     "output_type": "stream",
     "text": [
      "ROC-AUC score: 0.4950\n"
     ]
    }
   ],
   "source": [
    "score = roc_auc_score(temp[\"label\"], temp[\"label_pred\"])\r\n",
    "print(f\"ROC-AUC score: {score:.4f}\")"
   ]
  },
  {
   "cell_type": "markdown",
   "metadata": {},
   "source": [
    "This model is so bad distinguishing sounds for this machine that tossing a coin can predict better. "
   ]
  },
  {
   "cell_type": "markdown",
   "metadata": {},
   "source": [
    "### Machine_id=06"
   ]
  },
  {
   "cell_type": "code",
   "execution_count": 37,
   "metadata": {},
   "outputs": [
    {
     "name": "stdout",
     "output_type": "stream",
     "text": [
      "              precision    recall  f1-score   support\n",
      "\n",
      "           0       0.49      0.75      0.59       100\n",
      "           1       0.48      0.23      0.31       102\n",
      "\n",
      "    accuracy                           0.49       202\n",
      "   macro avg       0.48      0.49      0.45       202\n",
      "weighted avg       0.48      0.49      0.45       202\n",
      "\n"
     ]
    }
   ],
   "source": [
    "machine_id = \"06\"\r\n",
    "temp = (\r\n",
    "    audios_df\r\n",
    "    .query(\"machine_id == @machine_id and split == 1\")\r\n",
    ")  \r\n",
    "print(classification_report(temp[\"label\"], temp[\"label_pred\"]))"
   ]
  },
  {
   "cell_type": "code",
   "execution_count": 38,
   "metadata": {},
   "outputs": [
    {
     "name": "stdout",
     "output_type": "stream",
     "text": [
      "[[75 25]\n",
      " [79 23]]\n"
     ]
    }
   ],
   "source": [
    "print(confusion_matrix(temp[\"label\"], temp[\"label_pred\"]))"
   ]
  },
  {
   "cell_type": "code",
   "execution_count": 39,
   "metadata": {},
   "outputs": [
    {
     "name": "stdout",
     "output_type": "stream",
     "text": [
      "ROC-AUC score: 0.4877\n"
     ]
    }
   ],
   "source": [
    "score = roc_auc_score(temp[\"label\"], temp[\"label_pred\"])\r\n",
    "print(f\"ROC-AUC score: {score:.4f}\")"
   ]
  },
  {
   "cell_type": "markdown",
   "metadata": {},
   "source": [
    "This model is so bad distinguishing sounds for this machine that tossing a coin can predict better. "
   ]
  },
  {
   "cell_type": "markdown",
   "metadata": {},
   "source": [
    "## Conclusions"
   ]
  },
  {
   "cell_type": "markdown",
   "metadata": {},
   "source": [
    "Although we tried to copy the model of the paper, metrics are worse."
   ]
  }
 ],
 "metadata": {
  "interpreter": {
   "hash": "57fde4dc6cdb19e1d76ed7331772e4cf7a15b1a70b768f05e2959c60594bd89b"
  },
  "kernelspec": {
   "display_name": "Python 3.7.10 64-bit ('tfm': conda)",
   "name": "python3"
  },
  "language_info": {
   "name": "python",
   "version": ""
  },
  "metadata": {
   "interpreter": {
    "hash": "57fde4dc6cdb19e1d76ed7331772e4cf7a15b1a70b768f05e2959c60594bd89b"
   }
  }
 },
 "nbformat": 4,
 "nbformat_minor": 2
}