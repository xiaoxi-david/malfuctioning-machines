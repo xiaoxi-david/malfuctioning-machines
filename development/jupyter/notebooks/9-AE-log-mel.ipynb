{
 "cells": [
  {
   "cell_type": "markdown",
   "metadata": {},
   "source": [
    "# Semi-supervised anomaly detection: log mel-spectrogram - model 2"
   ]
  },
  {
   "cell_type": "markdown",
   "metadata": {},
   "source": [
    "This notebook will show to implement in Tensorflow the AE model described in the paper [MIMII Dataset: Sound Dataset for\n",
    "Malfunctioning Industrial Machine Investigation and Inspection](https://www.arxiv-vanity.com/papers/1909.09347/)"
   ]
  },
  {
   "cell_type": "markdown",
   "metadata": {},
   "source": [
    "## Libraries"
   ]
  },
  {
   "cell_type": "markdown",
   "metadata": {},
   "source": [
    "Let's load the libraries for this notebook.\n",
    "- **Tensorflow dataset** to load the dataset\n",
    "- **Tensorflow** to create an AE model\n",
    "- **Pandas** to manipulate results\n",
    "- **Sklearn** to compute metrics\n",
    "- **Plotnine** to plot results"
   ]
  },
  {
   "cell_type": "code",
   "execution_count": 2,
   "metadata": {},
   "outputs": [],
   "source": [
    "import tensorflow_datasets as tfds\n",
    "import tensorflow as tf\n",
    "\n",
    "from tensorflow.keras.layers import (\n",
    "    InputLayer,\n",
    "    Dense,\n",
    ")\n",
    "\n",
    "from tensorflow.keras import Sequential\n",
    "from tensorflow.keras.optimizers import Adam\n",
    "from tensorflow.keras.losses import MeanSquaredError\n",
    "\n",
    "import numpy as np\n",
    "import pandas as pd\n",
    "\n",
    "import sklearn\n",
    "from sklearn.metrics import (\n",
    "    confusion_matrix, \n",
    "    classification_report,\n",
    "    roc_auc_score\n",
    ")\n",
    "\n",
    "import plotnine as p9\n",
    "\n",
    "import datetime\n",
    "\n",
    "import os\n",
    "\n",
    "import warnings\n",
    "warnings.filterwarnings('ignore')"
   ]
  },
  {
   "cell_type": "code",
   "execution_count": 3,
   "metadata": {},
   "outputs": [
    {
     "name": "stdout",
     "output_type": "stream",
     "text": [
      "Tensorflow datasets: 4.2.0\n",
      "Tensorflow: 2.4.1\n",
      "Sklearn: 0.24.2\n",
      "Numpy: 1.19.5\n",
      "Pandas: 1.2.4\n",
      "Plotnine: 0.8.0\n"
     ]
    }
   ],
   "source": [
    "print(f\"Tensorflow datasets: {tfds.__version__}\")\n",
    "print(f\"Tensorflow: {tf.__version__}\")\n",
    "print(f\"Sklearn: {sklearn.__version__}\")\n",
    "print(f\"Numpy: {np.__version__}\")\n",
    "print(f\"Pandas: {pd.__version__}\")\n",
    "print(f\"Plotnine: {p9.__version__}\")"
   ]
  },
  {
   "cell_type": "markdown",
   "metadata": {},
   "source": [
    "Let's set the seed for the Tensorflow dataset."
   ]
  },
  {
   "cell_type": "code",
   "execution_count": 4,
   "metadata": {},
   "outputs": [],
   "source": [
    "config = tfds.ReadConfig(try_autocache=True, shuffle_seed=42)"
   ]
  },
  {
   "cell_type": "markdown",
   "metadata": {},
   "source": [
    "## Dataset"
   ]
  },
  {
   "cell_type": "markdown",
   "metadata": {},
   "source": [
    "Let's load the dataset and create three sets (train, validation, test). We make the train set (90%) and validation set (10%) from the train data and the test set from the test data. "
   ]
  },
  {
   "cell_type": "code",
   "execution_count": 5,
   "metadata": {},
   "outputs": [],
   "source": [
    "import pump\n",
    "data_dir = \"../dataset\"\n",
    "\n",
    "(train, val, test), info = tfds.load(\n",
    "    \"pump\",\n",
    "    split=[\"train[:90%]\", \"train[90%:]\", \"test\"],\n",
    "    data_dir=data_dir,\n",
    "    with_info=True,\n",
    "    shuffle_files=True,\n",
    "    read_config=config,\n",
    ")"
   ]
  },
  {
   "cell_type": "markdown",
   "metadata": {},
   "source": [
    "## Feature extraction"
   ]
  },
  {
   "cell_type": "markdown",
   "metadata": {},
   "source": [
    "We will use 64 log mel-band energies from a spectrogram with an analysis frame of 64 ms and 50% hop size. "
   ]
  },
  {
   "cell_type": "code",
   "execution_count": 6,
   "metadata": {},
   "outputs": [],
   "source": [
    "A = tf.signal.linear_to_mel_weight_matrix(\n",
    "    num_mel_bins=64, num_spectrogram_bins=512+1, sample_rate=16_000, dtype=tf.float32\n",
    ")"
   ]
  },
  {
   "cell_type": "code",
   "execution_count": 7,
   "metadata": {},
   "outputs": [],
   "source": [
    "def mel(item):\n",
    "    audio = tf.cast(item[\"audio\"], tf.float32)\n",
    "    audio = audio / 2**15\n",
    "\n",
    "    # Calculate the STFT of the audio signal\n",
    "    stfts = tf.signal.stft(\n",
    "            audio,\n",
    "            frame_length=1024,\n",
    "            frame_step=512,\n",
    "            pad_end=False,  # librosa test compatibility\n",
    "        )\n",
    "    # Get Magnitude fo the STFT\n",
    "    mag_stfts = tf.abs(stfts)\n",
    "\n",
    "    # Get the mel-spectrogram\n",
    "    melgrams = tf.tensordot(\n",
    "            tf.square(mag_stfts), A, axes=1\n",
    "    )\n",
    "\n",
    "    # Change of base for logarithmics: from natural logarithmic to common logarithmic \n",
    "    def _tf_log10(x):\n",
    "        numerator = tf.math.log(x)\n",
    "        denominator = tf.math.log(tf.constant(10, dtype=numerator.dtype))\n",
    "        return numerator / denominator\n",
    "\n",
    "    # Calculate the log-mel spectrogram    \n",
    "    log_melgrams = 20 / 2 * _tf_log10(melgrams + 10e-6)\n",
    "\n",
    "    # Concat 5 time frames together to feed the model\n",
    "    concat_melgrams = tf.concat(\n",
    "        [\n",
    "            tf.roll(log_melgrams, shift=1, axis=0),\n",
    "            tf.roll(log_melgrams, shift=2, axis=0),\n",
    "            log_melgrams,\n",
    "            tf.roll(log_melgrams, shift=-1, axis=0),\n",
    "            tf.roll(log_melgrams, shift=-2, axis=0)\n",
    "        ],\n",
    "        axis=1,\n",
    "    )\n",
    "    concat_melgrams = concat_melgrams[2:-2,:]\n",
    "\n",
    "    item[\"audio\"] = concat_melgrams\n",
    "    return item"
   ]
  },
  {
   "cell_type": "markdown",
   "metadata": {},
   "source": [
    "Let's prepare the sets for training. AE models need that the input and the output be the same."
   ]
  },
  {
   "cell_type": "code",
   "execution_count": 8,
   "metadata": {},
   "outputs": [],
   "source": [
    "def prep_train(item):\n",
    "    return item[\"audio\"], item[\"audio\"]"
   ]
  },
  {
   "cell_type": "code",
   "execution_count": 9,
   "metadata": {},
   "outputs": [],
   "source": [
    "BATCH_SIZE = 512\n",
    "SHUFFLE_BUFFER_SIZE = 1024\n",
    "\n",
    "train = train.map(mel)\n",
    "train2 = train.map(prep_train).batch(BATCH_SIZE)\n",
    "\n",
    "val = train.map(mel)\n",
    "val2 = train.map(prep_train).batch(BATCH_SIZE)\n",
    "\n",
    "test = test.map(mel)\n",
    "test2 = test.batch(BATCH_SIZE)"
   ]
  },
  {
   "cell_type": "markdown",
   "metadata": {},
   "source": [
    "## Training"
   ]
  },
  {
   "cell_type": "markdown",
   "metadata": {},
   "source": [
    "This is the AE model described in the paper [MIMII Dataset: Sound Dataset for\n",
    "Malfunctioning Industrial Machine Investigation and Inspection](https://www.arxiv-vanity.com/papers/1909.09347/)"
   ]
  },
  {
   "cell_type": "code",
   "execution_count": 10,
   "metadata": {},
   "outputs": [],
   "source": [
    "autoencoder = Sequential(\n",
    "    [\n",
    "        InputLayer(input_shape=(307, 320)),\n",
    "        Dense(64, activation='relu'),\n",
    "        Dense(64, activation='relu'),\n",
    "        Dense(8, activation='relu'),\n",
    "        Dense(64, activation='relu'),\n",
    "        Dense(64, activation='relu'),\n",
    "        Dense(320, activation=None)\n",
    "    ]\n",
    ")"
   ]
  },
  {
   "cell_type": "code",
   "execution_count": 11,
   "metadata": {},
   "outputs": [
    {
     "name": "stdout",
     "output_type": "stream",
     "text": [
      "Model: \"sequential\"\n",
      "_________________________________________________________________\n",
      "Layer (type)                 Output Shape              Param #   \n",
      "=================================================================\n",
      "dense (Dense)                (None, 307, 64)           20544     \n",
      "_________________________________________________________________\n",
      "dense_1 (Dense)              (None, 307, 64)           4160      \n",
      "_________________________________________________________________\n",
      "dense_2 (Dense)              (None, 307, 8)            520       \n",
      "_________________________________________________________________\n",
      "dense_3 (Dense)              (None, 307, 64)           576       \n",
      "_________________________________________________________________\n",
      "dense_4 (Dense)              (None, 307, 64)           4160      \n",
      "_________________________________________________________________\n",
      "dense_5 (Dense)              (None, 307, 320)          20800     \n",
      "=================================================================\n",
      "Total params: 50,760\n",
      "Trainable params: 50,760\n",
      "Non-trainable params: 0\n",
      "_________________________________________________________________\n"
     ]
    }
   ],
   "source": [
    "autoencoder.summary()"
   ]
  },
  {
   "cell_type": "markdown",
   "metadata": {},
   "source": [
    "We use same parameters as the paper."
   ]
  },
  {
   "cell_type": "code",
   "execution_count": 12,
   "metadata": {},
   "outputs": [],
   "source": [
    "autoencoder.compile(optimizer=Adam(learning_rate=0.001), loss=MeanSquaredError())"
   ]
  },
  {
   "cell_type": "markdown",
   "metadata": {},
   "source": [
    "Let's create a Tensorboard callback to check the results in Tensorboard and a ModelCheckpoint callback to save the best model."
   ]
  },
  {
   "cell_type": "code",
   "execution_count": 13,
   "metadata": {},
   "outputs": [],
   "source": [
    "log_dir = os.path.join('..', 'logs', 'semi-mel2', datetime.datetime.now().strftime('%Y%m%d-%H%M%S'))\n",
    "tb_callback = tf.keras.callbacks.TensorBoard(\n",
    "    log_dir, update_freq=1, histogram_freq=1, write_graph=True\n",
    ")"
   ]
  },
  {
   "cell_type": "code",
   "execution_count": 14,
   "metadata": {},
   "outputs": [],
   "source": [
    "checkpoint_filepath = os.path.join(\"tmp\", \"semi-mel2\", \"checkpoint\")\n",
    "model_checkpoint_callback = tf.keras.callbacks.ModelCheckpoint(\n",
    "    filepath=checkpoint_filepath,\n",
    "    save_weights_only=True,\n",
    "    monitor='val_loss',\n",
    "    mode='min',\n",
    "    save_best_only=True)"
   ]
  },
  {
   "cell_type": "code",
   "execution_count": 15,
   "metadata": {},
   "outputs": [
    {
     "name": "stdout",
     "output_type": "stream",
     "text": [
      "Epoch 1/50\n",
      "6/6 [==============================] - 37s 7s/step - loss: 131.5260 - val_loss: 124.3305\n",
      "Epoch 2/50\n",
      "6/6 [==============================] - 35s 6s/step - loss: 118.6004 - val_loss: 91.6566\n",
      "Epoch 3/50\n",
      "6/6 [==============================] - 35s 6s/step - loss: 84.3889 - val_loss: 60.1496\n",
      "Epoch 4/50\n",
      "6/6 [==============================] - 35s 6s/step - loss: 53.3748 - val_loss: 36.2654\n",
      "Epoch 5/50\n",
      "6/6 [==============================] - 35s 6s/step - loss: 32.8922 - val_loss: 25.0411\n",
      "Epoch 6/50\n",
      "6/6 [==============================] - 34s 6s/step - loss: 23.5036 - val_loss: 20.3421\n",
      "Epoch 7/50\n",
      "6/6 [==============================] - 34s 6s/step - loss: 19.6969 - val_loss: 18.4068\n",
      "Epoch 8/50\n",
      "6/6 [==============================] - 34s 6s/step - loss: 18.2528 - val_loss: 17.5049\n",
      "Epoch 9/50\n",
      "6/6 [==============================] - 34s 6s/step - loss: 17.2564 - val_loss: 17.0637\n",
      "Epoch 10/50\n",
      "6/6 [==============================] - 34s 6s/step - loss: 16.8216 - val_loss: 16.8417\n",
      "Epoch 11/50\n",
      "6/6 [==============================] - 34s 6s/step - loss: 16.8811 - val_loss: 16.7383\n",
      "Epoch 12/50\n",
      "6/6 [==============================] - 34s 6s/step - loss: 16.6733 - val_loss: 16.6928\n",
      "Epoch 13/50\n",
      "6/6 [==============================] - 35s 6s/step - loss: 16.7000 - val_loss: 16.6611\n",
      "Epoch 14/50\n",
      "6/6 [==============================] - 35s 6s/step - loss: 16.5295 - val_loss: 16.6377\n",
      "Epoch 15/50\n",
      "6/6 [==============================] - 35s 6s/step - loss: 16.6803 - val_loss: 16.6222\n",
      "Epoch 16/50\n",
      "6/6 [==============================] - 35s 6s/step - loss: 16.5601 - val_loss: 16.6118\n",
      "Epoch 17/50\n",
      "6/6 [==============================] - 34s 6s/step - loss: 16.6041 - val_loss: 16.6033\n",
      "Epoch 18/50\n",
      "6/6 [==============================] - 35s 6s/step - loss: 16.6687 - val_loss: 16.5969\n",
      "Epoch 19/50\n",
      "6/6 [==============================] - 35s 6s/step - loss: 16.6132 - val_loss: 16.5905\n",
      "Epoch 20/50\n",
      "6/6 [==============================] - 35s 6s/step - loss: 16.5314 - val_loss: 16.5825\n",
      "Epoch 21/50\n",
      "6/6 [==============================] - 35s 6s/step - loss: 16.5803 - val_loss: 16.5745\n",
      "Epoch 22/50\n",
      "6/6 [==============================] - 38s 7s/step - loss: 16.4399 - val_loss: 16.5647\n",
      "Epoch 23/50\n",
      "6/6 [==============================] - 37s 7s/step - loss: 16.5333 - val_loss: 16.5525\n",
      "Epoch 24/50\n",
      "6/6 [==============================] - 35s 6s/step - loss: 16.5217 - val_loss: 16.5355\n",
      "Epoch 25/50\n",
      "6/6 [==============================] - 35s 6s/step - loss: 16.5303 - val_loss: 16.5028\n",
      "Epoch 26/50\n",
      "6/6 [==============================] - 35s 6s/step - loss: 16.5181 - val_loss: 16.4239\n",
      "Epoch 27/50\n",
      "6/6 [==============================] - 35s 6s/step - loss: 16.4393 - val_loss: 16.2650\n",
      "Epoch 28/50\n",
      "6/6 [==============================] - 35s 6s/step - loss: 16.1936 - val_loss: 15.9584\n",
      "Epoch 29/50\n",
      "6/6 [==============================] - 35s 6s/step - loss: 15.9065 - val_loss: 15.5734\n",
      "Epoch 30/50\n",
      "6/6 [==============================] - 35s 6s/step - loss: 15.4642 - val_loss: 15.2343\n",
      "Epoch 31/50\n",
      "6/6 [==============================] - 35s 6s/step - loss: 15.1528 - val_loss: 15.0254\n",
      "Epoch 32/50\n",
      "6/6 [==============================] - 35s 6s/step - loss: 14.9969 - val_loss: 14.9090\n",
      "Epoch 33/50\n",
      "6/6 [==============================] - 36s 7s/step - loss: 14.9175 - val_loss: 14.8093\n",
      "Epoch 34/50\n",
      "6/6 [==============================] - 36s 6s/step - loss: 14.8643 - val_loss: 14.7221\n",
      "Epoch 35/50\n",
      "6/6 [==============================] - 36s 6s/step - loss: 14.7617 - val_loss: 14.6432\n",
      "Epoch 36/50\n",
      "6/6 [==============================] - 36s 6s/step - loss: 14.6367 - val_loss: 14.5608\n",
      "Epoch 37/50\n",
      "6/6 [==============================] - 36s 6s/step - loss: 14.6572 - val_loss: 14.4736\n",
      "Epoch 38/50\n",
      "6/6 [==============================] - 35s 6s/step - loss: 14.4556 - val_loss: 14.3792\n",
      "Epoch 39/50\n",
      "6/6 [==============================] - 35s 6s/step - loss: 14.3011 - val_loss: 14.2802\n",
      "Epoch 40/50\n",
      "6/6 [==============================] - 35s 6s/step - loss: 14.2718 - val_loss: 14.1796\n",
      "Epoch 41/50\n",
      "6/6 [==============================] - 35s 6s/step - loss: 14.1343 - val_loss: 14.0809\n",
      "Epoch 42/50\n",
      "6/6 [==============================] - 35s 6s/step - loss: 14.0557 - val_loss: 13.9904\n",
      "Epoch 43/50\n",
      "6/6 [==============================] - 35s 6s/step - loss: 14.0089 - val_loss: 13.8908\n",
      "Epoch 44/50\n",
      "6/6 [==============================] - 35s 6s/step - loss: 13.8663 - val_loss: 13.7734\n",
      "Epoch 45/50\n",
      "6/6 [==============================] - 35s 6s/step - loss: 13.6684 - val_loss: 13.6250\n",
      "Epoch 46/50\n",
      "6/6 [==============================] - 35s 6s/step - loss: 13.6636 - val_loss: 13.4570\n",
      "Epoch 47/50\n",
      "6/6 [==============================] - 35s 6s/step - loss: 13.3979 - val_loss: 13.3019\n",
      "Epoch 48/50\n",
      "6/6 [==============================] - 35s 6s/step - loss: 13.2625 - val_loss: 13.1725\n",
      "Epoch 49/50\n",
      "6/6 [==============================] - 35s 6s/step - loss: 13.1819 - val_loss: 13.0664\n",
      "Epoch 50/50\n",
      "6/6 [==============================] - 35s 6s/step - loss: 13.0448 - val_loss: 12.9854\n"
     ]
    }
   ],
   "source": [
    "history = autoencoder.fit(\n",
    "    train2,\n",
    "    epochs=50,\n",
    "    shuffle=True,\n",
    "    validation_data=val2,\n",
    "    callbacks=[tb_callback, model_checkpoint_callback],\n",
    "    verbose=1,\n",
    ")"
   ]
  },
  {
   "cell_type": "markdown",
   "metadata": {},
   "source": [
    "## Testing"
   ]
  },
  {
   "cell_type": "code",
   "execution_count": 44,
   "metadata": {},
   "outputs": [
    {
     "data": {
      "text/plain": "<tensorflow.python.training.tracking.util.CheckpointLoadStatus at 0x1f939afa148>"
     },
     "execution_count": 44,
     "metadata": {},
     "output_type": "execute_result"
    }
   ],
   "source": [
    "autoencoder.load_weights(checkpoint_filepath)"
   ]
  },
  {
   "cell_type": "code",
   "execution_count": 45,
   "metadata": {},
   "outputs": [
    {
     "name": "stdout",
     "output_type": "stream",
     "text": [
      "INFO:tensorflow:Assets written to: ..\\..\\..\\production\\backend\\models\\mel2\\1\\assets\n"
     ]
    },
    {
     "name": "stderr",
     "output_type": "stream",
     "text": [
      "INFO:tensorflow:Assets written to: ..\\..\\..\\production\\backend\\models\\mel2\\1\\assets\n"
     ]
    }
   ],
   "source": [
    "VERSION=\"1\"\r\n",
    "saved_model_path = autoencoder.save(\r\n",
    "    os.path.join(\"..\", \"..\", \"..\", \"production\", \"backend\", \"models\", \"mel2\", VERSION),\r\n",
    "    save_format=\"tf\",\r\n",
    ")"
   ]
  },
  {
   "cell_type": "markdown",
   "metadata": {},
   "source": [
    "Let's join train and test set together for faster predictions."
   ]
  },
  {
   "cell_type": "code",
   "execution_count": 46,
   "metadata": {},
   "outputs": [],
   "source": [
    "audios = train.concatenate(test)"
   ]
  },
  {
   "cell_type": "code",
   "execution_count": 47,
   "metadata": {},
   "outputs": [],
   "source": [
    "pred = autoencoder.predict(audios.map(lambda item: item[\"audio\"]).batch(BATCH_SIZE))"
   ]
  },
  {
   "cell_type": "markdown",
   "metadata": {},
   "source": [
    "Let's compute the reconstruction error for all audios."
   ]
  },
  {
   "cell_type": "code",
   "execution_count": 48,
   "metadata": {},
   "outputs": [],
   "source": [
    "error_lst = []\n",
    "for item, pred in zip(tfds.as_numpy(audios), pred):\n",
    "    error = np.mean(np.square(item[\"audio\"] - pred))\n",
    "    error_lst.append(error)"
   ]
  },
  {
   "cell_type": "markdown",
   "metadata": {},
   "source": [
    "To check how the model behaves, we can tranform the Tensorflow dataset into a dataframe and add the previous computed reconstruction error to it."
   ]
  },
  {
   "cell_type": "code",
   "execution_count": 49,
   "metadata": {},
   "outputs": [],
   "source": [
    "audios_df = tfds.as_dataframe(audios, info)\n",
    "\n",
    "# Convert byte-type texts to string-type texts\n",
    "for col in audios_df:\n",
    "    if isinstance(audios_df[col][0], bytes):\n",
    "        audios_df[col] = audios_df[col].str.decode(\"utf8\")\n",
    "\n",
    "dct_columns = {\n",
    "    \"audio/id\": \"id\", \n",
    "    \"audio/machine\": \"machine_id\", \n",
    "    \"audio/split\": \"split\",\n",
    "}\n",
    "\n",
    "# Convert object-type columns to a more convenient data type\n",
    "dct_types = {\n",
    "    \"id\": \"string\",\n",
    "    \"machine_id\": \"category\",\n",
    "    \"split\": \"category\",\n",
    "    \"label\": \"category\",\n",
    "}\n",
    "\n",
    "audios_df = (\n",
    "    audios_df\n",
    "    .rename(columns=dct_columns)\n",
    "    .astype(dct_types)\n",
    ")\n",
    "\n",
    "audios_df[\"split\"] = audios_df[\"split\"].cat.rename_categories({0: \"train\", 1: \"test\"})\n",
    "audios_df[\"label\"] = audios_df[\"label\"].cat.rename_categories({0: \"normal\", 1: \"anomaly\"})\n",
    "\n",
    "audios_df.sample(5)"
   ]
  },
  {
   "cell_type": "code",
   "execution_count": 50,
   "metadata": {},
   "outputs": [
    {
     "data": {
      "text/html": "<div>\n<style scoped>\n    .dataframe tbody tr th:only-of-type {\n        vertical-align: middle;\n    }\n\n    .dataframe tbody tr th {\n        vertical-align: top;\n    }\n\n    .dataframe thead th {\n        text-align: right;\n    }\n</style>\n<table border=\"1\" class=\"dataframe\">\n  <thead>\n    <tr style=\"text-align: right;\">\n      <th></th>\n      <th>audio</th>\n      <th>id</th>\n      <th>machine_id</th>\n      <th>split</th>\n      <th>label</th>\n    </tr>\n  </thead>\n  <tbody>\n    <tr>\n      <th>3529</th>\n      <td>[[-1.1623789, 1.3479097, -2.1374764, -3.346869...</td>\n      <td>0029</td>\n      <td>04</td>\n      <td>test</td>\n      <td>normal</td>\n    </tr>\n    <tr>\n      <th>540</th>\n      <td>[[0.70172435, -2.8372908, -3.9320188, -3.99027...</td>\n      <td>0209</td>\n      <td>04</td>\n      <td>train</td>\n      <td>normal</td>\n    </tr>\n    <tr>\n      <th>3546</th>\n      <td>[[-6.183357, -2.5788953, -0.7882048, -2.315836...</td>\n      <td>0044</td>\n      <td>04</td>\n      <td>test</td>\n      <td>anomaly</td>\n    </tr>\n    <tr>\n      <th>1516</th>\n      <td>[[-4.244346, -3.504946, -1.8163147, -6.0503874...</td>\n      <td>0326</td>\n      <td>02</td>\n      <td>train</td>\n      <td>normal</td>\n    </tr>\n    <tr>\n      <th>3480</th>\n      <td>[[-2.301365, 0.40528092, 0.32432023, -3.027490...</td>\n      <td>0069</td>\n      <td>02</td>\n      <td>test</td>\n      <td>anomaly</td>\n    </tr>\n  </tbody>\n</table>\n</div>",
      "text/plain": "                                                  audio    id machine_id  \\\n3529  [[-1.1623789, 1.3479097, -2.1374764, -3.346869...  0029         04   \n540   [[0.70172435, -2.8372908, -3.9320188, -3.99027...  0209         04   \n3546  [[-6.183357, -2.5788953, -0.7882048, -2.315836...  0044         04   \n1516  [[-4.244346, -3.504946, -1.8163147, -6.0503874...  0326         02   \n3480  [[-2.301365, 0.40528092, 0.32432023, -3.027490...  0069         02   \n\n      split    label  \n3529   test   normal  \n540   train   normal  \n3546   test  anomaly  \n1516  train   normal  \n3480   test  anomaly  "
     },
     "execution_count": 49,
     "metadata": {},
     "output_type": "execute_result"
    }
   ],
   "source": [
    "audios_df[\"error\"] = error_lst"
   ]
  },
  {
   "cell_type": "code",
   "execution_count": 51,
   "metadata": {},
   "outputs": [
    {
     "data": {
      "text/html": "<div>\n<style scoped>\n    .dataframe tbody tr th:only-of-type {\n        vertical-align: middle;\n    }\n\n    .dataframe tbody tr th {\n        vertical-align: top;\n    }\n\n    .dataframe thead th {\n        text-align: right;\n    }\n</style>\n<table border=\"1\" class=\"dataframe\">\n  <thead>\n    <tr style=\"text-align: right;\">\n      <th></th>\n      <th>audio</th>\n      <th>id</th>\n      <th>machine_id</th>\n      <th>split</th>\n      <th>label</th>\n      <th>error</th>\n    </tr>\n  </thead>\n  <tbody>\n    <tr>\n      <th>2741</th>\n      <td>[[3.3571997, 0.516589, -3.018223, 2.5505614, -...</td>\n      <td>0670</td>\n      <td>00</td>\n      <td>train</td>\n      <td>normal</td>\n      <td>26.291147</td>\n    </tr>\n    <tr>\n      <th>2595</th>\n      <td>[[1.4216573, -8.550894, -3.7455986, -3.610457,...</td>\n      <td>0618</td>\n      <td>00</td>\n      <td>train</td>\n      <td>normal</td>\n      <td>30.211065</td>\n    </tr>\n    <tr>\n      <th>1507</th>\n      <td>[[-11.695938, -9.718228, -4.644026, -4.6665306...</td>\n      <td>0049</td>\n      <td>04</td>\n      <td>train</td>\n      <td>normal</td>\n      <td>9.294355</td>\n    </tr>\n    <tr>\n      <th>2128</th>\n      <td>[[-2.1655934, -3.5943105, -7.217829, -5.506896...</td>\n      <td>0119</td>\n      <td>02</td>\n      <td>train</td>\n      <td>normal</td>\n      <td>30.726698</td>\n    </tr>\n    <tr>\n      <th>2052</th>\n      <td>[[-10.242925, -9.562217, -13.214911, -7.074456...</td>\n      <td>0689</td>\n      <td>00</td>\n      <td>train</td>\n      <td>normal</td>\n      <td>24.325224</td>\n    </tr>\n  </tbody>\n</table>\n</div>",
      "text/plain": "                                                  audio    id machine_id  \\\n2741  [[3.3571997, 0.516589, -3.018223, 2.5505614, -...  0670         00   \n2595  [[1.4216573, -8.550894, -3.7455986, -3.610457,...  0618         00   \n1507  [[-11.695938, -9.718228, -4.644026, -4.6665306...  0049         04   \n2128  [[-2.1655934, -3.5943105, -7.217829, -5.506896...  0119         02   \n2052  [[-10.242925, -9.562217, -13.214911, -7.074456...  0689         00   \n\n      split   label      error  \n2741  train  normal  26.291147  \n2595  train  normal  30.211065  \n1507  train  normal   9.294355  \n2128  train  normal  30.726698  \n2052  train  normal  24.325224  "
     },
     "execution_count": 51,
     "metadata": {},
     "output_type": "execute_result"
    }
   ],
   "source": [
    "audios_df.sample(5)"
   ]
  },
  {
   "cell_type": "markdown",
   "metadata": {},
   "source": [
    "Let's compute the mean and the standard deviation of the reconstruction error of the train set."
   ]
  },
  {
   "cell_type": "code",
   "execution_count": 52,
   "metadata": {},
   "outputs": [
    {
     "data": {
      "text/html": "<div>\n<style scoped>\n    .dataframe tbody tr th:only-of-type {\n        vertical-align: middle;\n    }\n\n    .dataframe tbody tr th {\n        vertical-align: top;\n    }\n\n    .dataframe thead tr th {\n        text-align: left;\n    }\n\n    .dataframe thead tr:last-of-type th {\n        text-align: right;\n    }\n</style>\n<table border=\"1\" class=\"dataframe\">\n  <thead>\n    <tr>\n      <th></th>\n      <th colspan=\"2\" halign=\"left\">error</th>\n    </tr>\n    <tr>\n      <th></th>\n      <th>mean</th>\n      <th>std</th>\n    </tr>\n    <tr>\n      <th>machine_id</th>\n      <th></th>\n      <th></th>\n    </tr>\n  </thead>\n  <tbody>\n    <tr>\n      <th>00</th>\n      <td>27.623725</td>\n      <td>16.880158</td>\n    </tr>\n    <tr>\n      <th>02</th>\n      <td>28.280608</td>\n      <td>16.451567</td>\n    </tr>\n    <tr>\n      <th>04</th>\n      <td>27.400117</td>\n      <td>15.035054</td>\n    </tr>\n    <tr>\n      <th>06</th>\n      <td>27.932139</td>\n      <td>15.279758</td>\n    </tr>\n  </tbody>\n</table>\n</div>",
      "text/plain": "                error           \n                 mean        std\nmachine_id                      \n00          27.623725  16.880158\n02          28.280608  16.451567\n04          27.400117  15.035054\n06          27.932139  15.279758"
     },
     "execution_count": 52,
     "metadata": {},
     "output_type": "execute_result"
    }
   ],
   "source": [
    "(\n",
    "    audios_df\n",
    "    .query(\"split == 'train'\")\n",
    "    .groupby(\"machine_id\")\n",
    "    .agg({\"error\": [\"mean\", \"std\"]})\n",
    ")"
   ]
  },
  {
   "cell_type": "markdown",
   "metadata": {},
   "source": [
    "Let's compute the mean and the standard deviation of the reconstruction error of the test set."
   ]
  },
  {
   "cell_type": "code",
   "execution_count": 53,
   "metadata": {},
   "outputs": [
    {
     "data": {
      "text/html": "<div>\n<style scoped>\n    .dataframe tbody tr th:only-of-type {\n        vertical-align: middle;\n    }\n\n    .dataframe tbody tr th {\n        vertical-align: top;\n    }\n\n    .dataframe thead tr th {\n        text-align: left;\n    }\n\n    .dataframe thead tr:last-of-type th {\n        text-align: right;\n    }\n</style>\n<table border=\"1\" class=\"dataframe\">\n  <thead>\n    <tr>\n      <th></th>\n      <th></th>\n      <th colspan=\"2\" halign=\"left\">error</th>\n    </tr>\n    <tr>\n      <th></th>\n      <th></th>\n      <th>mean</th>\n      <th>std</th>\n    </tr>\n    <tr>\n      <th>label</th>\n      <th>machine_id</th>\n      <th></th>\n      <th></th>\n    </tr>\n  </thead>\n  <tbody>\n    <tr>\n      <th rowspan=\"4\" valign=\"top\">normal</th>\n      <th>00</th>\n      <td>31.841238</td>\n      <td>22.761163</td>\n    </tr>\n    <tr>\n      <th>02</th>\n      <td>28.729560</td>\n      <td>16.376651</td>\n    </tr>\n    <tr>\n      <th>04</th>\n      <td>29.844615</td>\n      <td>17.800294</td>\n    </tr>\n    <tr>\n      <th>06</th>\n      <td>31.837210</td>\n      <td>18.220654</td>\n    </tr>\n    <tr>\n      <th rowspan=\"4\" valign=\"top\">anomaly</th>\n      <th>00</th>\n      <td>36.568466</td>\n      <td>21.687862</td>\n    </tr>\n    <tr>\n      <th>02</th>\n      <td>33.552183</td>\n      <td>24.828593</td>\n    </tr>\n    <tr>\n      <th>04</th>\n      <td>30.780051</td>\n      <td>18.901578</td>\n    </tr>\n    <tr>\n      <th>06</th>\n      <td>30.030023</td>\n      <td>16.999487</td>\n    </tr>\n  </tbody>\n</table>\n</div>",
      "text/plain": "                        error           \n                         mean        std\nlabel   machine_id                      \nnormal  00          31.841238  22.761163\n        02          28.729560  16.376651\n        04          29.844615  17.800294\n        06          31.837210  18.220654\nanomaly 00          36.568466  21.687862\n        02          33.552183  24.828593\n        04          30.780051  18.901578\n        06          30.030023  16.999487"
     },
     "execution_count": 53,
     "metadata": {},
     "output_type": "execute_result"
    }
   ],
   "source": [
    "(\n",
    "    audios_df\n",
    "    .query(\"split == 'test'\")\n",
    "    .groupby([\"label\", \"machine_id\"])\n",
    "    .agg({\"error\": [\"mean\", \"std\"]})\n",
    ")"
   ]
  },
  {
   "cell_type": "markdown",
   "metadata": {},
   "source": [
    "It seems this model can't distinguish anomaly sound from normal sounds very well.\n",
    "\n",
    "Let's plot the a histogram of the construction error per machine to see more clear."
   ]
  },
  {
   "cell_type": "code",
   "execution_count": 54,
   "metadata": {},
   "outputs": [
    {
     "data": {
      "image/png": "[encoded data removed]",
      "text/plain": "<Figure size 640x480 with 4 Axes>"
     },
     "metadata": {},
     "output_type": "display_data"
    },
    {
     "name": "stdout",
     "output_type": "stream",
     "text": [
      "\n"
     ]
    }
   ],
   "source": [
    "p = (\n",
    "    p9.ggplot(audios_df.query(\"split == 'test'\"), p9.aes(x=\"error\", fill=\"label\"))\n",
    "    + p9.geom_histogram(\n",
    "        p9.aes(y=\"stat(count)\"), position=\"identity\", alpha=0.75\n",
    "    )\n",
    "    + p9.scale_x_continuous(name=\"Testing reconstruction error\")\n",
    "    + p9.scale_y_continuous(name=\"Number samples\")\n",
    "    + p9.labs(\n",
    "        title=\"Reconstruction error distributions\",\n",
    "    )\n",
    "    + p9.scale_fill_brewer(type=\"qualitative\", palette=\"Accent\") \n",
    "    + p9.facet_grid(\"machine_id ~ .\", scales=\"free\")\n",
    "    + p9.theme_bw()\n",
    "    + p9.theme(\n",
    "        panel_border=p9.element_rect(colour=\"black\", fill=None, size=0.5),\n",
    "        axis_text_x=p9.element_text(colour=\"black\", size=9),\n",
    "        axis_text_y=p9.element_text(colour=\"black\", size=9),\n",
    "        legend_key=p9.element_blank(),\n",
    "        legend_title=p9.element_blank(),\n",
    "        panel_grid_major=p9.element_line(colour=\"#d3d3d3\"),\n",
    "        panel_grid_minor=p9.element_blank(),\n",
    "        panel_background=p9.element_blank(),\n",
    "        plot_title=p9.element_text(size=14, family=\"Tahoma\", face=\"bold\"),\n",
    "        text=p9.element_text(family=\"Tahoma\"),\n",
    "    )\n",
    ")\n",
    "\n",
    "print(p)"
   ]
  },
  {
   "cell_type": "markdown",
   "metadata": {},
   "source": [
    "Histograms show more clear that the model can't differentiate anomaly audios from normal audio very well."
   ]
  },
  {
   "cell_type": "markdown",
   "metadata": {},
   "source": [
    "This [AWS](https://aws.amazon.com/es/blogs/machine-learning/performing-anomaly-detection-on-industrial-equipment-using-audio-signals/) post shows how the histogram from a good model should look like.\n",
    "\n",
    "![Better model](https://d2908q01vomqb2.cloudfront.net/f1f836cb4ea6efb2a0b1b99f41ad8b103eff4b59/2020/12/22/ML-1479-4.jpg)"
   ]
  },
  {
   "cell_type": "markdown",
   "metadata": {},
   "source": [
    "## Metrics"
   ]
  },
  {
   "cell_type": "markdown",
   "metadata": {},
   "source": [
    "Let's see how bad our model is. To distinguish anomaly audios from normal audios, we set the threshold one standard deviation above the mean of the train set. "
   ]
  },
  {
   "cell_type": "code",
   "execution_count": 55,
   "metadata": {},
   "outputs": [],
   "source": [
    "avg = (\n",
    "    audios_df\n",
    "    .query(\"split == 'train'\")\n",
    "    [\"error\"]\n",
    "    .mean()\n",
    ")\n",
    "\n",
    "std = (\n",
    "    audios_df\n",
    "    .query(\"split == 'train'\")\n",
    "    [\"error\"]\n",
    "    .std()\n",
    ")\n",
    "\n",
    "threshold = avg + std"
   ]
  },
  {
   "cell_type": "code",
   "execution_count": 56,
   "metadata": {},
   "outputs": [
    {
     "name": "stdout",
     "output_type": "stream",
     "text": [
      "43.852141731951406\n"
     ]
    }
   ],
   "source": [
    "print(threshold)"
   ]
  },
  {
   "cell_type": "markdown",
   "metadata": {},
   "source": [
    "Let's create a new column with the predicted label based on the threshold."
   ]
  },
  {
   "cell_type": "code",
   "execution_count": 57,
   "metadata": {},
   "outputs": [],
   "source": [
    "audios_df[\"label_pred\"] = audios_df[\"error\"] > threshold"
   ]
  },
  {
   "cell_type": "code",
   "execution_count": 58,
   "metadata": {},
   "outputs": [
    {
     "data": {
      "text/html": "<div>\n<style scoped>\n    .dataframe tbody tr th:only-of-type {\n        vertical-align: middle;\n    }\n\n    .dataframe tbody tr th {\n        vertical-align: top;\n    }\n\n    .dataframe thead th {\n        text-align: right;\n    }\n</style>\n<table border=\"1\" class=\"dataframe\">\n  <thead>\n    <tr style=\"text-align: right;\">\n      <th></th>\n      <th>audio</th>\n      <th>id</th>\n      <th>machine_id</th>\n      <th>split</th>\n      <th>label</th>\n      <th>error</th>\n      <th>label_pred</th>\n    </tr>\n  </thead>\n  <tbody>\n    <tr>\n      <th>0</th>\n      <td>[[-2.7215207, 2.083169, 0.12187265, 1.1148239,...</td>\n      <td>0811</td>\n      <td>02</td>\n      <td>train</td>\n      <td>normal</td>\n      <td>25.931948</td>\n      <td>False</td>\n    </tr>\n    <tr>\n      <th>1</th>\n      <td>[[2.2777703, 0.44747186, -5.78151, -13.740477,...</td>\n      <td>0144</td>\n      <td>00</td>\n      <td>train</td>\n      <td>normal</td>\n      <td>11.265621</td>\n      <td>False</td>\n    </tr>\n    <tr>\n      <th>2</th>\n      <td>[[-8.147932, 3.0302932, 3.3327494, -2.8137136,...</td>\n      <td>0773</td>\n      <td>06</td>\n      <td>train</td>\n      <td>normal</td>\n      <td>15.062402</td>\n      <td>False</td>\n    </tr>\n    <tr>\n      <th>3</th>\n      <td>[[1.5884889, 2.7002306, -0.03556317, -3.426373...</td>\n      <td>0425</td>\n      <td>02</td>\n      <td>train</td>\n      <td>normal</td>\n      <td>33.704685</td>\n      <td>False</td>\n    </tr>\n    <tr>\n      <th>4</th>\n      <td>[[1.4445103, -4.519986, -8.349353, -5.5056186,...</td>\n      <td>0191</td>\n      <td>04</td>\n      <td>train</td>\n      <td>normal</td>\n      <td>24.302830</td>\n      <td>False</td>\n    </tr>\n  </tbody>\n</table>\n</div>",
      "text/plain": "                                               audio    id machine_id  split  \\\n0  [[-2.7215207, 2.083169, 0.12187265, 1.1148239,...  0811         02  train   \n1  [[2.2777703, 0.44747186, -5.78151, -13.740477,...  0144         00  train   \n2  [[-8.147932, 3.0302932, 3.3327494, -2.8137136,...  0773         06  train   \n3  [[1.5884889, 2.7002306, -0.03556317, -3.426373...  0425         02  train   \n4  [[1.4445103, -4.519986, -8.349353, -5.5056186,...  0191         04  train   \n\n    label      error  label_pred  \n0  normal  25.931948       False  \n1  normal  11.265621       False  \n2  normal  15.062402       False  \n3  normal  33.704685       False  \n4  normal  24.302830       False  "
     },
     "execution_count": 58,
     "metadata": {},
     "output_type": "execute_result"
    }
   ],
   "source": [
    "audios_df.head()"
   ]
  },
  {
   "cell_type": "markdown",
   "metadata": {},
   "source": [
    "Let's show the precision, recall, f1-score and roc-auc score for the four machines."
   ]
  },
  {
   "cell_type": "code",
   "execution_count": 59,
   "metadata": {},
   "outputs": [],
   "source": [
    "audios_df[\"label\"] = audios_df[\"label\"].cat.rename_categories({\"normal\": 0, \"anomaly\": 1})"
   ]
  },
  {
   "cell_type": "markdown",
   "metadata": {},
   "source": [
    "### Machine_id=00"
   ]
  },
  {
   "cell_type": "code",
   "execution_count": 60,
   "metadata": {},
   "outputs": [
    {
     "name": "stdout",
     "output_type": "stream",
     "text": [
      "              precision    recall  f1-score   support\n",
      "\n",
      "           0       0.44      0.78      0.57       100\n",
      "           1       0.67      0.31      0.43       143\n",
      "\n",
      "    accuracy                           0.51       243\n",
      "   macro avg       0.56      0.55      0.50       243\n",
      "weighted avg       0.58      0.51      0.48       243\n",
      "\n"
     ]
    }
   ],
   "source": [
    "machine_id = \"00\"\n",
    "temp = (\n",
    "    audios_df\n",
    "    .query(\"machine_id == @machine_id and split == 'test'\")\n",
    ")  \n",
    "print(classification_report(temp[\"label\"], temp[\"label_pred\"]))"
   ]
  },
  {
   "cell_type": "code",
   "execution_count": 61,
   "metadata": {},
   "outputs": [
    {
     "name": "stdout",
     "output_type": "stream",
     "text": [
      "[[78 22]\n",
      " [98 45]]\n"
     ]
    }
   ],
   "source": [
    "print(confusion_matrix(temp[\"label\"], temp[\"label_pred\"]))"
   ]
  },
  {
   "cell_type": "code",
   "execution_count": 62,
   "metadata": {},
   "outputs": [
    {
     "name": "stdout",
     "output_type": "stream",
     "text": [
      "ROC-AUC score: 0.5473\n"
     ]
    }
   ],
   "source": [
    "score = roc_auc_score(temp[\"label\"], temp[\"label_pred\"])\n",
    "print(f\"ROC-AUC score: {score:.4f}\")"
   ]
  },
  {
   "cell_type": "markdown",
   "metadata": {},
   "source": [
    "This model is slightly better distinguishing sounds for this machine that tossing a coin. "
   ]
  },
  {
   "cell_type": "markdown",
   "metadata": {},
   "source": [
    "### Machine_id=02"
   ]
  },
  {
   "cell_type": "code",
   "execution_count": 63,
   "metadata": {},
   "outputs": [
    {
     "name": "stdout",
     "output_type": "stream",
     "text": [
      "              precision    recall  f1-score   support\n",
      "\n",
      "           0       0.49      0.81      0.61       100\n",
      "           1       0.59      0.24      0.34       111\n",
      "\n",
      "    accuracy                           0.51       211\n",
      "   macro avg       0.54      0.53      0.48       211\n",
      "weighted avg       0.54      0.51      0.47       211\n",
      "\n"
     ]
    }
   ],
   "source": [
    "machine_id = \"02\"\n",
    "temp = (\n",
    "    audios_df\n",
    "    .query(\"machine_id == @machine_id and split == 'test'\")\n",
    ")  \n",
    "print(classification_report(temp[\"label\"], temp[\"label_pred\"]))"
   ]
  },
  {
   "cell_type": "code",
   "execution_count": 64,
   "metadata": {},
   "outputs": [
    {
     "name": "stdout",
     "output_type": "stream",
     "text": [
      "[[81 19]\n",
      " [84 27]]\n"
     ]
    }
   ],
   "source": [
    "print(confusion_matrix(temp[\"label\"], temp[\"label_pred\"]))"
   ]
  },
  {
   "cell_type": "code",
   "execution_count": 65,
   "metadata": {},
   "outputs": [
    {
     "name": "stdout",
     "output_type": "stream",
     "text": [
      "ROC-AUC score: 0.5266\n"
     ]
    }
   ],
   "source": [
    "score = roc_auc_score(temp[\"label\"], temp[\"label_pred\"])\n",
    "print(f\"ROC-AUC score: {score:.4f}\")"
   ]
  },
  {
   "cell_type": "markdown",
   "metadata": {},
   "source": [
    "This model is slightly better distinguishing sounds for this machine that tossing a coin. "
   ]
  },
  {
   "cell_type": "markdown",
   "metadata": {},
   "source": [
    "### Machine_id=04"
   ]
  },
  {
   "cell_type": "code",
   "execution_count": 66,
   "metadata": {},
   "outputs": [
    {
     "name": "stdout",
     "output_type": "stream",
     "text": [
      "              precision    recall  f1-score   support\n",
      "\n",
      "           0       0.49      0.82      0.61       100\n",
      "           1       0.45      0.15      0.23       100\n",
      "\n",
      "    accuracy                           0.48       200\n",
      "   macro avg       0.47      0.48      0.42       200\n",
      "weighted avg       0.47      0.48      0.42       200\n",
      "\n"
     ]
    }
   ],
   "source": [
    "machine_id = \"04\"\n",
    "temp = (\n",
    "    audios_df\n",
    "    .query(\"machine_id == @machine_id and split == 'test'\")\n",
    ")  \n",
    "print(classification_report(temp[\"label\"], temp[\"label_pred\"]))"
   ]
  },
  {
   "cell_type": "code",
   "execution_count": 67,
   "metadata": {},
   "outputs": [
    {
     "name": "stdout",
     "output_type": "stream",
     "text": [
      "[[82 18]\n",
      " [85 15]]\n"
     ]
    }
   ],
   "source": [
    "print(confusion_matrix(temp[\"label\"], temp[\"label_pred\"]))"
   ]
  },
  {
   "cell_type": "code",
   "execution_count": 68,
   "metadata": {},
   "outputs": [
    {
     "name": "stdout",
     "output_type": "stream",
     "text": [
      "ROC-AUC score: 0.4850\n"
     ]
    }
   ],
   "source": [
    "score = roc_auc_score(temp[\"label\"], temp[\"label_pred\"])\n",
    "print(f\"ROC-AUC score: {score:.4f}\")"
   ]
  },
  {
   "cell_type": "markdown",
   "metadata": {},
   "source": [
    "This model is so bad distinguishing sounds for this machine that tossing a coin can predict better. "
   ]
  },
  {
   "cell_type": "markdown",
   "metadata": {},
   "source": [
    "### Machine_id=06"
   ]
  },
  {
   "cell_type": "code",
   "execution_count": 69,
   "metadata": {},
   "outputs": [
    {
     "name": "stdout",
     "output_type": "stream",
     "text": [
      "              precision    recall  f1-score   support\n",
      "\n",
      "           0       0.49      0.77      0.60       100\n",
      "           1       0.49      0.22      0.30       102\n",
      "\n",
      "    accuracy                           0.49       202\n",
      "   macro avg       0.49      0.49      0.45       202\n",
      "weighted avg       0.49      0.49      0.45       202\n",
      "\n"
     ]
    }
   ],
   "source": [
    "machine_id = \"06\"\n",
    "temp = (\n",
    "    audios_df\n",
    "    .query(\"machine_id == @machine_id and split == 'test'\")\n",
    ")  \n",
    "print(classification_report(temp[\"label\"], temp[\"label_pred\"]))"
   ]
  },
  {
   "cell_type": "code",
   "execution_count": 70,
   "metadata": {},
   "outputs": [
    {
     "name": "stdout",
     "output_type": "stream",
     "text": [
      "[[77 23]\n",
      " [80 22]]\n"
     ]
    }
   ],
   "source": [
    "print(confusion_matrix(temp[\"label\"], temp[\"label_pred\"]))"
   ]
  },
  {
   "cell_type": "code",
   "execution_count": 71,
   "metadata": {},
   "outputs": [
    {
     "name": "stdout",
     "output_type": "stream",
     "text": [
      "ROC-AUC score: 0.4928\n"
     ]
    }
   ],
   "source": [
    "score = roc_auc_score(temp[\"label\"], temp[\"label_pred\"])\n",
    "print(f\"ROC-AUC score: {score:.4f}\")"
   ]
  },
  {
   "cell_type": "markdown",
   "metadata": {},
   "source": [
    "This model is so bad distinguishing sounds for this machine that tossing a coin can predict better. "
   ]
  },
  {
   "cell_type": "markdown",
   "metadata": {},
   "source": [
    "## Conclusions"
   ]
  },
  {
   "cell_type": "markdown",
   "metadata": {},
   "source": [
    "Although we tried to copy the model of the paper, metrics are worse."
   ]
  }
 ],
 "metadata": {
  "interpreter": {
   "hash": "57fde4dc6cdb19e1d76ed7331772e4cf7a15b1a70b768f05e2959c60594bd89b"
  },
  "kernelspec": {
   "display_name": "Python 3.7.10 64-bit ('tfm': conda)",
   "name": "python3"
  },
  "language_info": {
   "name": "python",
   "version": ""
  },
  "metadata": {
   "interpreter": {
    "hash": "57fde4dc6cdb19e1d76ed7331772e4cf7a15b1a70b768f05e2959c60594bd89b"
   }
  }
 },
 "nbformat": 4,
 "nbformat_minor": 2
}