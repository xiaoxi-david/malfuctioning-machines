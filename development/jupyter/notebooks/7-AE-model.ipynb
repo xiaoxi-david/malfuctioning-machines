{
 "cells": [
  {
   "cell_type": "markdown",
   "metadata": {},
   "source": [
    "# Semi-supervised anomaly detection - Spectral centroid"
   ]
  },
  {
   "cell_type": "markdown",
   "metadata": {},
   "source": [
    "This notebook will show how to create an AE model with the [spectral centroid](https://en.wikipedia.org/wiki/Spectral_centroid) of the audio samples. Although most AE models for audios use 2D audio features (spectrogram, mel-spectrogram...), 1D audio features can be used too."
   ]
  },
  {
   "cell_type": "markdown",
   "metadata": {},
   "source": [
    "## Libraries"
   ]
  },
  {
   "cell_type": "markdown",
   "metadata": {},
   "source": [
    "Let's load the libraries for this notebook.\n",
    "- **Tensorflow dataset** to load the dataset\n",
    "- **Tensorflow** to create an AE model\n",
    "- **Pandas** to manipulate results\n",
    "- **Sklearn** to compute metrics\n",
    "- **Plotnine** to plot results"
   ]
  },
  {
   "cell_type": "code",
   "execution_count": 1,
   "metadata": {},
   "outputs": [],
   "source": [
    "import tensorflow_datasets as tfds\n",
    "import tensorflow as tf\n",
    "\n",
    "from tensorflow.keras.layers import (\n",
    "    InputLayer,\n",
    "    Dense,\n",
    "    BatchNormalization,\n",
    "    Activation,\n",
    "\n",
    ")\n",
    "from tensorflow.keras import Sequential\n",
    "\n",
    "import numpy as np\n",
    "import pandas as pd\n",
    "\n",
    "import sklearn\n",
    "from sklearn.metrics import (\n",
    "    confusion_matrix, \n",
    "    classification_report,\n",
    "    roc_auc_score\n",
    ")\n",
    "\n",
    "import plotnine as p9\n",
    "\n",
    "import datetime\n",
    "\n",
    "import os\n",
    "\n",
    "import warnings\n",
    "warnings.filterwarnings('ignore')"
   ]
  },
  {
   "cell_type": "code",
   "execution_count": 2,
   "metadata": {},
   "outputs": [
    {
     "name": "stdout",
     "output_type": "stream",
     "text": [
      "Tensorflow datasets: 4.2.0\n",
      "Tensorflow: 2.4.1\n",
      "Sklearn: 0.24.2\n",
      "Numpy: 1.19.5\n",
      "Pandas: 1.2.4\n",
      "Plotnine: 0.8.0\n"
     ]
    }
   ],
   "source": [
    "print(f\"Tensorflow datasets: {tfds.__version__}\")\n",
    "print(f\"Tensorflow: {tf.__version__}\")\n",
    "print(f\"Sklearn: {sklearn.__version__}\")\n",
    "print(f\"Numpy: {np.__version__}\")\n",
    "print(f\"Pandas: {pd.__version__}\")\n",
    "print(f\"Plotnine: {p9.__version__}\")"
   ]
  },
  {
   "cell_type": "markdown",
   "metadata": {},
   "source": [
    "Let's set the seed for the Tensorflow dataset."
   ]
  },
  {
   "cell_type": "code",
   "execution_count": 3,
   "metadata": {},
   "outputs": [],
   "source": [
    "config = tfds.ReadConfig(try_autocache=True, shuffle_seed=42)"
   ]
  },
  {
   "cell_type": "markdown",
   "metadata": {},
   "source": [
    "## Dataset"
   ]
  },
  {
   "cell_type": "markdown",
   "metadata": {},
   "source": [
    "Let's load the dataset and create three sets (train, validation, test). We make the train set (90%) and validation set (10%) from the train data and the test set from the test data. "
   ]
  },
  {
   "cell_type": "code",
   "execution_count": 4,
   "metadata": {},
   "outputs": [],
   "source": [
    "import pump\n",
    "data_dir = \"../dataset\"\n",
    "\n",
    "(train, val, test), info = tfds.load(\n",
    "    \"pump\",\n",
    "    split=[\"train[:90%]\", \"train[90%:]\", \"test\"],\n",
    "    data_dir=data_dir,\n",
    "    with_info=True,\n",
    "    shuffle_files=True,\n",
    "    read_config=config,\n",
    ")"
   ]
  },
  {
   "cell_type": "markdown",
   "metadata": {},
   "source": [
    "## Feature extraction"
   ]
  },
  {
   "cell_type": "markdown",
   "metadata": {},
   "source": [
    "Let's extract the audio feature for the AE model.\n",
    "\n",
    "To get the spectral centroid of the audios, we need to:\n",
    "- Calculate the magnitude from the STFT of the audio sample with an analysis frame of 64ms and 50% hop size.\n",
    "- Calculate the spectral centroid:\n",
    "\n",
    "![spectral centroid](https://wikimedia.org/api/rest_v1/media/math/render/svg/0a62c839a6ceafd854138264d81b2986d8cdaff1)"
   ]
  },
  {
   "cell_type": "code",
   "execution_count": 5,
   "metadata": {},
   "outputs": [],
   "source": [
    "def spectral_centroid(item):\n",
    "    audio = tf.cast(item[\"audio\"], dtype = tf.float32)\n",
    "    audio = audio / 2**15\n",
    "    audio = tf.signal.stft(audio, frame_length=1024, frame_step=512)\n",
    "    audio = tf.abs(audio)\n",
    "    freqs = tf.constant(np.arange(0,513), dtype=audio.dtype)\n",
    "    item[\"audio\"] = tf.reduce_sum(audio * freqs, axis=1) / tf.reduce_sum(audio, axis=1)\n",
    "    return item"
   ]
  },
  {
   "cell_type": "markdown",
   "metadata": {},
   "source": [
    "Let's prepare the sets for training. AE models need that the input and the output be the same."
   ]
  },
  {
   "cell_type": "code",
   "execution_count": 6,
   "metadata": {},
   "outputs": [],
   "source": [
    "def prep_train(item):\n",
    "    return item[\"audio\"], item[\"audio\"]"
   ]
  },
  {
   "cell_type": "code",
   "execution_count": 7,
   "metadata": {},
   "outputs": [],
   "source": [
    "BATCH_SIZE = 256\n",
    "SHUFFLE_BUFFER_SIZE = 1024\n",
    "\n",
    "train = train.map(spectral_centroid)\n",
    "train2 = train.map(prep_train).batch(BATCH_SIZE)\n",
    "\n",
    "val = train.map(spectral_centroid)\n",
    "val2 = train.map(prep_train).batch(BATCH_SIZE)\n",
    "\n",
    "test = test.map(spectral_centroid)\n",
    "test2 = test.batch(BATCH_SIZE)"
   ]
  },
  {
   "cell_type": "markdown",
   "metadata": {},
   "source": [
    "## Training"
   ]
  },
  {
   "cell_type": "markdown",
   "metadata": {},
   "source": [
    "Let's create an simple AE model. \n",
    "\n",
    "![AE model](https://d1jnx9ba8s6j9r.cloudfront.net/blog/wp-content/uploads/2018/10/Autoencoders-528x265.png)"
   ]
  },
  {
   "cell_type": "code",
   "execution_count": 8,
   "metadata": {},
   "outputs": [
    {
     "name": "stdout",
     "output_type": "stream",
     "text": [
      "Model: \"sequential\"\n",
      "_________________________________________________________________\n",
      "Layer (type)                 Output Shape              Param #   \n",
      "=================================================================\n",
      "batch_normalization (BatchNo (None, 311)               1244      \n",
      "_________________________________________________________________\n",
      "dense (Dense)                (None, 128)               39936     \n",
      "_________________________________________________________________\n",
      "batch_normalization_1 (Batch (None, 128)               512       \n",
      "_________________________________________________________________\n",
      "activation (Activation)      (None, 128)               0         \n",
      "_________________________________________________________________\n",
      "dense_1 (Dense)              (None, 32)                4128      \n",
      "_________________________________________________________________\n",
      "batch_normalization_2 (Batch (None, 32)                128       \n",
      "_________________________________________________________________\n",
      "activation_1 (Activation)    (None, 32)                0         \n",
      "_________________________________________________________________\n",
      "dense_2 (Dense)              (None, 8)                 264       \n",
      "_________________________________________________________________\n",
      "batch_normalization_3 (Batch (None, 8)                 32        \n",
      "_________________________________________________________________\n",
      "activation_2 (Activation)    (None, 8)                 0         \n",
      "_________________________________________________________________\n",
      "dense_3 (Dense)              (None, 32)                288       \n",
      "_________________________________________________________________\n",
      "batch_normalization_4 (Batch (None, 32)                128       \n",
      "_________________________________________________________________\n",
      "activation_3 (Activation)    (None, 32)                0         \n",
      "_________________________________________________________________\n",
      "dense_4 (Dense)              (None, 128)               4224      \n",
      "_________________________________________________________________\n",
      "batch_normalization_5 (Batch (None, 128)               512       \n",
      "_________________________________________________________________\n",
      "activation_4 (Activation)    (None, 128)               0         \n",
      "_________________________________________________________________\n",
      "dense_5 (Dense)              (None, 311)               40119     \n",
      "=================================================================\n",
      "Total params: 91,515\n",
      "Trainable params: 90,237\n",
      "Non-trainable params: 1,278\n",
      "_________________________________________________________________\n"
     ]
    }
   ],
   "source": [
    "autoencoder = Sequential(\n",
    "    [\n",
    "        InputLayer(input_shape=311),\n",
    "        BatchNormalization(),\n",
    "        Dense(128),\n",
    "        BatchNormalization(),\n",
    "        Activation('elu'),\n",
    "        Dense(32),\n",
    "        BatchNormalization(),\n",
    "        Activation('elu'),\n",
    "        Dense(8),\n",
    "        BatchNormalization(),\n",
    "        Activation('elu'),\n",
    "        Dense(32),\n",
    "        BatchNormalization(),\n",
    "        Activation('elu'),\n",
    "        Dense(128),\n",
    "        BatchNormalization(),\n",
    "        Activation('elu'),\n",
    "        Dense(311, activation=None),\n",
    "    ]\n",
    ")\n",
    "\n",
    "autoencoder.summary()"
   ]
  },
  {
   "cell_type": "markdown",
   "metadata": {},
   "source": [
    "We can use [rmsprop](https://optimization.cbe.cornell.edu/index.php?title=RMSProp) as the optimizer and the [mean squared error](https://en.wikipedia.org/wiki/Mean_squared_error) as the loss function. "
   ]
  },
  {
   "cell_type": "code",
   "execution_count": 9,
   "metadata": {},
   "outputs": [],
   "source": [
    "autoencoder.compile(optimizer='rmsprop', loss='mse')"
   ]
  },
  {
   "cell_type": "markdown",
   "metadata": {},
   "source": [
    "Let's create a Tensorboard callback to check the results in Tensorboard and a ModelCheckpoint callback to save the best model."
   ]
  },
  {
   "cell_type": "code",
   "execution_count": 10,
   "metadata": {},
   "outputs": [],
   "source": [
    "log_dir = os.path.join('..', 'logs', 'semi-centroid', datetime.datetime.now().strftime('%Y%m%d-%H%M%S'))\n",
    "tb_callback = tf.keras.callbacks.TensorBoard(\n",
    "    log_dir, update_freq=1, histogram_freq=1, write_graph=True\n",
    ")"
   ]
  },
  {
   "cell_type": "code",
   "execution_count": 11,
   "metadata": {},
   "outputs": [],
   "source": [
    "checkpoint_filepath = os.path.join(\"tmp\", \"semi-centroid\", \"checkpoint\")\n",
    "model_checkpoint_callback = tf.keras.callbacks.ModelCheckpoint(\n",
    "    filepath=checkpoint_filepath,\n",
    "    save_weights_only=True,\n",
    "    monitor='val_loss',\n",
    "    mode='min',\n",
    "    save_best_only=True)"
   ]
  },
  {
   "cell_type": "markdown",
   "metadata": {},
   "source": [
    "AE models needs that the input and the output be same."
   ]
  },
  {
   "cell_type": "code",
   "execution_count": 12,
   "metadata": {},
   "outputs": [
    {
     "name": "stdout",
     "output_type": "stream",
     "text": [
      "Epoch 1/100\n",
      "12/12 [==============================] - 31s 3s/step - loss: 19112.2237 - val_loss: 17213.7148\n",
      "Epoch 2/100\n",
      "12/12 [==============================] - 33s 3s/step - loss: 18848.0107 - val_loss: 18157.8730\n",
      "Epoch 3/100\n",
      "12/12 [==============================] - 34s 3s/step - loss: 18655.9058 - val_loss: 18657.9023\n",
      "Epoch 4/100\n",
      "12/12 [==============================] - 33s 3s/step - loss: 18497.2981 - val_loss: 17852.4668\n",
      "Epoch 5/100\n",
      "12/12 [==============================] - 33s 3s/step - loss: 18373.6707 - val_loss: 17061.4805\n",
      "Epoch 6/100\n",
      "12/12 [==============================] - 33s 3s/step - loss: 18264.0781 - val_loss: 16257.4756\n",
      "Epoch 7/100\n",
      "12/12 [==============================] - 33s 3s/step - loss: 17765.0129 - val_loss: 15978.2549\n",
      "Epoch 8/100\n",
      "12/12 [==============================] - 33s 3s/step - loss: 17639.6804 - val_loss: 15037.7598\n",
      "Epoch 9/100\n",
      "12/12 [==============================] - 33s 3s/step - loss: 17382.2763 - val_loss: 13816.7480\n",
      "Epoch 10/100\n",
      "12/12 [==============================] - 33s 3s/step - loss: 17061.5892 - val_loss: 13579.3496\n",
      "Epoch 11/100\n",
      "12/12 [==============================] - 33s 3s/step - loss: 17043.0140 - val_loss: 14297.5645\n",
      "Epoch 12/100\n",
      "12/12 [==============================] - 33s 3s/step - loss: 16613.2363 - val_loss: 12834.3340\n",
      "Epoch 13/100\n",
      "12/12 [==============================] - 33s 3s/step - loss: 16555.2782 - val_loss: 13852.3545\n",
      "Epoch 14/100\n",
      "12/12 [==============================] - 33s 3s/step - loss: 16204.1703 - val_loss: 13175.1953\n",
      "Epoch 15/100\n",
      "12/12 [==============================] - 33s 3s/step - loss: 15971.7565 - val_loss: 12931.2188\n",
      "Epoch 16/100\n",
      "12/12 [==============================] - 34s 3s/step - loss: 15623.8879 - val_loss: 13226.3584\n",
      "Epoch 17/100\n",
      "12/12 [==============================] - 33s 3s/step - loss: 15363.8428 - val_loss: 13483.3633\n",
      "Epoch 18/100\n",
      "12/12 [==============================] - 33s 3s/step - loss: 15242.1047 - val_loss: 13034.5312\n",
      "Epoch 19/100\n",
      "12/12 [==============================] - 33s 3s/step - loss: 14876.3916 - val_loss: 12965.7715\n",
      "Epoch 20/100\n",
      "12/12 [==============================] - 33s 3s/step - loss: 14394.7628 - val_loss: 12675.1357\n",
      "Epoch 21/100\n",
      "12/12 [==============================] - 34s 3s/step - loss: 14163.1627 - val_loss: 13525.0693\n",
      "Epoch 22/100\n",
      "12/12 [==============================] - 33s 3s/step - loss: 13792.3888 - val_loss: 12530.0049\n",
      "Epoch 23/100\n",
      "12/12 [==============================] - 34s 3s/step - loss: 13588.2590 - val_loss: 12851.2227\n",
      "Epoch 24/100\n",
      "12/12 [==============================] - 35s 3s/step - loss: 13332.8140 - val_loss: 12590.1953\n",
      "Epoch 25/100\n",
      "12/12 [==============================] - 35s 3s/step - loss: 13037.6336 - val_loss: 12140.6348\n",
      "Epoch 26/100\n",
      "12/12 [==============================] - 34s 3s/step - loss: 12742.4142 - val_loss: 12016.6348\n",
      "Epoch 27/100\n",
      "12/12 [==============================] - 33s 3s/step - loss: 12504.9533 - val_loss: 12365.0361\n",
      "Epoch 28/100\n",
      "12/12 [==============================] - 33s 3s/step - loss: 12076.0041 - val_loss: 12342.8203\n",
      "Epoch 29/100\n",
      "12/12 [==============================] - 34s 3s/step - loss: 11833.0575 - val_loss: 12709.4336\n",
      "Epoch 30/100\n",
      "12/12 [==============================] - 33s 3s/step - loss: 11417.8298 - val_loss: 12659.0098\n",
      "Epoch 31/100\n",
      "12/12 [==============================] - 33s 3s/step - loss: 11028.7634 - val_loss: 12028.7529\n",
      "Epoch 32/100\n",
      "12/12 [==============================] - 33s 3s/step - loss: 10709.3375 - val_loss: 11221.7090\n",
      "Epoch 33/100\n",
      "12/12 [==============================] - 33s 3s/step - loss: 10435.4373 - val_loss: 11713.4463\n",
      "Epoch 34/100\n",
      "12/12 [==============================] - 33s 3s/step - loss: 10104.0943 - val_loss: 10859.5801\n",
      "Epoch 35/100\n",
      "12/12 [==============================] - 33s 3s/step - loss: 9883.9896 - val_loss: 10280.8330\n",
      "Epoch 36/100\n",
      "12/12 [==============================] - 34s 3s/step - loss: 9461.7296 - val_loss: 9452.5498\n",
      "Epoch 37/100\n",
      "12/12 [==============================] - 34s 3s/step - loss: 9427.5586 - val_loss: 11068.2471\n",
      "Epoch 38/100\n",
      "12/12 [==============================] - 34s 3s/step - loss: 8994.3303 - val_loss: 10127.2744\n",
      "Epoch 39/100\n",
      "12/12 [==============================] - 34s 3s/step - loss: 8575.7486 - val_loss: 9302.7080\n",
      "Epoch 40/100\n",
      "12/12 [==============================] - 34s 3s/step - loss: 8331.1638 - val_loss: 8252.8867\n",
      "Epoch 41/100\n",
      "12/12 [==============================] - 33s 3s/step - loss: 7956.2731 - val_loss: 8575.2588\n",
      "Epoch 42/100\n",
      "12/12 [==============================] - 33s 3s/step - loss: 7582.2883 - val_loss: 9018.5674\n",
      "Epoch 43/100\n",
      "12/12 [==============================] - 33s 3s/step - loss: 7316.4343 - val_loss: 9985.4980\n",
      "Epoch 44/100\n",
      "12/12 [==============================] - 33s 3s/step - loss: 7096.1236 - val_loss: 9302.5293\n",
      "Epoch 45/100\n",
      "12/12 [==============================] - 32s 3s/step - loss: 6605.7497 - val_loss: 8583.7627\n",
      "Epoch 46/100\n",
      "12/12 [==============================] - 33s 3s/step - loss: 6281.0859 - val_loss: 10667.6338\n",
      "Epoch 47/100\n",
      "12/12 [==============================] - 33s 3s/step - loss: 5959.2015 - val_loss: 7926.8838\n",
      "Epoch 48/100\n",
      "12/12 [==============================] - 33s 3s/step - loss: 5607.4667 - val_loss: 9386.4365\n",
      "Epoch 49/100\n",
      "12/12 [==============================] - 33s 3s/step - loss: 5362.6702 - val_loss: 8921.9941\n",
      "Epoch 50/100\n",
      "12/12 [==============================] - 33s 3s/step - loss: 4948.3689 - val_loss: 8730.2393\n",
      "Epoch 51/100\n",
      "12/12 [==============================] - 33s 3s/step - loss: 4520.6510 - val_loss: 8601.8760\n",
      "Epoch 52/100\n",
      "12/12 [==============================] - 33s 3s/step - loss: 4288.8699 - val_loss: 7015.9058\n",
      "Epoch 53/100\n",
      "12/12 [==============================] - 33s 3s/step - loss: 3976.8854 - val_loss: 6396.5781\n",
      "Epoch 54/100\n",
      "12/12 [==============================] - 33s 3s/step - loss: 3733.0429 - val_loss: 6830.3848\n",
      "Epoch 55/100\n",
      "12/12 [==============================] - 33s 3s/step - loss: 3369.4567 - val_loss: 5078.2612\n",
      "Epoch 56/100\n",
      "12/12 [==============================] - 31s 3s/step - loss: 3127.4839 - val_loss: 4333.1890\n",
      "Epoch 57/100\n",
      "12/12 [==============================] - 29s 2s/step - loss: 2842.7348 - val_loss: 4364.9937\n",
      "Epoch 58/100\n",
      "12/12 [==============================] - 28s 2s/step - loss: 2643.6797 - val_loss: 3106.3740\n",
      "Epoch 59/100\n",
      "12/12 [==============================] - 28s 2s/step - loss: 2381.6130 - val_loss: 3411.7637\n",
      "Epoch 60/100\n",
      "12/12 [==============================] - 28s 2s/step - loss: 2164.3725 - val_loss: 3178.3611\n",
      "Epoch 61/100\n",
      "12/12 [==============================] - 28s 2s/step - loss: 2003.1979 - val_loss: 1784.6844\n",
      "Epoch 62/100\n",
      "12/12 [==============================] - 28s 2s/step - loss: 1729.4569 - val_loss: 2526.4729\n",
      "Epoch 63/100\n",
      "12/12 [==============================] - 28s 2s/step - loss: 1567.7557 - val_loss: 2867.4722\n",
      "Epoch 64/100\n",
      "12/12 [==============================] - 28s 2s/step - loss: 1261.3572 - val_loss: 2506.9688\n",
      "Epoch 65/100\n",
      "12/12 [==============================] - 28s 2s/step - loss: 1131.0498 - val_loss: 1896.3887\n",
      "Epoch 66/100\n",
      "12/12 [==============================] - 28s 2s/step - loss: 892.1205 - val_loss: 1059.5580\n",
      "Epoch 67/100\n",
      "12/12 [==============================] - 28s 2s/step - loss: 788.9135 - val_loss: 1235.3381\n",
      "Epoch 68/100\n",
      "12/12 [==============================] - 28s 2s/step - loss: 625.6070 - val_loss: 1356.3630\n",
      "Epoch 69/100\n",
      "12/12 [==============================] - 28s 2s/step - loss: 535.6737 - val_loss: 655.8484\n",
      "Epoch 70/100\n",
      "12/12 [==============================] - 28s 2s/step - loss: 486.4641 - val_loss: 697.1925\n",
      "Epoch 71/100\n",
      "12/12 [==============================] - 28s 2s/step - loss: 345.2413 - val_loss: 332.8777\n",
      "Epoch 72/100\n",
      "12/12 [==============================] - 28s 2s/step - loss: 295.6201 - val_loss: 283.1880\n",
      "Epoch 73/100\n",
      "12/12 [==============================] - 28s 2s/step - loss: 260.5525 - val_loss: 532.1413\n",
      "Epoch 74/100\n",
      "12/12 [==============================] - 28s 2s/step - loss: 204.4459 - val_loss: 291.4368\n",
      "Epoch 75/100\n",
      "12/12 [==============================] - 28s 2s/step - loss: 220.0672 - val_loss: 226.3842\n",
      "Epoch 76/100\n",
      "12/12 [==============================] - 28s 2s/step - loss: 166.9905 - val_loss: 133.1037\n",
      "Epoch 77/100\n",
      "12/12 [==============================] - 28s 2s/step - loss: 157.0379 - val_loss: 229.4288\n",
      "Epoch 78/100\n",
      "12/12 [==============================] - 28s 2s/step - loss: 143.9995 - val_loss: 237.2604\n",
      "Epoch 79/100\n",
      "12/12 [==============================] - 28s 2s/step - loss: 172.1411 - val_loss: 153.0869\n",
      "Epoch 80/100\n",
      "12/12 [==============================] - 28s 2s/step - loss: 135.9271 - val_loss: 371.8581\n",
      "Epoch 81/100\n",
      "12/12 [==============================] - 28s 2s/step - loss: 148.5722 - val_loss: 157.1352\n",
      "Epoch 82/100\n",
      "12/12 [==============================] - 28s 2s/step - loss: 151.0771 - val_loss: 268.3169\n",
      "Epoch 83/100\n",
      "12/12 [==============================] - 28s 2s/step - loss: 141.7483 - val_loss: 178.3089\n",
      "Epoch 84/100\n",
      "12/12 [==============================] - 28s 2s/step - loss: 158.8785 - val_loss: 233.0144\n",
      "Epoch 85/100\n",
      "12/12 [==============================] - 28s 2s/step - loss: 128.3545 - val_loss: 162.6756\n",
      "Epoch 86/100\n",
      "12/12 [==============================] - 28s 2s/step - loss: 181.1822 - val_loss: 153.0729\n",
      "Epoch 87/100\n",
      "12/12 [==============================] - 28s 2s/step - loss: 125.7984 - val_loss: 130.6592\n",
      "Epoch 88/100\n",
      "12/12 [==============================] - 28s 2s/step - loss: 139.1157 - val_loss: 246.6367\n",
      "Epoch 89/100\n",
      "12/12 [==============================] - 28s 2s/step - loss: 167.0865 - val_loss: 151.8663\n",
      "Epoch 90/100\n",
      "12/12 [==============================] - 28s 2s/step - loss: 139.8913 - val_loss: 140.4472\n",
      "Epoch 91/100\n",
      "12/12 [==============================] - 28s 2s/step - loss: 133.8675 - val_loss: 148.3173\n",
      "Epoch 92/100\n",
      "12/12 [==============================] - 28s 2s/step - loss: 134.7276 - val_loss: 147.8628\n",
      "Epoch 93/100\n",
      "12/12 [==============================] - 28s 2s/step - loss: 150.0068 - val_loss: 165.6936\n",
      "Epoch 94/100\n",
      "12/12 [==============================] - 28s 2s/step - loss: 125.0395 - val_loss: 131.1729\n",
      "Epoch 95/100\n",
      "12/12 [==============================] - 28s 2s/step - loss: 133.0945 - val_loss: 128.2073\n",
      "Epoch 96/100\n",
      "12/12 [==============================] - 28s 2s/step - loss: 122.4159 - val_loss: 142.6339\n",
      "Epoch 97/100\n",
      "12/12 [==============================] - 28s 2s/step - loss: 139.1990 - val_loss: 157.7706\n",
      "Epoch 98/100\n",
      "12/12 [==============================] - 28s 2s/step - loss: 132.7511 - val_loss: 162.3986\n",
      "Epoch 99/100\n",
      "12/12 [==============================] - 28s 2s/step - loss: 128.0673 - val_loss: 127.2604\n",
      "Epoch 100/100\n",
      "12/12 [==============================] - 28s 2s/step - loss: 123.7716 - val_loss: 180.3669\n"
     ]
    }
   ],
   "source": [
    "history = autoencoder.fit(\n",
    "    train2,\n",
    "    epochs=100,\n",
    "    shuffle=True,\n",
    "    validation_data=val2,\n",
    "    callbacks=[tb_callback, model_checkpoint_callback],\n",
    "    verbose=1,\n",
    ")"
   ]
  },
  {
   "cell_type": "markdown",
   "metadata": {},
   "source": [
    "## Testing"
   ]
  },
  {
   "cell_type": "code",
   "execution_count": null,
   "metadata": {},
   "outputs": [],
   "source": [
    "autoencoder.load_weights(checkpoint_filepath)"
   ]
  },
  {
   "cell_type": "code",
   "execution_count": null,
   "metadata": {},
   "outputs": [],
   "source": [
    "VERSION=\"1\"\r\n",
    "saved_model_path = autoencoder.save(\r\n",
    "    os.path.join(\"..\", \"..\", \"..\", \"production\", \"backend\", \"models\", \"centroid\", VERSION),\r\n",
    "    save_format=\"tf\",\r\n",
    ")"
   ]
  },
  {
   "cell_type": "markdown",
   "metadata": {},
   "source": [
    "Let's join train and test set together for faster predictions."
   ]
  },
  {
   "cell_type": "code",
   "execution_count": null,
   "metadata": {},
   "outputs": [],
   "source": [
    "audios = train.concatenate(test)"
   ]
  },
  {
   "cell_type": "code",
   "execution_count": 16,
   "metadata": {},
   "outputs": [
    {
     "data": {
      "text/plain": "<tensorflow.python.training.tracking.util.CheckpointLoadStatus at 0x20bb16b9fc8>"
     },
     "execution_count": 13,
     "metadata": {},
     "output_type": "execute_result"
    },
    {
     "name": "stdout",
     "output_type": "stream",
     "text": [
      "INFO:tensorflow:Assets written to: ..\\..\\..\\production\\backend\\models\\centroid\\1\\assets\n"
     ]
    },
    {
     "name": "stderr",
     "output_type": "stream",
     "text": [
      "INFO:tensorflow:Assets written to: ..\\..\\..\\production\\backend\\models\\centroid\\1\\assets\n"
     ]
    }
   ],
   "source": [
    "pred = autoencoder.predict(audios.map(lambda item: item[\"audio\"]).batch(BATCH_SIZE))"
   ]
  },
  {
   "cell_type": "markdown",
   "metadata": {},
   "source": [
    "Let's compute the reconstruction error for all audios."
   ]
  },
  {
   "cell_type": "code",
   "execution_count": 17,
   "metadata": {},
   "outputs": [],
   "source": [
    "error_lst = []\n",
    "for item, pred in zip(tfds.as_numpy(audios), pred):\n",
    "    error = np.mean(np.square(item[\"audio\"] - pred))\n",
    "    error_lst.append(error)"
   ]
  },
  {
   "cell_type": "markdown",
   "metadata": {},
   "source": [
    "To check how the model behaves, we can tranform the Tensorflow dataset into a dataframe and add the previous computed reconstruction error to it."
   ]
  },
  {
   "cell_type": "code",
   "execution_count": 18,
   "metadata": {},
   "outputs": [
    {
     "data": {
      "text/html": "<div>\n<style scoped>\n    .dataframe tbody tr th:only-of-type {\n        vertical-align: middle;\n    }\n\n    .dataframe tbody tr th {\n        vertical-align: top;\n    }\n\n    .dataframe thead th {\n        text-align: right;\n    }\n</style>\n<table border=\"1\" class=\"dataframe\">\n  <thead>\n    <tr style=\"text-align: right;\">\n      <th></th>\n      <th>audio</th>\n      <th>id</th>\n      <th>machine_id</th>\n      <th>split</th>\n      <th>label</th>\n    </tr>\n  </thead>\n  <tbody>\n    <tr>\n      <th>1939</th>\n      <td>[141.96213, 135.21071, 156.37888, 138.22511, 1...</td>\n      <td>0331</td>\n      <td>04</td>\n      <td>train</td>\n      <td>normal</td>\n    </tr>\n    <tr>\n      <th>63</th>\n      <td>[147.94125, 149.40681, 138.04012, 139.77148, 1...</td>\n      <td>0611</td>\n      <td>06</td>\n      <td>train</td>\n      <td>normal</td>\n    </tr>\n    <tr>\n      <th>1273</th>\n      <td>[205.14688, 208.08266, 206.38641, 210.40247, 2...</td>\n      <td>0220</td>\n      <td>04</td>\n      <td>train</td>\n      <td>normal</td>\n    </tr>\n    <tr>\n      <th>1235</th>\n      <td>[129.71925, 137.43721, 127.42038, 124.91373, 1...</td>\n      <td>0031</td>\n      <td>02</td>\n      <td>train</td>\n      <td>normal</td>\n    </tr>\n    <tr>\n      <th>1443</th>\n      <td>[136.3867, 139.09085, 142.84888, 154.52092, 15...</td>\n      <td>0852</td>\n      <td>00</td>\n      <td>train</td>\n      <td>normal</td>\n    </tr>\n  </tbody>\n</table>\n</div>",
      "text/plain": "                                                  audio    id machine_id  \\\n1939  [141.96213, 135.21071, 156.37888, 138.22511, 1...  0331         04   \n63    [147.94125, 149.40681, 138.04012, 139.77148, 1...  0611         06   \n1273  [205.14688, 208.08266, 206.38641, 210.40247, 2...  0220         04   \n1235  [129.71925, 137.43721, 127.42038, 124.91373, 1...  0031         02   \n1443  [136.3867, 139.09085, 142.84888, 154.52092, 15...  0852         00   \n\n      split   label  \n1939  train  normal  \n63    train  normal  \n1273  train  normal  \n1235  train  normal  \n1443  train  normal  "
     },
     "execution_count": 18,
     "metadata": {},
     "output_type": "execute_result"
    }
   ],
   "source": [
    "audios_df = tfds.as_dataframe(audios, info)\n",
    "\n",
    "# Convert byte-type texts to string-type texts\n",
    "for col in audios_df:\n",
    "    if isinstance(audios_df[col][0], bytes):\n",
    "        audios_df[col] = audios_df[col].str.decode(\"utf8\")\n",
    "\n",
    "dct_columns = {\n",
    "    \"audio/id\": \"id\", \n",
    "    \"audio/machine\": \"machine_id\", \n",
    "    \"audio/split\": \"split\",\n",
    "}\n",
    "\n",
    "# Convert object-type columns to a more convenient data type\n",
    "dct_types = {\n",
    "    \"id\": \"string\",\n",
    "    \"machine_id\": \"category\",\n",
    "    \"split\": \"category\",\n",
    "    \"label\": \"category\",\n",
    "}\n",
    "\n",
    "audios_df = (\n",
    "    audios_df\n",
    "    .rename(columns=dct_columns)\n",
    "    .astype(dct_types)\n",
    ")\n",
    "\n",
    "audios_df[\"split\"] = audios_df[\"split\"].cat.rename_categories({0: \"train\", 1: \"test\"})\n",
    "audios_df[\"label\"] = audios_df[\"label\"].cat.rename_categories({0: \"normal\", 1: \"anomaly\"})\n",
    "\n",
    "audios_df.sample(5)"
   ]
  },
  {
   "cell_type": "code",
   "execution_count": 19,
   "metadata": {},
   "outputs": [],
   "source": [
    "audios_df[\"error\"] = error_lst"
   ]
  },
  {
   "cell_type": "code",
   "execution_count": 20,
   "metadata": {},
   "outputs": [
    {
     "data": {
      "text/html": "<div>\n<style scoped>\n    .dataframe tbody tr th:only-of-type {\n        vertical-align: middle;\n    }\n\n    .dataframe tbody tr th {\n        vertical-align: top;\n    }\n\n    .dataframe thead th {\n        text-align: right;\n    }\n</style>\n<table border=\"1\" class=\"dataframe\">\n  <thead>\n    <tr style=\"text-align: right;\">\n      <th></th>\n      <th>audio</th>\n      <th>id</th>\n      <th>machine_id</th>\n      <th>split</th>\n      <th>label</th>\n      <th>error</th>\n    </tr>\n  </thead>\n  <tbody>\n    <tr>\n      <th>904</th>\n      <td>[159.53131, 151.75444, 148.79333, 155.70522, 1...</td>\n      <td>0340</td>\n      <td>04</td>\n      <td>train</td>\n      <td>normal</td>\n      <td>1274.666748</td>\n    </tr>\n    <tr>\n      <th>2214</th>\n      <td>[123.27612, 127.64881, 118.96919, 115.40276, 1...</td>\n      <td>0187</td>\n      <td>00</td>\n      <td>train</td>\n      <td>normal</td>\n      <td>3696.071533</td>\n    </tr>\n    <tr>\n      <th>1548</th>\n      <td>[153.80484, 165.31131, 152.8622, 156.73428, 15...</td>\n      <td>0038</td>\n      <td>06</td>\n      <td>train</td>\n      <td>normal</td>\n      <td>2914.486816</td>\n    </tr>\n    <tr>\n      <th>934</th>\n      <td>[140.08467, 154.24051, 137.64276, 150.83852, 1...</td>\n      <td>0210</td>\n      <td>04</td>\n      <td>train</td>\n      <td>normal</td>\n      <td>674.132568</td>\n    </tr>\n    <tr>\n      <th>987</th>\n      <td>[120.24725, 105.67785, 109.01134, 103.64985, 1...</td>\n      <td>0888</td>\n      <td>02</td>\n      <td>train</td>\n      <td>normal</td>\n      <td>214.587067</td>\n    </tr>\n  </tbody>\n</table>\n</div>",
      "text/plain": "                                                  audio    id machine_id  \\\n904   [159.53131, 151.75444, 148.79333, 155.70522, 1...  0340         04   \n2214  [123.27612, 127.64881, 118.96919, 115.40276, 1...  0187         00   \n1548  [153.80484, 165.31131, 152.8622, 156.73428, 15...  0038         06   \n934   [140.08467, 154.24051, 137.64276, 150.83852, 1...  0210         04   \n987   [120.24725, 105.67785, 109.01134, 103.64985, 1...  0888         02   \n\n      split   label        error  \n904   train  normal  1274.666748  \n2214  train  normal  3696.071533  \n1548  train  normal  2914.486816  \n934   train  normal   674.132568  \n987   train  normal   214.587067  "
     },
     "execution_count": 20,
     "metadata": {},
     "output_type": "execute_result"
    }
   ],
   "source": [
    "audios_df.sample(5)"
   ]
  },
  {
   "cell_type": "code",
   "execution_count": 21,
   "metadata": {},
   "outputs": [
    {
     "data": {
      "text/html": "<div>\n<style scoped>\n    .dataframe tbody tr th:only-of-type {\n        vertical-align: middle;\n    }\n\n    .dataframe tbody tr th {\n        vertical-align: top;\n    }\n\n    .dataframe thead tr th {\n        text-align: left;\n    }\n\n    .dataframe thead tr:last-of-type th {\n        text-align: right;\n    }\n</style>\n<table border=\"1\" class=\"dataframe\">\n  <thead>\n    <tr>\n      <th></th>\n      <th colspan=\"2\" halign=\"left\">error</th>\n    </tr>\n    <tr>\n      <th></th>\n      <th>mean</th>\n      <th>std</th>\n    </tr>\n    <tr>\n      <th>machine_id</th>\n      <th></th>\n      <th></th>\n    </tr>\n  </thead>\n  <tbody>\n    <tr>\n      <th>00</th>\n      <td>1445.975659</td>\n      <td>1972.854052</td>\n    </tr>\n    <tr>\n      <th>02</th>\n      <td>1445.460055</td>\n      <td>2217.711531</td>\n    </tr>\n    <tr>\n      <th>04</th>\n      <td>1410.948863</td>\n      <td>1899.313640</td>\n    </tr>\n    <tr>\n      <th>06</th>\n      <td>1413.841140</td>\n      <td>1941.412422</td>\n    </tr>\n  </tbody>\n</table>\n</div>",
      "text/plain": "                  error             \n                   mean          std\nmachine_id                          \n00          1445.975659  1972.854052\n02          1445.460055  2217.711531\n04          1410.948863  1899.313640\n06          1413.841140  1941.412422"
     },
     "execution_count": 21,
     "metadata": {},
     "output_type": "execute_result"
    }
   ],
   "source": [
    "(\n",
    "    audios_df\n",
    "    .query(\"split == 'train'\")\n",
    "    .groupby(\"machine_id\")\n",
    "    .agg({\"error\": [\"mean\", \"std\"]})\n",
    ")"
   ]
  },
  {
   "cell_type": "code",
   "execution_count": 22,
   "metadata": {},
   "outputs": [
    {
     "data": {
      "text/html": "<div>\n<style scoped>\n    .dataframe tbody tr th:only-of-type {\n        vertical-align: middle;\n    }\n\n    .dataframe tbody tr th {\n        vertical-align: top;\n    }\n\n    .dataframe thead tr th {\n        text-align: left;\n    }\n\n    .dataframe thead tr:last-of-type th {\n        text-align: right;\n    }\n</style>\n<table border=\"1\" class=\"dataframe\">\n  <thead>\n    <tr>\n      <th></th>\n      <th></th>\n      <th colspan=\"2\" halign=\"left\">error</th>\n    </tr>\n    <tr>\n      <th></th>\n      <th></th>\n      <th>mean</th>\n      <th>std</th>\n    </tr>\n    <tr>\n      <th>label</th>\n      <th>machine_id</th>\n      <th></th>\n      <th></th>\n    </tr>\n  </thead>\n  <tbody>\n    <tr>\n      <th rowspan=\"4\" valign=\"top\">normal</th>\n      <th>00</th>\n      <td>1654.178050</td>\n      <td>2003.839754</td>\n    </tr>\n    <tr>\n      <th>02</th>\n      <td>1460.456207</td>\n      <td>1778.772359</td>\n    </tr>\n    <tr>\n      <th>04</th>\n      <td>1557.179548</td>\n      <td>1848.720275</td>\n    </tr>\n    <tr>\n      <th>06</th>\n      <td>1769.624605</td>\n      <td>1894.737667</td>\n    </tr>\n    <tr>\n      <th rowspan=\"4\" valign=\"top\">anomaly</th>\n      <th>00</th>\n      <td>1306.736289</td>\n      <td>1584.613099</td>\n    </tr>\n    <tr>\n      <th>02</th>\n      <td>1487.242603</td>\n      <td>1775.948641</td>\n    </tr>\n    <tr>\n      <th>04</th>\n      <td>1392.167999</td>\n      <td>1685.080205</td>\n    </tr>\n    <tr>\n      <th>06</th>\n      <td>1761.334523</td>\n      <td>1972.483752</td>\n    </tr>\n  </tbody>\n</table>\n</div>",
      "text/plain": "                          error             \n                           mean          std\nlabel   machine_id                          \nnormal  00          1654.178050  2003.839754\n        02          1460.456207  1778.772359\n        04          1557.179548  1848.720275\n        06          1769.624605  1894.737667\nanomaly 00          1306.736289  1584.613099\n        02          1487.242603  1775.948641\n        04          1392.167999  1685.080205\n        06          1761.334523  1972.483752"
     },
     "execution_count": 22,
     "metadata": {},
     "output_type": "execute_result"
    }
   ],
   "source": [
    "(\n",
    "    audios_df\n",
    "    .query(\"split == 'test'\")\n",
    "    .groupby([\"label\", \"machine_id\"])\n",
    "    .agg({\"error\": [\"mean\", \"std\"]})\n",
    ")"
   ]
  },
  {
   "cell_type": "markdown",
   "metadata": {},
   "source": [
    "It seems this model can't distinguish anomaly sound from normal sounds very well.\n",
    "\n",
    "Let's plot the a histogram of the construction error per machine to see more clear."
   ]
  },
  {
   "cell_type": "code",
   "execution_count": 23,
   "metadata": {},
   "outputs": [
    {
     "data": {
      "image/png": "[encoded data removed]",
      "text/plain": "<Figure size 640x480 with 4 Axes>"
     },
     "metadata": {},
     "output_type": "display_data"
    },
    {
     "name": "stdout",
     "output_type": "stream",
     "text": [
      "\n"
     ]
    }
   ],
   "source": [
    "p = (\n",
    "    p9.ggplot(audios_df.query(\"split == 'test'\"), p9.aes(x=\"error\", fill=\"label\"))\n",
    "    + p9.geom_histogram(\n",
    "        p9.aes(y=\"stat(count)\"), position=\"identity\", alpha=0.75\n",
    "    )\n",
    "    + p9.scale_x_continuous(name=\"Testing reconstruction error\")\n",
    "    + p9.scale_y_continuous(name=\"Number samples\")\n",
    "    + p9.labs(\n",
    "        title=\"Reconstruction error distributions\",\n",
    "    )\n",
    "    + p9.scale_fill_brewer(type=\"qualitative\", palette=\"Accent\") \n",
    "    + p9.facet_grid(\"machine_id ~ .\", scales=\"free\")\n",
    "    + p9.theme_bw()\n",
    "    + p9.theme(\n",
    "        panel_border=p9.element_rect(colour=\"black\", fill=None, size=0.5),\n",
    "        axis_text_x=p9.element_text(colour=\"black\", size=9),\n",
    "        axis_text_y=p9.element_text(colour=\"black\", size=9),\n",
    "        legend_key=p9.element_blank(),\n",
    "        legend_title=p9.element_blank(),\n",
    "        panel_grid_major=p9.element_line(colour=\"#d3d3d3\"),\n",
    "        panel_grid_minor=p9.element_blank(),\n",
    "        panel_background=p9.element_blank(),\n",
    "        plot_title=p9.element_text(size=14, family=\"Tahoma\", face=\"bold\"),\n",
    "        text=p9.element_text(family=\"Tahoma\"),\n",
    "    )\n",
    ")\n",
    "\n",
    "print(p)"
   ]
  },
  {
   "cell_type": "markdown",
   "metadata": {},
   "source": [
    "Histograms show more clear that the model can't differentiate anomaly audios from normal audio very well."
   ]
  },
  {
   "cell_type": "markdown",
   "metadata": {},
   "source": [
    "This [AWS](https://aws.amazon.com/es/blogs/machine-learning/performing-anomaly-detection-on-industrial-equipment-using-audio-signals/) post shows how the histogram from a good model should look like.\n",
    "\n",
    "![Better model](https://d2908q01vomqb2.cloudfront.net/f1f836cb4ea6efb2a0b1b99f41ad8b103eff4b59/2020/12/22/ML-1479-4.jpg)"
   ]
  },
  {
   "cell_type": "markdown",
   "metadata": {},
   "source": [
    "## Metrics"
   ]
  },
  {
   "cell_type": "markdown",
   "metadata": {},
   "source": [
    "Let's see how bad our model is. To distinguish anomaly audios from normal audios, we set the threshold one standard deviation above the mean of the train set. "
   ]
  },
  {
   "cell_type": "code",
   "execution_count": 24,
   "metadata": {},
   "outputs": [],
   "source": [
    "avg = (\n",
    "    audios_df\n",
    "    .query(\"split == 'train'\")\n",
    "    [\"error\"]\n",
    "    .mean()\n",
    ")\n",
    "\n",
    "std = (\n",
    "    audios_df\n",
    "    .query(\"split == 'train'\")\n",
    "    [\"error\"]\n",
    "    .std()\n",
    ")\n",
    "\n",
    "threshold = avg + std"
   ]
  },
  {
   "cell_type": "code",
   "execution_count": 25,
   "metadata": {},
   "outputs": [
    {
     "name": "stdout",
     "output_type": "stream",
     "text": [
      "3450.7522445185577\n"
     ]
    }
   ],
   "source": [
    "print(threshold)"
   ]
  },
  {
   "cell_type": "markdown",
   "metadata": {},
   "source": [
    "Let's create a new column with the predicted label based on the threshold."
   ]
  },
  {
   "cell_type": "code",
   "execution_count": 26,
   "metadata": {},
   "outputs": [
    {
     "data": {
      "text/html": "<div>\n<style scoped>\n    .dataframe tbody tr th:only-of-type {\n        vertical-align: middle;\n    }\n\n    .dataframe tbody tr th {\n        vertical-align: top;\n    }\n\n    .dataframe thead th {\n        text-align: right;\n    }\n</style>\n<table border=\"1\" class=\"dataframe\">\n  <thead>\n    <tr style=\"text-align: right;\">\n      <th></th>\n      <th>audio</th>\n      <th>id</th>\n      <th>machine_id</th>\n      <th>split</th>\n      <th>label</th>\n      <th>error</th>\n      <th>label_pred</th>\n    </tr>\n  </thead>\n  <tbody>\n    <tr>\n      <th>0</th>\n      <td>[167.79619, 148.82285, 155.80418, 157.08049, 1...</td>\n      <td>0811</td>\n      <td>02</td>\n      <td>train</td>\n      <td>normal</td>\n      <td>560.878235</td>\n      <td>0</td>\n    </tr>\n    <tr>\n      <th>1</th>\n      <td>[123.45275, 121.31313, 137.93771, 127.775246, ...</td>\n      <td>0144</td>\n      <td>00</td>\n      <td>train</td>\n      <td>normal</td>\n      <td>2783.420898</td>\n      <td>0</td>\n    </tr>\n    <tr>\n      <th>2</th>\n      <td>[128.69463, 133.42935, 147.16164, 122.406494, ...</td>\n      <td>0773</td>\n      <td>06</td>\n      <td>train</td>\n      <td>normal</td>\n      <td>5021.331055</td>\n      <td>1</td>\n    </tr>\n    <tr>\n      <th>3</th>\n      <td>[122.336296, 111.70874, 117.87651, 117.789314,...</td>\n      <td>0425</td>\n      <td>02</td>\n      <td>train</td>\n      <td>normal</td>\n      <td>736.690002</td>\n      <td>0</td>\n    </tr>\n    <tr>\n      <th>4</th>\n      <td>[126.35325, 128.95583, 137.11765, 142.96132, 1...</td>\n      <td>0191</td>\n      <td>04</td>\n      <td>train</td>\n      <td>normal</td>\n      <td>4387.797363</td>\n      <td>1</td>\n    </tr>\n  </tbody>\n</table>\n</div>",
      "text/plain": "                                               audio    id machine_id  split  \\\n0  [167.79619, 148.82285, 155.80418, 157.08049, 1...  0811         02  train   \n1  [123.45275, 121.31313, 137.93771, 127.775246, ...  0144         00  train   \n2  [128.69463, 133.42935, 147.16164, 122.406494, ...  0773         06  train   \n3  [122.336296, 111.70874, 117.87651, 117.789314,...  0425         02  train   \n4  [126.35325, 128.95583, 137.11765, 142.96132, 1...  0191         04  train   \n\n    label        error  label_pred  \n0  normal   560.878235           0  \n1  normal  2783.420898           0  \n2  normal  5021.331055           1  \n3  normal   736.690002           0  \n4  normal  4387.797363           1  "
     },
     "execution_count": 26,
     "metadata": {},
     "output_type": "execute_result"
    }
   ],
   "source": [
    "audios_df[\"label_pred\"] = audios_df[\"error\"] > threshold\n",
    "\n",
    "audios_df = audios_df.astype({\"label_pred\": \"int\"})\n",
    "audios_df.head()"
   ]
  },
  {
   "cell_type": "markdown",
   "metadata": {},
   "source": [
    "Let's show the precision, recall, f1-score and roc-auc score for the four machines."
   ]
  },
  {
   "cell_type": "code",
   "execution_count": 27,
   "metadata": {},
   "outputs": [],
   "source": [
    "audios_df[\"label\"] = audios_df[\"label\"].cat.rename_categories({\"normal\": 0, \"anomaly\": 1})"
   ]
  },
  {
   "cell_type": "markdown",
   "metadata": {},
   "source": [
    "### Machine_id=00"
   ]
  },
  {
   "cell_type": "code",
   "execution_count": 28,
   "metadata": {},
   "outputs": [
    {
     "name": "stdout",
     "output_type": "stream",
     "text": [
      "              precision    recall  f1-score   support\n",
      "\n",
      "           0       0.40      0.87      0.55       100\n",
      "           1       0.50      0.09      0.15       143\n",
      "\n",
      "    accuracy                           0.41       243\n",
      "   macro avg       0.45      0.48      0.35       243\n",
      "weighted avg       0.46      0.41      0.32       243\n",
      "\n"
     ]
    }
   ],
   "source": [
    "machine_id = \"00\"\n",
    "temp = (\n",
    "    audios_df\n",
    "    .query(\"machine_id == @machine_id and split == 'test'\")\n",
    ")  \n",
    "print(classification_report(temp[\"label\"], temp[\"label_pred\"]))"
   ]
  },
  {
   "cell_type": "code",
   "execution_count": 29,
   "metadata": {},
   "outputs": [
    {
     "name": "stdout",
     "output_type": "stream",
     "text": [
      "[[ 87  13]\n",
      " [130  13]]\n"
     ]
    }
   ],
   "source": [
    "print(confusion_matrix(temp[\"label\"], temp[\"label_pred\"]))"
   ]
  },
  {
   "cell_type": "code",
   "execution_count": 30,
   "metadata": {},
   "outputs": [
    {
     "name": "stdout",
     "output_type": "stream",
     "text": [
      "ROC-AUC score: 0.4805\n"
     ]
    }
   ],
   "source": [
    "score = roc_auc_score(temp[\"label\"], temp[\"label_pred\"])\n",
    "print(f\"ROC-AUC score: {score:.4f}\")"
   ]
  },
  {
   "cell_type": "markdown",
   "metadata": {},
   "source": [
    "This model is so bad distinguishing sounds for this machine that tossing a coin can predict better. "
   ]
  },
  {
   "cell_type": "markdown",
   "metadata": {},
   "source": [
    "### Machine_id=02"
   ]
  },
  {
   "cell_type": "code",
   "execution_count": 31,
   "metadata": {},
   "outputs": [
    {
     "name": "stdout",
     "output_type": "stream",
     "text": [
      "              precision    recall  f1-score   support\n",
      "\n",
      "           0       0.47      0.87      0.61       100\n",
      "           1       0.50      0.12      0.19       111\n",
      "\n",
      "    accuracy                           0.47       211\n",
      "   macro avg       0.49      0.49      0.40       211\n",
      "weighted avg       0.49      0.47      0.39       211\n",
      "\n"
     ]
    }
   ],
   "source": [
    "machine_id = \"02\"\n",
    "temp = (\n",
    "    audios_df\n",
    "    .query(\"machine_id == @machine_id and split == 'test'\")\n",
    ")  \n",
    "print(classification_report(temp[\"label\"], temp[\"label_pred\"]))"
   ]
  },
  {
   "cell_type": "code",
   "execution_count": 32,
   "metadata": {},
   "outputs": [
    {
     "name": "stdout",
     "output_type": "stream",
     "text": [
      "[[87 13]\n",
      " [98 13]]\n"
     ]
    }
   ],
   "source": [
    "print(confusion_matrix(temp[\"label\"], temp[\"label_pred\"]))"
   ]
  },
  {
   "cell_type": "code",
   "execution_count": 33,
   "metadata": {},
   "outputs": [
    {
     "name": "stdout",
     "output_type": "stream",
     "text": [
      "ROC-AUC score: 0.4936\n"
     ]
    }
   ],
   "source": [
    "score = roc_auc_score(temp[\"label\"], temp[\"label_pred\"])\n",
    "print(f\"ROC-AUC score: {score:.4f}\")"
   ]
  },
  {
   "cell_type": "markdown",
   "metadata": {},
   "source": [
    "This model is so bad distinguishing sounds for this machine that tossing a coin can predict better. "
   ]
  },
  {
   "cell_type": "markdown",
   "metadata": {},
   "source": [
    "### Machine_id=04"
   ]
  },
  {
   "cell_type": "code",
   "execution_count": 34,
   "metadata": {},
   "outputs": [
    {
     "name": "stdout",
     "output_type": "stream",
     "text": [
      "              precision    recall  f1-score   support\n",
      "\n",
      "           0       0.49      0.86      0.63       100\n",
      "           1       0.44      0.11      0.18       100\n",
      "\n",
      "    accuracy                           0.48       200\n",
      "   macro avg       0.47      0.48      0.40       200\n",
      "weighted avg       0.47      0.48      0.40       200\n",
      "\n"
     ]
    }
   ],
   "source": [
    "machine_id = \"04\"\n",
    "temp = (\n",
    "    audios_df\n",
    "    .query(\"machine_id == @machine_id and split == 'test'\")\n",
    ")  \n",
    "print(classification_report(temp[\"label\"], temp[\"label_pred\"]))"
   ]
  },
  {
   "cell_type": "code",
   "execution_count": 35,
   "metadata": {},
   "outputs": [
    {
     "name": "stdout",
     "output_type": "stream",
     "text": [
      "[[86 14]\n",
      " [89 11]]\n"
     ]
    }
   ],
   "source": [
    "print(confusion_matrix(temp[\"label\"], temp[\"label_pred\"]))"
   ]
  },
  {
   "cell_type": "code",
   "execution_count": 36,
   "metadata": {},
   "outputs": [
    {
     "name": "stdout",
     "output_type": "stream",
     "text": [
      "ROC-AUC score: 0.4850\n"
     ]
    }
   ],
   "source": [
    "score = roc_auc_score(temp[\"label\"], temp[\"label_pred\"])\n",
    "print(f\"ROC-AUC score: {score:.4f}\")"
   ]
  },
  {
   "cell_type": "markdown",
   "metadata": {},
   "source": [
    "This model is so bad distinguishing sounds for this machine that tossing a coin can predict better. "
   ]
  },
  {
   "cell_type": "markdown",
   "metadata": {},
   "source": [
    "### Machine_id=06"
   ]
  },
  {
   "cell_type": "code",
   "execution_count": 37,
   "metadata": {},
   "outputs": [
    {
     "name": "stdout",
     "output_type": "stream",
     "text": [
      "              precision    recall  f1-score   support\n",
      "\n",
      "           0       0.49      0.83      0.62       100\n",
      "           1       0.48      0.16      0.24       102\n",
      "\n",
      "    accuracy                           0.49       202\n",
      "   macro avg       0.49      0.49      0.43       202\n",
      "weighted avg       0.49      0.49      0.43       202\n",
      "\n"
     ]
    }
   ],
   "source": [
    "machine_id = \"06\"\n",
    "temp = (\n",
    "    audios_df\n",
    "    .query(\"machine_id == @machine_id and split == 'test'\")\n",
    ")  \n",
    "print(classification_report(temp[\"label\"], temp[\"label_pred\"]))"
   ]
  },
  {
   "cell_type": "code",
   "execution_count": 38,
   "metadata": {},
   "outputs": [
    {
     "name": "stdout",
     "output_type": "stream",
     "text": [
      "[[83 17]\n",
      " [86 16]]\n"
     ]
    }
   ],
   "source": [
    "print(confusion_matrix(temp[\"label\"], temp[\"label_pred\"]))"
   ]
  },
  {
   "cell_type": "code",
   "execution_count": 39,
   "metadata": {},
   "outputs": [
    {
     "name": "stdout",
     "output_type": "stream",
     "text": [
      "ROC-AUC score: 0.4934\n"
     ]
    }
   ],
   "source": [
    "score = roc_auc_score(temp[\"label\"], temp[\"label_pred\"])\n",
    "print(f\"ROC-AUC score: {score:.4f}\")"
   ]
  },
  {
   "cell_type": "markdown",
   "metadata": {},
   "source": [
    "This model is so bad distinguishing sounds for this machine that tossing a coin can predict better. "
   ]
  },
  {
   "cell_type": "markdown",
   "metadata": {},
   "source": [
    "## Conclusions"
   ]
  },
  {
   "cell_type": "markdown",
   "metadata": {},
   "source": [
    "This model doesn't help to distinguish anomalous sounds from normal audios. "
   ]
  }
 ],
 "metadata": {
  "interpreter": {
   "hash": "57fde4dc6cdb19e1d76ed7331772e4cf7a15b1a70b768f05e2959c60594bd89b"
  },
  "kernelspec": {
   "display_name": "Python 3.7.10 64-bit ('tfm': conda)",
   "name": "python3"
  },
  "language_info": {
   "codemirror_mode": {
    "name": "ipython",
    "version": 3
   },
   "file_extension": ".py",
   "mimetype": "text/x-python",
   "name": "python",
   "nbconvert_exporter": "python",
   "pygments_lexer": "ipython3",
   "version": "3.7.10"
  },
  "metadata": {
   "interpreter": {
    "hash": "57fde4dc6cdb19e1d76ed7331772e4cf7a15b1a70b768f05e2959c60594bd89b"
   }
  }
 },
 "nbformat": 4,
 "nbformat_minor": 2
}