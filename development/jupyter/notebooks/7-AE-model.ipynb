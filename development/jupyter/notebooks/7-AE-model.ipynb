{
 "cells": [
  {
   "cell_type": "code",
   "execution_count": 29,
   "metadata": {},
   "outputs": [],
   "source": [
    "import tensorflow_datasets as tfds\n",
    "import tensorflow as tf\n",
    "\n",
    "from tensorflow.keras.layers import (\n",
    "    Input,\n",
    "    Dense,\n",
    "    BatchNormalization,\n",
    ")\n",
    "from tensorflow.keras.models import Model\n",
    "\n",
    "import numpy as np\n",
    "import pandas as pd\n",
    "import matplotlib\n",
    "import matplotlib.pyplot as plt\n",
    "\n",
    "import sklearn\n",
    "from sklearn.metrics import (\n",
    "    confusion_matrix, \n",
    "    classification_report,\n",
    "    roc_auc_score\n",
    ")\n",
    "\n",
    "import plotnine as p9\n",
    "\n",
    "import datetime\n",
    "\n",
    "import os\n",
    "\n",
    "import warnings\n",
    "warnings.filterwarnings('ignore')"
   ]
  },
  {
   "cell_type": "code",
   "execution_count": 30,
   "metadata": {},
   "outputs": [
    {
     "output_type": "stream",
     "name": "stdout",
     "text": [
      "Tensorflow datasets: 4.2.0\nTensorflow: 2.4.1\nSklearn: 0.24.2\nNumpy: 1.19.5\nPandas: 1.2.4\nMatplotlib: 3.4.1\nPlotnine: 0.8.0\n"
     ]
    }
   ],
   "source": [
    "print(f\"Tensorflow datasets: {tfds.__version__}\")\n",
    "print(f\"Tensorflow: {tf.__version__}\")\n",
    "print(f\"Sklearn: {sklearn.__version__}\")\n",
    "print(f\"Numpy: {np.__version__}\")\n",
    "print(f\"Pandas: {pd.__version__}\")\n",
    "print(f\"Matplotlib: {matplotlib.__version__}\")\n",
    "print(f\"Plotnine: {p9.__version__}\")"
   ]
  },
  {
   "cell_type": "code",
   "execution_count": 3,
   "metadata": {},
   "outputs": [],
   "source": [
    "config = tfds.ReadConfig(try_autocache=True, shuffle_seed=42)"
   ]
  },
  {
   "cell_type": "code",
   "execution_count": 4,
   "metadata": {},
   "outputs": [],
   "source": [
    "import pump\n",
    "data_dir = \"../dataset\"\n",
    "\n",
    "(train, val, test), info = tfds.load(\n",
    "    \"pump\",\n",
    "    split=[\"train[:90%]\", \"train[90%:]\", \"test\"],\n",
    "    data_dir=data_dir,\n",
    "    with_info=True,\n",
    "    shuffle_files=True,\n",
    "    read_config=config,\n",
    ")"
   ]
  },
  {
   "cell_type": "code",
   "execution_count": 5,
   "metadata": {},
   "outputs": [],
   "source": [
    "def spectral_centroid(item):\n",
    "    audio = tf.cast(item[\"audio\"], dtype = tf.float32)\n",
    "    audio = audio / 2**15\n",
    "    audio = tf.signal.stft(audio, frame_length=1024, frame_step=512)\n",
    "    audio = tf.abs(audio)\n",
    "    freqs = tf.constant(np.arange(0,513), dtype=audio.dtype)\n",
    "    item[\"audio\"] = tf.reduce_sum(audio * freqs, axis=1) / tf.reduce_sum(audio, axis=1)\n",
    "    return item"
   ]
  },
  {
   "cell_type": "code",
   "execution_count": 6,
   "metadata": {},
   "outputs": [],
   "source": [
    "def prep_train(item):\n",
    "    return item[\"audio\"], item[\"audio\"]"
   ]
  },
  {
   "cell_type": "code",
   "execution_count": 7,
   "metadata": {},
   "outputs": [],
   "source": [
    "BATCH_SIZE = 256\n",
    "SHUFFLE_BUFFER_SIZE = 1024\n",
    "\n",
    "train = train.map(spectral_centroid)\n",
    "train2 = train.map(prep_train).batch(BATCH_SIZE)\n",
    "\n",
    "val = train.map(spectral_centroid)\n",
    "val2 = train.map(prep_train).batch(BATCH_SIZE)\n",
    "\n",
    "test = test.map(spectral_centroid)\n",
    "test2 = test.batch(BATCH_SIZE)"
   ]
  },
  {
   "cell_type": "code",
   "execution_count": 8,
   "metadata": {},
   "outputs": [
    {
     "output_type": "stream",
     "name": "stdout",
     "text": [
      "Model: \"sequential\"\n_________________________________________________________________\nLayer (type)                 Output Shape              Param #   \n=================================================================\nbatch_normalization (BatchNo (None, 311)               1244      \n_________________________________________________________________\ndense (Dense)                (None, 128)               39936     \n_________________________________________________________________\ndense_1 (Dense)              (None, 64)                8256      \n_________________________________________________________________\ndense_2 (Dense)              (None, 8)                 520       \n_________________________________________________________________\ndense_3 (Dense)              (None, 64)                576       \n_________________________________________________________________\ndense_4 (Dense)              (None, 128)               8320      \n_________________________________________________________________\ndense_5 (Dense)              (None, 311)               40119     \n=================================================================\nTotal params: 98,971\nTrainable params: 98,349\nNon-trainable params: 622\n_________________________________________________________________\n"
     ]
    }
   ],
   "source": [
    "autoencoder = model = tf.keras.Sequential(\n",
    "    [\n",
    "        Input(shape=311),\n",
    "        BatchNormalization(),\n",
    "        Dense(units=128, activation='relu'),\n",
    "        Dense(units=64, activation='relu'),\n",
    "        Dense(units=8, activation=\"relu\"),\n",
    "        Dense(units=64, activation='relu'),\n",
    "        Dense(units=128, activation='relu'),\n",
    "        Dense(311, activation=None),\n",
    "    ]\n",
    ")\n",
    "\n",
    "autoencoder.summary()"
   ]
  },
  {
   "cell_type": "code",
   "execution_count": 9,
   "metadata": {},
   "outputs": [],
   "source": [
    "def my_loss(y_true, y_pred):\n",
    "    return tf.reduce_mean(tf.reduce_mean(tf.square(y_true-y_pred), axis=-1))"
   ]
  },
  {
   "cell_type": "code",
   "execution_count": 10,
   "metadata": {},
   "outputs": [],
   "source": [
    "autoencoder.compile(optimizer='adam', loss=my_loss)"
   ]
  },
  {
   "cell_type": "code",
   "execution_count": 11,
   "metadata": {},
   "outputs": [],
   "source": [
    "log_dir = os.path.join('..', 'logs', 'semi-centroid', datetime.datetime.now().strftime('%Y%m%d-%H%M%S'))\n",
    "tb_callback = tf.keras.callbacks.TensorBoard(\n",
    "    log_dir, update_freq=1, histogram_freq=1, write_graph=True\n",
    ")"
   ]
  },
  {
   "cell_type": "code",
   "execution_count": 12,
   "metadata": {},
   "outputs": [],
   "source": [
    "checkpoint_filepath = os.path.join(\"tmp\", \"semi-centroid\", \"checkpoint\")\n",
    "model_checkpoint_callback = tf.keras.callbacks.ModelCheckpoint(\n",
    "    filepath=checkpoint_filepath,\n",
    "    save_weights_only=True,\n",
    "    monitor='val_loss',\n",
    "    mode='min',\n",
    "    save_best_only=True)"
   ]
  },
  {
   "cell_type": "code",
   "execution_count": 13,
   "metadata": {},
   "outputs": [
    {
     "output_type": "stream",
     "name": "stdout",
     "text": [
      "Epoch 1/100\n",
      "12/12 [==============================] - 42s 4s/step - loss: 19085.9309 - val_loss: 9980.3838\n",
      "Epoch 2/100\n",
      "12/12 [==============================] - 39s 3s/step - loss: 17230.8548 - val_loss: 53018.6445\n",
      "Epoch 3/100\n",
      "12/12 [==============================] - 39s 3s/step - loss: 9423.0053 - val_loss: 983061.5000\n",
      "Epoch 4/100\n",
      "12/12 [==============================] - 39s 3s/step - loss: 6488.3478 - val_loss: 227256.6719\n",
      "Epoch 5/100\n",
      "12/12 [==============================] - 39s 3s/step - loss: 6054.6587 - val_loss: 217154.7656\n",
      "Epoch 6/100\n",
      "12/12 [==============================] - 39s 3s/step - loss: 5734.9142 - val_loss: 122484.2578\n",
      "Epoch 7/100\n",
      "12/12 [==============================] - 39s 3s/step - loss: 5335.5045 - val_loss: 75764.7578\n",
      "Epoch 8/100\n",
      "12/12 [==============================] - 39s 3s/step - loss: 5492.6118 - val_loss: 59814.3828\n",
      "Epoch 9/100\n",
      "12/12 [==============================] - 39s 3s/step - loss: 5159.9671 - val_loss: 37510.9688\n",
      "Epoch 10/100\n",
      "12/12 [==============================] - 39s 3s/step - loss: 5076.2910 - val_loss: 26357.5723\n",
      "Epoch 11/100\n",
      "12/12 [==============================] - 40s 3s/step - loss: 4889.0535 - val_loss: 18223.4023\n",
      "Epoch 12/100\n",
      "12/12 [==============================] - 40s 3s/step - loss: 4432.1462 - val_loss: 12395.9951\n",
      "Epoch 13/100\n",
      "12/12 [==============================] - 40s 3s/step - loss: 3650.0585 - val_loss: 6612.4951\n",
      "Epoch 14/100\n",
      "12/12 [==============================] - 40s 3s/step - loss: 1713.5220 - val_loss: 1583.9294\n",
      "Epoch 15/100\n",
      "12/12 [==============================] - 40s 3s/step - loss: 434.7109 - val_loss: 846.9138\n",
      "Epoch 16/100\n",
      "12/12 [==============================] - 40s 3s/step - loss: 347.9789 - val_loss: 787.2676\n",
      "Epoch 17/100\n",
      "12/12 [==============================] - 39s 3s/step - loss: 297.5727 - val_loss: 762.8979\n",
      "Epoch 18/100\n",
      "12/12 [==============================] - 39s 3s/step - loss: 287.9954 - val_loss: 725.1245\n",
      "Epoch 19/100\n",
      "12/12 [==============================] - 39s 3s/step - loss: 270.9008 - val_loss: 618.2369\n",
      "Epoch 20/100\n",
      "12/12 [==============================] - 39s 3s/step - loss: 261.3099 - val_loss: 479.9698\n",
      "Epoch 21/100\n",
      "12/12 [==============================] - 39s 3s/step - loss: 243.6108 - val_loss: 352.8960\n",
      "Epoch 22/100\n",
      "12/12 [==============================] - 39s 3s/step - loss: 233.2352 - val_loss: 360.0481\n",
      "Epoch 23/100\n",
      "12/12 [==============================] - 40s 3s/step - loss: 229.1378 - val_loss: 370.0313\n",
      "Epoch 24/100\n",
      "12/12 [==============================] - 40s 3s/step - loss: 227.5194 - val_loss: 342.4267\n",
      "Epoch 25/100\n",
      "12/12 [==============================] - 40s 3s/step - loss: 233.6661 - val_loss: 302.3250\n",
      "Epoch 26/100\n",
      "12/12 [==============================] - 40s 3s/step - loss: 216.3649 - val_loss: 263.2635\n",
      "Epoch 27/100\n",
      "12/12 [==============================] - 40s 3s/step - loss: 215.6984 - val_loss: 210.7471\n",
      "Epoch 28/100\n",
      "12/12 [==============================] - 40s 3s/step - loss: 205.5260 - val_loss: 203.5316\n",
      "Epoch 29/100\n",
      "12/12 [==============================] - 40s 4s/step - loss: 205.8864 - val_loss: 233.8098\n",
      "Epoch 30/100\n",
      "12/12 [==============================] - 39s 3s/step - loss: 215.8739 - val_loss: 252.0827\n",
      "Epoch 31/100\n",
      "12/12 [==============================] - 39s 3s/step - loss: 201.5781 - val_loss: 219.6369\n",
      "Epoch 32/100\n",
      "12/12 [==============================] - 39s 3s/step - loss: 198.3892 - val_loss: 220.1124\n",
      "Epoch 33/100\n",
      "12/12 [==============================] - 39s 3s/step - loss: 199.1771 - val_loss: 210.5346\n",
      "Epoch 34/100\n",
      "12/12 [==============================] - 39s 3s/step - loss: 197.2057 - val_loss: 204.1082\n",
      "Epoch 35/100\n",
      "12/12 [==============================] - 39s 3s/step - loss: 192.8435 - val_loss: 180.8025\n",
      "Epoch 36/100\n",
      "12/12 [==============================] - 40s 3s/step - loss: 183.5486 - val_loss: 193.2128\n",
      "Epoch 37/100\n",
      "12/12 [==============================] - 40s 3s/step - loss: 200.1797 - val_loss: 179.3947\n",
      "Epoch 38/100\n",
      "12/12 [==============================] - 40s 3s/step - loss: 194.0286 - val_loss: 188.8540\n",
      "Epoch 39/100\n",
      "12/12 [==============================] - 40s 3s/step - loss: 192.5400 - val_loss: 179.2890\n",
      "Epoch 40/100\n",
      "12/12 [==============================] - 40s 3s/step - loss: 188.9148 - val_loss: 176.7769\n",
      "Epoch 41/100\n",
      "12/12 [==============================] - 40s 3s/step - loss: 189.9282 - val_loss: 180.9031\n",
      "Epoch 42/100\n",
      "12/12 [==============================] - 40s 3s/step - loss: 182.7811 - val_loss: 174.7681\n",
      "Epoch 43/100\n",
      "12/12 [==============================] - 39s 3s/step - loss: 175.6002 - val_loss: 171.0067\n",
      "Epoch 44/100\n",
      "12/12 [==============================] - 39s 3s/step - loss: 180.2907 - val_loss: 172.0090\n",
      "Epoch 45/100\n",
      "12/12 [==============================] - 39s 3s/step - loss: 178.1192 - val_loss: 174.1349\n",
      "Epoch 46/100\n",
      "12/12 [==============================] - 39s 3s/step - loss: 177.8879 - val_loss: 169.2016\n",
      "Epoch 47/100\n",
      "12/12 [==============================] - 39s 3s/step - loss: 176.4825 - val_loss: 171.7717\n",
      "Epoch 48/100\n",
      "12/12 [==============================] - 39s 3s/step - loss: 180.6392 - val_loss: 173.1438\n",
      "Epoch 49/100\n",
      "12/12 [==============================] - 40s 3s/step - loss: 177.2232 - val_loss: 181.4488\n",
      "Epoch 50/100\n",
      "12/12 [==============================] - 40s 3s/step - loss: 178.9063 - val_loss: 164.9434\n",
      "Epoch 51/100\n",
      "12/12 [==============================] - 40s 3s/step - loss: 174.7293 - val_loss: 178.1092\n",
      "Epoch 52/100\n",
      "12/12 [==============================] - 40s 3s/step - loss: 169.6702 - val_loss: 162.2787\n",
      "Epoch 53/100\n",
      "12/12 [==============================] - 40s 3s/step - loss: 169.5138 - val_loss: 163.4735\n",
      "Epoch 54/100\n",
      "12/12 [==============================] - 40s 3s/step - loss: 164.6140 - val_loss: 157.2718\n",
      "Epoch 55/100\n",
      "12/12 [==============================] - 39s 3s/step - loss: 161.7353 - val_loss: 165.3994\n",
      "Epoch 56/100\n",
      "12/12 [==============================] - 39s 3s/step - loss: 169.8899 - val_loss: 155.5248\n",
      "Epoch 57/100\n",
      "12/12 [==============================] - 38s 3s/step - loss: 158.8265 - val_loss: 156.8873\n",
      "Epoch 58/100\n",
      "12/12 [==============================] - 38s 3s/step - loss: 162.1217 - val_loss: 166.2202\n",
      "Epoch 59/100\n",
      "12/12 [==============================] - 38s 3s/step - loss: 165.3289 - val_loss: 162.8344\n",
      "Epoch 60/100\n",
      "12/12 [==============================] - 38s 3s/step - loss: 164.2322 - val_loss: 156.3892\n",
      "Epoch 61/100\n",
      "12/12 [==============================] - 38s 3s/step - loss: 162.0199 - val_loss: 164.4527\n",
      "Epoch 62/100\n",
      "12/12 [==============================] - 38s 3s/step - loss: 160.7263 - val_loss: 163.6961\n",
      "Epoch 63/100\n",
      "12/12 [==============================] - 39s 3s/step - loss: 167.3470 - val_loss: 159.0760\n",
      "Epoch 64/100\n",
      "12/12 [==============================] - 39s 3s/step - loss: 165.9656 - val_loss: 153.8371\n",
      "Epoch 65/100\n",
      "12/12 [==============================] - 39s 3s/step - loss: 161.3568 - val_loss: 158.4699\n",
      "Epoch 66/100\n",
      "12/12 [==============================] - 39s 3s/step - loss: 167.6952 - val_loss: 151.0874\n",
      "Epoch 67/100\n",
      "12/12 [==============================] - 38s 3s/step - loss: 158.0562 - val_loss: 154.1847\n",
      "Epoch 68/100\n",
      "12/12 [==============================] - 38s 3s/step - loss: 162.4346 - val_loss: 164.1754\n",
      "Epoch 69/100\n",
      "12/12 [==============================] - 38s 3s/step - loss: 163.1296 - val_loss: 148.1361\n",
      "Epoch 70/100\n",
      "12/12 [==============================] - 38s 3s/step - loss: 156.2851 - val_loss: 147.0357\n",
      "Epoch 71/100\n",
      "12/12 [==============================] - 38s 3s/step - loss: 153.0602 - val_loss: 148.5796\n",
      "Epoch 72/100\n",
      "12/12 [==============================] - 38s 3s/step - loss: 152.2785 - val_loss: 153.9560\n",
      "Epoch 73/100\n",
      "12/12 [==============================] - 38s 3s/step - loss: 155.6768 - val_loss: 147.5087\n",
      "Epoch 74/100\n",
      "12/12 [==============================] - 39s 3s/step - loss: 156.0395 - val_loss: 147.0604\n",
      "Epoch 75/100\n",
      "12/12 [==============================] - 39s 3s/step - loss: 151.1629 - val_loss: 144.4550\n",
      "Epoch 76/100\n",
      "12/12 [==============================] - 39s 3s/step - loss: 150.0108 - val_loss: 150.4338\n",
      "Epoch 77/100\n",
      "12/12 [==============================] - 39s 3s/step - loss: 152.7307 - val_loss: 154.5267\n",
      "Epoch 78/100\n",
      "12/12 [==============================] - 39s 3s/step - loss: 153.1441 - val_loss: 145.3787\n",
      "Epoch 79/100\n",
      "12/12 [==============================] - 38s 3s/step - loss: 149.3391 - val_loss: 148.7278\n",
      "Epoch 80/100\n",
      "12/12 [==============================] - 38s 3s/step - loss: 149.2387 - val_loss: 144.1192\n",
      "Epoch 81/100\n",
      "12/12 [==============================] - 38s 3s/step - loss: 155.4313 - val_loss: 144.2058\n",
      "Epoch 82/100\n",
      "12/12 [==============================] - 37s 3s/step - loss: 148.5220 - val_loss: 155.7990\n",
      "Epoch 83/100\n",
      "12/12 [==============================] - 37s 3s/step - loss: 157.0178 - val_loss: 152.9630\n",
      "Epoch 84/100\n",
      "12/12 [==============================] - 37s 3s/step - loss: 152.6286 - val_loss: 143.8643\n",
      "Epoch 85/100\n",
      "12/12 [==============================] - 38s 3s/step - loss: 151.0739 - val_loss: 146.0133\n",
      "Epoch 86/100\n",
      "12/12 [==============================] - 38s 3s/step - loss: 149.5612 - val_loss: 149.6406\n",
      "Epoch 87/100\n",
      "12/12 [==============================] - 38s 3s/step - loss: 152.3890 - val_loss: 148.4306\n",
      "Epoch 88/100\n",
      "12/12 [==============================] - 38s 3s/step - loss: 155.4243 - val_loss: 140.7967\n",
      "Epoch 89/100\n",
      "12/12 [==============================] - 38s 3s/step - loss: 143.4004 - val_loss: 139.7607\n",
      "Epoch 90/100\n",
      "12/12 [==============================] - 38s 3s/step - loss: 144.8205 - val_loss: 149.7838\n",
      "Epoch 91/100\n",
      "12/12 [==============================] - 37s 3s/step - loss: 146.2006 - val_loss: 149.1582\n",
      "Epoch 92/100\n",
      "12/12 [==============================] - 37s 3s/step - loss: 149.0425 - val_loss: 138.0120\n",
      "Epoch 93/100\n",
      "12/12 [==============================] - 37s 3s/step - loss: 141.6856 - val_loss: 138.0326\n",
      "Epoch 94/100\n",
      "12/12 [==============================] - 37s 3s/step - loss: 144.3181 - val_loss: 148.8575\n",
      "Epoch 95/100\n",
      "12/12 [==============================] - 37s 3s/step - loss: 149.3041 - val_loss: 139.2897\n",
      "Epoch 96/100\n",
      "12/12 [==============================] - 37s 3s/step - loss: 142.5184 - val_loss: 139.2535\n",
      "Epoch 97/100\n",
      "12/12 [==============================] - 36s 3s/step - loss: 147.3123 - val_loss: 138.8434\n",
      "Epoch 98/100\n",
      "12/12 [==============================] - 35s 3s/step - loss: 143.3274 - val_loss: 139.2589\n",
      "Epoch 99/100\n",
      "12/12 [==============================] - 35s 3s/step - loss: 152.7405 - val_loss: 136.4599\n",
      "Epoch 100/100\n",
      "12/12 [==============================] - 35s 3s/step - loss: 139.7048 - val_loss: 162.8949\n"
     ]
    }
   ],
   "source": [
    "history = model.fit(\n",
    "    train2,\n",
    "    epochs=100,\n",
    "    shuffle=True,\n",
    "    validation_data=val2,\n",
    "    callbacks=[tb_callback, model_checkpoint_callback],\n",
    "    verbose=1,\n",
    ")"
   ]
  },
  {
   "cell_type": "code",
   "execution_count": 14,
   "metadata": {},
   "outputs": [],
   "source": [
    "audios = train.concatenate(test)"
   ]
  },
  {
   "cell_type": "code",
   "execution_count": 15,
   "metadata": {},
   "outputs": [],
   "source": [
    "pred = autoencoder.predict(audios.map(lambda item: item[\"audio\"]).batch(BATCH_SIZE))"
   ]
  },
  {
   "cell_type": "code",
   "execution_count": 16,
   "metadata": {},
   "outputs": [],
   "source": [
    "error_lst = []\n",
    "for item, pred in zip(tfds.as_numpy(audios), pred):\n",
    "    error = np.mean(np.square(item[\"audio\"] - pred))\n",
    "    error_lst.append(error)"
   ]
  },
  {
   "cell_type": "code",
   "execution_count": 17,
   "metadata": {},
   "outputs": [
    {
     "output_type": "execute_result",
     "data": {
      "text/plain": [
       "                                                  audio    id machine_id  \\\n",
       "3327  [163.07487, 161.21838, 163.3477, 167.9447, 140...  0124         00   \n",
       "118   [114.06631, 117.97325, 113.59333, 121.0207, 12...  0188         02   \n",
       "1805  [142.78604, 129.71992, 135.94756, 142.96118, 1...  0756         06   \n",
       "2111  [133.06099, 111.36417, 114.01928, 122.676506, ...  0679         00   \n",
       "1094  [193.66249, 189.3511, 188.49696, 186.62431, 20...  0498         02   \n",
       "\n",
       "     split label  \n",
       "3327     1     1  \n",
       "118      0     0  \n",
       "1805     0     0  \n",
       "2111     0     0  \n",
       "1094     0     0  "
      ],
      "text/html": "<div>\n<style scoped>\n    .dataframe tbody tr th:only-of-type {\n        vertical-align: middle;\n    }\n\n    .dataframe tbody tr th {\n        vertical-align: top;\n    }\n\n    .dataframe thead th {\n        text-align: right;\n    }\n</style>\n<table border=\"1\" class=\"dataframe\">\n  <thead>\n    <tr style=\"text-align: right;\">\n      <th></th>\n      <th>audio</th>\n      <th>id</th>\n      <th>machine_id</th>\n      <th>split</th>\n      <th>label</th>\n    </tr>\n  </thead>\n  <tbody>\n    <tr>\n      <th>3327</th>\n      <td>[163.07487, 161.21838, 163.3477, 167.9447, 140...</td>\n      <td>0124</td>\n      <td>00</td>\n      <td>1</td>\n      <td>1</td>\n    </tr>\n    <tr>\n      <th>118</th>\n      <td>[114.06631, 117.97325, 113.59333, 121.0207, 12...</td>\n      <td>0188</td>\n      <td>02</td>\n      <td>0</td>\n      <td>0</td>\n    </tr>\n    <tr>\n      <th>1805</th>\n      <td>[142.78604, 129.71992, 135.94756, 142.96118, 1...</td>\n      <td>0756</td>\n      <td>06</td>\n      <td>0</td>\n      <td>0</td>\n    </tr>\n    <tr>\n      <th>2111</th>\n      <td>[133.06099, 111.36417, 114.01928, 122.676506, ...</td>\n      <td>0679</td>\n      <td>00</td>\n      <td>0</td>\n      <td>0</td>\n    </tr>\n    <tr>\n      <th>1094</th>\n      <td>[193.66249, 189.3511, 188.49696, 186.62431, 20...</td>\n      <td>0498</td>\n      <td>02</td>\n      <td>0</td>\n      <td>0</td>\n    </tr>\n  </tbody>\n</table>\n</div>"
     },
     "metadata": {},
     "execution_count": 17
    }
   ],
   "source": [
    "audios_df = tfds.as_dataframe(audios, info)\n",
    "\n",
    "# Convert byte-type texts to string-type texts\n",
    "for col in audios_df:\n",
    "    if isinstance(audios_df[col][0], bytes):\n",
    "        audios_df[col] = audios_df[col].str.decode(\"utf8\")\n",
    "\n",
    "dct_columns = {\n",
    "    \"audio/id\": \"id\", \n",
    "    \"audio/machine\": \"machine_id\", \n",
    "    \"audio/split\": \"split\",\n",
    "}\n",
    "\n",
    "# Convert object-type columns to a more convenient data type\n",
    "dct_types = {\n",
    "    \"id\": \"string\",\n",
    "    \"machine_id\": \"category\",\n",
    "    \"split\": \"category\",\n",
    "    \"label\": \"category\",\n",
    "}\n",
    "\n",
    "audios_df = (\n",
    "    audios_df\n",
    "    .rename(columns=dct_columns)\n",
    "    .astype(dct_types)\n",
    ")\n",
    "\n",
    "audios_df.sample(5)"
   ]
  },
  {
   "cell_type": "code",
   "execution_count": 18,
   "metadata": {},
   "outputs": [],
   "source": [
    "audios_df[\"error\"] = error_lst"
   ]
  },
  {
   "cell_type": "code",
   "execution_count": 19,
   "metadata": {},
   "outputs": [
    {
     "output_type": "execute_result",
     "data": {
      "text/plain": [
       "                                                  audio    id machine_id  \\\n",
       "3836  [126.51826, 111.01998, 122.73849, 132.78821, 1...  0036         06   \n",
       "2825  [144.79059, 139.72159, 140.94376, 138.74268, 1...  0321         04   \n",
       "453   [81.38234, 75.21779, 77.45253, 82.02454, 80.46...  0895         06   \n",
       "3751  [76.23186, 86.233955, 75.907715, 73.2001, 57.1...  0033         06   \n",
       "450   [143.20929, 139.88228, 136.25633, 151.09628, 1...  0149         00   \n",
       "\n",
       "     split label        error  \n",
       "3836     1     1  1275.942505  \n",
       "2825     0     0   164.986679  \n",
       "453      0     0   369.789551  \n",
       "3751     1     0  6950.905762  \n",
       "450      0     0  4996.189941  "
      ],
      "text/html": "<div>\n<style scoped>\n    .dataframe tbody tr th:only-of-type {\n        vertical-align: middle;\n    }\n\n    .dataframe tbody tr th {\n        vertical-align: top;\n    }\n\n    .dataframe thead th {\n        text-align: right;\n    }\n</style>\n<table border=\"1\" class=\"dataframe\">\n  <thead>\n    <tr style=\"text-align: right;\">\n      <th></th>\n      <th>audio</th>\n      <th>id</th>\n      <th>machine_id</th>\n      <th>split</th>\n      <th>label</th>\n      <th>error</th>\n    </tr>\n  </thead>\n  <tbody>\n    <tr>\n      <th>3836</th>\n      <td>[126.51826, 111.01998, 122.73849, 132.78821, 1...</td>\n      <td>0036</td>\n      <td>06</td>\n      <td>1</td>\n      <td>1</td>\n      <td>1275.942505</td>\n    </tr>\n    <tr>\n      <th>2825</th>\n      <td>[144.79059, 139.72159, 140.94376, 138.74268, 1...</td>\n      <td>0321</td>\n      <td>04</td>\n      <td>0</td>\n      <td>0</td>\n      <td>164.986679</td>\n    </tr>\n    <tr>\n      <th>453</th>\n      <td>[81.38234, 75.21779, 77.45253, 82.02454, 80.46...</td>\n      <td>0895</td>\n      <td>06</td>\n      <td>0</td>\n      <td>0</td>\n      <td>369.789551</td>\n    </tr>\n    <tr>\n      <th>3751</th>\n      <td>[76.23186, 86.233955, 75.907715, 73.2001, 57.1...</td>\n      <td>0033</td>\n      <td>06</td>\n      <td>1</td>\n      <td>0</td>\n      <td>6950.905762</td>\n    </tr>\n    <tr>\n      <th>450</th>\n      <td>[143.20929, 139.88228, 136.25633, 151.09628, 1...</td>\n      <td>0149</td>\n      <td>00</td>\n      <td>0</td>\n      <td>0</td>\n      <td>4996.189941</td>\n    </tr>\n  </tbody>\n</table>\n</div>"
     },
     "metadata": {},
     "execution_count": 19
    }
   ],
   "source": [
    "audios_df.sample(5)"
   ]
  },
  {
   "cell_type": "code",
   "execution_count": 20,
   "metadata": {},
   "outputs": [
    {
     "output_type": "execute_result",
     "data": {
      "text/plain": [
       "                  error             \n",
       "                   mean          std\n",
       "machine_id                          \n",
       "00          1578.129586  2152.600801\n",
       "02          1602.127550  2388.100506\n",
       "04          1490.602155  1952.101502\n",
       "06          1552.308182  2052.818645"
      ],
      "text/html": "<div>\n<style scoped>\n    .dataframe tbody tr th:only-of-type {\n        vertical-align: middle;\n    }\n\n    .dataframe tbody tr th {\n        vertical-align: top;\n    }\n\n    .dataframe thead tr th {\n        text-align: left;\n    }\n\n    .dataframe thead tr:last-of-type th {\n        text-align: right;\n    }\n</style>\n<table border=\"1\" class=\"dataframe\">\n  <thead>\n    <tr>\n      <th></th>\n      <th colspan=\"2\" halign=\"left\">error</th>\n    </tr>\n    <tr>\n      <th></th>\n      <th>mean</th>\n      <th>std</th>\n    </tr>\n    <tr>\n      <th>machine_id</th>\n      <th></th>\n      <th></th>\n    </tr>\n  </thead>\n  <tbody>\n    <tr>\n      <th>00</th>\n      <td>1578.129586</td>\n      <td>2152.600801</td>\n    </tr>\n    <tr>\n      <th>02</th>\n      <td>1602.127550</td>\n      <td>2388.100506</td>\n    </tr>\n    <tr>\n      <th>04</th>\n      <td>1490.602155</td>\n      <td>1952.101502</td>\n    </tr>\n    <tr>\n      <th>06</th>\n      <td>1552.308182</td>\n      <td>2052.818645</td>\n    </tr>\n  </tbody>\n</table>\n</div>"
     },
     "metadata": {},
     "execution_count": 20
    }
   ],
   "source": [
    "(\n",
    "    audios_df\n",
    "    .query(\"split == 0\")\n",
    "    .groupby(\"machine_id\")\n",
    "    .agg({\"error\": [\"mean\", \"std\"]})\n",
    ")"
   ]
  },
  {
   "cell_type": "code",
   "execution_count": 21,
   "metadata": {},
   "outputs": [
    {
     "output_type": "execute_result",
     "data": {
      "text/plain": [
       "                        error             \n",
       "                         mean          std\n",
       "label machine_id                          \n",
       "0     00          1755.397064  2138.856112\n",
       "      02          1643.909474  2003.412155\n",
       "      04          1706.000243  2101.964359\n",
       "      06          1860.700432  1949.759169\n",
       "1     00          1435.774675  1673.611327\n",
       "      02          1601.938428  1878.721038\n",
       "      04          1443.710609  1779.309144\n",
       "      06          1996.163047  2145.757283"
      ],
      "text/html": "<div>\n<style scoped>\n    .dataframe tbody tr th:only-of-type {\n        vertical-align: middle;\n    }\n\n    .dataframe tbody tr th {\n        vertical-align: top;\n    }\n\n    .dataframe thead tr th {\n        text-align: left;\n    }\n\n    .dataframe thead tr:last-of-type th {\n        text-align: right;\n    }\n</style>\n<table border=\"1\" class=\"dataframe\">\n  <thead>\n    <tr>\n      <th></th>\n      <th></th>\n      <th colspan=\"2\" halign=\"left\">error</th>\n    </tr>\n    <tr>\n      <th></th>\n      <th></th>\n      <th>mean</th>\n      <th>std</th>\n    </tr>\n    <tr>\n      <th>label</th>\n      <th>machine_id</th>\n      <th></th>\n      <th></th>\n    </tr>\n  </thead>\n  <tbody>\n    <tr>\n      <th rowspan=\"4\" valign=\"top\">0</th>\n      <th>00</th>\n      <td>1755.397064</td>\n      <td>2138.856112</td>\n    </tr>\n    <tr>\n      <th>02</th>\n      <td>1643.909474</td>\n      <td>2003.412155</td>\n    </tr>\n    <tr>\n      <th>04</th>\n      <td>1706.000243</td>\n      <td>2101.964359</td>\n    </tr>\n    <tr>\n      <th>06</th>\n      <td>1860.700432</td>\n      <td>1949.759169</td>\n    </tr>\n    <tr>\n      <th rowspan=\"4\" valign=\"top\">1</th>\n      <th>00</th>\n      <td>1435.774675</td>\n      <td>1673.611327</td>\n    </tr>\n    <tr>\n      <th>02</th>\n      <td>1601.938428</td>\n      <td>1878.721038</td>\n    </tr>\n    <tr>\n      <th>04</th>\n      <td>1443.710609</td>\n      <td>1779.309144</td>\n    </tr>\n    <tr>\n      <th>06</th>\n      <td>1996.163047</td>\n      <td>2145.757283</td>\n    </tr>\n  </tbody>\n</table>\n</div>"
     },
     "metadata": {},
     "execution_count": 21
    }
   ],
   "source": [
    "(\n",
    "    audios_df\n",
    "    .query(\"split == 1\")\n",
    "    .groupby([\"label\", \"machine_id\"])\n",
    "    .agg({\"error\": [\"mean\", \"std\"]})\n",
    ")"
   ]
  },
  {
   "cell_type": "code",
   "execution_count": 22,
   "metadata": {},
   "outputs": [
    {
     "output_type": "display_data",
     "data": {
      "text/plain": "<Figure size 640x480 with 4 Axes>",
      "image/svg+xml": "<?xml version=\"1.0\" encoding=\"utf-8\" standalone=\"no\"?>\r\n<!DOCTYPE svg PUBLIC \"-//W3C//DTD SVG 1.1//EN\"\r\n  \"http://www.w3.org/Graphics/SVG/1.1/DTD/svg11.dtd\">\r\n<svg height=\"328.759088pt\" version=\"1.1\" viewBox=\"0 0 470.813156 328.759088\" width=\"470.813156pt\" xmlns=\"http://www.w3.org/2000/svg\" xmlns:xlink=\"http://www.w3.org/1999/xlink\">\r\n <metadata>\r\n  <rdf:RDF xmlns:cc=\"http://creativecommons.org/ns#\" xmlns:dc=\"http://purl.org/dc/elements/1.1/\" xmlns:rdf=\"http://www.w3.org/1999/02/22-rdf-syntax-ns#\">\r\n   <cc:Work>\r\n    <dc:type rdf:resource=\"http://purl.org/dc/dcmitype/StillImage\"/>\r\n    <dc:date>2021-05-06T20:57:42.982374</dc:date>\r\n    <dc:format>image/svg+xml</dc:format>\r\n    <dc:creator>\r\n     <cc:Agent>\r\n      <dc:title>Matplotlib v3.4.1, https://matplotlib.org/</dc:title>\r\n     </cc:Agent>\r\n    </dc:creator>\r\n   </cc:Work>\r\n  </rdf:RDF>\r\n </metadata>\r\n <defs>\r\n  <style type=\"text/css\">*{stroke-linecap:butt;stroke-linejoin:round;}</style>\r\n </defs>\r\n <g id=\"figure_1\">\r\n  <g id=\"patch_1\">\r\n   <path d=\"M 0 328.759088 \r\nL 470.813156 328.759088 \r\nL 470.813156 0 \r\nL 0 0 \r\nz\r\n\" style=\"fill:#ffffff;stroke:#ffffff;stroke-linejoin:miter;\"/>\r\n  </g>\r\n  <g id=\"axes_1\">\r\n   <g id=\"patch_2\">\r\n    <path d=\"M 36.948906 89.623213 \r\nL 394.068906 89.623213 \r\nL 394.068906 26.875213 \r\nL 36.948906 26.875213 \r\nz\r\n\" style=\"fill:none;stroke:#000000;stroke-linejoin:miter;stroke-width:0.5;\"/>\r\n   </g>\r\n   <g id=\"matplotlib.axis_1\">\r\n    <g id=\"xtick_1\">\r\n     <g id=\"line2d_1\">\r\n      <path clip-path=\"url(#pa7f02f8809)\" d=\"M 57.690724 89.623213 \r\nL 57.690724 26.875213 \r\n\" style=\"fill:none;stroke:#d3d3d3;stroke-width:0.8;\"/>\r\n     </g>\r\n    </g>\r\n    <g id=\"xtick_2\">\r\n     <g id=\"line2d_2\">\r\n      <path clip-path=\"url(#pa7f02f8809)\" d=\"M 165.102775 89.623213 \r\nL 165.102775 26.875213 \r\n\" style=\"fill:none;stroke:#d3d3d3;stroke-width:0.8;\"/>\r\n     </g>\r\n    </g>\r\n    <g id=\"xtick_3\">\r\n     <g id=\"line2d_3\">\r\n      <path clip-path=\"url(#pa7f02f8809)\" d=\"M 272.514825 89.623213 \r\nL 272.514825 26.875213 \r\n\" style=\"fill:none;stroke:#d3d3d3;stroke-width:0.8;\"/>\r\n     </g>\r\n    </g>\r\n    <g id=\"xtick_4\">\r\n     <g id=\"line2d_4\">\r\n      <path clip-path=\"url(#pa7f02f8809)\" d=\"M 379.926876 89.623213 \r\nL 379.926876 26.875213 \r\n\" style=\"fill:none;stroke:#d3d3d3;stroke-width:0.8;\"/>\r\n     </g>\r\n    </g>\r\n    <g id=\"xtick_5\"/>\r\n    <g id=\"xtick_6\"/>\r\n    <g id=\"xtick_7\"/>\r\n   </g>\r\n   <g id=\"matplotlib.axis_2\">\r\n    <g id=\"ytick_1\">\r\n     <g id=\"line2d_5\">\r\n      <path clip-path=\"url(#pa7f02f8809)\" d=\"M 36.948906 86.771031 \r\nL 394.068906 86.771031 \r\n\" style=\"fill:none;stroke:#d3d3d3;stroke-width:0.8;\"/>\r\n     </g>\r\n     <g id=\"line2d_6\">\r\n      <path d=\"M 36.948906 86.771031 \r\n\" style=\"fill:none;stroke:#333333;stroke-width:1.5;\"/>\r\n      <defs>\r\n       <path d=\"M 0 0 \r\nL -2.75 0 \r\n\" id=\"m5f5e6869d7\" style=\"stroke:#000000;\"/>\r\n      </defs>\r\n      <g>\r\n       <use style=\"fill:#333333;stroke:#000000;\" x=\"36.948906\" xlink:href=\"#m5f5e6869d7\" y=\"86.771031\"/>\r\n      </g>\r\n     </g>\r\n     <g id=\"text_1\">\r\n      <!-- 0 -->\r\n      <g transform=\"translate(27.085469 89.284703)scale(0.09 -0.09)\">\r\n       <defs>\r\n        <path d=\"M 3234 2328 \r\nQ 3234 1075 2870 489 \r\nQ 2506 -97 1747 -97 \r\nQ 978 -97 618 500 \r\nQ 259 1097 259 2322 \r\nQ 259 3581 623 4164 \r\nQ 988 4747 1747 4747 \r\nQ 2516 4747 2875 4144 \r\nQ 3234 3541 3234 2328 \r\nz\r\nM 2434 909 \r\nQ 2525 1141 2562 1494 \r\nQ 2600 1847 2600 2328 \r\nQ 2600 2806 2562 3159 \r\nQ 2525 3513 2431 3747 \r\nQ 2338 3984 2173 4107 \r\nQ 2009 4231 1747 4231 \r\nQ 1488 4231 1320 4107 \r\nQ 1153 3984 1056 3741 \r\nQ 963 3503 928 3140 \r\nQ 894 2778 894 2322 \r\nQ 894 1834 923 1506 \r\nQ 953 1178 1053 919 \r\nQ 1144 678 1311 548 \r\nQ 1478 419 1747 419 \r\nQ 2006 419 2173 542 \r\nQ 2341 666 2434 909 \r\nz\r\n\" id=\"Tahoma-30\" transform=\"scale(0.015625)\"/>\r\n       </defs>\r\n       <use xlink:href=\"#Tahoma-30\"/>\r\n      </g>\r\n     </g>\r\n    </g>\r\n    <g id=\"ytick_2\">\r\n     <g id=\"line2d_7\">\r\n      <path clip-path=\"url(#pa7f02f8809)\" d=\"M 36.948906 72.144458 \r\nL 394.068906 72.144458 \r\n\" style=\"fill:none;stroke:#d3d3d3;stroke-width:0.8;\"/>\r\n     </g>\r\n     <g id=\"line2d_8\">\r\n      <path d=\"M 36.948906 72.144458 \r\n\" style=\"fill:none;stroke:#333333;stroke-width:1.5;\"/>\r\n      <g>\r\n       <use style=\"fill:#333333;stroke:#000000;\" x=\"36.948906\" xlink:href=\"#m5f5e6869d7\" y=\"72.144458\"/>\r\n      </g>\r\n     </g>\r\n     <g id=\"text_2\">\r\n      <!-- 10 -->\r\n      <g transform=\"translate(22.172031 74.65813)scale(0.09 -0.09)\">\r\n       <defs>\r\n        <path d=\"M 2975 0 \r\nL 706 0 \r\nL 706 475 \r\nL 1550 475 \r\nL 1550 3594 \r\nL 706 3594 \r\nL 706 4019 \r\nQ 1184 4019 1411 4155 \r\nQ 1638 4291 1666 4669 \r\nL 2150 4669 \r\nL 2150 475 \r\nL 2975 475 \r\nL 2975 0 \r\nz\r\n\" id=\"Tahoma-31\" transform=\"scale(0.015625)\"/>\r\n       </defs>\r\n       <use xlink:href=\"#Tahoma-31\"/>\r\n       <use x=\"54.589844\" xlink:href=\"#Tahoma-30\"/>\r\n      </g>\r\n     </g>\r\n    </g>\r\n    <g id=\"ytick_3\">\r\n     <g id=\"line2d_9\">\r\n      <path clip-path=\"url(#pa7f02f8809)\" d=\"M 36.948906 57.517885 \r\nL 394.068906 57.517885 \r\n\" style=\"fill:none;stroke:#d3d3d3;stroke-width:0.8;\"/>\r\n     </g>\r\n     <g id=\"line2d_10\">\r\n      <path d=\"M 36.948906 57.517885 \r\n\" style=\"fill:none;stroke:#333333;stroke-width:1.5;\"/>\r\n      <g>\r\n       <use style=\"fill:#333333;stroke:#000000;\" x=\"36.948906\" xlink:href=\"#m5f5e6869d7\" y=\"57.517885\"/>\r\n      </g>\r\n     </g>\r\n     <g id=\"text_3\">\r\n      <!-- 20 -->\r\n      <g transform=\"translate(22.172031 60.031556)scale(0.09 -0.09)\">\r\n       <defs>\r\n        <path d=\"M 3213 0 \r\nL 341 0 \r\nL 341 653 \r\nQ 650 947 925 1215 \r\nQ 1200 1484 1463 1775 \r\nQ 1994 2359 2187 2711 \r\nQ 2381 3063 2381 3438 \r\nQ 2381 3631 2320 3778 \r\nQ 2259 3925 2153 4022 \r\nQ 2044 4116 1900 4162 \r\nQ 1756 4209 1584 4209 \r\nQ 1419 4209 1248 4167 \r\nQ 1078 4125 922 4063 \r\nQ 791 4009 669 3934 \r\nQ 547 3859 472 3806 \r\nL 438 3806 \r\nL 438 4469 \r\nQ 631 4566 976 4658 \r\nQ 1322 4750 1631 4750 \r\nQ 2281 4750 2650 4404 \r\nQ 3019 4059 3019 3469 \r\nQ 3019 3197 2955 2965 \r\nQ 2891 2734 2778 2538 \r\nQ 2663 2334 2500 2134 \r\nQ 2338 1934 2156 1741 \r\nQ 1863 1422 1502 1078 \r\nQ 1141 734 925 534 \r\nL 3213 534 \r\nL 3213 0 \r\nz\r\n\" id=\"Tahoma-32\" transform=\"scale(0.015625)\"/>\r\n       </defs>\r\n       <use xlink:href=\"#Tahoma-32\"/>\r\n       <use x=\"54.589844\" xlink:href=\"#Tahoma-30\"/>\r\n      </g>\r\n     </g>\r\n    </g>\r\n    <g id=\"ytick_4\">\r\n     <g id=\"line2d_11\">\r\n      <path clip-path=\"url(#pa7f02f8809)\" d=\"M 36.948906 42.891311 \r\nL 394.068906 42.891311 \r\n\" style=\"fill:none;stroke:#d3d3d3;stroke-width:0.8;\"/>\r\n     </g>\r\n     <g id=\"line2d_12\">\r\n      <path d=\"M 36.948906 42.891311 \r\n\" style=\"fill:none;stroke:#333333;stroke-width:1.5;\"/>\r\n      <g>\r\n       <use style=\"fill:#333333;stroke:#000000;\" x=\"36.948906\" xlink:href=\"#m5f5e6869d7\" y=\"42.891311\"/>\r\n      </g>\r\n     </g>\r\n     <g id=\"text_4\">\r\n      <!-- 30 -->\r\n      <g transform=\"translate(22.172031 45.404983)scale(0.09 -0.09)\">\r\n       <defs>\r\n        <path d=\"M 1597 4209 \r\nQ 1428 4209 1259 4168 \r\nQ 1091 4128 928 4063 \r\nQ 778 4000 667 3931 \r\nQ 556 3863 469 3803 \r\nL 431 3803 \r\nL 431 4463 \r\nQ 634 4572 982 4661 \r\nQ 1331 4750 1647 4750 \r\nQ 1963 4750 2198 4686 \r\nQ 2434 4622 2625 4488 \r\nQ 2831 4338 2936 4125 \r\nQ 3041 3913 3041 3628 \r\nQ 3041 3244 2787 2953 \r\nQ 2534 2663 2181 2584 \r\nL 2181 2541 \r\nQ 2328 2513 2495 2444 \r\nQ 2663 2375 2806 2241 \r\nQ 2950 2106 3040 1895 \r\nQ 3131 1684 3131 1381 \r\nQ 3131 1066 3023 802 \r\nQ 2916 538 2719 334 \r\nQ 2516 122 2228 12 \r\nQ 1941 -97 1575 -97 \r\nQ 1225 -97 881 -12 \r\nQ 538 72 303 191 \r\nL 303 850 \r\nL 347 850 \r\nQ 544 706 875 575 \r\nQ 1206 444 1538 444 \r\nQ 1728 444 1920 505 \r\nQ 2113 566 2241 703 \r\nQ 2366 841 2431 1006 \r\nQ 2497 1172 2497 1425 \r\nQ 2497 1678 2423 1840 \r\nQ 2350 2003 2219 2097 \r\nQ 2088 2191 1908 2227 \r\nQ 1728 2263 1519 2263 \r\nL 1253 2263 \r\nL 1253 2781 \r\nL 1459 2781 \r\nQ 1881 2781 2145 2981 \r\nQ 2409 3181 2409 3563 \r\nQ 2409 3738 2340 3864 \r\nQ 2272 3991 2166 4066 \r\nQ 2047 4147 1903 4178 \r\nQ 1759 4209 1597 4209 \r\nz\r\n\" id=\"Tahoma-33\" transform=\"scale(0.015625)\"/>\r\n       </defs>\r\n       <use xlink:href=\"#Tahoma-33\"/>\r\n       <use x=\"54.589844\" xlink:href=\"#Tahoma-30\"/>\r\n      </g>\r\n     </g>\r\n    </g>\r\n    <g id=\"ytick_5\">\r\n     <g id=\"line2d_13\">\r\n      <path clip-path=\"url(#pa7f02f8809)\" d=\"M 36.948906 28.264738 \r\nL 394.068906 28.264738 \r\n\" style=\"fill:none;stroke:#d3d3d3;stroke-width:0.8;\"/>\r\n     </g>\r\n     <g id=\"line2d_14\">\r\n      <path d=\"M 36.948906 28.264738 \r\n\" style=\"fill:none;stroke:#333333;stroke-width:1.5;\"/>\r\n      <g>\r\n       <use style=\"fill:#333333;stroke:#000000;\" x=\"36.948906\" xlink:href=\"#m5f5e6869d7\" y=\"28.264738\"/>\r\n      </g>\r\n     </g>\r\n     <g id=\"text_5\">\r\n      <!-- 40 -->\r\n      <g transform=\"translate(22.172031 30.77841)scale(0.09 -0.09)\">\r\n       <defs>\r\n        <path d=\"M 3334 1600 \r\nL 2781 1600 \r\nL 2781 0 \r\nL 2181 0 \r\nL 2181 1600 \r\nL 125 1600 \r\nL 125 2256 \r\nL 2206 4653 \r\nL 2781 4653 \r\nL 2781 2100 \r\nL 3334 2100 \r\nL 3334 1600 \r\nz\r\nM 2181 2100 \r\nL 2181 3919 \r\nL 613 2100 \r\nL 2181 2100 \r\nz\r\n\" id=\"Tahoma-34\" transform=\"scale(0.015625)\"/>\r\n       </defs>\r\n       <use xlink:href=\"#Tahoma-34\"/>\r\n       <use x=\"54.589844\" xlink:href=\"#Tahoma-30\"/>\r\n      </g>\r\n     </g>\r\n    </g>\r\n    <g id=\"ytick_6\"/>\r\n    <g id=\"ytick_7\"/>\r\n    <g id=\"ytick_8\"/>\r\n    <g id=\"ytick_9\"/>\r\n    <g id=\"text_6\">\r\n     <!-- Count -->\r\n     <g transform=\"translate(15.558281 172.46712)rotate(-90)scale(0.11 -0.11)\">\r\n      <defs>\r\n       <path d=\"M 2291 -84 \r\nQ 1834 -84 1451 69 \r\nQ 1069 222 791 525 \r\nQ 513 828 359 1281 \r\nQ 206 1734 206 2322 \r\nQ 206 2906 354 3340 \r\nQ 503 3775 788 4097 \r\nQ 1066 4409 1447 4573 \r\nQ 1828 4738 2300 4738 \r\nQ 2534 4738 2739 4703 \r\nQ 2944 4669 3119 4616 \r\nQ 3269 4569 3426 4498 \r\nQ 3584 4428 3738 4344 \r\nL 3738 3597 \r\nL 3688 3597 \r\nQ 3606 3672 3478 3778 \r\nQ 3350 3884 3166 3988 \r\nQ 2988 4084 2778 4146 \r\nQ 2569 4209 2294 4209 \r\nQ 1997 4209 1731 4087 \r\nQ 1466 3966 1266 3728 \r\nQ 1069 3491 959 3131 \r\nQ 850 2772 850 2322 \r\nQ 850 1844 965 1498 \r\nQ 1081 1153 1281 916 \r\nQ 1475 684 1737 567 \r\nQ 2000 450 2294 450 \r\nQ 2563 450 2791 515 \r\nQ 3019 581 3197 681 \r\nQ 3369 778 3494 879 \r\nQ 3619 981 3691 1053 \r\nL 3738 1053 \r\nL 3738 316 \r\nQ 3584 244 3448 178 \r\nQ 3313 113 3119 50 \r\nQ 2916 -16 2742 -50 \r\nQ 2569 -84 2291 -84 \r\nz\r\n\" id=\"Tahoma-43\" transform=\"scale(0.015625)\"/>\r\n       <path d=\"M 3297 1744 \r\nQ 3297 863 2872 383 \r\nQ 2447 -97 1741 -97 \r\nQ 1013 -97 595 398 \r\nQ 178 894 178 1744 \r\nQ 178 2619 608 3103 \r\nQ 1038 3588 1741 3588 \r\nQ 2447 3588 2872 3105 \r\nQ 3297 2622 3297 1744 \r\nz\r\nM 2691 1744 \r\nQ 2691 2422 2444 2751 \r\nQ 2197 3081 1741 3081 \r\nQ 1281 3081 1032 2751 \r\nQ 784 2422 784 1744 \r\nQ 784 1088 1032 748 \r\nQ 1281 409 1741 409 \r\nQ 2194 409 2442 742 \r\nQ 2691 1075 2691 1744 \r\nz\r\n\" id=\"Tahoma-6f\" transform=\"scale(0.015625)\"/>\r\n       <path d=\"M 3144 0 \r\nL 2556 0 \r\nL 2556 388 \r\nQ 2284 150 2040 26 \r\nQ 1797 -97 1497 -97 \r\nQ 1269 -97 1067 -22 \r\nQ 866 53 716 216 \r\nQ 566 378 483 625 \r\nQ 400 872 400 1225 \r\nL 400 3491 \r\nL 988 3491 \r\nL 988 1503 \r\nQ 988 1225 1008 1042 \r\nQ 1028 859 1100 722 \r\nQ 1172 588 1295 525 \r\nQ 1419 463 1650 463 \r\nQ 1866 463 2109 584 \r\nQ 2353 706 2556 884 \r\nL 2556 3491 \r\nL 3144 3491 \r\nL 3144 0 \r\nz\r\n\" id=\"Tahoma-75\" transform=\"scale(0.015625)\"/>\r\n       <path d=\"M 3169 0 \r\nL 2581 0 \r\nL 2581 1988 \r\nQ 2581 2228 2557 2436 \r\nQ 2534 2644 2469 2769 \r\nQ 2397 2900 2269 2964 \r\nQ 2141 3028 1919 3028 \r\nQ 1700 3028 1467 2911 \r\nQ 1234 2794 1013 2606 \r\nL 1013 0 \r\nL 425 0 \r\nL 425 3491 \r\nL 1013 3491 \r\nL 1013 3103 \r\nQ 1275 3338 1531 3463 \r\nQ 1788 3588 2072 3588 \r\nQ 2588 3588 2878 3248 \r\nQ 3169 2909 3169 2266 \r\nL 3169 0 \r\nz\r\n\" id=\"Tahoma-6e\" transform=\"scale(0.015625)\"/>\r\n       <path d=\"M 1481 -69 \r\nQ 1000 -69 731 204 \r\nQ 463 478 463 1069 \r\nL 463 3003 \r\nL 66 3003 \r\nL 66 3491 \r\nL 463 3491 \r\nL 463 4494 \r\nL 1050 4494 \r\nL 1050 3491 \r\nL 2131 3491 \r\nL 2131 3003 \r\nL 1050 3003 \r\nL 1050 1344 \r\nQ 1050 1078 1059 934 \r\nQ 1069 791 1131 666 \r\nQ 1184 556 1303 501 \r\nQ 1422 447 1625 447 \r\nQ 1769 447 1903 489 \r\nQ 2038 531 2097 559 \r\nL 2131 559 \r\nL 2131 31 \r\nQ 1966 -16 1795 -42 \r\nQ 1625 -69 1481 -69 \r\nz\r\n\" id=\"Tahoma-74\" transform=\"scale(0.015625)\"/>\r\n      </defs>\r\n      <use xlink:href=\"#Tahoma-43\"/>\r\n      <use x=\"60.058594\" xlink:href=\"#Tahoma-6f\"/>\r\n      <use x=\"114.355469\" xlink:href=\"#Tahoma-75\"/>\r\n      <use x=\"170.117188\" xlink:href=\"#Tahoma-6e\"/>\r\n      <use x=\"225.878906\" xlink:href=\"#Tahoma-74\"/>\r\n     </g>\r\n    </g>\r\n   </g>\r\n   <g id=\"PolyCollection_1\">\r\n    <path clip-path=\"url(#pa7f02f8809)\" d=\"M 53.181634 86.771031 \r\nL 53.181634 60.443199 \r\nL 62.199815 60.443199 \r\nL 62.199815 86.771031 \r\nz\r\n\" style=\"fill:#7fc97f;fill-opacity:0.74902;\"/>\r\n    <path clip-path=\"url(#pa7f02f8809)\" d=\"M 62.199815 86.771031 \r\nL 62.199815 58.980542 \r\nL 71.217997 58.980542 \r\nL 71.217997 86.771031 \r\nz\r\n\" style=\"fill:#7fc97f;fill-opacity:0.74902;\"/>\r\n    <path clip-path=\"url(#pa7f02f8809)\" d=\"M 71.217997 86.771031 \r\nL 71.217997 73.607115 \r\nL 80.236179 73.607115 \r\nL 80.236179 86.771031 \r\nz\r\n\" style=\"fill:#7fc97f;fill-opacity:0.74902;\"/>\r\n    <path clip-path=\"url(#pa7f02f8809)\" d=\"M 80.236179 86.771031 \r\nL 80.236179 69.219143 \r\nL 89.254361 69.219143 \r\nL 89.254361 86.771031 \r\nz\r\n\" style=\"fill:#7fc97f;fill-opacity:0.74902;\"/>\r\n    <path clip-path=\"url(#pa7f02f8809)\" d=\"M 89.254361 86.771031 \r\nL 89.254361 73.607115 \r\nL 98.272543 73.607115 \r\nL 98.272543 86.771031 \r\nz\r\n\" style=\"fill:#7fc97f;fill-opacity:0.74902;\"/>\r\n    <path clip-path=\"url(#pa7f02f8809)\" d=\"M 98.272543 86.771031 \r\nL 98.272543 73.607115 \r\nL 107.290724 73.607115 \r\nL 107.290724 86.771031 \r\nz\r\n\" style=\"fill:#7fc97f;fill-opacity:0.74902;\"/>\r\n    <path clip-path=\"url(#pa7f02f8809)\" d=\"M 107.290724 86.771031 \r\nL 107.290724 79.457745 \r\nL 116.308906 79.457745 \r\nL 116.308906 86.771031 \r\nz\r\n\" style=\"fill:#7fc97f;fill-opacity:0.74902;\"/>\r\n    <path clip-path=\"url(#pa7f02f8809)\" d=\"M 116.308906 86.771031 \r\nL 116.308906 77.995087 \r\nL 125.327088 77.995087 \r\nL 125.327088 86.771031 \r\nz\r\n\" style=\"fill:#7fc97f;fill-opacity:0.74902;\"/>\r\n    <path clip-path=\"url(#pa7f02f8809)\" d=\"M 125.327088 86.771031 \r\nL 125.327088 86.771031 \r\nL 134.34527 86.771031 \r\nL 134.34527 86.771031 \r\nz\r\n\" style=\"fill:#7fc97f;fill-opacity:0.74902;\"/>\r\n    <path clip-path=\"url(#pa7f02f8809)\" d=\"M 134.34527 86.771031 \r\nL 134.34527 85.308374 \r\nL 143.363452 85.308374 \r\nL 143.363452 86.771031 \r\nz\r\n\" style=\"fill:#7fc97f;fill-opacity:0.74902;\"/>\r\n    <path clip-path=\"url(#pa7f02f8809)\" d=\"M 143.363452 86.771031 \r\nL 143.363452 86.771031 \r\nL 152.381634 86.771031 \r\nL 152.381634 86.771031 \r\nz\r\n\" style=\"fill:#7fc97f;fill-opacity:0.74902;\"/>\r\n    <path clip-path=\"url(#pa7f02f8809)\" d=\"M 152.381634 86.771031 \r\nL 152.381634 82.383059 \r\nL 161.399815 82.383059 \r\nL 161.399815 86.771031 \r\nz\r\n\" style=\"fill:#7fc97f;fill-opacity:0.74902;\"/>\r\n    <path clip-path=\"url(#pa7f02f8809)\" d=\"M 161.399815 86.771031 \r\nL 161.399815 82.383059 \r\nL 170.417997 82.383059 \r\nL 170.417997 86.771031 \r\nz\r\n\" style=\"fill:#7fc97f;fill-opacity:0.74902;\"/>\r\n    <path clip-path=\"url(#pa7f02f8809)\" d=\"M 170.417997 86.771031 \r\nL 170.417997 83.845717 \r\nL 179.436179 83.845717 \r\nL 179.436179 86.771031 \r\nz\r\n\" style=\"fill:#7fc97f;fill-opacity:0.74902;\"/>\r\n    <path clip-path=\"url(#pa7f02f8809)\" d=\"M 179.436179 86.771031 \r\nL 179.436179 85.308374 \r\nL 188.454361 85.308374 \r\nL 188.454361 86.771031 \r\nz\r\n\" style=\"fill:#7fc97f;fill-opacity:0.74902;\"/>\r\n    <path clip-path=\"url(#pa7f02f8809)\" d=\"M 188.454361 86.771031 \r\nL 188.454361 85.308374 \r\nL 197.472543 85.308374 \r\nL 197.472543 86.771031 \r\nz\r\n\" style=\"fill:#7fc97f;fill-opacity:0.74902;\"/>\r\n    <path clip-path=\"url(#pa7f02f8809)\" d=\"M 197.472543 86.771031 \r\nL 197.472543 86.771031 \r\nL 206.490724 86.771031 \r\nL 206.490724 86.771031 \r\nz\r\n\" style=\"fill:#7fc97f;fill-opacity:0.74902;\"/>\r\n    <path clip-path=\"url(#pa7f02f8809)\" d=\"M 206.490724 86.771031 \r\nL 206.490724 86.771031 \r\nL 215.508906 86.771031 \r\nL 215.508906 86.771031 \r\nz\r\n\" style=\"fill:#7fc97f;fill-opacity:0.74902;\"/>\r\n    <path clip-path=\"url(#pa7f02f8809)\" d=\"M 215.508906 86.771031 \r\nL 215.508906 86.771031 \r\nL 224.527088 86.771031 \r\nL 224.527088 86.771031 \r\nz\r\n\" style=\"fill:#7fc97f;fill-opacity:0.74902;\"/>\r\n    <path clip-path=\"url(#pa7f02f8809)\" d=\"M 224.527088 86.771031 \r\nL 224.527088 86.771031 \r\nL 233.54527 86.771031 \r\nL 233.54527 86.771031 \r\nz\r\n\" style=\"fill:#7fc97f;fill-opacity:0.74902;\"/>\r\n    <path clip-path=\"url(#pa7f02f8809)\" d=\"M 233.54527 86.771031 \r\nL 233.54527 86.771031 \r\nL 242.563452 86.771031 \r\nL 242.563452 86.771031 \r\nz\r\n\" style=\"fill:#7fc97f;fill-opacity:0.74902;\"/>\r\n    <path clip-path=\"url(#pa7f02f8809)\" d=\"M 242.563452 86.771031 \r\nL 242.563452 86.771031 \r\nL 251.581634 86.771031 \r\nL 251.581634 86.771031 \r\nz\r\n\" style=\"fill:#7fc97f;fill-opacity:0.74902;\"/>\r\n    <path clip-path=\"url(#pa7f02f8809)\" d=\"M 251.581634 86.771031 \r\nL 251.581634 85.308374 \r\nL 260.599815 85.308374 \r\nL 260.599815 86.771031 \r\nz\r\n\" style=\"fill:#7fc97f;fill-opacity:0.74902;\"/>\r\n    <path clip-path=\"url(#pa7f02f8809)\" d=\"M 260.599815 86.771031 \r\nL 260.599815 86.771031 \r\nL 269.617997 86.771031 \r\nL 269.617997 86.771031 \r\nz\r\n\" style=\"fill:#7fc97f;fill-opacity:0.74902;\"/>\r\n    <path clip-path=\"url(#pa7f02f8809)\" d=\"M 269.617997 86.771031 \r\nL 269.617997 86.771031 \r\nL 278.636179 86.771031 \r\nL 278.636179 86.771031 \r\nz\r\n\" style=\"fill:#7fc97f;fill-opacity:0.74902;\"/>\r\n    <path clip-path=\"url(#pa7f02f8809)\" d=\"M 278.636179 86.771031 \r\nL 278.636179 86.771031 \r\nL 287.654361 86.771031 \r\nL 287.654361 86.771031 \r\nz\r\n\" style=\"fill:#7fc97f;fill-opacity:0.74902;\"/>\r\n    <path clip-path=\"url(#pa7f02f8809)\" d=\"M 287.654361 86.771031 \r\nL 287.654361 86.771031 \r\nL 296.672543 86.771031 \r\nL 296.672543 86.771031 \r\nz\r\n\" style=\"fill:#7fc97f;fill-opacity:0.74902;\"/>\r\n    <path clip-path=\"url(#pa7f02f8809)\" d=\"M 296.672543 86.771031 \r\nL 296.672543 86.771031 \r\nL 305.690724 86.771031 \r\nL 305.690724 86.771031 \r\nz\r\n\" style=\"fill:#7fc97f;fill-opacity:0.74902;\"/>\r\n    <path clip-path=\"url(#pa7f02f8809)\" d=\"M 305.690724 86.771031 \r\nL 305.690724 86.771031 \r\nL 314.708906 86.771031 \r\nL 314.708906 86.771031 \r\nz\r\n\" style=\"fill:#7fc97f;fill-opacity:0.74902;\"/>\r\n    <path clip-path=\"url(#pa7f02f8809)\" d=\"M 314.708906 86.771031 \r\nL 314.708906 86.771031 \r\nL 323.727088 86.771031 \r\nL 323.727088 86.771031 \r\nz\r\n\" style=\"fill:#7fc97f;fill-opacity:0.74902;\"/>\r\n    <path clip-path=\"url(#pa7f02f8809)\" d=\"M 323.727088 86.771031 \r\nL 323.727088 86.771031 \r\nL 332.74527 86.771031 \r\nL 332.74527 86.771031 \r\nz\r\n\" style=\"fill:#7fc97f;fill-opacity:0.74902;\"/>\r\n    <path clip-path=\"url(#pa7f02f8809)\" d=\"M 332.74527 86.771031 \r\nL 332.74527 86.771031 \r\nL 341.763452 86.771031 \r\nL 341.763452 86.771031 \r\nz\r\n\" style=\"fill:#7fc97f;fill-opacity:0.74902;\"/>\r\n    <path clip-path=\"url(#pa7f02f8809)\" d=\"M 341.763452 86.771031 \r\nL 341.763452 86.771031 \r\nL 350.781634 86.771031 \r\nL 350.781634 86.771031 \r\nz\r\n\" style=\"fill:#7fc97f;fill-opacity:0.74902;\"/>\r\n    <path clip-path=\"url(#pa7f02f8809)\" d=\"M 350.781634 86.771031 \r\nL 350.781634 86.771031 \r\nL 359.799815 86.771031 \r\nL 359.799815 86.771031 \r\nz\r\n\" style=\"fill:#7fc97f;fill-opacity:0.74902;\"/>\r\n    <path clip-path=\"url(#pa7f02f8809)\" d=\"M 359.799815 86.771031 \r\nL 359.799815 86.771031 \r\nL 368.817997 86.771031 \r\nL 368.817997 86.771031 \r\nz\r\n\" style=\"fill:#7fc97f;fill-opacity:0.74902;\"/>\r\n    <path clip-path=\"url(#pa7f02f8809)\" d=\"M 368.817997 86.771031 \r\nL 368.817997 85.308374 \r\nL 377.836179 85.308374 \r\nL 377.836179 86.771031 \r\nz\r\n\" style=\"fill:#7fc97f;fill-opacity:0.74902;\"/>\r\n    <path clip-path=\"url(#pa7f02f8809)\" d=\"M 53.181634 86.771031 \r\nL 53.181634 50.204598 \r\nL 62.199815 50.204598 \r\nL 62.199815 86.771031 \r\nz\r\n\" style=\"fill:#beaed4;fill-opacity:0.74902;\"/>\r\n    <path clip-path=\"url(#pa7f02f8809)\" d=\"M 62.199815 86.771031 \r\nL 62.199815 29.727395 \r\nL 71.217997 29.727395 \r\nL 71.217997 86.771031 \r\nz\r\n\" style=\"fill:#beaed4;fill-opacity:0.74902;\"/>\r\n    <path clip-path=\"url(#pa7f02f8809)\" d=\"M 71.217997 86.771031 \r\nL 71.217997 58.980542 \r\nL 80.236179 58.980542 \r\nL 80.236179 86.771031 \r\nz\r\n\" style=\"fill:#beaed4;fill-opacity:0.74902;\"/>\r\n    <path clip-path=\"url(#pa7f02f8809)\" d=\"M 80.236179 86.771031 \r\nL 80.236179 60.443199 \r\nL 89.254361 60.443199 \r\nL 89.254361 86.771031 \r\nz\r\n\" style=\"fill:#beaed4;fill-opacity:0.74902;\"/>\r\n    <path clip-path=\"url(#pa7f02f8809)\" d=\"M 89.254361 86.771031 \r\nL 89.254361 77.995087 \r\nL 98.272543 77.995087 \r\nL 98.272543 86.771031 \r\nz\r\n\" style=\"fill:#beaed4;fill-opacity:0.74902;\"/>\r\n    <path clip-path=\"url(#pa7f02f8809)\" d=\"M 98.272543 86.771031 \r\nL 98.272543 75.069773 \r\nL 107.290724 75.069773 \r\nL 107.290724 86.771031 \r\nz\r\n\" style=\"fill:#beaed4;fill-opacity:0.74902;\"/>\r\n    <path clip-path=\"url(#pa7f02f8809)\" d=\"M 107.290724 86.771031 \r\nL 107.290724 80.920402 \r\nL 116.308906 80.920402 \r\nL 116.308906 86.771031 \r\nz\r\n\" style=\"fill:#beaed4;fill-opacity:0.74902;\"/>\r\n    <path clip-path=\"url(#pa7f02f8809)\" d=\"M 116.308906 86.771031 \r\nL 116.308906 77.995087 \r\nL 125.327088 77.995087 \r\nL 125.327088 86.771031 \r\nz\r\n\" style=\"fill:#beaed4;fill-opacity:0.74902;\"/>\r\n    <path clip-path=\"url(#pa7f02f8809)\" d=\"M 125.327088 86.771031 \r\nL 125.327088 82.383059 \r\nL 134.34527 82.383059 \r\nL 134.34527 86.771031 \r\nz\r\n\" style=\"fill:#beaed4;fill-opacity:0.74902;\"/>\r\n    <path clip-path=\"url(#pa7f02f8809)\" d=\"M 134.34527 86.771031 \r\nL 134.34527 82.383059 \r\nL 143.363452 82.383059 \r\nL 143.363452 86.771031 \r\nz\r\n\" style=\"fill:#beaed4;fill-opacity:0.74902;\"/>\r\n    <path clip-path=\"url(#pa7f02f8809)\" d=\"M 143.363452 86.771031 \r\nL 143.363452 86.771031 \r\nL 152.381634 86.771031 \r\nL 152.381634 86.771031 \r\nz\r\n\" style=\"fill:#beaed4;fill-opacity:0.74902;\"/>\r\n    <path clip-path=\"url(#pa7f02f8809)\" d=\"M 152.381634 86.771031 \r\nL 152.381634 85.308374 \r\nL 161.399815 85.308374 \r\nL 161.399815 86.771031 \r\nz\r\n\" style=\"fill:#beaed4;fill-opacity:0.74902;\"/>\r\n    <path clip-path=\"url(#pa7f02f8809)\" d=\"M 161.399815 86.771031 \r\nL 161.399815 82.383059 \r\nL 170.417997 82.383059 \r\nL 170.417997 86.771031 \r\nz\r\n\" style=\"fill:#beaed4;fill-opacity:0.74902;\"/>\r\n    <path clip-path=\"url(#pa7f02f8809)\" d=\"M 170.417997 86.771031 \r\nL 170.417997 80.920402 \r\nL 179.436179 80.920402 \r\nL 179.436179 86.771031 \r\nz\r\n\" style=\"fill:#beaed4;fill-opacity:0.74902;\"/>\r\n    <path clip-path=\"url(#pa7f02f8809)\" d=\"M 179.436179 86.771031 \r\nL 179.436179 85.308374 \r\nL 188.454361 85.308374 \r\nL 188.454361 86.771031 \r\nz\r\n\" style=\"fill:#beaed4;fill-opacity:0.74902;\"/>\r\n    <path clip-path=\"url(#pa7f02f8809)\" d=\"M 188.454361 86.771031 \r\nL 188.454361 86.771031 \r\nL 197.472543 86.771031 \r\nL 197.472543 86.771031 \r\nz\r\n\" style=\"fill:#beaed4;fill-opacity:0.74902;\"/>\r\n    <path clip-path=\"url(#pa7f02f8809)\" d=\"M 197.472543 86.771031 \r\nL 197.472543 85.308374 \r\nL 206.490724 85.308374 \r\nL 206.490724 86.771031 \r\nz\r\n\" style=\"fill:#beaed4;fill-opacity:0.74902;\"/>\r\n    <path clip-path=\"url(#pa7f02f8809)\" d=\"M 206.490724 86.771031 \r\nL 206.490724 85.308374 \r\nL 215.508906 85.308374 \r\nL 215.508906 86.771031 \r\nz\r\n\" style=\"fill:#beaed4;fill-opacity:0.74902;\"/>\r\n    <path clip-path=\"url(#pa7f02f8809)\" d=\"M 215.508906 86.771031 \r\nL 215.508906 86.771031 \r\nL 224.527088 86.771031 \r\nL 224.527088 86.771031 \r\nz\r\n\" style=\"fill:#beaed4;fill-opacity:0.74902;\"/>\r\n    <path clip-path=\"url(#pa7f02f8809)\" d=\"M 224.527088 86.771031 \r\nL 224.527088 86.771031 \r\nL 233.54527 86.771031 \r\nL 233.54527 86.771031 \r\nz\r\n\" style=\"fill:#beaed4;fill-opacity:0.74902;\"/>\r\n    <path clip-path=\"url(#pa7f02f8809)\" d=\"M 233.54527 86.771031 \r\nL 233.54527 86.771031 \r\nL 242.563452 86.771031 \r\nL 242.563452 86.771031 \r\nz\r\n\" style=\"fill:#beaed4;fill-opacity:0.74902;\"/>\r\n    <path clip-path=\"url(#pa7f02f8809)\" d=\"M 242.563452 86.771031 \r\nL 242.563452 86.771031 \r\nL 251.581634 86.771031 \r\nL 251.581634 86.771031 \r\nz\r\n\" style=\"fill:#beaed4;fill-opacity:0.74902;\"/>\r\n    <path clip-path=\"url(#pa7f02f8809)\" d=\"M 251.581634 86.771031 \r\nL 251.581634 86.771031 \r\nL 260.599815 86.771031 \r\nL 260.599815 86.771031 \r\nz\r\n\" style=\"fill:#beaed4;fill-opacity:0.74902;\"/>\r\n    <path clip-path=\"url(#pa7f02f8809)\" d=\"M 260.599815 86.771031 \r\nL 260.599815 85.308374 \r\nL 269.617997 85.308374 \r\nL 269.617997 86.771031 \r\nz\r\n\" style=\"fill:#beaed4;fill-opacity:0.74902;\"/>\r\n    <path clip-path=\"url(#pa7f02f8809)\" d=\"M 269.617997 86.771031 \r\nL 269.617997 86.771031 \r\nL 278.636179 86.771031 \r\nL 278.636179 86.771031 \r\nz\r\n\" style=\"fill:#beaed4;fill-opacity:0.74902;\"/>\r\n    <path clip-path=\"url(#pa7f02f8809)\" d=\"M 278.636179 86.771031 \r\nL 278.636179 86.771031 \r\nL 287.654361 86.771031 \r\nL 287.654361 86.771031 \r\nz\r\n\" style=\"fill:#beaed4;fill-opacity:0.74902;\"/>\r\n    <path clip-path=\"url(#pa7f02f8809)\" d=\"M 287.654361 86.771031 \r\nL 287.654361 86.771031 \r\nL 296.672543 86.771031 \r\nL 296.672543 86.771031 \r\nz\r\n\" style=\"fill:#beaed4;fill-opacity:0.74902;\"/>\r\n    <path clip-path=\"url(#pa7f02f8809)\" d=\"M 296.672543 86.771031 \r\nL 296.672543 86.771031 \r\nL 305.690724 86.771031 \r\nL 305.690724 86.771031 \r\nz\r\n\" style=\"fill:#beaed4;fill-opacity:0.74902;\"/>\r\n    <path clip-path=\"url(#pa7f02f8809)\" d=\"M 305.690724 86.771031 \r\nL 305.690724 86.771031 \r\nL 314.708906 86.771031 \r\nL 314.708906 86.771031 \r\nz\r\n\" style=\"fill:#beaed4;fill-opacity:0.74902;\"/>\r\n    <path clip-path=\"url(#pa7f02f8809)\" d=\"M 314.708906 86.771031 \r\nL 314.708906 86.771031 \r\nL 323.727088 86.771031 \r\nL 323.727088 86.771031 \r\nz\r\n\" style=\"fill:#beaed4;fill-opacity:0.74902;\"/>\r\n    <path clip-path=\"url(#pa7f02f8809)\" d=\"M 323.727088 86.771031 \r\nL 323.727088 86.771031 \r\nL 332.74527 86.771031 \r\nL 332.74527 86.771031 \r\nz\r\n\" style=\"fill:#beaed4;fill-opacity:0.74902;\"/>\r\n    <path clip-path=\"url(#pa7f02f8809)\" d=\"M 332.74527 86.771031 \r\nL 332.74527 86.771031 \r\nL 341.763452 86.771031 \r\nL 341.763452 86.771031 \r\nz\r\n\" style=\"fill:#beaed4;fill-opacity:0.74902;\"/>\r\n    <path clip-path=\"url(#pa7f02f8809)\" d=\"M 341.763452 86.771031 \r\nL 341.763452 86.771031 \r\nL 350.781634 86.771031 \r\nL 350.781634 86.771031 \r\nz\r\n\" style=\"fill:#beaed4;fill-opacity:0.74902;\"/>\r\n    <path clip-path=\"url(#pa7f02f8809)\" d=\"M 350.781634 86.771031 \r\nL 350.781634 86.771031 \r\nL 359.799815 86.771031 \r\nL 359.799815 86.771031 \r\nz\r\n\" style=\"fill:#beaed4;fill-opacity:0.74902;\"/>\r\n    <path clip-path=\"url(#pa7f02f8809)\" d=\"M 359.799815 86.771031 \r\nL 359.799815 86.771031 \r\nL 368.817997 86.771031 \r\nL 368.817997 86.771031 \r\nz\r\n\" style=\"fill:#beaed4;fill-opacity:0.74902;\"/>\r\n    <path clip-path=\"url(#pa7f02f8809)\" d=\"M 368.817997 86.771031 \r\nL 368.817997 86.771031 \r\nL 377.836179 86.771031 \r\nL 377.836179 86.771031 \r\nz\r\n\" style=\"fill:#beaed4;fill-opacity:0.74902;\"/>\r\n   </g>\r\n   <g id=\"patch_3\">\r\n    <path d=\"M 394.068906 89.623213 \r\nL 408.368906 89.623213 \r\nL 408.368906 26.875213 \r\nL 394.068906 26.875213 \r\nz\r\n\" style=\"fill:#cccccc;stroke:#7f7f7f;stroke-linejoin:miter;\"/>\r\n   </g>\r\n   <g id=\"text_7\">\r\n    <!-- 00 -->\r\n    <g style=\"fill:#1a1a1a;\" transform=\"translate(398.761094 53.444963)rotate(-270)scale(0.088 -0.088)\">\r\n     <use xlink:href=\"#Tahoma-30\"/>\r\n     <use x=\"54.589844\" xlink:href=\"#Tahoma-30\"/>\r\n    </g>\r\n   </g>\r\n   <g id=\"patch_4\">\r\n    <path d=\"M 415.568906 187.243213 \r\nL 463.613156 187.243213 \r\nL 463.613156 129.163213 \r\nL 415.568906 129.163213 \r\nz\r\n\" style=\"fill:#ffffff;\"/>\r\n   </g>\r\n   <g id=\"patch_5\">\r\n    <path clip-path=\"url(#p191909b706)\" d=\"M 427.768906 157.203213 \r\nL 443.608906 157.203213 \r\nL 443.608906 141.363213 \r\nL 427.768906 141.363213 \r\nz\r\n\" style=\"fill:none;\"/>\r\n   </g>\r\n   <g id=\"patch_6\">\r\n    <path clip-path=\"url(#p191909b706)\" d=\"M 427.768906 157.203213 \r\nL 443.608906 157.203213 \r\nL 443.608906 141.363213 \r\nL 427.768906 141.363213 \r\nz\r\n\" style=\"fill:#7fc97f;fill-opacity:0.74902;\"/>\r\n   </g>\r\n   <g id=\"text_8\">\r\n    <!-- 0 -->\r\n    <g transform=\"translate(446.608906 151.741026)scale(0.088 -0.088)\">\r\n     <use xlink:href=\"#Tahoma-30\"/>\r\n    </g>\r\n   </g>\r\n   <g id=\"patch_7\">\r\n    <path clip-path=\"url(#pe08a18a2e1)\" d=\"M 427.768906 175.043213 \r\nL 443.608906 175.043213 \r\nL 443.608906 159.203213 \r\nL 427.768906 159.203213 \r\nz\r\n\" style=\"fill:none;\"/>\r\n   </g>\r\n   <g id=\"patch_8\">\r\n    <path clip-path=\"url(#pe08a18a2e1)\" d=\"M 427.768906 175.043213 \r\nL 443.608906 175.043213 \r\nL 443.608906 159.203213 \r\nL 427.768906 159.203213 \r\nz\r\n\" style=\"fill:#beaed4;fill-opacity:0.74902;\"/>\r\n   </g>\r\n   <g id=\"text_9\">\r\n    <!-- 1 -->\r\n    <g transform=\"translate(446.608906 169.581026)scale(0.088 -0.088)\">\r\n     <use xlink:href=\"#Tahoma-31\"/>\r\n    </g>\r\n   </g>\r\n  </g>\r\n  <g id=\"axes_2\">\r\n   <g id=\"patch_9\">\r\n    <path d=\"M 36.948906 157.411213 \r\nL 394.068906 157.411213 \r\nL 394.068906 94.663213 \r\nL 36.948906 94.663213 \r\nz\r\n\" style=\"fill:none;stroke:#000000;stroke-linejoin:miter;stroke-width:0.5;\"/>\r\n   </g>\r\n   <g id=\"matplotlib.axis_3\">\r\n    <g id=\"xtick_8\">\r\n     <g id=\"line2d_15\">\r\n      <path clip-path=\"url(#p3f78511bdb)\" d=\"M 57.690724 157.411213 \r\nL 57.690724 94.663213 \r\n\" style=\"fill:none;stroke:#d3d3d3;stroke-linecap:square;stroke-width:0.8;\"/>\r\n     </g>\r\n    </g>\r\n    <g id=\"xtick_9\">\r\n     <g id=\"line2d_16\">\r\n      <path clip-path=\"url(#p3f78511bdb)\" d=\"M 165.102775 157.411213 \r\nL 165.102775 94.663213 \r\n\" style=\"fill:none;stroke:#d3d3d3;stroke-linecap:square;stroke-width:0.8;\"/>\r\n     </g>\r\n    </g>\r\n    <g id=\"xtick_10\">\r\n     <g id=\"line2d_17\">\r\n      <path clip-path=\"url(#p3f78511bdb)\" d=\"M 272.514825 157.411213 \r\nL 272.514825 94.663213 \r\n\" style=\"fill:none;stroke:#d3d3d3;stroke-linecap:square;stroke-width:0.8;\"/>\r\n     </g>\r\n    </g>\r\n    <g id=\"xtick_11\">\r\n     <g id=\"line2d_18\">\r\n      <path clip-path=\"url(#p3f78511bdb)\" d=\"M 379.926876 157.411213 \r\nL 379.926876 94.663213 \r\n\" style=\"fill:none;stroke:#d3d3d3;stroke-linecap:square;stroke-width:0.8;\"/>\r\n     </g>\r\n    </g>\r\n    <g id=\"xtick_12\"/>\r\n    <g id=\"xtick_13\"/>\r\n    <g id=\"xtick_14\"/>\r\n   </g>\r\n   <g id=\"matplotlib.axis_4\">\r\n    <g id=\"ytick_10\">\r\n     <g id=\"line2d_19\">\r\n      <path clip-path=\"url(#p3f78511bdb)\" d=\"M 36.948906 154.559031 \r\nL 394.068906 154.559031 \r\n\" style=\"fill:none;stroke:#d3d3d3;stroke-linecap:square;stroke-width:0.8;\"/>\r\n     </g>\r\n     <g id=\"line2d_20\">\r\n      <path d=\"M 36.948906 154.559031 \r\n\" style=\"fill:none;stroke:#333333;stroke-linecap:square;stroke-width:1.5;\"/>\r\n      <g>\r\n       <use style=\"fill:#333333;stroke:#000000;\" x=\"36.948906\" xlink:href=\"#m5f5e6869d7\" y=\"154.559031\"/>\r\n      </g>\r\n     </g>\r\n     <g id=\"text_10\">\r\n      <!-- 0 -->\r\n      <g transform=\"translate(27.085469 157.072703)scale(0.09 -0.09)\">\r\n       <use xlink:href=\"#Tahoma-30\"/>\r\n      </g>\r\n     </g>\r\n    </g>\r\n    <g id=\"ytick_11\">\r\n     <g id=\"line2d_21\">\r\n      <path clip-path=\"url(#p3f78511bdb)\" d=\"M 36.948906 133.431759 \r\nL 394.068906 133.431759 \r\n\" style=\"fill:none;stroke:#d3d3d3;stroke-linecap:square;stroke-width:0.8;\"/>\r\n     </g>\r\n     <g id=\"line2d_22\">\r\n      <path d=\"M 36.948906 133.431759 \r\n\" style=\"fill:none;stroke:#333333;stroke-linecap:square;stroke-width:1.5;\"/>\r\n      <g>\r\n       <use style=\"fill:#333333;stroke:#000000;\" x=\"36.948906\" xlink:href=\"#m5f5e6869d7\" y=\"133.431759\"/>\r\n      </g>\r\n     </g>\r\n     <g id=\"text_11\">\r\n      <!-- 10 -->\r\n      <g transform=\"translate(22.172031 135.945431)scale(0.09 -0.09)\">\r\n       <use xlink:href=\"#Tahoma-31\"/>\r\n       <use x=\"54.589844\" xlink:href=\"#Tahoma-30\"/>\r\n      </g>\r\n     </g>\r\n    </g>\r\n    <g id=\"ytick_12\">\r\n     <g id=\"line2d_23\">\r\n      <path clip-path=\"url(#p3f78511bdb)\" d=\"M 36.948906 112.304486 \r\nL 394.068906 112.304486 \r\n\" style=\"fill:none;stroke:#d3d3d3;stroke-linecap:square;stroke-width:0.8;\"/>\r\n     </g>\r\n     <g id=\"line2d_24\">\r\n      <path d=\"M 36.948906 112.304486 \r\n\" style=\"fill:none;stroke:#333333;stroke-linecap:square;stroke-width:1.5;\"/>\r\n      <g>\r\n       <use style=\"fill:#333333;stroke:#000000;\" x=\"36.948906\" xlink:href=\"#m5f5e6869d7\" y=\"112.304486\"/>\r\n      </g>\r\n     </g>\r\n     <g id=\"text_12\">\r\n      <!-- 20 -->\r\n      <g transform=\"translate(22.172031 114.818158)scale(0.09 -0.09)\">\r\n       <use xlink:href=\"#Tahoma-32\"/>\r\n       <use x=\"54.589844\" xlink:href=\"#Tahoma-30\"/>\r\n      </g>\r\n     </g>\r\n    </g>\r\n    <g id=\"ytick_13\"/>\r\n    <g id=\"ytick_14\"/>\r\n    <g id=\"ytick_15\"/>\r\n   </g>\r\n   <g id=\"PolyCollection_2\">\r\n    <path clip-path=\"url(#p3f78511bdb)\" d=\"M 53.181634 154.559031 \r\nL 53.181634 120.755395 \r\nL 62.199815 120.755395 \r\nL 62.199815 154.559031 \r\nz\r\n\" style=\"fill:#7fc97f;fill-opacity:0.74902;\"/>\r\n    <path clip-path=\"url(#p3f78511bdb)\" d=\"M 62.199815 154.559031 \r\nL 62.199815 97.515395 \r\nL 71.217997 97.515395 \r\nL 71.217997 154.559031 \r\nz\r\n\" style=\"fill:#7fc97f;fill-opacity:0.74902;\"/>\r\n    <path clip-path=\"url(#p3f78511bdb)\" d=\"M 71.217997 154.559031 \r\nL 71.217997 124.98085 \r\nL 80.236179 124.98085 \r\nL 80.236179 154.559031 \r\nz\r\n\" style=\"fill:#7fc97f;fill-opacity:0.74902;\"/>\r\n    <path clip-path=\"url(#p3f78511bdb)\" d=\"M 80.236179 154.559031 \r\nL 80.236179 131.319031 \r\nL 89.254361 131.319031 \r\nL 89.254361 154.559031 \r\nz\r\n\" style=\"fill:#7fc97f;fill-opacity:0.74902;\"/>\r\n    <path clip-path=\"url(#p3f78511bdb)\" d=\"M 89.254361 154.559031 \r\nL 89.254361 139.769941 \r\nL 98.272543 139.769941 \r\nL 98.272543 154.559031 \r\nz\r\n\" style=\"fill:#7fc97f;fill-opacity:0.74902;\"/>\r\n    <path clip-path=\"url(#p3f78511bdb)\" d=\"M 98.272543 154.559031 \r\nL 98.272543 150.333577 \r\nL 107.290724 150.333577 \r\nL 107.290724 154.559031 \r\nz\r\n\" style=\"fill:#7fc97f;fill-opacity:0.74902;\"/>\r\n    <path clip-path=\"url(#p3f78511bdb)\" d=\"M 107.290724 154.559031 \r\nL 107.290724 146.108122 \r\nL 116.308906 146.108122 \r\nL 116.308906 154.559031 \r\nz\r\n\" style=\"fill:#7fc97f;fill-opacity:0.74902;\"/>\r\n    <path clip-path=\"url(#p3f78511bdb)\" d=\"M 116.308906 154.559031 \r\nL 116.308906 146.108122 \r\nL 125.327088 146.108122 \r\nL 125.327088 154.559031 \r\nz\r\n\" style=\"fill:#7fc97f;fill-opacity:0.74902;\"/>\r\n    <path clip-path=\"url(#p3f78511bdb)\" d=\"M 125.327088 154.559031 \r\nL 125.327088 152.446304 \r\nL 134.34527 152.446304 \r\nL 134.34527 154.559031 \r\nz\r\n\" style=\"fill:#7fc97f;fill-opacity:0.74902;\"/>\r\n    <path clip-path=\"url(#p3f78511bdb)\" d=\"M 134.34527 154.559031 \r\nL 134.34527 152.446304 \r\nL 143.363452 152.446304 \r\nL 143.363452 154.559031 \r\nz\r\n\" style=\"fill:#7fc97f;fill-opacity:0.74902;\"/>\r\n    <path clip-path=\"url(#p3f78511bdb)\" d=\"M 143.363452 154.559031 \r\nL 143.363452 152.446304 \r\nL 152.381634 152.446304 \r\nL 152.381634 154.559031 \r\nz\r\n\" style=\"fill:#7fc97f;fill-opacity:0.74902;\"/>\r\n    <path clip-path=\"url(#p3f78511bdb)\" d=\"M 152.381634 154.559031 \r\nL 152.381634 154.559031 \r\nL 161.399815 154.559031 \r\nL 161.399815 154.559031 \r\nz\r\n\" style=\"fill:#7fc97f;fill-opacity:0.74902;\"/>\r\n    <path clip-path=\"url(#p3f78511bdb)\" d=\"M 161.399815 154.559031 \r\nL 161.399815 152.446304 \r\nL 170.417997 152.446304 \r\nL 170.417997 154.559031 \r\nz\r\n\" style=\"fill:#7fc97f;fill-opacity:0.74902;\"/>\r\n    <path clip-path=\"url(#p3f78511bdb)\" d=\"M 170.417997 154.559031 \r\nL 170.417997 148.22085 \r\nL 179.436179 148.22085 \r\nL 179.436179 154.559031 \r\nz\r\n\" style=\"fill:#7fc97f;fill-opacity:0.74902;\"/>\r\n    <path clip-path=\"url(#p3f78511bdb)\" d=\"M 179.436179 154.559031 \r\nL 179.436179 152.446304 \r\nL 188.454361 152.446304 \r\nL 188.454361 154.559031 \r\nz\r\n\" style=\"fill:#7fc97f;fill-opacity:0.74902;\"/>\r\n    <path clip-path=\"url(#p3f78511bdb)\" d=\"M 188.454361 154.559031 \r\nL 188.454361 150.333577 \r\nL 197.472543 150.333577 \r\nL 197.472543 154.559031 \r\nz\r\n\" style=\"fill:#7fc97f;fill-opacity:0.74902;\"/>\r\n    <path clip-path=\"url(#p3f78511bdb)\" d=\"M 197.472543 154.559031 \r\nL 197.472543 152.446304 \r\nL 206.490724 152.446304 \r\nL 206.490724 154.559031 \r\nz\r\n\" style=\"fill:#7fc97f;fill-opacity:0.74902;\"/>\r\n    <path clip-path=\"url(#p3f78511bdb)\" d=\"M 206.490724 154.559031 \r\nL 206.490724 150.333577 \r\nL 215.508906 150.333577 \r\nL 215.508906 154.559031 \r\nz\r\n\" style=\"fill:#7fc97f;fill-opacity:0.74902;\"/>\r\n    <path clip-path=\"url(#p3f78511bdb)\" d=\"M 215.508906 154.559031 \r\nL 215.508906 154.559031 \r\nL 224.527088 154.559031 \r\nL 224.527088 154.559031 \r\nz\r\n\" style=\"fill:#7fc97f;fill-opacity:0.74902;\"/>\r\n    <path clip-path=\"url(#p3f78511bdb)\" d=\"M 224.527088 154.559031 \r\nL 224.527088 150.333577 \r\nL 233.54527 150.333577 \r\nL 233.54527 154.559031 \r\nz\r\n\" style=\"fill:#7fc97f;fill-opacity:0.74902;\"/>\r\n    <path clip-path=\"url(#p3f78511bdb)\" d=\"M 233.54527 154.559031 \r\nL 233.54527 154.559031 \r\nL 242.563452 154.559031 \r\nL 242.563452 154.559031 \r\nz\r\n\" style=\"fill:#7fc97f;fill-opacity:0.74902;\"/>\r\n    <path clip-path=\"url(#p3f78511bdb)\" d=\"M 242.563452 154.559031 \r\nL 242.563452 154.559031 \r\nL 251.581634 154.559031 \r\nL 251.581634 154.559031 \r\nz\r\n\" style=\"fill:#7fc97f;fill-opacity:0.74902;\"/>\r\n    <path clip-path=\"url(#p3f78511bdb)\" d=\"M 251.581634 154.559031 \r\nL 251.581634 154.559031 \r\nL 260.599815 154.559031 \r\nL 260.599815 154.559031 \r\nz\r\n\" style=\"fill:#7fc97f;fill-opacity:0.74902;\"/>\r\n    <path clip-path=\"url(#p3f78511bdb)\" d=\"M 260.599815 154.559031 \r\nL 260.599815 154.559031 \r\nL 269.617997 154.559031 \r\nL 269.617997 154.559031 \r\nz\r\n\" style=\"fill:#7fc97f;fill-opacity:0.74902;\"/>\r\n    <path clip-path=\"url(#p3f78511bdb)\" d=\"M 269.617997 154.559031 \r\nL 269.617997 154.559031 \r\nL 278.636179 154.559031 \r\nL 278.636179 154.559031 \r\nz\r\n\" style=\"fill:#7fc97f;fill-opacity:0.74902;\"/>\r\n    <path clip-path=\"url(#p3f78511bdb)\" d=\"M 278.636179 154.559031 \r\nL 278.636179 154.559031 \r\nL 287.654361 154.559031 \r\nL 287.654361 154.559031 \r\nz\r\n\" style=\"fill:#7fc97f;fill-opacity:0.74902;\"/>\r\n    <path clip-path=\"url(#p3f78511bdb)\" d=\"M 287.654361 154.559031 \r\nL 287.654361 154.559031 \r\nL 296.672543 154.559031 \r\nL 296.672543 154.559031 \r\nz\r\n\" style=\"fill:#7fc97f;fill-opacity:0.74902;\"/>\r\n    <path clip-path=\"url(#p3f78511bdb)\" d=\"M 296.672543 154.559031 \r\nL 296.672543 154.559031 \r\nL 305.690724 154.559031 \r\nL 305.690724 154.559031 \r\nz\r\n\" style=\"fill:#7fc97f;fill-opacity:0.74902;\"/>\r\n    <path clip-path=\"url(#p3f78511bdb)\" d=\"M 305.690724 154.559031 \r\nL 305.690724 154.559031 \r\nL 314.708906 154.559031 \r\nL 314.708906 154.559031 \r\nz\r\n\" style=\"fill:#7fc97f;fill-opacity:0.74902;\"/>\r\n    <path clip-path=\"url(#p3f78511bdb)\" d=\"M 314.708906 154.559031 \r\nL 314.708906 154.559031 \r\nL 323.727088 154.559031 \r\nL 323.727088 154.559031 \r\nz\r\n\" style=\"fill:#7fc97f;fill-opacity:0.74902;\"/>\r\n    <path clip-path=\"url(#p3f78511bdb)\" d=\"M 323.727088 154.559031 \r\nL 323.727088 154.559031 \r\nL 332.74527 154.559031 \r\nL 332.74527 154.559031 \r\nz\r\n\" style=\"fill:#7fc97f;fill-opacity:0.74902;\"/>\r\n    <path clip-path=\"url(#p3f78511bdb)\" d=\"M 332.74527 154.559031 \r\nL 332.74527 154.559031 \r\nL 341.763452 154.559031 \r\nL 341.763452 154.559031 \r\nz\r\n\" style=\"fill:#7fc97f;fill-opacity:0.74902;\"/>\r\n    <path clip-path=\"url(#p3f78511bdb)\" d=\"M 341.763452 154.559031 \r\nL 341.763452 154.559031 \r\nL 350.781634 154.559031 \r\nL 350.781634 154.559031 \r\nz\r\n\" style=\"fill:#7fc97f;fill-opacity:0.74902;\"/>\r\n    <path clip-path=\"url(#p3f78511bdb)\" d=\"M 350.781634 154.559031 \r\nL 350.781634 154.559031 \r\nL 359.799815 154.559031 \r\nL 359.799815 154.559031 \r\nz\r\n\" style=\"fill:#7fc97f;fill-opacity:0.74902;\"/>\r\n    <path clip-path=\"url(#p3f78511bdb)\" d=\"M 359.799815 154.559031 \r\nL 359.799815 154.559031 \r\nL 368.817997 154.559031 \r\nL 368.817997 154.559031 \r\nz\r\n\" style=\"fill:#7fc97f;fill-opacity:0.74902;\"/>\r\n    <path clip-path=\"url(#p3f78511bdb)\" d=\"M 368.817997 154.559031 \r\nL 368.817997 154.559031 \r\nL 377.836179 154.559031 \r\nL 377.836179 154.559031 \r\nz\r\n\" style=\"fill:#7fc97f;fill-opacity:0.74902;\"/>\r\n    <path clip-path=\"url(#p3f78511bdb)\" d=\"M 53.181634 154.559031 \r\nL 53.181634 118.642668 \r\nL 62.199815 118.642668 \r\nL 62.199815 154.559031 \r\nz\r\n\" style=\"fill:#beaed4;fill-opacity:0.74902;\"/>\r\n    <path clip-path=\"url(#p3f78511bdb)\" d=\"M 62.199815 154.559031 \r\nL 62.199815 105.966304 \r\nL 71.217997 105.966304 \r\nL 71.217997 154.559031 \r\nz\r\n\" style=\"fill:#beaed4;fill-opacity:0.74902;\"/>\r\n    <path clip-path=\"url(#p3f78511bdb)\" d=\"M 71.217997 154.559031 \r\nL 71.217997 110.191759 \r\nL 80.236179 110.191759 \r\nL 80.236179 154.559031 \r\nz\r\n\" style=\"fill:#beaed4;fill-opacity:0.74902;\"/>\r\n    <path clip-path=\"url(#p3f78511bdb)\" d=\"M 80.236179 154.559031 \r\nL 80.236179 118.642668 \r\nL 89.254361 118.642668 \r\nL 89.254361 154.559031 \r\nz\r\n\" style=\"fill:#beaed4;fill-opacity:0.74902;\"/>\r\n    <path clip-path=\"url(#p3f78511bdb)\" d=\"M 89.254361 154.559031 \r\nL 89.254361 143.995395 \r\nL 98.272543 143.995395 \r\nL 98.272543 154.559031 \r\nz\r\n\" style=\"fill:#beaed4;fill-opacity:0.74902;\"/>\r\n    <path clip-path=\"url(#p3f78511bdb)\" d=\"M 98.272543 154.559031 \r\nL 98.272543 148.22085 \r\nL 107.290724 148.22085 \r\nL 107.290724 154.559031 \r\nz\r\n\" style=\"fill:#beaed4;fill-opacity:0.74902;\"/>\r\n    <path clip-path=\"url(#p3f78511bdb)\" d=\"M 107.290724 154.559031 \r\nL 107.290724 148.22085 \r\nL 116.308906 148.22085 \r\nL 116.308906 154.559031 \r\nz\r\n\" style=\"fill:#beaed4;fill-opacity:0.74902;\"/>\r\n    <path clip-path=\"url(#p3f78511bdb)\" d=\"M 116.308906 154.559031 \r\nL 116.308906 152.446304 \r\nL 125.327088 152.446304 \r\nL 125.327088 154.559031 \r\nz\r\n\" style=\"fill:#beaed4;fill-opacity:0.74902;\"/>\r\n    <path clip-path=\"url(#p3f78511bdb)\" d=\"M 125.327088 154.559031 \r\nL 125.327088 141.882668 \r\nL 134.34527 141.882668 \r\nL 134.34527 154.559031 \r\nz\r\n\" style=\"fill:#beaed4;fill-opacity:0.74902;\"/>\r\n    <path clip-path=\"url(#p3f78511bdb)\" d=\"M 134.34527 154.559031 \r\nL 134.34527 150.333577 \r\nL 143.363452 150.333577 \r\nL 143.363452 154.559031 \r\nz\r\n\" style=\"fill:#beaed4;fill-opacity:0.74902;\"/>\r\n    <path clip-path=\"url(#p3f78511bdb)\" d=\"M 143.363452 154.559031 \r\nL 143.363452 143.995395 \r\nL 152.381634 143.995395 \r\nL 152.381634 154.559031 \r\nz\r\n\" style=\"fill:#beaed4;fill-opacity:0.74902;\"/>\r\n    <path clip-path=\"url(#p3f78511bdb)\" d=\"M 152.381634 154.559031 \r\nL 152.381634 152.446304 \r\nL 161.399815 152.446304 \r\nL 161.399815 154.559031 \r\nz\r\n\" style=\"fill:#beaed4;fill-opacity:0.74902;\"/>\r\n    <path clip-path=\"url(#p3f78511bdb)\" d=\"M 161.399815 154.559031 \r\nL 161.399815 154.559031 \r\nL 170.417997 154.559031 \r\nL 170.417997 154.559031 \r\nz\r\n\" style=\"fill:#beaed4;fill-opacity:0.74902;\"/>\r\n    <path clip-path=\"url(#p3f78511bdb)\" d=\"M 170.417997 154.559031 \r\nL 170.417997 152.446304 \r\nL 179.436179 152.446304 \r\nL 179.436179 154.559031 \r\nz\r\n\" style=\"fill:#beaed4;fill-opacity:0.74902;\"/>\r\n    <path clip-path=\"url(#p3f78511bdb)\" d=\"M 179.436179 154.559031 \r\nL 179.436179 152.446304 \r\nL 188.454361 152.446304 \r\nL 188.454361 154.559031 \r\nz\r\n\" style=\"fill:#beaed4;fill-opacity:0.74902;\"/>\r\n    <path clip-path=\"url(#p3f78511bdb)\" d=\"M 188.454361 154.559031 \r\nL 188.454361 150.333577 \r\nL 197.472543 150.333577 \r\nL 197.472543 154.559031 \r\nz\r\n\" style=\"fill:#beaed4;fill-opacity:0.74902;\"/>\r\n    <path clip-path=\"url(#p3f78511bdb)\" d=\"M 197.472543 154.559031 \r\nL 197.472543 154.559031 \r\nL 206.490724 154.559031 \r\nL 206.490724 154.559031 \r\nz\r\n\" style=\"fill:#beaed4;fill-opacity:0.74902;\"/>\r\n    <path clip-path=\"url(#p3f78511bdb)\" d=\"M 206.490724 154.559031 \r\nL 206.490724 152.446304 \r\nL 215.508906 152.446304 \r\nL 215.508906 154.559031 \r\nz\r\n\" style=\"fill:#beaed4;fill-opacity:0.74902;\"/>\r\n    <path clip-path=\"url(#p3f78511bdb)\" d=\"M 215.508906 154.559031 \r\nL 215.508906 154.559031 \r\nL 224.527088 154.559031 \r\nL 224.527088 154.559031 \r\nz\r\n\" style=\"fill:#beaed4;fill-opacity:0.74902;\"/>\r\n    <path clip-path=\"url(#p3f78511bdb)\" d=\"M 224.527088 154.559031 \r\nL 224.527088 152.446304 \r\nL 233.54527 152.446304 \r\nL 233.54527 154.559031 \r\nz\r\n\" style=\"fill:#beaed4;fill-opacity:0.74902;\"/>\r\n    <path clip-path=\"url(#p3f78511bdb)\" d=\"M 233.54527 154.559031 \r\nL 233.54527 154.559031 \r\nL 242.563452 154.559031 \r\nL 242.563452 154.559031 \r\nz\r\n\" style=\"fill:#beaed4;fill-opacity:0.74902;\"/>\r\n    <path clip-path=\"url(#p3f78511bdb)\" d=\"M 242.563452 154.559031 \r\nL 242.563452 154.559031 \r\nL 251.581634 154.559031 \r\nL 251.581634 154.559031 \r\nz\r\n\" style=\"fill:#beaed4;fill-opacity:0.74902;\"/>\r\n    <path clip-path=\"url(#p3f78511bdb)\" d=\"M 251.581634 154.559031 \r\nL 251.581634 154.559031 \r\nL 260.599815 154.559031 \r\nL 260.599815 154.559031 \r\nz\r\n\" style=\"fill:#beaed4;fill-opacity:0.74902;\"/>\r\n    <path clip-path=\"url(#p3f78511bdb)\" d=\"M 260.599815 154.559031 \r\nL 260.599815 154.559031 \r\nL 269.617997 154.559031 \r\nL 269.617997 154.559031 \r\nz\r\n\" style=\"fill:#beaed4;fill-opacity:0.74902;\"/>\r\n    <path clip-path=\"url(#p3f78511bdb)\" d=\"M 269.617997 154.559031 \r\nL 269.617997 152.446304 \r\nL 278.636179 152.446304 \r\nL 278.636179 154.559031 \r\nz\r\n\" style=\"fill:#beaed4;fill-opacity:0.74902;\"/>\r\n    <path clip-path=\"url(#p3f78511bdb)\" d=\"M 278.636179 154.559031 \r\nL 278.636179 154.559031 \r\nL 287.654361 154.559031 \r\nL 287.654361 154.559031 \r\nz\r\n\" style=\"fill:#beaed4;fill-opacity:0.74902;\"/>\r\n    <path clip-path=\"url(#p3f78511bdb)\" d=\"M 287.654361 154.559031 \r\nL 287.654361 154.559031 \r\nL 296.672543 154.559031 \r\nL 296.672543 154.559031 \r\nz\r\n\" style=\"fill:#beaed4;fill-opacity:0.74902;\"/>\r\n    <path clip-path=\"url(#p3f78511bdb)\" d=\"M 296.672543 154.559031 \r\nL 296.672543 154.559031 \r\nL 305.690724 154.559031 \r\nL 305.690724 154.559031 \r\nz\r\n\" style=\"fill:#beaed4;fill-opacity:0.74902;\"/>\r\n    <path clip-path=\"url(#p3f78511bdb)\" d=\"M 305.690724 154.559031 \r\nL 305.690724 154.559031 \r\nL 314.708906 154.559031 \r\nL 314.708906 154.559031 \r\nz\r\n\" style=\"fill:#beaed4;fill-opacity:0.74902;\"/>\r\n    <path clip-path=\"url(#p3f78511bdb)\" d=\"M 314.708906 154.559031 \r\nL 314.708906 154.559031 \r\nL 323.727088 154.559031 \r\nL 323.727088 154.559031 \r\nz\r\n\" style=\"fill:#beaed4;fill-opacity:0.74902;\"/>\r\n    <path clip-path=\"url(#p3f78511bdb)\" d=\"M 323.727088 154.559031 \r\nL 323.727088 154.559031 \r\nL 332.74527 154.559031 \r\nL 332.74527 154.559031 \r\nz\r\n\" style=\"fill:#beaed4;fill-opacity:0.74902;\"/>\r\n    <path clip-path=\"url(#p3f78511bdb)\" d=\"M 332.74527 154.559031 \r\nL 332.74527 154.559031 \r\nL 341.763452 154.559031 \r\nL 341.763452 154.559031 \r\nz\r\n\" style=\"fill:#beaed4;fill-opacity:0.74902;\"/>\r\n    <path clip-path=\"url(#p3f78511bdb)\" d=\"M 341.763452 154.559031 \r\nL 341.763452 154.559031 \r\nL 350.781634 154.559031 \r\nL 350.781634 154.559031 \r\nz\r\n\" style=\"fill:#beaed4;fill-opacity:0.74902;\"/>\r\n    <path clip-path=\"url(#p3f78511bdb)\" d=\"M 350.781634 154.559031 \r\nL 350.781634 154.559031 \r\nL 359.799815 154.559031 \r\nL 359.799815 154.559031 \r\nz\r\n\" style=\"fill:#beaed4;fill-opacity:0.74902;\"/>\r\n    <path clip-path=\"url(#p3f78511bdb)\" d=\"M 359.799815 154.559031 \r\nL 359.799815 154.559031 \r\nL 368.817997 154.559031 \r\nL 368.817997 154.559031 \r\nz\r\n\" style=\"fill:#beaed4;fill-opacity:0.74902;\"/>\r\n    <path clip-path=\"url(#p3f78511bdb)\" d=\"M 368.817997 154.559031 \r\nL 368.817997 154.559031 \r\nL 377.836179 154.559031 \r\nL 377.836179 154.559031 \r\nz\r\n\" style=\"fill:#beaed4;fill-opacity:0.74902;\"/>\r\n   </g>\r\n   <g id=\"patch_10\">\r\n    <path d=\"M 394.068906 157.411213 \r\nL 408.368906 157.411213 \r\nL 408.368906 94.663213 \r\nL 394.068906 94.663213 \r\nz\r\n\" style=\"fill:#cccccc;stroke:#7f7f7f;stroke-linejoin:miter;\"/>\r\n   </g>\r\n   <g id=\"text_13\">\r\n    <!-- 02 -->\r\n    <g style=\"fill:#1a1a1a;\" transform=\"translate(398.761094 121.232963)rotate(-270)scale(0.088 -0.088)\">\r\n     <use xlink:href=\"#Tahoma-30\"/>\r\n     <use x=\"54.589844\" xlink:href=\"#Tahoma-32\"/>\r\n    </g>\r\n   </g>\r\n  </g>\r\n  <g id=\"axes_3\">\r\n   <g id=\"patch_11\">\r\n    <path d=\"M 36.948906 225.199213 \r\nL 394.068906 225.199213 \r\nL 394.068906 162.451213 \r\nL 36.948906 162.451213 \r\nz\r\n\" style=\"fill:none;stroke:#000000;stroke-linejoin:miter;stroke-width:0.5;\"/>\r\n   </g>\r\n   <g id=\"matplotlib.axis_5\">\r\n    <g id=\"xtick_15\">\r\n     <g id=\"line2d_25\">\r\n      <path clip-path=\"url(#p51323664f6)\" d=\"M 57.690724 225.199213 \r\nL 57.690724 162.451213 \r\n\" style=\"fill:none;stroke:#d3d3d3;stroke-linecap:square;stroke-width:0.8;\"/>\r\n     </g>\r\n    </g>\r\n    <g id=\"xtick_16\">\r\n     <g id=\"line2d_26\">\r\n      <path clip-path=\"url(#p51323664f6)\" d=\"M 165.102775 225.199213 \r\nL 165.102775 162.451213 \r\n\" style=\"fill:none;stroke:#d3d3d3;stroke-linecap:square;stroke-width:0.8;\"/>\r\n     </g>\r\n    </g>\r\n    <g id=\"xtick_17\">\r\n     <g id=\"line2d_27\">\r\n      <path clip-path=\"url(#p51323664f6)\" d=\"M 272.514825 225.199213 \r\nL 272.514825 162.451213 \r\n\" style=\"fill:none;stroke:#d3d3d3;stroke-linecap:square;stroke-width:0.8;\"/>\r\n     </g>\r\n    </g>\r\n    <g id=\"xtick_18\">\r\n     <g id=\"line2d_28\">\r\n      <path clip-path=\"url(#p51323664f6)\" d=\"M 379.926876 225.199213 \r\nL 379.926876 162.451213 \r\n\" style=\"fill:none;stroke:#d3d3d3;stroke-linecap:square;stroke-width:0.8;\"/>\r\n     </g>\r\n    </g>\r\n    <g id=\"xtick_19\"/>\r\n    <g id=\"xtick_20\"/>\r\n    <g id=\"xtick_21\"/>\r\n   </g>\r\n   <g id=\"matplotlib.axis_6\">\r\n    <g id=\"ytick_16\">\r\n     <g id=\"line2d_29\">\r\n      <path clip-path=\"url(#p51323664f6)\" d=\"M 36.948906 222.347031 \r\nL 394.068906 222.347031 \r\n\" style=\"fill:none;stroke:#d3d3d3;stroke-linecap:square;stroke-width:0.8;\"/>\r\n     </g>\r\n     <g id=\"line2d_30\">\r\n      <path d=\"M 36.948906 222.347031 \r\n\" style=\"fill:none;stroke:#333333;stroke-linecap:square;stroke-width:1.5;\"/>\r\n      <g>\r\n       <use style=\"fill:#333333;stroke:#000000;\" x=\"36.948906\" xlink:href=\"#m5f5e6869d7\" y=\"222.347031\"/>\r\n      </g>\r\n     </g>\r\n     <g id=\"text_14\">\r\n      <!-- 0 -->\r\n      <g transform=\"translate(27.085469 224.860703)scale(0.09 -0.09)\">\r\n       <use xlink:href=\"#Tahoma-30\"/>\r\n      </g>\r\n     </g>\r\n    </g>\r\n    <g id=\"ytick_17\">\r\n     <g id=\"line2d_31\">\r\n      <path clip-path=\"url(#p51323664f6)\" d=\"M 36.948906 209.946241 \r\nL 394.068906 209.946241 \r\n\" style=\"fill:none;stroke:#d3d3d3;stroke-linecap:square;stroke-width:0.8;\"/>\r\n     </g>\r\n     <g id=\"line2d_32\">\r\n      <path d=\"M 36.948906 209.946241 \r\n\" style=\"fill:none;stroke:#333333;stroke-linecap:square;stroke-width:1.5;\"/>\r\n      <g>\r\n       <use style=\"fill:#333333;stroke:#000000;\" x=\"36.948906\" xlink:href=\"#m5f5e6869d7\" y=\"209.946241\"/>\r\n      </g>\r\n     </g>\r\n     <g id=\"text_15\">\r\n      <!-- 5 -->\r\n      <g transform=\"translate(27.085469 212.459913)scale(0.09 -0.09)\">\r\n       <defs>\r\n        <path d=\"M 3159 1481 \r\nQ 3159 1144 3051 856 \r\nQ 2944 569 2750 359 \r\nQ 2553 147 2261 25 \r\nQ 1969 -97 1606 -97 \r\nQ 1272 -97 948 -23 \r\nQ 625 50 388 169 \r\nL 388 828 \r\nL 431 828 \r\nQ 503 775 637 708 \r\nQ 772 641 934 581 \r\nQ 1119 516 1272 480 \r\nQ 1425 444 1616 444 \r\nQ 1803 444 1981 511 \r\nQ 2159 578 2288 728 \r\nQ 2403 866 2464 1050 \r\nQ 2525 1234 2525 1484 \r\nQ 2525 1731 2458 1890 \r\nQ 2391 2050 2263 2153 \r\nQ 2128 2272 1933 2320 \r\nQ 1738 2369 1497 2369 \r\nQ 1244 2369 987 2330 \r\nQ 731 2291 578 2256 \r\nL 578 4653 \r\nL 3131 4653 \r\nL 3131 4106 \r\nL 1181 4106 \r\nL 1181 2869 \r\nQ 1294 2881 1403 2887 \r\nQ 1513 2894 1603 2894 \r\nQ 1959 2894 2206 2834 \r\nQ 2453 2775 2681 2603 \r\nQ 2913 2428 3036 2165 \r\nQ 3159 1903 3159 1481 \r\nz\r\n\" id=\"Tahoma-35\" transform=\"scale(0.015625)\"/>\r\n       </defs>\r\n       <use xlink:href=\"#Tahoma-35\"/>\r\n      </g>\r\n     </g>\r\n    </g>\r\n    <g id=\"ytick_18\">\r\n     <g id=\"line2d_33\">\r\n      <path clip-path=\"url(#p51323664f6)\" d=\"M 36.948906 197.54545 \r\nL 394.068906 197.54545 \r\n\" style=\"fill:none;stroke:#d3d3d3;stroke-linecap:square;stroke-width:0.8;\"/>\r\n     </g>\r\n     <g id=\"line2d_34\">\r\n      <path d=\"M 36.948906 197.54545 \r\n\" style=\"fill:none;stroke:#333333;stroke-linecap:square;stroke-width:1.5;\"/>\r\n      <g>\r\n       <use style=\"fill:#333333;stroke:#000000;\" x=\"36.948906\" xlink:href=\"#m5f5e6869d7\" y=\"197.54545\"/>\r\n      </g>\r\n     </g>\r\n     <g id=\"text_16\">\r\n      <!-- 10 -->\r\n      <g transform=\"translate(22.172031 200.059122)scale(0.09 -0.09)\">\r\n       <use xlink:href=\"#Tahoma-31\"/>\r\n       <use x=\"54.589844\" xlink:href=\"#Tahoma-30\"/>\r\n      </g>\r\n     </g>\r\n    </g>\r\n    <g id=\"ytick_19\">\r\n     <g id=\"line2d_35\">\r\n      <path clip-path=\"url(#p51323664f6)\" d=\"M 36.948906 185.14466 \r\nL 394.068906 185.14466 \r\n\" style=\"fill:none;stroke:#d3d3d3;stroke-linecap:square;stroke-width:0.8;\"/>\r\n     </g>\r\n     <g id=\"line2d_36\">\r\n      <path d=\"M 36.948906 185.14466 \r\n\" style=\"fill:none;stroke:#333333;stroke-linecap:square;stroke-width:1.5;\"/>\r\n      <g>\r\n       <use style=\"fill:#333333;stroke:#000000;\" x=\"36.948906\" xlink:href=\"#m5f5e6869d7\" y=\"185.14466\"/>\r\n      </g>\r\n     </g>\r\n     <g id=\"text_17\">\r\n      <!-- 15 -->\r\n      <g transform=\"translate(22.172031 187.658332)scale(0.09 -0.09)\">\r\n       <use xlink:href=\"#Tahoma-31\"/>\r\n       <use x=\"54.589844\" xlink:href=\"#Tahoma-35\"/>\r\n      </g>\r\n     </g>\r\n    </g>\r\n    <g id=\"ytick_20\">\r\n     <g id=\"line2d_37\">\r\n      <path clip-path=\"url(#p51323664f6)\" d=\"M 36.948906 172.743869 \r\nL 394.068906 172.743869 \r\n\" style=\"fill:none;stroke:#d3d3d3;stroke-linecap:square;stroke-width:0.8;\"/>\r\n     </g>\r\n     <g id=\"line2d_38\">\r\n      <path d=\"M 36.948906 172.743869 \r\n\" style=\"fill:none;stroke:#333333;stroke-linecap:square;stroke-width:1.5;\"/>\r\n      <g>\r\n       <use style=\"fill:#333333;stroke:#000000;\" x=\"36.948906\" xlink:href=\"#m5f5e6869d7\" y=\"172.743869\"/>\r\n      </g>\r\n     </g>\r\n     <g id=\"text_18\">\r\n      <!-- 20 -->\r\n      <g transform=\"translate(22.172031 175.257541)scale(0.09 -0.09)\">\r\n       <use xlink:href=\"#Tahoma-32\"/>\r\n       <use x=\"54.589844\" xlink:href=\"#Tahoma-30\"/>\r\n      </g>\r\n     </g>\r\n    </g>\r\n    <g id=\"ytick_21\"/>\r\n    <g id=\"ytick_22\"/>\r\n    <g id=\"ytick_23\"/>\r\n    <g id=\"ytick_24\"/>\r\n    <g id=\"ytick_25\"/>\r\n   </g>\r\n   <g id=\"PolyCollection_3\">\r\n    <path clip-path=\"url(#p51323664f6)\" d=\"M 53.181634 222.347031 \r\nL 53.181634 165.303395 \r\nL 62.199815 165.303395 \r\nL 62.199815 222.347031 \r\nz\r\n\" style=\"fill:#7fc97f;fill-opacity:0.74902;\"/>\r\n    <path clip-path=\"url(#p51323664f6)\" d=\"M 62.199815 222.347031 \r\nL 62.199815 165.303395 \r\nL 71.217997 165.303395 \r\nL 71.217997 222.347031 \r\nz\r\n\" style=\"fill:#7fc97f;fill-opacity:0.74902;\"/>\r\n    <path clip-path=\"url(#p51323664f6)\" d=\"M 71.217997 222.347031 \r\nL 71.217997 207.466083 \r\nL 80.236179 207.466083 \r\nL 80.236179 222.347031 \r\nz\r\n\" style=\"fill:#7fc97f;fill-opacity:0.74902;\"/>\r\n    <path clip-path=\"url(#p51323664f6)\" d=\"M 80.236179 222.347031 \r\nL 80.236179 204.985925 \r\nL 89.254361 204.985925 \r\nL 89.254361 222.347031 \r\nz\r\n\" style=\"fill:#7fc97f;fill-opacity:0.74902;\"/>\r\n    <path clip-path=\"url(#p51323664f6)\" d=\"M 89.254361 222.347031 \r\nL 89.254361 200.025609 \r\nL 98.272543 200.025609 \r\nL 98.272543 222.347031 \r\nz\r\n\" style=\"fill:#7fc97f;fill-opacity:0.74902;\"/>\r\n    <path clip-path=\"url(#p51323664f6)\" d=\"M 98.272543 222.347031 \r\nL 98.272543 207.466083 \r\nL 107.290724 207.466083 \r\nL 107.290724 222.347031 \r\nz\r\n\" style=\"fill:#7fc97f;fill-opacity:0.74902;\"/>\r\n    <path clip-path=\"url(#p51323664f6)\" d=\"M 107.290724 222.347031 \r\nL 107.290724 209.946241 \r\nL 116.308906 209.946241 \r\nL 116.308906 222.347031 \r\nz\r\n\" style=\"fill:#7fc97f;fill-opacity:0.74902;\"/>\r\n    <path clip-path=\"url(#p51323664f6)\" d=\"M 116.308906 222.347031 \r\nL 116.308906 214.906557 \r\nL 125.327088 214.906557 \r\nL 125.327088 222.347031 \r\nz\r\n\" style=\"fill:#7fc97f;fill-opacity:0.74902;\"/>\r\n    <path clip-path=\"url(#p51323664f6)\" d=\"M 125.327088 222.347031 \r\nL 125.327088 217.386715 \r\nL 134.34527 217.386715 \r\nL 134.34527 222.347031 \r\nz\r\n\" style=\"fill:#7fc97f;fill-opacity:0.74902;\"/>\r\n    <path clip-path=\"url(#p51323664f6)\" d=\"M 134.34527 222.347031 \r\nL 134.34527 214.906557 \r\nL 143.363452 214.906557 \r\nL 143.363452 222.347031 \r\nz\r\n\" style=\"fill:#7fc97f;fill-opacity:0.74902;\"/>\r\n    <path clip-path=\"url(#p51323664f6)\" d=\"M 143.363452 222.347031 \r\nL 143.363452 217.386715 \r\nL 152.381634 217.386715 \r\nL 152.381634 222.347031 \r\nz\r\n\" style=\"fill:#7fc97f;fill-opacity:0.74902;\"/>\r\n    <path clip-path=\"url(#p51323664f6)\" d=\"M 152.381634 222.347031 \r\nL 152.381634 219.866873 \r\nL 161.399815 219.866873 \r\nL 161.399815 222.347031 \r\nz\r\n\" style=\"fill:#7fc97f;fill-opacity:0.74902;\"/>\r\n    <path clip-path=\"url(#p51323664f6)\" d=\"M 161.399815 222.347031 \r\nL 161.399815 217.386715 \r\nL 170.417997 217.386715 \r\nL 170.417997 222.347031 \r\nz\r\n\" style=\"fill:#7fc97f;fill-opacity:0.74902;\"/>\r\n    <path clip-path=\"url(#p51323664f6)\" d=\"M 170.417997 222.347031 \r\nL 170.417997 219.866873 \r\nL 179.436179 219.866873 \r\nL 179.436179 222.347031 \r\nz\r\n\" style=\"fill:#7fc97f;fill-opacity:0.74902;\"/>\r\n    <path clip-path=\"url(#p51323664f6)\" d=\"M 179.436179 222.347031 \r\nL 179.436179 214.906557 \r\nL 188.454361 214.906557 \r\nL 188.454361 222.347031 \r\nz\r\n\" style=\"fill:#7fc97f;fill-opacity:0.74902;\"/>\r\n    <path clip-path=\"url(#p51323664f6)\" d=\"M 188.454361 222.347031 \r\nL 188.454361 219.866873 \r\nL 197.472543 219.866873 \r\nL 197.472543 222.347031 \r\nz\r\n\" style=\"fill:#7fc97f;fill-opacity:0.74902;\"/>\r\n    <path clip-path=\"url(#p51323664f6)\" d=\"M 197.472543 222.347031 \r\nL 197.472543 222.347031 \r\nL 206.490724 222.347031 \r\nL 206.490724 222.347031 \r\nz\r\n\" style=\"fill:#7fc97f;fill-opacity:0.74902;\"/>\r\n    <path clip-path=\"url(#p51323664f6)\" d=\"M 206.490724 222.347031 \r\nL 206.490724 219.866873 \r\nL 215.508906 219.866873 \r\nL 215.508906 222.347031 \r\nz\r\n\" style=\"fill:#7fc97f;fill-opacity:0.74902;\"/>\r\n    <path clip-path=\"url(#p51323664f6)\" d=\"M 215.508906 222.347031 \r\nL 215.508906 222.347031 \r\nL 224.527088 222.347031 \r\nL 224.527088 222.347031 \r\nz\r\n\" style=\"fill:#7fc97f;fill-opacity:0.74902;\"/>\r\n    <path clip-path=\"url(#p51323664f6)\" d=\"M 224.527088 222.347031 \r\nL 224.527088 222.347031 \r\nL 233.54527 222.347031 \r\nL 233.54527 222.347031 \r\nz\r\n\" style=\"fill:#7fc97f;fill-opacity:0.74902;\"/>\r\n    <path clip-path=\"url(#p51323664f6)\" d=\"M 233.54527 222.347031 \r\nL 233.54527 222.347031 \r\nL 242.563452 222.347031 \r\nL 242.563452 222.347031 \r\nz\r\n\" style=\"fill:#7fc97f;fill-opacity:0.74902;\"/>\r\n    <path clip-path=\"url(#p51323664f6)\" d=\"M 242.563452 222.347031 \r\nL 242.563452 222.347031 \r\nL 251.581634 222.347031 \r\nL 251.581634 222.347031 \r\nz\r\n\" style=\"fill:#7fc97f;fill-opacity:0.74902;\"/>\r\n    <path clip-path=\"url(#p51323664f6)\" d=\"M 251.581634 222.347031 \r\nL 251.581634 219.866873 \r\nL 260.599815 219.866873 \r\nL 260.599815 222.347031 \r\nz\r\n\" style=\"fill:#7fc97f;fill-opacity:0.74902;\"/>\r\n    <path clip-path=\"url(#p51323664f6)\" d=\"M 260.599815 222.347031 \r\nL 260.599815 222.347031 \r\nL 269.617997 222.347031 \r\nL 269.617997 222.347031 \r\nz\r\n\" style=\"fill:#7fc97f;fill-opacity:0.74902;\"/>\r\n    <path clip-path=\"url(#p51323664f6)\" d=\"M 269.617997 222.347031 \r\nL 269.617997 222.347031 \r\nL 278.636179 222.347031 \r\nL 278.636179 222.347031 \r\nz\r\n\" style=\"fill:#7fc97f;fill-opacity:0.74902;\"/>\r\n    <path clip-path=\"url(#p51323664f6)\" d=\"M 278.636179 222.347031 \r\nL 278.636179 222.347031 \r\nL 287.654361 222.347031 \r\nL 287.654361 222.347031 \r\nz\r\n\" style=\"fill:#7fc97f;fill-opacity:0.74902;\"/>\r\n    <path clip-path=\"url(#p51323664f6)\" d=\"M 287.654361 222.347031 \r\nL 287.654361 222.347031 \r\nL 296.672543 222.347031 \r\nL 296.672543 222.347031 \r\nz\r\n\" style=\"fill:#7fc97f;fill-opacity:0.74902;\"/>\r\n    <path clip-path=\"url(#p51323664f6)\" d=\"M 296.672543 222.347031 \r\nL 296.672543 219.866873 \r\nL 305.690724 219.866873 \r\nL 305.690724 222.347031 \r\nz\r\n\" style=\"fill:#7fc97f;fill-opacity:0.74902;\"/>\r\n    <path clip-path=\"url(#p51323664f6)\" d=\"M 305.690724 222.347031 \r\nL 305.690724 222.347031 \r\nL 314.708906 222.347031 \r\nL 314.708906 222.347031 \r\nz\r\n\" style=\"fill:#7fc97f;fill-opacity:0.74902;\"/>\r\n    <path clip-path=\"url(#p51323664f6)\" d=\"M 314.708906 222.347031 \r\nL 314.708906 222.347031 \r\nL 323.727088 222.347031 \r\nL 323.727088 222.347031 \r\nz\r\n\" style=\"fill:#7fc97f;fill-opacity:0.74902;\"/>\r\n    <path clip-path=\"url(#p51323664f6)\" d=\"M 323.727088 222.347031 \r\nL 323.727088 222.347031 \r\nL 332.74527 222.347031 \r\nL 332.74527 222.347031 \r\nz\r\n\" style=\"fill:#7fc97f;fill-opacity:0.74902;\"/>\r\n    <path clip-path=\"url(#p51323664f6)\" d=\"M 332.74527 222.347031 \r\nL 332.74527 222.347031 \r\nL 341.763452 222.347031 \r\nL 341.763452 222.347031 \r\nz\r\n\" style=\"fill:#7fc97f;fill-opacity:0.74902;\"/>\r\n    <path clip-path=\"url(#p51323664f6)\" d=\"M 341.763452 222.347031 \r\nL 341.763452 222.347031 \r\nL 350.781634 222.347031 \r\nL 350.781634 222.347031 \r\nz\r\n\" style=\"fill:#7fc97f;fill-opacity:0.74902;\"/>\r\n    <path clip-path=\"url(#p51323664f6)\" d=\"M 350.781634 222.347031 \r\nL 350.781634 222.347031 \r\nL 359.799815 222.347031 \r\nL 359.799815 222.347031 \r\nz\r\n\" style=\"fill:#7fc97f;fill-opacity:0.74902;\"/>\r\n    <path clip-path=\"url(#p51323664f6)\" d=\"M 359.799815 222.347031 \r\nL 359.799815 222.347031 \r\nL 368.817997 222.347031 \r\nL 368.817997 222.347031 \r\nz\r\n\" style=\"fill:#7fc97f;fill-opacity:0.74902;\"/>\r\n    <path clip-path=\"url(#p51323664f6)\" d=\"M 368.817997 222.347031 \r\nL 368.817997 222.347031 \r\nL 377.836179 222.347031 \r\nL 377.836179 222.347031 \r\nz\r\n\" style=\"fill:#7fc97f;fill-opacity:0.74902;\"/>\r\n    <path clip-path=\"url(#p51323664f6)\" d=\"M 53.181634 222.347031 \r\nL 53.181634 167.783553 \r\nL 62.199815 167.783553 \r\nL 62.199815 222.347031 \r\nz\r\n\" style=\"fill:#beaed4;fill-opacity:0.74902;\"/>\r\n    <path clip-path=\"url(#p51323664f6)\" d=\"M 62.199815 222.347031 \r\nL 62.199815 165.303395 \r\nL 71.217997 165.303395 \r\nL 71.217997 222.347031 \r\nz\r\n\" style=\"fill:#beaed4;fill-opacity:0.74902;\"/>\r\n    <path clip-path=\"url(#p51323664f6)\" d=\"M 71.217997 222.347031 \r\nL 71.217997 192.585134 \r\nL 80.236179 192.585134 \r\nL 80.236179 222.347031 \r\nz\r\n\" style=\"fill:#beaed4;fill-opacity:0.74902;\"/>\r\n    <path clip-path=\"url(#p51323664f6)\" d=\"M 80.236179 222.347031 \r\nL 80.236179 200.025609 \r\nL 89.254361 200.025609 \r\nL 89.254361 222.347031 \r\nz\r\n\" style=\"fill:#beaed4;fill-opacity:0.74902;\"/>\r\n    <path clip-path=\"url(#p51323664f6)\" d=\"M 89.254361 222.347031 \r\nL 89.254361 209.946241 \r\nL 98.272543 209.946241 \r\nL 98.272543 222.347031 \r\nz\r\n\" style=\"fill:#beaed4;fill-opacity:0.74902;\"/>\r\n    <path clip-path=\"url(#p51323664f6)\" d=\"M 98.272543 222.347031 \r\nL 98.272543 207.466083 \r\nL 107.290724 207.466083 \r\nL 107.290724 222.347031 \r\nz\r\n\" style=\"fill:#beaed4;fill-opacity:0.74902;\"/>\r\n    <path clip-path=\"url(#p51323664f6)\" d=\"M 107.290724 222.347031 \r\nL 107.290724 207.466083 \r\nL 116.308906 207.466083 \r\nL 116.308906 222.347031 \r\nz\r\n\" style=\"fill:#beaed4;fill-opacity:0.74902;\"/>\r\n    <path clip-path=\"url(#p51323664f6)\" d=\"M 116.308906 222.347031 \r\nL 116.308906 212.426399 \r\nL 125.327088 212.426399 \r\nL 125.327088 222.347031 \r\nz\r\n\" style=\"fill:#beaed4;fill-opacity:0.74902;\"/>\r\n    <path clip-path=\"url(#p51323664f6)\" d=\"M 125.327088 222.347031 \r\nL 125.327088 212.426399 \r\nL 134.34527 212.426399 \r\nL 134.34527 222.347031 \r\nz\r\n\" style=\"fill:#beaed4;fill-opacity:0.74902;\"/>\r\n    <path clip-path=\"url(#p51323664f6)\" d=\"M 134.34527 222.347031 \r\nL 134.34527 219.866873 \r\nL 143.363452 219.866873 \r\nL 143.363452 222.347031 \r\nz\r\n\" style=\"fill:#beaed4;fill-opacity:0.74902;\"/>\r\n    <path clip-path=\"url(#p51323664f6)\" d=\"M 143.363452 222.347031 \r\nL 143.363452 219.866873 \r\nL 152.381634 219.866873 \r\nL 152.381634 222.347031 \r\nz\r\n\" style=\"fill:#beaed4;fill-opacity:0.74902;\"/>\r\n    <path clip-path=\"url(#p51323664f6)\" d=\"M 152.381634 222.347031 \r\nL 152.381634 217.386715 \r\nL 161.399815 217.386715 \r\nL 161.399815 222.347031 \r\nz\r\n\" style=\"fill:#beaed4;fill-opacity:0.74902;\"/>\r\n    <path clip-path=\"url(#p51323664f6)\" d=\"M 161.399815 222.347031 \r\nL 161.399815 217.386715 \r\nL 170.417997 217.386715 \r\nL 170.417997 222.347031 \r\nz\r\n\" style=\"fill:#beaed4;fill-opacity:0.74902;\"/>\r\n    <path clip-path=\"url(#p51323664f6)\" d=\"M 170.417997 222.347031 \r\nL 170.417997 222.347031 \r\nL 179.436179 222.347031 \r\nL 179.436179 222.347031 \r\nz\r\n\" style=\"fill:#beaed4;fill-opacity:0.74902;\"/>\r\n    <path clip-path=\"url(#p51323664f6)\" d=\"M 179.436179 222.347031 \r\nL 179.436179 222.347031 \r\nL 188.454361 222.347031 \r\nL 188.454361 222.347031 \r\nz\r\n\" style=\"fill:#beaed4;fill-opacity:0.74902;\"/>\r\n    <path clip-path=\"url(#p51323664f6)\" d=\"M 188.454361 222.347031 \r\nL 188.454361 222.347031 \r\nL 197.472543 222.347031 \r\nL 197.472543 222.347031 \r\nz\r\n\" style=\"fill:#beaed4;fill-opacity:0.74902;\"/>\r\n    <path clip-path=\"url(#p51323664f6)\" d=\"M 197.472543 222.347031 \r\nL 197.472543 219.866873 \r\nL 206.490724 219.866873 \r\nL 206.490724 222.347031 \r\nz\r\n\" style=\"fill:#beaed4;fill-opacity:0.74902;\"/>\r\n    <path clip-path=\"url(#p51323664f6)\" d=\"M 206.490724 222.347031 \r\nL 206.490724 222.347031 \r\nL 215.508906 222.347031 \r\nL 215.508906 222.347031 \r\nz\r\n\" style=\"fill:#beaed4;fill-opacity:0.74902;\"/>\r\n    <path clip-path=\"url(#p51323664f6)\" d=\"M 215.508906 222.347031 \r\nL 215.508906 222.347031 \r\nL 224.527088 222.347031 \r\nL 224.527088 222.347031 \r\nz\r\n\" style=\"fill:#beaed4;fill-opacity:0.74902;\"/>\r\n    <path clip-path=\"url(#p51323664f6)\" d=\"M 224.527088 222.347031 \r\nL 224.527088 222.347031 \r\nL 233.54527 222.347031 \r\nL 233.54527 222.347031 \r\nz\r\n\" style=\"fill:#beaed4;fill-opacity:0.74902;\"/>\r\n    <path clip-path=\"url(#p51323664f6)\" d=\"M 233.54527 222.347031 \r\nL 233.54527 219.866873 \r\nL 242.563452 219.866873 \r\nL 242.563452 222.347031 \r\nz\r\n\" style=\"fill:#beaed4;fill-opacity:0.74902;\"/>\r\n    <path clip-path=\"url(#p51323664f6)\" d=\"M 242.563452 222.347031 \r\nL 242.563452 222.347031 \r\nL 251.581634 222.347031 \r\nL 251.581634 222.347031 \r\nz\r\n\" style=\"fill:#beaed4;fill-opacity:0.74902;\"/>\r\n    <path clip-path=\"url(#p51323664f6)\" d=\"M 251.581634 222.347031 \r\nL 251.581634 222.347031 \r\nL 260.599815 222.347031 \r\nL 260.599815 222.347031 \r\nz\r\n\" style=\"fill:#beaed4;fill-opacity:0.74902;\"/>\r\n    <path clip-path=\"url(#p51323664f6)\" d=\"M 260.599815 222.347031 \r\nL 260.599815 222.347031 \r\nL 269.617997 222.347031 \r\nL 269.617997 222.347031 \r\nz\r\n\" style=\"fill:#beaed4;fill-opacity:0.74902;\"/>\r\n    <path clip-path=\"url(#p51323664f6)\" d=\"M 269.617997 222.347031 \r\nL 269.617997 219.866873 \r\nL 278.636179 219.866873 \r\nL 278.636179 222.347031 \r\nz\r\n\" style=\"fill:#beaed4;fill-opacity:0.74902;\"/>\r\n    <path clip-path=\"url(#p51323664f6)\" d=\"M 278.636179 222.347031 \r\nL 278.636179 222.347031 \r\nL 287.654361 222.347031 \r\nL 287.654361 222.347031 \r\nz\r\n\" style=\"fill:#beaed4;fill-opacity:0.74902;\"/>\r\n    <path clip-path=\"url(#p51323664f6)\" d=\"M 287.654361 222.347031 \r\nL 287.654361 222.347031 \r\nL 296.672543 222.347031 \r\nL 296.672543 222.347031 \r\nz\r\n\" style=\"fill:#beaed4;fill-opacity:0.74902;\"/>\r\n    <path clip-path=\"url(#p51323664f6)\" d=\"M 296.672543 222.347031 \r\nL 296.672543 222.347031 \r\nL 305.690724 222.347031 \r\nL 305.690724 222.347031 \r\nz\r\n\" style=\"fill:#beaed4;fill-opacity:0.74902;\"/>\r\n    <path clip-path=\"url(#p51323664f6)\" d=\"M 305.690724 222.347031 \r\nL 305.690724 222.347031 \r\nL 314.708906 222.347031 \r\nL 314.708906 222.347031 \r\nz\r\n\" style=\"fill:#beaed4;fill-opacity:0.74902;\"/>\r\n    <path clip-path=\"url(#p51323664f6)\" d=\"M 314.708906 222.347031 \r\nL 314.708906 222.347031 \r\nL 323.727088 222.347031 \r\nL 323.727088 222.347031 \r\nz\r\n\" style=\"fill:#beaed4;fill-opacity:0.74902;\"/>\r\n    <path clip-path=\"url(#p51323664f6)\" d=\"M 323.727088 222.347031 \r\nL 323.727088 222.347031 \r\nL 332.74527 222.347031 \r\nL 332.74527 222.347031 \r\nz\r\n\" style=\"fill:#beaed4;fill-opacity:0.74902;\"/>\r\n    <path clip-path=\"url(#p51323664f6)\" d=\"M 332.74527 222.347031 \r\nL 332.74527 222.347031 \r\nL 341.763452 222.347031 \r\nL 341.763452 222.347031 \r\nz\r\n\" style=\"fill:#beaed4;fill-opacity:0.74902;\"/>\r\n    <path clip-path=\"url(#p51323664f6)\" d=\"M 341.763452 222.347031 \r\nL 341.763452 222.347031 \r\nL 350.781634 222.347031 \r\nL 350.781634 222.347031 \r\nz\r\n\" style=\"fill:#beaed4;fill-opacity:0.74902;\"/>\r\n    <path clip-path=\"url(#p51323664f6)\" d=\"M 350.781634 222.347031 \r\nL 350.781634 222.347031 \r\nL 359.799815 222.347031 \r\nL 359.799815 222.347031 \r\nz\r\n\" style=\"fill:#beaed4;fill-opacity:0.74902;\"/>\r\n    <path clip-path=\"url(#p51323664f6)\" d=\"M 359.799815 222.347031 \r\nL 359.799815 222.347031 \r\nL 368.817997 222.347031 \r\nL 368.817997 222.347031 \r\nz\r\n\" style=\"fill:#beaed4;fill-opacity:0.74902;\"/>\r\n    <path clip-path=\"url(#p51323664f6)\" d=\"M 368.817997 222.347031 \r\nL 368.817997 222.347031 \r\nL 377.836179 222.347031 \r\nL 377.836179 222.347031 \r\nz\r\n\" style=\"fill:#beaed4;fill-opacity:0.74902;\"/>\r\n   </g>\r\n   <g id=\"patch_12\">\r\n    <path d=\"M 394.068906 225.199213 \r\nL 408.368906 225.199213 \r\nL 408.368906 162.451213 \r\nL 394.068906 162.451213 \r\nz\r\n\" style=\"fill:#cccccc;stroke:#7f7f7f;stroke-linejoin:miter;\"/>\r\n   </g>\r\n   <g id=\"text_19\">\r\n    <!-- 04 -->\r\n    <g style=\"fill:#1a1a1a;\" transform=\"translate(398.761094 189.020963)rotate(-270)scale(0.088 -0.088)\">\r\n     <use xlink:href=\"#Tahoma-30\"/>\r\n     <use x=\"54.589844\" xlink:href=\"#Tahoma-34\"/>\r\n    </g>\r\n   </g>\r\n  </g>\r\n  <g id=\"axes_4\">\r\n   <g id=\"patch_13\">\r\n    <path d=\"M 36.948906 292.987213 \r\nL 394.068906 292.987213 \r\nL 394.068906 230.239213 \r\nL 36.948906 230.239213 \r\nz\r\n\" style=\"fill:none;stroke:#000000;stroke-linejoin:miter;stroke-width:0.5;\"/>\r\n   </g>\r\n   <g id=\"matplotlib.axis_7\">\r\n    <g id=\"xtick_22\">\r\n     <g id=\"line2d_39\">\r\n      <path clip-path=\"url(#p7a324713fd)\" d=\"M 57.690724 292.987213 \r\nL 57.690724 230.239213 \r\n\" style=\"fill:none;stroke:#d3d3d3;stroke-linecap:square;stroke-width:0.8;\"/>\r\n     </g>\r\n     <g id=\"line2d_40\">\r\n      <path d=\"M 57.690724 292.987213 \r\n\" style=\"fill:none;stroke:#333333;stroke-linecap:square;stroke-width:1.5;\"/>\r\n      <defs>\r\n       <path d=\"M 0 0 \r\nL 0 2.75 \r\n\" id=\"m896b90799e\" style=\"stroke:#000000;\"/>\r\n      </defs>\r\n      <g>\r\n       <use style=\"fill:#333333;stroke:#000000;\" x=\"57.690724\" xlink:href=\"#m896b90799e\" y=\"292.987213\"/>\r\n      </g>\r\n     </g>\r\n     <g id=\"text_20\">\r\n      <!-- 0 -->\r\n      <g transform=\"translate(55.234006 304.775807)scale(0.09 -0.09)\">\r\n       <use xlink:href=\"#Tahoma-30\"/>\r\n      </g>\r\n     </g>\r\n    </g>\r\n    <g id=\"xtick_23\">\r\n     <g id=\"line2d_41\">\r\n      <path clip-path=\"url(#p7a324713fd)\" d=\"M 165.102775 292.987213 \r\nL 165.102775 230.239213 \r\n\" style=\"fill:none;stroke:#d3d3d3;stroke-linecap:square;stroke-width:0.8;\"/>\r\n     </g>\r\n     <g id=\"line2d_42\">\r\n      <path d=\"M 165.102775 292.987213 \r\n\" style=\"fill:none;stroke:#333333;stroke-linecap:square;stroke-width:1.5;\"/>\r\n      <g>\r\n       <use style=\"fill:#333333;stroke:#000000;\" x=\"165.102775\" xlink:href=\"#m896b90799e\" y=\"292.987213\"/>\r\n      </g>\r\n     </g>\r\n     <g id=\"text_21\">\r\n      <!-- 5000 -->\r\n      <g transform=\"translate(155.2759 304.775807)scale(0.09 -0.09)\">\r\n       <use xlink:href=\"#Tahoma-35\"/>\r\n       <use x=\"54.589844\" xlink:href=\"#Tahoma-30\"/>\r\n       <use x=\"109.179688\" xlink:href=\"#Tahoma-30\"/>\r\n       <use x=\"163.769531\" xlink:href=\"#Tahoma-30\"/>\r\n      </g>\r\n     </g>\r\n    </g>\r\n    <g id=\"xtick_24\">\r\n     <g id=\"line2d_43\">\r\n      <path clip-path=\"url(#p7a324713fd)\" d=\"M 272.514825 292.987213 \r\nL 272.514825 230.239213 \r\n\" style=\"fill:none;stroke:#d3d3d3;stroke-linecap:square;stroke-width:0.8;\"/>\r\n     </g>\r\n     <g id=\"line2d_44\">\r\n      <path d=\"M 272.514825 292.987213 \r\n\" style=\"fill:none;stroke:#333333;stroke-linecap:square;stroke-width:1.5;\"/>\r\n      <g>\r\n       <use style=\"fill:#333333;stroke:#000000;\" x=\"272.514825\" xlink:href=\"#m896b90799e\" y=\"292.987213\"/>\r\n      </g>\r\n     </g>\r\n     <g id=\"text_22\">\r\n      <!-- 10000 -->\r\n      <g transform=\"translate(260.231232 304.775807)scale(0.09 -0.09)\">\r\n       <use xlink:href=\"#Tahoma-31\"/>\r\n       <use x=\"54.589844\" xlink:href=\"#Tahoma-30\"/>\r\n       <use x=\"109.179688\" xlink:href=\"#Tahoma-30\"/>\r\n       <use x=\"163.769531\" xlink:href=\"#Tahoma-30\"/>\r\n       <use x=\"218.359375\" xlink:href=\"#Tahoma-30\"/>\r\n      </g>\r\n     </g>\r\n    </g>\r\n    <g id=\"xtick_25\">\r\n     <g id=\"line2d_45\">\r\n      <path clip-path=\"url(#p7a324713fd)\" d=\"M 379.926876 292.987213 \r\nL 379.926876 230.239213 \r\n\" style=\"fill:none;stroke:#d3d3d3;stroke-linecap:square;stroke-width:0.8;\"/>\r\n     </g>\r\n     <g id=\"line2d_46\">\r\n      <path d=\"M 379.926876 292.987213 \r\n\" style=\"fill:none;stroke:#333333;stroke-linecap:square;stroke-width:1.5;\"/>\r\n      <g>\r\n       <use style=\"fill:#333333;stroke:#000000;\" x=\"379.926876\" xlink:href=\"#m896b90799e\" y=\"292.987213\"/>\r\n      </g>\r\n     </g>\r\n     <g id=\"text_23\">\r\n      <!-- 15000 -->\r\n      <g transform=\"translate(367.643282 304.775807)scale(0.09 -0.09)\">\r\n       <use xlink:href=\"#Tahoma-31\"/>\r\n       <use x=\"54.589844\" xlink:href=\"#Tahoma-35\"/>\r\n       <use x=\"109.179688\" xlink:href=\"#Tahoma-30\"/>\r\n       <use x=\"163.769531\" xlink:href=\"#Tahoma-30\"/>\r\n       <use x=\"218.359375\" xlink:href=\"#Tahoma-30\"/>\r\n      </g>\r\n     </g>\r\n    </g>\r\n    <g id=\"xtick_26\"/>\r\n    <g id=\"xtick_27\"/>\r\n    <g id=\"xtick_28\"/>\r\n    <g id=\"text_24\">\r\n     <!-- Reconstruction error -->\r\n     <g transform=\"translate(160.395859 319.345338)scale(0.11 -0.11)\">\r\n      <defs>\r\n       <path d=\"M 4075 0 \r\nL 3272 0 \r\nL 1797 1850 \r\nL 1091 1850 \r\nL 1091 0 \r\nL 472 0 \r\nL 472 4653 \r\nL 1672 4653 \r\nQ 2072 4653 2342 4609 \r\nQ 2613 4566 2856 4406 \r\nQ 3100 4250 3242 4003 \r\nQ 3384 3756 3384 3391 \r\nQ 3384 2878 3125 2534 \r\nQ 2866 2191 2419 2025 \r\nL 4075 0 \r\nz\r\nM 2738 3344 \r\nQ 2738 3547 2666 3705 \r\nQ 2594 3863 2444 3963 \r\nQ 2313 4050 2138 4086 \r\nQ 1963 4122 1703 4122 \r\nL 1091 4122 \r\nL 1091 2366 \r\nL 1634 2366 \r\nQ 1900 2366 2112 2412 \r\nQ 2325 2459 2475 2606 \r\nQ 2609 2738 2673 2919 \r\nQ 2738 3100 2738 3344 \r\nz\r\n\" id=\"Tahoma-52\" transform=\"scale(0.015625)\"/>\r\n       <path d=\"M 1941 -81 \r\nQ 1106 -81 645 389 \r\nQ 184 859 184 1725 \r\nQ 184 2578 631 3083 \r\nQ 1078 3588 1800 3588 \r\nQ 2125 3588 2375 3494 \r\nQ 2625 3400 2813 3200 \r\nQ 3000 3000 3100 2711 \r\nQ 3200 2422 3200 2003 \r\nL 3200 1684 \r\nL 781 1684 \r\nQ 781 1075 1087 753 \r\nQ 1394 431 1934 431 \r\nQ 2128 431 2314 475 \r\nQ 2500 519 2650 588 \r\nQ 2809 659 2918 726 \r\nQ 3028 794 3100 853 \r\nL 3134 853 \r\nL 3134 213 \r\nQ 3031 172 2878 111 \r\nQ 2725 50 2603 16 \r\nQ 2431 -31 2292 -56 \r\nQ 2153 -81 1941 -81 \r\nz\r\nM 2628 2134 \r\nQ 2622 2372 2572 2544 \r\nQ 2522 2716 2428 2834 \r\nQ 2325 2966 2164 3034 \r\nQ 2003 3103 1766 3103 \r\nQ 1531 3103 1367 3033 \r\nQ 1203 2963 1069 2828 \r\nQ 938 2691 869 2523 \r\nQ 800 2356 781 2134 \r\nL 2628 2134 \r\nz\r\n\" id=\"Tahoma-65\" transform=\"scale(0.015625)\"/>\r\n       <path d=\"M 1813 -78 \r\nQ 1453 -78 1153 33 \r\nQ 853 144 638 369 \r\nQ 422 594 303 936 \r\nQ 184 1278 184 1741 \r\nQ 184 2200 307 2534 \r\nQ 431 2869 638 3097 \r\nQ 844 3325 1151 3448 \r\nQ 1459 3572 1813 3572 \r\nQ 2100 3572 2367 3490 \r\nQ 2634 3409 2844 3303 \r\nL 2844 2644 \r\nL 2809 2644 \r\nQ 2747 2697 2648 2765 \r\nQ 2550 2834 2409 2906 \r\nQ 2288 2969 2122 3016 \r\nQ 1956 3063 1803 3063 \r\nQ 1347 3063 1070 2717 \r\nQ 794 2372 794 1741 \r\nQ 794 1122 1061 776 \r\nQ 1328 431 1803 431 \r\nQ 2091 431 2350 550 \r\nQ 2609 669 2809 856 \r\nL 2844 856 \r\nL 2844 197 \r\nQ 2756 156 2625 98 \r\nQ 2494 41 2388 13 \r\nQ 2238 -31 2119 -54 \r\nQ 2000 -78 1813 -78 \r\nz\r\n\" id=\"Tahoma-63\" transform=\"scale(0.015625)\"/>\r\n       <path d=\"M 1369 -84 \r\nQ 1019 -84 714 9 \r\nQ 409 103 209 209 \r\nL 209 869 \r\nL 241 869 \r\nQ 316 809 417 737 \r\nQ 519 666 688 588 \r\nQ 838 519 1017 466 \r\nQ 1197 413 1391 413 \r\nQ 1531 413 1690 445 \r\nQ 1850 478 1928 528 \r\nQ 2038 600 2086 681 \r\nQ 2134 763 2134 925 \r\nQ 2134 1134 2020 1240 \r\nQ 1906 1347 1616 1419 \r\nQ 1503 1447 1322 1484 \r\nQ 1141 1522 988 1566 \r\nQ 588 1681 406 1923 \r\nQ 225 2166 225 2509 \r\nQ 225 2981 581 3278 \r\nQ 938 3575 1528 3575 \r\nQ 1819 3575 2112 3503 \r\nQ 2406 3431 2606 3322 \r\nL 2606 2694 \r\nL 2575 2694 \r\nQ 2350 2872 2073 2975 \r\nQ 1797 3078 1516 3078 \r\nQ 1225 3078 1025 2956 \r\nQ 825 2834 825 2588 \r\nQ 825 2369 944 2261 \r\nQ 1063 2153 1325 2084 \r\nQ 1456 2050 1617 2017 \r\nQ 1778 1984 1956 1941 \r\nQ 2344 1844 2539 1619 \r\nQ 2734 1394 2734 1006 \r\nQ 2734 781 2645 579 \r\nQ 2556 378 2384 234 \r\nQ 2197 78 1961 -3 \r\nQ 1725 -84 1369 -84 \r\nz\r\n\" id=\"Tahoma-73\" transform=\"scale(0.015625)\"/>\r\n       <path d=\"M 2275 2859 \r\nL 2244 2859 \r\nQ 2178 2878 2104 2883 \r\nQ 2031 2888 1928 2888 \r\nQ 1691 2888 1456 2784 \r\nQ 1222 2681 1013 2478 \r\nL 1013 0 \r\nL 425 0 \r\nL 425 3491 \r\nL 1013 3491 \r\nL 1013 2972 \r\nQ 1334 3256 1573 3373 \r\nQ 1813 3491 2038 3491 \r\nQ 2128 3491 2173 3486 \r\nQ 2219 3481 2275 3472 \r\nL 2275 2859 \r\nz\r\n\" id=\"Tahoma-72\" transform=\"scale(0.015625)\"/>\r\n       <path d=\"M 1025 0 \r\nL 438 0 \r\nL 438 3491 \r\nL 1025 3491 \r\nL 1025 0 \r\nz\r\nM 1066 4075 \r\nL 397 4075 \r\nL 397 4684 \r\nL 1066 4684 \r\nL 1066 4075 \r\nz\r\n\" id=\"Tahoma-69\" transform=\"scale(0.015625)\"/>\r\n       <path id=\"Tahoma-20\" transform=\"scale(0.015625)\"/>\r\n      </defs>\r\n      <use xlink:href=\"#Tahoma-52\"/>\r\n      <use x=\"60.310547\" xlink:href=\"#Tahoma-65\"/>\r\n      <use x=\"112.947266\" xlink:href=\"#Tahoma-63\"/>\r\n      <use x=\"159.089844\" xlink:href=\"#Tahoma-6f\"/>\r\n      <use x=\"213.386719\" xlink:href=\"#Tahoma-6e\"/>\r\n      <use x=\"269.148438\" xlink:href=\"#Tahoma-73\"/>\r\n      <use x=\"313.777344\" xlink:href=\"#Tahoma-74\"/>\r\n      <use x=\"347.224609\" xlink:href=\"#Tahoma-72\"/>\r\n      <use x=\"383.259766\" xlink:href=\"#Tahoma-75\"/>\r\n      <use x=\"439.021484\" xlink:href=\"#Tahoma-63\"/>\r\n      <use x=\"485.164062\" xlink:href=\"#Tahoma-74\"/>\r\n      <use x=\"518.611328\" xlink:href=\"#Tahoma-69\"/>\r\n      <use x=\"541.462891\" xlink:href=\"#Tahoma-6f\"/>\r\n      <use x=\"595.759766\" xlink:href=\"#Tahoma-6e\"/>\r\n      <use x=\"651.521484\" xlink:href=\"#Tahoma-20\"/>\r\n      <use x=\"682.771484\" xlink:href=\"#Tahoma-65\"/>\r\n      <use x=\"735.408203\" xlink:href=\"#Tahoma-72\"/>\r\n      <use x=\"771.443359\" xlink:href=\"#Tahoma-72\"/>\r\n      <use x=\"806.978516\" xlink:href=\"#Tahoma-6f\"/>\r\n      <use x=\"861.275391\" xlink:href=\"#Tahoma-72\"/>\r\n     </g>\r\n    </g>\r\n   </g>\r\n   <g id=\"matplotlib.axis_8\">\r\n    <g id=\"ytick_26\">\r\n     <g id=\"line2d_47\">\r\n      <path clip-path=\"url(#p7a324713fd)\" d=\"M 36.948906 290.135031 \r\nL 394.068906 290.135031 \r\n\" style=\"fill:none;stroke:#d3d3d3;stroke-linecap:square;stroke-width:0.8;\"/>\r\n     </g>\r\n     <g id=\"line2d_48\">\r\n      <path d=\"M 36.948906 290.135031 \r\n\" style=\"fill:none;stroke:#333333;stroke-linecap:square;stroke-width:1.5;\"/>\r\n      <g>\r\n       <use style=\"fill:#333333;stroke:#000000;\" x=\"36.948906\" xlink:href=\"#m5f5e6869d7\" y=\"290.135031\"/>\r\n      </g>\r\n     </g>\r\n     <g id=\"text_25\">\r\n      <!-- 0 -->\r\n      <g transform=\"translate(27.085469 292.648703)scale(0.09 -0.09)\">\r\n       <use xlink:href=\"#Tahoma-30\"/>\r\n      </g>\r\n     </g>\r\n    </g>\r\n    <g id=\"ytick_27\">\r\n     <g id=\"line2d_49\">\r\n      <path clip-path=\"url(#p7a324713fd)\" d=\"M 36.948906 275.123548 \r\nL 394.068906 275.123548 \r\n\" style=\"fill:none;stroke:#d3d3d3;stroke-linecap:square;stroke-width:0.8;\"/>\r\n     </g>\r\n     <g id=\"line2d_50\">\r\n      <path d=\"M 36.948906 275.123548 \r\n\" style=\"fill:none;stroke:#333333;stroke-linecap:square;stroke-width:1.5;\"/>\r\n      <g>\r\n       <use style=\"fill:#333333;stroke:#000000;\" x=\"36.948906\" xlink:href=\"#m5f5e6869d7\" y=\"275.123548\"/>\r\n      </g>\r\n     </g>\r\n     <g id=\"text_26\">\r\n      <!-- 5 -->\r\n      <g transform=\"translate(27.085469 277.63722)scale(0.09 -0.09)\">\r\n       <use xlink:href=\"#Tahoma-35\"/>\r\n      </g>\r\n     </g>\r\n    </g>\r\n    <g id=\"ytick_28\">\r\n     <g id=\"line2d_51\">\r\n      <path clip-path=\"url(#p7a324713fd)\" d=\"M 36.948906 260.112065 \r\nL 394.068906 260.112065 \r\n\" style=\"fill:none;stroke:#d3d3d3;stroke-linecap:square;stroke-width:0.8;\"/>\r\n     </g>\r\n     <g id=\"line2d_52\">\r\n      <path d=\"M 36.948906 260.112065 \r\n\" style=\"fill:none;stroke:#333333;stroke-linecap:square;stroke-width:1.5;\"/>\r\n      <g>\r\n       <use style=\"fill:#333333;stroke:#000000;\" x=\"36.948906\" xlink:href=\"#m5f5e6869d7\" y=\"260.112065\"/>\r\n      </g>\r\n     </g>\r\n     <g id=\"text_27\">\r\n      <!-- 10 -->\r\n      <g transform=\"translate(22.172031 262.625737)scale(0.09 -0.09)\">\r\n       <use xlink:href=\"#Tahoma-31\"/>\r\n       <use x=\"54.589844\" xlink:href=\"#Tahoma-30\"/>\r\n      </g>\r\n     </g>\r\n    </g>\r\n    <g id=\"ytick_29\">\r\n     <g id=\"line2d_53\">\r\n      <path clip-path=\"url(#p7a324713fd)\" d=\"M 36.948906 245.100582 \r\nL 394.068906 245.100582 \r\n\" style=\"fill:none;stroke:#d3d3d3;stroke-linecap:square;stroke-width:0.8;\"/>\r\n     </g>\r\n     <g id=\"line2d_54\">\r\n      <path d=\"M 36.948906 245.100582 \r\n\" style=\"fill:none;stroke:#333333;stroke-linecap:square;stroke-width:1.5;\"/>\r\n      <g>\r\n       <use style=\"fill:#333333;stroke:#000000;\" x=\"36.948906\" xlink:href=\"#m5f5e6869d7\" y=\"245.100582\"/>\r\n      </g>\r\n     </g>\r\n     <g id=\"text_28\">\r\n      <!-- 15 -->\r\n      <g transform=\"translate(22.172031 247.614254)scale(0.09 -0.09)\">\r\n       <use xlink:href=\"#Tahoma-31\"/>\r\n       <use x=\"54.589844\" xlink:href=\"#Tahoma-35\"/>\r\n      </g>\r\n     </g>\r\n    </g>\r\n    <g id=\"ytick_30\"/>\r\n    <g id=\"ytick_31\"/>\r\n    <g id=\"ytick_32\"/>\r\n    <g id=\"ytick_33\"/>\r\n   </g>\r\n   <g id=\"PolyCollection_4\">\r\n    <path clip-path=\"url(#p7a324713fd)\" d=\"M 53.181634 290.135031 \r\nL 53.181634 233.091395 \r\nL 62.199815 233.091395 \r\nL 62.199815 290.135031 \r\nz\r\n\" style=\"fill:#7fc97f;fill-opacity:0.74902;\"/>\r\n    <path clip-path=\"url(#p7a324713fd)\" d=\"M 62.199815 290.135031 \r\nL 62.199815 242.098285 \r\nL 71.217997 242.098285 \r\nL 71.217997 290.135031 \r\nz\r\n\" style=\"fill:#7fc97f;fill-opacity:0.74902;\"/>\r\n    <path clip-path=\"url(#p7a324713fd)\" d=\"M 71.217997 290.135031 \r\nL 71.217997 272.121252 \r\nL 80.236179 272.121252 \r\nL 80.236179 290.135031 \r\nz\r\n\" style=\"fill:#7fc97f;fill-opacity:0.74902;\"/>\r\n    <path clip-path=\"url(#p7a324713fd)\" d=\"M 80.236179 290.135031 \r\nL 80.236179 254.107472 \r\nL 89.254361 254.107472 \r\nL 89.254361 290.135031 \r\nz\r\n\" style=\"fill:#7fc97f;fill-opacity:0.74902;\"/>\r\n    <path clip-path=\"url(#p7a324713fd)\" d=\"M 89.254361 290.135031 \r\nL 89.254361 257.109768 \r\nL 98.272543 257.109768 \r\nL 98.272543 290.135031 \r\nz\r\n\" style=\"fill:#7fc97f;fill-opacity:0.74902;\"/>\r\n    <path clip-path=\"url(#p7a324713fd)\" d=\"M 98.272543 290.135031 \r\nL 98.272543 263.114362 \r\nL 107.290724 263.114362 \r\nL 107.290724 290.135031 \r\nz\r\n\" style=\"fill:#7fc97f;fill-opacity:0.74902;\"/>\r\n    <path clip-path=\"url(#p7a324713fd)\" d=\"M 107.290724 290.135031 \r\nL 107.290724 275.123548 \r\nL 116.308906 275.123548 \r\nL 116.308906 290.135031 \r\nz\r\n\" style=\"fill:#7fc97f;fill-opacity:0.74902;\"/>\r\n    <path clip-path=\"url(#p7a324713fd)\" d=\"M 116.308906 290.135031 \r\nL 116.308906 281.128141 \r\nL 125.327088 281.128141 \r\nL 125.327088 290.135031 \r\nz\r\n\" style=\"fill:#7fc97f;fill-opacity:0.74902;\"/>\r\n    <path clip-path=\"url(#p7a324713fd)\" d=\"M 125.327088 290.135031 \r\nL 125.327088 275.123548 \r\nL 134.34527 275.123548 \r\nL 134.34527 290.135031 \r\nz\r\n\" style=\"fill:#7fc97f;fill-opacity:0.74902;\"/>\r\n    <path clip-path=\"url(#p7a324713fd)\" d=\"M 134.34527 290.135031 \r\nL 134.34527 290.135031 \r\nL 143.363452 290.135031 \r\nL 143.363452 290.135031 \r\nz\r\n\" style=\"fill:#7fc97f;fill-opacity:0.74902;\"/>\r\n    <path clip-path=\"url(#p7a324713fd)\" d=\"M 143.363452 290.135031 \r\nL 143.363452 287.132735 \r\nL 152.381634 287.132735 \r\nL 152.381634 290.135031 \r\nz\r\n\" style=\"fill:#7fc97f;fill-opacity:0.74902;\"/>\r\n    <path clip-path=\"url(#p7a324713fd)\" d=\"M 152.381634 290.135031 \r\nL 152.381634 284.130438 \r\nL 161.399815 284.130438 \r\nL 161.399815 290.135031 \r\nz\r\n\" style=\"fill:#7fc97f;fill-opacity:0.74902;\"/>\r\n    <path clip-path=\"url(#p7a324713fd)\" d=\"M 161.399815 290.135031 \r\nL 161.399815 284.130438 \r\nL 170.417997 284.130438 \r\nL 170.417997 290.135031 \r\nz\r\n\" style=\"fill:#7fc97f;fill-opacity:0.74902;\"/>\r\n    <path clip-path=\"url(#p7a324713fd)\" d=\"M 170.417997 290.135031 \r\nL 170.417997 284.130438 \r\nL 179.436179 284.130438 \r\nL 179.436179 290.135031 \r\nz\r\n\" style=\"fill:#7fc97f;fill-opacity:0.74902;\"/>\r\n    <path clip-path=\"url(#p7a324713fd)\" d=\"M 179.436179 290.135031 \r\nL 179.436179 281.128141 \r\nL 188.454361 281.128141 \r\nL 188.454361 290.135031 \r\nz\r\n\" style=\"fill:#7fc97f;fill-opacity:0.74902;\"/>\r\n    <path clip-path=\"url(#p7a324713fd)\" d=\"M 188.454361 290.135031 \r\nL 188.454361 287.132735 \r\nL 197.472543 287.132735 \r\nL 197.472543 290.135031 \r\nz\r\n\" style=\"fill:#7fc97f;fill-opacity:0.74902;\"/>\r\n    <path clip-path=\"url(#p7a324713fd)\" d=\"M 197.472543 290.135031 \r\nL 197.472543 290.135031 \r\nL 206.490724 290.135031 \r\nL 206.490724 290.135031 \r\nz\r\n\" style=\"fill:#7fc97f;fill-opacity:0.74902;\"/>\r\n    <path clip-path=\"url(#p7a324713fd)\" d=\"M 206.490724 290.135031 \r\nL 206.490724 287.132735 \r\nL 215.508906 287.132735 \r\nL 215.508906 290.135031 \r\nz\r\n\" style=\"fill:#7fc97f;fill-opacity:0.74902;\"/>\r\n    <path clip-path=\"url(#p7a324713fd)\" d=\"M 215.508906 290.135031 \r\nL 215.508906 287.132735 \r\nL 224.527088 287.132735 \r\nL 224.527088 290.135031 \r\nz\r\n\" style=\"fill:#7fc97f;fill-opacity:0.74902;\"/>\r\n    <path clip-path=\"url(#p7a324713fd)\" d=\"M 224.527088 290.135031 \r\nL 224.527088 290.135031 \r\nL 233.54527 290.135031 \r\nL 233.54527 290.135031 \r\nz\r\n\" style=\"fill:#7fc97f;fill-opacity:0.74902;\"/>\r\n    <path clip-path=\"url(#p7a324713fd)\" d=\"M 233.54527 290.135031 \r\nL 233.54527 290.135031 \r\nL 242.563452 290.135031 \r\nL 242.563452 290.135031 \r\nz\r\n\" style=\"fill:#7fc97f;fill-opacity:0.74902;\"/>\r\n    <path clip-path=\"url(#p7a324713fd)\" d=\"M 242.563452 290.135031 \r\nL 242.563452 290.135031 \r\nL 251.581634 290.135031 \r\nL 251.581634 290.135031 \r\nz\r\n\" style=\"fill:#7fc97f;fill-opacity:0.74902;\"/>\r\n    <path clip-path=\"url(#p7a324713fd)\" d=\"M 251.581634 290.135031 \r\nL 251.581634 290.135031 \r\nL 260.599815 290.135031 \r\nL 260.599815 290.135031 \r\nz\r\n\" style=\"fill:#7fc97f;fill-opacity:0.74902;\"/>\r\n    <path clip-path=\"url(#p7a324713fd)\" d=\"M 260.599815 290.135031 \r\nL 260.599815 287.132735 \r\nL 269.617997 287.132735 \r\nL 269.617997 290.135031 \r\nz\r\n\" style=\"fill:#7fc97f;fill-opacity:0.74902;\"/>\r\n    <path clip-path=\"url(#p7a324713fd)\" d=\"M 269.617997 290.135031 \r\nL 269.617997 290.135031 \r\nL 278.636179 290.135031 \r\nL 278.636179 290.135031 \r\nz\r\n\" style=\"fill:#7fc97f;fill-opacity:0.74902;\"/>\r\n    <path clip-path=\"url(#p7a324713fd)\" d=\"M 278.636179 290.135031 \r\nL 278.636179 290.135031 \r\nL 287.654361 290.135031 \r\nL 287.654361 290.135031 \r\nz\r\n\" style=\"fill:#7fc97f;fill-opacity:0.74902;\"/>\r\n    <path clip-path=\"url(#p7a324713fd)\" d=\"M 287.654361 290.135031 \r\nL 287.654361 290.135031 \r\nL 296.672543 290.135031 \r\nL 296.672543 290.135031 \r\nz\r\n\" style=\"fill:#7fc97f;fill-opacity:0.74902;\"/>\r\n    <path clip-path=\"url(#p7a324713fd)\" d=\"M 296.672543 290.135031 \r\nL 296.672543 290.135031 \r\nL 305.690724 290.135031 \r\nL 305.690724 290.135031 \r\nz\r\n\" style=\"fill:#7fc97f;fill-opacity:0.74902;\"/>\r\n    <path clip-path=\"url(#p7a324713fd)\" d=\"M 305.690724 290.135031 \r\nL 305.690724 290.135031 \r\nL 314.708906 290.135031 \r\nL 314.708906 290.135031 \r\nz\r\n\" style=\"fill:#7fc97f;fill-opacity:0.74902;\"/>\r\n    <path clip-path=\"url(#p7a324713fd)\" d=\"M 314.708906 290.135031 \r\nL 314.708906 290.135031 \r\nL 323.727088 290.135031 \r\nL 323.727088 290.135031 \r\nz\r\n\" style=\"fill:#7fc97f;fill-opacity:0.74902;\"/>\r\n    <path clip-path=\"url(#p7a324713fd)\" d=\"M 323.727088 290.135031 \r\nL 323.727088 290.135031 \r\nL 332.74527 290.135031 \r\nL 332.74527 290.135031 \r\nz\r\n\" style=\"fill:#7fc97f;fill-opacity:0.74902;\"/>\r\n    <path clip-path=\"url(#p7a324713fd)\" d=\"M 332.74527 290.135031 \r\nL 332.74527 290.135031 \r\nL 341.763452 290.135031 \r\nL 341.763452 290.135031 \r\nz\r\n\" style=\"fill:#7fc97f;fill-opacity:0.74902;\"/>\r\n    <path clip-path=\"url(#p7a324713fd)\" d=\"M 341.763452 290.135031 \r\nL 341.763452 290.135031 \r\nL 350.781634 290.135031 \r\nL 350.781634 290.135031 \r\nz\r\n\" style=\"fill:#7fc97f;fill-opacity:0.74902;\"/>\r\n    <path clip-path=\"url(#p7a324713fd)\" d=\"M 350.781634 290.135031 \r\nL 350.781634 290.135031 \r\nL 359.799815 290.135031 \r\nL 359.799815 290.135031 \r\nz\r\n\" style=\"fill:#7fc97f;fill-opacity:0.74902;\"/>\r\n    <path clip-path=\"url(#p7a324713fd)\" d=\"M 359.799815 290.135031 \r\nL 359.799815 290.135031 \r\nL 368.817997 290.135031 \r\nL 368.817997 290.135031 \r\nz\r\n\" style=\"fill:#7fc97f;fill-opacity:0.74902;\"/>\r\n    <path clip-path=\"url(#p7a324713fd)\" d=\"M 368.817997 290.135031 \r\nL 368.817997 290.135031 \r\nL 377.836179 290.135031 \r\nL 377.836179 290.135031 \r\nz\r\n\" style=\"fill:#7fc97f;fill-opacity:0.74902;\"/>\r\n    <path clip-path=\"url(#p7a324713fd)\" d=\"M 53.181634 290.135031 \r\nL 53.181634 248.102878 \r\nL 62.199815 248.102878 \r\nL 62.199815 290.135031 \r\nz\r\n\" style=\"fill:#beaed4;fill-opacity:0.74902;\"/>\r\n    <path clip-path=\"url(#p7a324713fd)\" d=\"M 62.199815 290.135031 \r\nL 62.199815 236.093692 \r\nL 71.217997 236.093692 \r\nL 71.217997 290.135031 \r\nz\r\n\" style=\"fill:#beaed4;fill-opacity:0.74902;\"/>\r\n    <path clip-path=\"url(#p7a324713fd)\" d=\"M 71.217997 290.135031 \r\nL 71.217997 251.105175 \r\nL 80.236179 251.105175 \r\nL 80.236179 290.135031 \r\nz\r\n\" style=\"fill:#beaed4;fill-opacity:0.74902;\"/>\r\n    <path clip-path=\"url(#p7a324713fd)\" d=\"M 80.236179 290.135031 \r\nL 80.236179 254.107472 \r\nL 89.254361 254.107472 \r\nL 89.254361 290.135031 \r\nz\r\n\" style=\"fill:#beaed4;fill-opacity:0.74902;\"/>\r\n    <path clip-path=\"url(#p7a324713fd)\" d=\"M 89.254361 290.135031 \r\nL 89.254361 269.118955 \r\nL 98.272543 269.118955 \r\nL 98.272543 290.135031 \r\nz\r\n\" style=\"fill:#beaed4;fill-opacity:0.74902;\"/>\r\n    <path clip-path=\"url(#p7a324713fd)\" d=\"M 98.272543 290.135031 \r\nL 98.272543 275.123548 \r\nL 107.290724 275.123548 \r\nL 107.290724 290.135031 \r\nz\r\n\" style=\"fill:#beaed4;fill-opacity:0.74902;\"/>\r\n    <path clip-path=\"url(#p7a324713fd)\" d=\"M 107.290724 290.135031 \r\nL 107.290724 266.116658 \r\nL 116.308906 266.116658 \r\nL 116.308906 290.135031 \r\nz\r\n\" style=\"fill:#beaed4;fill-opacity:0.74902;\"/>\r\n    <path clip-path=\"url(#p7a324713fd)\" d=\"M 116.308906 290.135031 \r\nL 116.308906 278.125845 \r\nL 125.327088 278.125845 \r\nL 125.327088 290.135031 \r\nz\r\n\" style=\"fill:#beaed4;fill-opacity:0.74902;\"/>\r\n    <path clip-path=\"url(#p7a324713fd)\" d=\"M 125.327088 290.135031 \r\nL 125.327088 281.128141 \r\nL 134.34527 281.128141 \r\nL 134.34527 290.135031 \r\nz\r\n\" style=\"fill:#beaed4;fill-opacity:0.74902;\"/>\r\n    <path clip-path=\"url(#p7a324713fd)\" d=\"M 134.34527 290.135031 \r\nL 134.34527 287.132735 \r\nL 143.363452 287.132735 \r\nL 143.363452 290.135031 \r\nz\r\n\" style=\"fill:#beaed4;fill-opacity:0.74902;\"/>\r\n    <path clip-path=\"url(#p7a324713fd)\" d=\"M 143.363452 290.135031 \r\nL 143.363452 278.125845 \r\nL 152.381634 278.125845 \r\nL 152.381634 290.135031 \r\nz\r\n\" style=\"fill:#beaed4;fill-opacity:0.74902;\"/>\r\n    <path clip-path=\"url(#p7a324713fd)\" d=\"M 152.381634 290.135031 \r\nL 152.381634 281.128141 \r\nL 161.399815 281.128141 \r\nL 161.399815 290.135031 \r\nz\r\n\" style=\"fill:#beaed4;fill-opacity:0.74902;\"/>\r\n    <path clip-path=\"url(#p7a324713fd)\" d=\"M 161.399815 290.135031 \r\nL 161.399815 284.130438 \r\nL 170.417997 284.130438 \r\nL 170.417997 290.135031 \r\nz\r\n\" style=\"fill:#beaed4;fill-opacity:0.74902;\"/>\r\n    <path clip-path=\"url(#p7a324713fd)\" d=\"M 170.417997 290.135031 \r\nL 170.417997 284.130438 \r\nL 179.436179 284.130438 \r\nL 179.436179 290.135031 \r\nz\r\n\" style=\"fill:#beaed4;fill-opacity:0.74902;\"/>\r\n    <path clip-path=\"url(#p7a324713fd)\" d=\"M 179.436179 290.135031 \r\nL 179.436179 287.132735 \r\nL 188.454361 287.132735 \r\nL 188.454361 290.135031 \r\nz\r\n\" style=\"fill:#beaed4;fill-opacity:0.74902;\"/>\r\n    <path clip-path=\"url(#p7a324713fd)\" d=\"M 188.454361 290.135031 \r\nL 188.454361 290.135031 \r\nL 197.472543 290.135031 \r\nL 197.472543 290.135031 \r\nz\r\n\" style=\"fill:#beaed4;fill-opacity:0.74902;\"/>\r\n    <path clip-path=\"url(#p7a324713fd)\" d=\"M 197.472543 290.135031 \r\nL 197.472543 290.135031 \r\nL 206.490724 290.135031 \r\nL 206.490724 290.135031 \r\nz\r\n\" style=\"fill:#beaed4;fill-opacity:0.74902;\"/>\r\n    <path clip-path=\"url(#p7a324713fd)\" d=\"M 206.490724 290.135031 \r\nL 206.490724 290.135031 \r\nL 215.508906 290.135031 \r\nL 215.508906 290.135031 \r\nz\r\n\" style=\"fill:#beaed4;fill-opacity:0.74902;\"/>\r\n    <path clip-path=\"url(#p7a324713fd)\" d=\"M 215.508906 290.135031 \r\nL 215.508906 290.135031 \r\nL 224.527088 290.135031 \r\nL 224.527088 290.135031 \r\nz\r\n\" style=\"fill:#beaed4;fill-opacity:0.74902;\"/>\r\n    <path clip-path=\"url(#p7a324713fd)\" d=\"M 224.527088 290.135031 \r\nL 224.527088 287.132735 \r\nL 233.54527 287.132735 \r\nL 233.54527 290.135031 \r\nz\r\n\" style=\"fill:#beaed4;fill-opacity:0.74902;\"/>\r\n    <path clip-path=\"url(#p7a324713fd)\" d=\"M 233.54527 290.135031 \r\nL 233.54527 287.132735 \r\nL 242.563452 287.132735 \r\nL 242.563452 290.135031 \r\nz\r\n\" style=\"fill:#beaed4;fill-opacity:0.74902;\"/>\r\n    <path clip-path=\"url(#p7a324713fd)\" d=\"M 242.563452 290.135031 \r\nL 242.563452 284.130438 \r\nL 251.581634 284.130438 \r\nL 251.581634 290.135031 \r\nz\r\n\" style=\"fill:#beaed4;fill-opacity:0.74902;\"/>\r\n    <path clip-path=\"url(#p7a324713fd)\" d=\"M 251.581634 290.135031 \r\nL 251.581634 290.135031 \r\nL 260.599815 290.135031 \r\nL 260.599815 290.135031 \r\nz\r\n\" style=\"fill:#beaed4;fill-opacity:0.74902;\"/>\r\n    <path clip-path=\"url(#p7a324713fd)\" d=\"M 260.599815 290.135031 \r\nL 260.599815 287.132735 \r\nL 269.617997 287.132735 \r\nL 269.617997 290.135031 \r\nz\r\n\" style=\"fill:#beaed4;fill-opacity:0.74902;\"/>\r\n    <path clip-path=\"url(#p7a324713fd)\" d=\"M 269.617997 290.135031 \r\nL 269.617997 290.135031 \r\nL 278.636179 290.135031 \r\nL 278.636179 290.135031 \r\nz\r\n\" style=\"fill:#beaed4;fill-opacity:0.74902;\"/>\r\n    <path clip-path=\"url(#p7a324713fd)\" d=\"M 278.636179 290.135031 \r\nL 278.636179 290.135031 \r\nL 287.654361 290.135031 \r\nL 287.654361 290.135031 \r\nz\r\n\" style=\"fill:#beaed4;fill-opacity:0.74902;\"/>\r\n    <path clip-path=\"url(#p7a324713fd)\" d=\"M 287.654361 290.135031 \r\nL 287.654361 290.135031 \r\nL 296.672543 290.135031 \r\nL 296.672543 290.135031 \r\nz\r\n\" style=\"fill:#beaed4;fill-opacity:0.74902;\"/>\r\n    <path clip-path=\"url(#p7a324713fd)\" d=\"M 296.672543 290.135031 \r\nL 296.672543 290.135031 \r\nL 305.690724 290.135031 \r\nL 305.690724 290.135031 \r\nz\r\n\" style=\"fill:#beaed4;fill-opacity:0.74902;\"/>\r\n    <path clip-path=\"url(#p7a324713fd)\" d=\"M 305.690724 290.135031 \r\nL 305.690724 290.135031 \r\nL 314.708906 290.135031 \r\nL 314.708906 290.135031 \r\nz\r\n\" style=\"fill:#beaed4;fill-opacity:0.74902;\"/>\r\n    <path clip-path=\"url(#p7a324713fd)\" d=\"M 314.708906 290.135031 \r\nL 314.708906 290.135031 \r\nL 323.727088 290.135031 \r\nL 323.727088 290.135031 \r\nz\r\n\" style=\"fill:#beaed4;fill-opacity:0.74902;\"/>\r\n    <path clip-path=\"url(#p7a324713fd)\" d=\"M 323.727088 290.135031 \r\nL 323.727088 290.135031 \r\nL 332.74527 290.135031 \r\nL 332.74527 290.135031 \r\nz\r\n\" style=\"fill:#beaed4;fill-opacity:0.74902;\"/>\r\n    <path clip-path=\"url(#p7a324713fd)\" d=\"M 332.74527 290.135031 \r\nL 332.74527 290.135031 \r\nL 341.763452 290.135031 \r\nL 341.763452 290.135031 \r\nz\r\n\" style=\"fill:#beaed4;fill-opacity:0.74902;\"/>\r\n    <path clip-path=\"url(#p7a324713fd)\" d=\"M 341.763452 290.135031 \r\nL 341.763452 290.135031 \r\nL 350.781634 290.135031 \r\nL 350.781634 290.135031 \r\nz\r\n\" style=\"fill:#beaed4;fill-opacity:0.74902;\"/>\r\n    <path clip-path=\"url(#p7a324713fd)\" d=\"M 350.781634 290.135031 \r\nL 350.781634 290.135031 \r\nL 359.799815 290.135031 \r\nL 359.799815 290.135031 \r\nz\r\n\" style=\"fill:#beaed4;fill-opacity:0.74902;\"/>\r\n    <path clip-path=\"url(#p7a324713fd)\" d=\"M 359.799815 290.135031 \r\nL 359.799815 290.135031 \r\nL 368.817997 290.135031 \r\nL 368.817997 290.135031 \r\nz\r\n\" style=\"fill:#beaed4;fill-opacity:0.74902;\"/>\r\n    <path clip-path=\"url(#p7a324713fd)\" d=\"M 368.817997 290.135031 \r\nL 368.817997 290.135031 \r\nL 377.836179 290.135031 \r\nL 377.836179 290.135031 \r\nz\r\n\" style=\"fill:#beaed4;fill-opacity:0.74902;\"/>\r\n   </g>\r\n   <g id=\"patch_14\">\r\n    <path d=\"M 394.068906 292.987213 \r\nL 408.368906 292.987213 \r\nL 408.368906 230.239213 \r\nL 394.068906 230.239213 \r\nz\r\n\" style=\"fill:#cccccc;stroke:#7f7f7f;stroke-linejoin:miter;\"/>\r\n   </g>\r\n   <g id=\"text_29\">\r\n    <!-- 06 -->\r\n    <g style=\"fill:#1a1a1a;\" transform=\"translate(398.761094 256.808963)rotate(-270)scale(0.088 -0.088)\">\r\n     <defs>\r\n      <path d=\"M 3284 1509 \r\nQ 3284 1150 3165 847 \r\nQ 3047 544 2847 341 \r\nQ 2638 125 2378 14 \r\nQ 2119 -97 1806 -97 \r\nQ 1491 -97 1233 9 \r\nQ 975 116 778 325 \r\nQ 538 578 402 1001 \r\nQ 266 1425 266 2044 \r\nQ 266 2650 391 3139 \r\nQ 516 3628 775 3991 \r\nQ 1028 4344 1428 4542 \r\nQ 1828 4741 2353 4741 \r\nQ 2509 4741 2643 4725 \r\nQ 2778 4709 2881 4675 \r\nL 2881 4078 \r\nL 2853 4078 \r\nQ 2769 4125 2609 4164 \r\nQ 2450 4203 2269 4203 \r\nQ 1688 4203 1330 3811 \r\nQ 972 3419 906 2647 \r\nQ 1128 2803 1362 2887 \r\nQ 1597 2972 1875 2972 \r\nQ 2147 2972 2351 2917 \r\nQ 2556 2863 2778 2697 \r\nQ 3034 2503 3159 2206 \r\nQ 3284 1909 3284 1509 \r\nz\r\nM 2650 1484 \r\nQ 2650 1772 2575 1965 \r\nQ 2500 2159 2331 2297 \r\nQ 2209 2397 2054 2428 \r\nQ 1900 2459 1738 2459 \r\nQ 1519 2459 1312 2393 \r\nQ 1106 2328 906 2203 \r\nQ 900 2134 897 2070 \r\nQ 894 2006 894 1909 \r\nQ 894 1425 989 1128 \r\nQ 1084 831 1225 678 \r\nQ 1359 531 1501 472 \r\nQ 1644 413 1809 413 \r\nQ 2184 413 2417 681 \r\nQ 2650 950 2650 1484 \r\nz\r\n\" id=\"Tahoma-36\" transform=\"scale(0.015625)\"/>\r\n     </defs>\r\n     <use xlink:href=\"#Tahoma-30\"/>\r\n     <use x=\"54.589844\" xlink:href=\"#Tahoma-36\"/>\r\n    </g>\r\n   </g>\r\n  </g>\r\n  <g id=\"text_30\">\r\n   <!-- Histogram of reconstruction error -->\r\n   <g transform=\"translate(91.194062 17.905625)scale(0.14 -0.14)\">\r\n    <defs>\r\n     <path d=\"M 4409 0 \r\nL 3241 0 \r\nL 3241 2063 \r\nL 1650 2063 \r\nL 1650 0 \r\nL 481 0 \r\nL 481 4653 \r\nL 1650 4653 \r\nL 1650 2950 \r\nL 3241 2950 \r\nL 3241 4653 \r\nL 4409 4653 \r\nL 4409 0 \r\nz\r\n\" id=\"Tahoma-Bold-48\" transform=\"scale(0.015625)\"/>\r\n     <path d=\"M 1513 0 \r\nL 419 0 \r\nL 419 3509 \r\nL 1513 3509 \r\nL 1513 0 \r\nz\r\nM 1544 4009 \r\nL 388 4009 \r\nL 388 4863 \r\nL 1544 4863 \r\nL 1544 4009 \r\nz\r\n\" id=\"Tahoma-Bold-69\" transform=\"scale(0.015625)\"/>\r\n     <path d=\"M 1488 -97 \r\nQ 1100 -97 754 -12 \r\nQ 409 72 184 184 \r\nL 184 1109 \r\nL 275 1109 \r\nQ 353 1050 453 978 \r\nQ 553 906 731 828 \r\nQ 884 756 1076 704 \r\nQ 1269 653 1494 653 \r\nQ 1725 653 1901 725 \r\nQ 2078 797 2078 953 \r\nQ 2078 1075 1997 1137 \r\nQ 1916 1200 1681 1256 \r\nQ 1556 1288 1365 1323 \r\nQ 1175 1359 1028 1406 \r\nQ 616 1534 408 1786 \r\nQ 200 2038 200 2447 \r\nQ 200 2681 308 2889 \r\nQ 416 3097 625 3259 \r\nQ 834 3419 1142 3512 \r\nQ 1450 3606 1838 3606 \r\nQ 2206 3606 2515 3532 \r\nQ 2825 3459 3038 3356 \r\nL 3038 2469 \r\nL 2950 2469 \r\nQ 2894 2513 2772 2586 \r\nQ 2650 2659 2534 2713 \r\nQ 2397 2775 2226 2815 \r\nQ 2056 2856 1878 2856 \r\nQ 1641 2856 1477 2775 \r\nQ 1313 2694 1313 2559 \r\nQ 1313 2441 1394 2372 \r\nQ 1475 2303 1747 2238 \r\nQ 1888 2203 2070 2170 \r\nQ 2253 2138 2422 2081 \r\nQ 2800 1959 2995 1723 \r\nQ 3191 1488 3191 1097 \r\nQ 3191 850 3075 626 \r\nQ 2959 403 2747 250 \r\nQ 2522 84 2217 -6 \r\nQ 1913 -97 1488 -97 \r\nz\r\n\" id=\"Tahoma-Bold-73\" transform=\"scale(0.015625)\"/>\r\n     <path d=\"M 1763 -69 \r\nQ 1094 -69 789 206 \r\nQ 484 481 484 1106 \r\nL 484 2747 \r\nL 66 2747 \r\nL 66 3509 \r\nL 484 3509 \r\nL 484 4513 \r\nL 1578 4513 \r\nL 1578 3509 \r\nL 2631 3509 \r\nL 2631 2747 \r\nL 1578 2747 \r\nL 1578 1503 \r\nQ 1578 1319 1581 1181 \r\nQ 1584 1044 1631 934 \r\nQ 1675 825 1786 761 \r\nQ 1897 697 2109 697 \r\nQ 2197 697 2339 734 \r\nQ 2481 772 2538 803 \r\nL 2631 803 \r\nL 2631 31 \r\nQ 2453 -16 2253 -42 \r\nQ 2053 -69 1763 -69 \r\nz\r\n\" id=\"Tahoma-Bold-74\" transform=\"scale(0.015625)\"/>\r\n     <path d=\"M 3788 1753 \r\nQ 3788 888 3314 389 \r\nQ 2841 -109 1975 -109 \r\nQ 1116 -109 639 389 \r\nQ 163 888 163 1753 \r\nQ 163 2628 639 3123 \r\nQ 1116 3619 1975 3619 \r\nQ 2838 3619 3313 3120 \r\nQ 3788 2622 3788 1753 \r\nz\r\nM 2666 1747 \r\nQ 2666 2059 2614 2267 \r\nQ 2563 2475 2472 2600 \r\nQ 2375 2731 2253 2782 \r\nQ 2131 2834 1975 2834 \r\nQ 1828 2834 1709 2789 \r\nQ 1591 2744 1491 2616 \r\nQ 1397 2494 1340 2281 \r\nQ 1284 2069 1284 1747 \r\nQ 1284 1425 1337 1226 \r\nQ 1391 1028 1475 909 \r\nQ 1563 788 1694 731 \r\nQ 1825 675 1984 675 \r\nQ 2116 675 2252 731 \r\nQ 2388 788 2469 900 \r\nQ 2566 1034 2616 1223 \r\nQ 2666 1413 2666 1747 \r\nz\r\n\" id=\"Tahoma-Bold-6f\" transform=\"scale(0.015625)\"/>\r\n     <path d=\"M 2516 1106 \r\nL 2516 2697 \r\nQ 2434 2734 2315 2759 \r\nQ 2197 2784 2078 2784 \r\nQ 1684 2784 1486 2529 \r\nQ 1288 2275 1288 1819 \r\nQ 1288 1591 1317 1433 \r\nQ 1347 1275 1428 1153 \r\nQ 1506 1034 1632 973 \r\nQ 1759 913 1956 913 \r\nQ 2103 913 2245 963 \r\nQ 2388 1013 2516 1106 \r\nz\r\nM 3609 403 \r\nQ 3609 -84 3468 -425 \r\nQ 3328 -766 3084 -956 \r\nQ 2841 -1150 2500 -1236 \r\nQ 2159 -1322 1744 -1322 \r\nQ 1394 -1322 1080 -1276 \r\nQ 766 -1231 534 -1172 \r\nL 534 -294 \r\nL 663 -294 \r\nQ 744 -325 855 -362 \r\nQ 966 -400 1078 -431 \r\nQ 1213 -466 1341 -487 \r\nQ 1469 -509 1603 -509 \r\nQ 1881 -509 2067 -451 \r\nQ 2253 -394 2347 -288 \r\nQ 2441 -178 2478 -29 \r\nQ 2516 119 2516 344 \r\nL 2516 409 \r\nQ 2331 247 2089 148 \r\nQ 1847 50 1591 50 \r\nQ 909 50 539 494 \r\nQ 169 938 169 1844 \r\nQ 169 2256 283 2584 \r\nQ 397 2913 600 3144 \r\nQ 794 3366 1069 3486 \r\nQ 1344 3606 1641 3606 \r\nQ 1909 3606 2121 3537 \r\nQ 2334 3469 2509 3353 \r\nL 2550 3509 \r\nL 3609 3509 \r\nL 3609 403 \r\nz\r\n\" id=\"Tahoma-Bold-67\" transform=\"scale(0.015625)\"/>\r\n     <path d=\"M 2775 2475 \r\nL 2684 2475 \r\nQ 2622 2497 2503 2508 \r\nQ 2384 2519 2241 2519 \r\nQ 2069 2519 1880 2469 \r\nQ 1691 2419 1513 2350 \r\nL 1513 0 \r\nL 419 0 \r\nL 419 3509 \r\nL 1513 3509 \r\nL 1513 3006 \r\nQ 1588 3075 1720 3179 \r\nQ 1853 3284 1963 3347 \r\nQ 2081 3419 2239 3470 \r\nQ 2397 3522 2538 3522 \r\nQ 2591 3522 2656 3519 \r\nQ 2722 3516 2775 3509 \r\nL 2775 2475 \r\nz\r\n\" id=\"Tahoma-Bold-72\" transform=\"scale(0.015625)\"/>\r\n     <path d=\"M 2353 916 \r\nL 2353 1647 \r\nQ 2075 1619 1903 1598 \r\nQ 1731 1578 1566 1519 \r\nQ 1422 1469 1342 1367 \r\nQ 1263 1266 1263 1097 \r\nQ 1263 850 1395 758 \r\nQ 1528 666 1788 666 \r\nQ 1931 666 2081 731 \r\nQ 2231 797 2353 916 \r\nz\r\nM 2353 372 \r\nQ 2241 278 2152 203 \r\nQ 2063 128 1913 53 \r\nQ 1766 -19 1627 -56 \r\nQ 1488 -94 1238 -94 \r\nQ 772 -94 464 218 \r\nQ 156 531 156 1006 \r\nQ 156 1397 312 1637 \r\nQ 469 1878 763 2019 \r\nQ 1059 2163 1471 2219 \r\nQ 1884 2275 2359 2306 \r\nL 2359 2325 \r\nQ 2359 2616 2145 2727 \r\nQ 1931 2838 1503 2838 \r\nQ 1309 2838 1050 2767 \r\nQ 791 2697 544 2588 \r\nL 450 2588 \r\nL 450 3434 \r\nQ 613 3481 975 3545 \r\nQ 1338 3609 1706 3609 \r\nQ 2613 3609 3027 3307 \r\nQ 3441 3006 3441 2388 \r\nL 3441 0 \r\nL 2353 0 \r\nL 2353 372 \r\nz\r\n\" id=\"Tahoma-Bold-61\" transform=\"scale(0.015625)\"/>\r\n     <path d=\"M 4613 0 \r\nL 4613 1753 \r\nQ 4613 2013 4603 2191 \r\nQ 4594 2369 4547 2481 \r\nQ 4500 2594 4401 2645 \r\nQ 4303 2697 4125 2697 \r\nQ 4000 2697 3878 2642 \r\nQ 3756 2588 3613 2488 \r\nL 3613 0 \r\nL 2513 0 \r\nL 2513 1753 \r\nQ 2513 2009 2502 2189 \r\nQ 2491 2369 2444 2481 \r\nQ 2397 2594 2298 2645 \r\nQ 2200 2697 2025 2697 \r\nQ 1891 2697 1762 2634 \r\nQ 1634 2572 1513 2488 \r\nL 1513 0 \r\nL 419 0 \r\nL 419 3509 \r\nL 1513 3509 \r\nL 1513 3122 \r\nQ 1781 3350 2018 3478 \r\nQ 2256 3606 2553 3606 \r\nQ 2875 3606 3119 3453 \r\nQ 3363 3300 3491 2997 \r\nQ 3806 3291 4086 3448 \r\nQ 4366 3606 4653 3606 \r\nQ 4897 3606 5090 3528 \r\nQ 5284 3450 5419 3294 \r\nQ 5566 3125 5639 2892 \r\nQ 5713 2659 5713 2284 \r\nL 5713 0 \r\nL 4613 0 \r\nz\r\n\" id=\"Tahoma-Bold-6d\" transform=\"scale(0.015625)\"/>\r\n     <path id=\"Tahoma-Bold-20\" transform=\"scale(0.015625)\"/>\r\n     <path d=\"M 2663 4038 \r\nL 2578 4038 \r\nQ 2516 4056 2383 4086 \r\nQ 2250 4116 2131 4116 \r\nQ 1800 4116 1679 3994 \r\nQ 1559 3872 1559 3538 \r\nL 1559 3509 \r\nL 2428 3509 \r\nL 2428 2747 \r\nL 1597 2747 \r\nL 1597 0 \r\nL 503 0 \r\nL 503 2747 \r\nL 66 2747 \r\nL 66 3509 \r\nL 503 3509 \r\nL 503 3606 \r\nQ 503 4250 840 4572 \r\nQ 1178 4894 1863 4894 \r\nQ 2100 4894 2306 4876 \r\nQ 2513 4859 2663 4831 \r\nL 2663 4038 \r\nz\r\n\" id=\"Tahoma-Bold-66\" transform=\"scale(0.015625)\"/>\r\n     <path d=\"M 2216 -94 \r\nQ 1222 -94 692 381 \r\nQ 163 856 163 1734 \r\nQ 163 2594 656 3106 \r\nQ 1150 3619 2038 3619 \r\nQ 2844 3619 3250 3184 \r\nQ 3656 2750 3656 1941 \r\nL 3656 1547 \r\nL 1259 1547 \r\nQ 1275 1303 1362 1139 \r\nQ 1450 975 1594 878 \r\nQ 1734 781 1921 739 \r\nQ 2109 697 2331 697 \r\nQ 2522 697 2706 739 \r\nQ 2891 781 3044 850 \r\nQ 3178 909 3292 978 \r\nQ 3406 1047 3478 1100 \r\nL 3594 1100 \r\nL 3594 197 \r\nQ 3459 144 3348 98 \r\nQ 3238 53 3044 6 \r\nQ 2866 -41 2677 -67 \r\nQ 2488 -94 2216 -94 \r\nz\r\nM 2578 2206 \r\nQ 2569 2553 2417 2734 \r\nQ 2266 2916 1953 2916 \r\nQ 1634 2916 1454 2725 \r\nQ 1275 2534 1256 2206 \r\nL 2578 2206 \r\nz\r\n\" id=\"Tahoma-Bold-65\" transform=\"scale(0.015625)\"/>\r\n     <path d=\"M 2141 -94 \r\nQ 1706 -94 1345 15 \r\nQ 984 125 719 353 \r\nQ 456 581 309 926 \r\nQ 163 1272 163 1741 \r\nQ 163 2244 322 2597 \r\nQ 481 2950 753 3178 \r\nQ 1016 3397 1370 3501 \r\nQ 1725 3606 2109 3606 \r\nQ 2400 3606 2690 3539 \r\nQ 2981 3472 3275 3325 \r\nL 3275 2388 \r\nL 3134 2388 \r\nQ 3069 2450 2973 2525 \r\nQ 2878 2600 2766 2663 \r\nQ 2647 2728 2497 2773 \r\nQ 2347 2819 2163 2819 \r\nQ 1744 2819 1514 2526 \r\nQ 1284 2234 1284 1741 \r\nQ 1284 1213 1529 953 \r\nQ 1775 694 2181 694 \r\nQ 2388 694 2544 741 \r\nQ 2700 788 2813 853 \r\nQ 2922 919 3000 989 \r\nQ 3078 1059 3134 1116 \r\nL 3275 1116 \r\nL 3275 178 \r\nQ 3181 138 3057 84 \r\nQ 2934 31 2806 -3 \r\nQ 2647 -47 2508 -70 \r\nQ 2369 -94 2141 -94 \r\nz\r\n\" id=\"Tahoma-Bold-63\" transform=\"scale(0.015625)\"/>\r\n     <path d=\"M 3706 0 \r\nL 2606 0 \r\nL 2606 1741 \r\nQ 2606 1953 2589 2164 \r\nQ 2572 2375 2525 2475 \r\nQ 2469 2594 2362 2645 \r\nQ 2256 2697 2078 2697 \r\nQ 1944 2697 1806 2647 \r\nQ 1669 2597 1513 2488 \r\nL 1513 0 \r\nL 419 0 \r\nL 419 3509 \r\nL 1513 3509 \r\nL 1513 3122 \r\nQ 1781 3350 2036 3478 \r\nQ 2291 3606 2600 3606 \r\nQ 3138 3606 3422 3267 \r\nQ 3706 2928 3706 2284 \r\nL 3706 0 \r\nz\r\n\" id=\"Tahoma-Bold-6e\" transform=\"scale(0.015625)\"/>\r\n     <path d=\"M 3678 0 \r\nL 2584 0 \r\nL 2584 388 \r\nQ 2300 150 2062 26 \r\nQ 1825 -97 1497 -97 \r\nQ 975 -97 683 233 \r\nQ 391 563 391 1225 \r\nL 391 3509 \r\nL 1491 3509 \r\nL 1491 1769 \r\nQ 1491 1497 1505 1325 \r\nQ 1519 1153 1572 1034 \r\nQ 1622 925 1726 869 \r\nQ 1831 813 2019 813 \r\nQ 2134 813 2292 869 \r\nQ 2450 925 2584 1022 \r\nL 2584 3509 \r\nL 3678 3509 \r\nL 3678 0 \r\nz\r\n\" id=\"Tahoma-Bold-75\" transform=\"scale(0.015625)\"/>\r\n    </defs>\r\n    <use xlink:href=\"#Tahoma-Bold-48\"/>\r\n    <use x=\"76.416016\" xlink:href=\"#Tahoma-Bold-69\"/>\r\n    <use x=\"106.591797\" xlink:href=\"#Tahoma-Bold-73\"/>\r\n    <use x=\"158.056641\" xlink:href=\"#Tahoma-Bold-74\"/>\r\n    <use x=\"199.609375\" xlink:href=\"#Tahoma-Bold-6f\"/>\r\n    <use x=\"261.328125\" xlink:href=\"#Tahoma-Bold-67\"/>\r\n    <use x=\"324.267578\" xlink:href=\"#Tahoma-Bold-72\"/>\r\n    <use x=\"367.626953\" xlink:href=\"#Tahoma-Bold-61\"/>\r\n    <use x=\"427.490234\" xlink:href=\"#Tahoma-Bold-6d\"/>\r\n    <use x=\"522.851562\" xlink:href=\"#Tahoma-Bold-20\"/>\r\n    <use x=\"552.148438\" xlink:href=\"#Tahoma-Bold-6f\"/>\r\n    <use x=\"613.867188\" xlink:href=\"#Tahoma-Bold-66\"/>\r\n    <use x=\"652.099609\" xlink:href=\"#Tahoma-Bold-20\"/>\r\n    <use x=\"681.396484\" xlink:href=\"#Tahoma-Bold-72\"/>\r\n    <use x=\"724.755859\" xlink:href=\"#Tahoma-Bold-65\"/>\r\n    <use x=\"784.130859\" xlink:href=\"#Tahoma-Bold-63\"/>\r\n    <use x=\"836.865234\" xlink:href=\"#Tahoma-Bold-6f\"/>\r\n    <use x=\"898.583984\" xlink:href=\"#Tahoma-Bold-6e\"/>\r\n    <use x=\"962.597656\" xlink:href=\"#Tahoma-Bold-73\"/>\r\n    <use x=\"1014.0625\" xlink:href=\"#Tahoma-Bold-74\"/>\r\n    <use x=\"1055.615234\" xlink:href=\"#Tahoma-Bold-72\"/>\r\n    <use x=\"1098.974609\" xlink:href=\"#Tahoma-Bold-75\"/>\r\n    <use x=\"1162.988281\" xlink:href=\"#Tahoma-Bold-63\"/>\r\n    <use x=\"1215.722656\" xlink:href=\"#Tahoma-Bold-74\"/>\r\n    <use x=\"1257.275391\" xlink:href=\"#Tahoma-Bold-69\"/>\r\n    <use x=\"1287.451172\" xlink:href=\"#Tahoma-Bold-6f\"/>\r\n    <use x=\"1349.169922\" xlink:href=\"#Tahoma-Bold-6e\"/>\r\n    <use x=\"1413.183594\" xlink:href=\"#Tahoma-Bold-20\"/>\r\n    <use x=\"1442.480469\" xlink:href=\"#Tahoma-Bold-65\"/>\r\n    <use x=\"1501.855469\" xlink:href=\"#Tahoma-Bold-72\"/>\r\n    <use x=\"1545.214844\" xlink:href=\"#Tahoma-Bold-72\"/>\r\n    <use x=\"1588.574219\" xlink:href=\"#Tahoma-Bold-6f\"/>\r\n    <use x=\"1650.292969\" xlink:href=\"#Tahoma-Bold-72\"/>\r\n   </g>\r\n  </g>\r\n </g>\r\n <defs>\r\n  <clipPath id=\"pa7f02f8809\">\r\n   <rect height=\"62.748\" width=\"357.12\" x=\"36.948906\" y=\"26.875213\"/>\r\n  </clipPath>\r\n  <clipPath id=\"p191909b706\">\r\n   <path d=\"M 427.768906 157.203213 \r\nL 427.768906 141.363213 \r\nL 443.608906 141.363213 \r\nL 443.608906 157.203213 \r\n\"/>\r\n  </clipPath>\r\n  <clipPath id=\"pe08a18a2e1\">\r\n   <path d=\"M 427.768906 175.043213 \r\nL 427.768906 159.203213 \r\nL 443.608906 159.203213 \r\nL 443.608906 175.043213 \r\n\"/>\r\n  </clipPath>\r\n  <clipPath id=\"p3f78511bdb\">\r\n   <rect height=\"62.748\" width=\"357.12\" x=\"36.948906\" y=\"94.663213\"/>\r\n  </clipPath>\r\n  <clipPath id=\"p51323664f6\">\r\n   <rect height=\"62.748\" width=\"357.12\" x=\"36.948906\" y=\"162.451213\"/>\r\n  </clipPath>\r\n  <clipPath id=\"p7a324713fd\">\r\n   <rect height=\"62.748\" width=\"357.12\" x=\"36.948906\" y=\"230.239213\"/>\r\n  </clipPath>\r\n </defs>\r\n</svg>\r\n",
      "image/png": "[encoded data removed]"
     },
     "metadata": {}
    },
    {
     "output_type": "stream",
     "name": "stdout",
     "text": [
      "\n"
     ]
    }
   ],
   "source": [
    "p = (\n",
    "    p9.ggplot(audios_df.query(\"split == 1\"), p9.aes(x=\"error\", fill=\"label\"))\n",
    "    + p9.geom_histogram(\n",
    "        p9.aes(y=\"stat(count)\"), position=\"identity\", alpha=0.75\n",
    "    )\n",
    "    + p9.scale_x_continuous(name=\"Reconstruction error\")\n",
    "    + p9.scale_y_continuous(name=\"Count\")\n",
    "    + p9.labs(\n",
    "        title=\"Histogram of reconstruction error\",\n",
    "    )\n",
    "    + p9.scale_fill_brewer(type=\"qualitative\", palette=\"Accent\") \n",
    "    + p9.facet_grid(\"machine_id ~ .\", scales=\"free\")\n",
    "    + p9.theme_bw()\n",
    "    + p9.theme(\n",
    "        panel_border=p9.element_rect(colour=\"black\", fill=None, size=0.5),\n",
    "        axis_text_x=p9.element_text(colour=\"black\", size=9),\n",
    "        axis_text_y=p9.element_text(colour=\"black\", size=9),\n",
    "        legend_key=p9.element_blank(),\n",
    "        legend_title=p9.element_blank(),\n",
    "        panel_grid_major=p9.element_line(colour=\"#d3d3d3\"),\n",
    "        panel_grid_minor=p9.element_blank(),\n",
    "        panel_background=p9.element_blank(),\n",
    "        plot_title=p9.element_text(size=14, family=\"Tahoma\", face=\"bold\"),\n",
    "        text=p9.element_text(family=\"Tahoma\"),\n",
    "    )\n",
    ")\n",
    "\n",
    "print(p)"
   ]
  },
  {
   "cell_type": "code",
   "execution_count": 23,
   "metadata": {},
   "outputs": [],
   "source": [
    "avg = (\n",
    "    audios_df\n",
    "    .query(\"split == 0\")\n",
    "    [\"error\"]\n",
    "    .mean()\n",
    ")\n",
    "\n",
    "std = (\n",
    "    audios_df\n",
    "    .query(\"split == 0\")\n",
    "    [\"error\"]\n",
    "    .std()\n",
    ")\n",
    "\n",
    "threshold = avg + std"
   ]
  },
  {
   "cell_type": "code",
   "execution_count": 24,
   "metadata": {},
   "outputs": [
    {
     "output_type": "stream",
     "name": "stdout",
     "text": [
      "3719.703408187952\n"
     ]
    }
   ],
   "source": [
    "print(threshold)"
   ]
  },
  {
   "cell_type": "code",
   "execution_count": 25,
   "metadata": {},
   "outputs": [],
   "source": [
    "audios_df[\"label_pred\"] = audios_df[\"error\"] > threshold"
   ]
  },
  {
   "cell_type": "code",
   "execution_count": 26,
   "metadata": {},
   "outputs": [
    {
     "output_type": "execute_result",
     "data": {
      "text/plain": [
       "                                               audio    id machine_id split  \\\n",
       "0  [167.79619, 148.82285, 155.80418, 157.08049, 1...  0811         02     0   \n",
       "1  [123.45275, 121.31313, 137.93771, 127.775246, ...  0144         00     0   \n",
       "2  [128.69463, 133.42935, 147.16164, 122.406494, ...  0773         06     0   \n",
       "3  [122.336296, 111.70874, 117.87651, 117.789314,...  0425         02     0   \n",
       "4  [126.35325, 128.95583, 137.11765, 142.96132, 1...  0191         04     0   \n",
       "\n",
       "  label        error  label_pred  \n",
       "0     0  1363.780762       False  \n",
       "1     0  2770.097168       False  \n",
       "2     0  4800.701172        True  \n",
       "3     0   471.138458       False  \n",
       "4     0  3365.334717       False  "
      ],
      "text/html": "<div>\n<style scoped>\n    .dataframe tbody tr th:only-of-type {\n        vertical-align: middle;\n    }\n\n    .dataframe tbody tr th {\n        vertical-align: top;\n    }\n\n    .dataframe thead th {\n        text-align: right;\n    }\n</style>\n<table border=\"1\" class=\"dataframe\">\n  <thead>\n    <tr style=\"text-align: right;\">\n      <th></th>\n      <th>audio</th>\n      <th>id</th>\n      <th>machine_id</th>\n      <th>split</th>\n      <th>label</th>\n      <th>error</th>\n      <th>label_pred</th>\n    </tr>\n  </thead>\n  <tbody>\n    <tr>\n      <th>0</th>\n      <td>[167.79619, 148.82285, 155.80418, 157.08049, 1...</td>\n      <td>0811</td>\n      <td>02</td>\n      <td>0</td>\n      <td>0</td>\n      <td>1363.780762</td>\n      <td>False</td>\n    </tr>\n    <tr>\n      <th>1</th>\n      <td>[123.45275, 121.31313, 137.93771, 127.775246, ...</td>\n      <td>0144</td>\n      <td>00</td>\n      <td>0</td>\n      <td>0</td>\n      <td>2770.097168</td>\n      <td>False</td>\n    </tr>\n    <tr>\n      <th>2</th>\n      <td>[128.69463, 133.42935, 147.16164, 122.406494, ...</td>\n      <td>0773</td>\n      <td>06</td>\n      <td>0</td>\n      <td>0</td>\n      <td>4800.701172</td>\n      <td>True</td>\n    </tr>\n    <tr>\n      <th>3</th>\n      <td>[122.336296, 111.70874, 117.87651, 117.789314,...</td>\n      <td>0425</td>\n      <td>02</td>\n      <td>0</td>\n      <td>0</td>\n      <td>471.138458</td>\n      <td>False</td>\n    </tr>\n    <tr>\n      <th>4</th>\n      <td>[126.35325, 128.95583, 137.11765, 142.96132, 1...</td>\n      <td>0191</td>\n      <td>04</td>\n      <td>0</td>\n      <td>0</td>\n      <td>3365.334717</td>\n      <td>False</td>\n    </tr>\n  </tbody>\n</table>\n</div>"
     },
     "metadata": {},
     "execution_count": 26
    }
   ],
   "source": [
    "audios_df.head()"
   ]
  },
  {
   "cell_type": "code",
   "execution_count": 31,
   "metadata": {},
   "outputs": [
    {
     "output_type": "stream",
     "name": "stdout",
     "text": [
      "              precision    recall  f1-score   support\n\n           0       0.40      0.87      0.55       100\n           1       0.50      0.09      0.15       143\n\n    accuracy                           0.41       243\n   macro avg       0.45      0.48      0.35       243\nweighted avg       0.46      0.41      0.32       243\n\n"
     ]
    }
   ],
   "source": [
    "machine_id = \"00\"\n",
    "temp = (\n",
    "    audios_df\n",
    "    .query(\"machine_id == @machine_id and split == 1\")\n",
    ")  \n",
    "print(classification_report(temp[\"label\"], temp[\"label_pred\"]))"
   ]
  },
  {
   "cell_type": "code",
   "execution_count": 32,
   "metadata": {},
   "outputs": [
    {
     "output_type": "stream",
     "name": "stdout",
     "text": [
      "[[ 87  13]\n [130  13]]\n"
     ]
    }
   ],
   "source": [
    "print(confusion_matrix(temp[\"label\"], temp[\"label_pred\"]))"
   ]
  },
  {
   "cell_type": "code",
   "execution_count": 33,
   "metadata": {},
   "outputs": [
    {
     "output_type": "stream",
     "name": "stdout",
     "text": [
      "ROC-AUC score: 0.4805\n"
     ]
    }
   ],
   "source": [
    "score = roc_auc_score(temp[\"label\"], temp[\"label_pred\"])\n",
    "print(f\"ROC-AUC score: {score:.4f}\")"
   ]
  },
  {
   "cell_type": "code",
   "execution_count": 34,
   "metadata": {},
   "outputs": [
    {
     "output_type": "stream",
     "name": "stdout",
     "text": [
      "              precision    recall  f1-score   support\n\n           0       0.47      0.87      0.61       100\n           1       0.52      0.13      0.20       111\n\n    accuracy                           0.48       211\n   macro avg       0.50      0.50      0.41       211\nweighted avg       0.50      0.48      0.40       211\n\n"
     ]
    }
   ],
   "source": [
    "machine_id = \"02\"\n",
    "temp = (\n",
    "    audios_df\n",
    "    .query(\"machine_id == @machine_id and split == 1\")\n",
    ")  \n",
    "print(classification_report(temp[\"label\"], temp[\"label_pred\"]))"
   ]
  },
  {
   "cell_type": "code",
   "execution_count": 35,
   "metadata": {},
   "outputs": [
    {
     "output_type": "stream",
     "name": "stdout",
     "text": [
      "[[87 13]\n [97 14]]\n"
     ]
    }
   ],
   "source": [
    "print(confusion_matrix(temp[\"label\"], temp[\"label_pred\"]))"
   ]
  },
  {
   "cell_type": "code",
   "execution_count": 36,
   "metadata": {},
   "outputs": [
    {
     "output_type": "stream",
     "name": "stdout",
     "text": [
      "ROC-AUC score: 0.4981\n"
     ]
    }
   ],
   "source": [
    "score = roc_auc_score(temp[\"label\"], temp[\"label_pred\"])\n",
    "print(f\"ROC-AUC score: {score:.4f}\")"
   ]
  },
  {
   "cell_type": "code",
   "execution_count": 37,
   "metadata": {},
   "outputs": [
    {
     "output_type": "stream",
     "name": "stdout",
     "text": [
      "              precision    recall  f1-score   support\n\n           0       0.48      0.85      0.61       100\n           1       0.35      0.08      0.13       100\n\n    accuracy                           0.47       200\n   macro avg       0.41      0.46      0.37       200\nweighted avg       0.41      0.47      0.37       200\n\n"
     ]
    }
   ],
   "source": [
    "machine_id = \"04\"\n",
    "temp = (\n",
    "    audios_df\n",
    "    .query(\"machine_id == @machine_id and split == 1\")\n",
    ")  \n",
    "print(classification_report(temp[\"label\"], temp[\"label_pred\"]))"
   ]
  },
  {
   "cell_type": "code",
   "execution_count": 38,
   "metadata": {},
   "outputs": [
    {
     "output_type": "stream",
     "name": "stdout",
     "text": [
      "[[85 15]\n [92  8]]\n"
     ]
    }
   ],
   "source": [
    "print(confusion_matrix(temp[\"label\"], temp[\"label_pred\"]))"
   ]
  },
  {
   "cell_type": "code",
   "execution_count": 39,
   "metadata": {},
   "outputs": [
    {
     "output_type": "stream",
     "name": "stdout",
     "text": [
      "ROC-AUC score: 0.4650\n"
     ]
    }
   ],
   "source": [
    "score = roc_auc_score(temp[\"label\"], temp[\"label_pred\"])\n",
    "print(f\"ROC-AUC score: {score:.4f}\")"
   ]
  },
  {
   "cell_type": "code",
   "execution_count": 40,
   "metadata": {},
   "outputs": [
    {
     "output_type": "stream",
     "name": "stdout",
     "text": [
      "              precision    recall  f1-score   support\n\n           0       0.50      0.86      0.63       100\n           1       0.55      0.17      0.26       102\n\n    accuracy                           0.51       202\n   macro avg       0.53      0.51      0.45       202\nweighted avg       0.53      0.51      0.44       202\n\n"
     ]
    }
   ],
   "source": [
    "machine_id = \"06\"\n",
    "temp = (\n",
    "    audios_df\n",
    "    .query(\"machine_id == @machine_id and split == 1\")\n",
    ")  \n",
    "print(classification_report(temp[\"label\"], temp[\"label_pred\"]))"
   ]
  },
  {
   "cell_type": "code",
   "execution_count": 41,
   "metadata": {},
   "outputs": [
    {
     "output_type": "stream",
     "name": "stdout",
     "text": [
      "[[86 14]\n [85 17]]\n"
     ]
    }
   ],
   "source": [
    "print(confusion_matrix(temp[\"label\"], temp[\"label_pred\"]))"
   ]
  },
  {
   "cell_type": "code",
   "execution_count": 42,
   "metadata": {},
   "outputs": [
    {
     "output_type": "stream",
     "name": "stdout",
     "text": [
      "ROC-AUC score: 0.5133\n"
     ]
    }
   ],
   "source": [
    "score = roc_auc_score(temp[\"label\"], temp[\"label_pred\"])\n",
    "print(f\"ROC-AUC score: {score:.4f}\")"
   ]
  }
 ],
 "metadata": {
  "kernelspec": {
   "name": "python3710jvsc74a57bd057fde4dc6cdb19e1d76ed7331772e4cf7a15b1a70b768f05e2959c60594bd89b",
   "display_name": "Python 3.7.10 64-bit ('tfm': conda)"
  },
  "language_info": {
   "codemirror_mode": {
    "name": "ipython",
    "version": 3
   },
   "file_extension": ".py",
   "mimetype": "text/x-python",
   "name": "python",
   "nbconvert_exporter": "python",
   "pygments_lexer": "ipython3",
   "version": "3.7.10"
  },
  "metadata": {
   "interpreter": {
    "hash": "57fde4dc6cdb19e1d76ed7331772e4cf7a15b1a70b768f05e2959c60594bd89b"
   }
  }
 },
 "nbformat": 4,
 "nbformat_minor": 2
}