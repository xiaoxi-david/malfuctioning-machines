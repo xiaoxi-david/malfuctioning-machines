{
 "cells": [
  {
   "cell_type": "markdown",
   "metadata": {},
   "source": [
    "# Semi-supervised anomaly detection - Spectral centroid"
   ]
  },
  {
   "cell_type": "markdown",
   "metadata": {},
   "source": [
    "This notebook will show how to create an AE model with the [spectral centroid](https://en.wikipedia.org/wiki/Spectral_centroid) of the audio samples. Although most AE models for audios use 2D audio features (spectrogram, mel-spectrogram...), 1D audio features can be used too."
   ]
  },
  {
   "cell_type": "markdown",
   "metadata": {},
   "source": [
    "# Libraries"
   ]
  },
  {
   "cell_type": "markdown",
   "metadata": {},
   "source": [
    "Let's load the libraries for this notebook.\r\n",
    "- **Tensorflow dataset** to load the dataset\r\n",
    "- **Tensorflow** to create an AE model\r\n",
    "- **Pandas** to manipulate results\r\n",
    "- **Sklearn** to compute metrics\r\n",
    "- **Plotnine** to plot results"
   ]
  },
  {
   "cell_type": "code",
   "execution_count": 1,
   "metadata": {},
   "outputs": [],
   "source": [
    "import tensorflow_datasets as tfds\r\n",
    "import tensorflow as tf\r\n",
    "\r\n",
    "from tensorflow.keras.layers import (\r\n",
    "    InputLayer,\r\n",
    "    Dense,\r\n",
    "    BatchNormalization,\r\n",
    "    Activation,\r\n",
    "\r\n",
    ")\r\n",
    "from tensorflow.keras import Sequential\r\n",
    "\r\n",
    "import numpy as np\r\n",
    "import pandas as pd\r\n",
    "\r\n",
    "import sklearn\r\n",
    "from sklearn.metrics import (\r\n",
    "    confusion_matrix, \r\n",
    "    classification_report,\r\n",
    "    roc_auc_score\r\n",
    ")\r\n",
    "\r\n",
    "import plotnine as p9\r\n",
    "\r\n",
    "import datetime\r\n",
    "\r\n",
    "import os\r\n",
    "\r\n",
    "import warnings\r\n",
    "warnings.filterwarnings('ignore')"
   ]
  },
  {
   "cell_type": "code",
   "execution_count": 2,
   "metadata": {},
   "outputs": [
    {
     "name": "stdout",
     "output_type": "stream",
     "text": [
      "Tensorflow datasets: 4.2.0\n",
      "Tensorflow: 2.4.1\n",
      "Sklearn: 0.24.2\n",
      "Numpy: 1.19.5\n",
      "Pandas: 1.2.4\n",
      "Plotnine: 0.8.0\n"
     ]
    }
   ],
   "source": [
    "print(f\"Tensorflow datasets: {tfds.__version__}\")\r\n",
    "print(f\"Tensorflow: {tf.__version__}\")\r\n",
    "print(f\"Sklearn: {sklearn.__version__}\")\r\n",
    "print(f\"Numpy: {np.__version__}\")\r\n",
    "print(f\"Pandas: {pd.__version__}\")\r\n",
    "print(f\"Plotnine: {p9.__version__}\")"
   ]
  },
  {
   "cell_type": "markdown",
   "metadata": {},
   "source": [
    "Let's set the seed for the Tensorflow dataset."
   ]
  },
  {
   "cell_type": "code",
   "execution_count": 3,
   "metadata": {},
   "outputs": [],
   "source": [
    "config = tfds.ReadConfig(try_autocache=True, shuffle_seed=42)"
   ]
  },
  {
   "cell_type": "markdown",
   "metadata": {},
   "source": [
    "## Dataset"
   ]
  },
  {
   "cell_type": "markdown",
   "metadata": {},
   "source": [
    "Let's load the dataset and create three sets (train, validation, test). We make the train set (90%) and validation set (10%) from the train data and the test set from the test data. "
   ]
  },
  {
   "cell_type": "code",
   "execution_count": 4,
   "metadata": {},
   "outputs": [],
   "source": [
    "import pump\n",
    "data_dir = \"../dataset\"\n",
    "\n",
    "(train, val, test), info = tfds.load(\n",
    "    \"pump\",\n",
    "    split=[\"train[:90%]\", \"train[90%:]\", \"test\"],\n",
    "    data_dir=data_dir,\n",
    "    with_info=True,\n",
    "    shuffle_files=True,\n",
    "    read_config=config,\n",
    ")"
   ]
  },
  {
   "cell_type": "markdown",
   "metadata": {},
   "source": [
    "## Feature extraction"
   ]
  },
  {
   "cell_type": "markdown",
   "metadata": {},
   "source": [
    "Let's extract the audio feature for the AE model.\r\n",
    "\r\n",
    "To get the spectral centroid of the audios, we need to:\r\n",
    "- Calculate the magnitude from the STFT of the audio sample with an analysis frame of 64ms and 50% hop size.\r\n",
    "- Calculate the spectral centroid:\r\n",
    "\r\n",
    "![spectral centroid](https://wikimedia.org/api/rest_v1/media/math/render/svg/0a62c839a6ceafd854138264d81b2986d8cdaff1)"
   ]
  },
  {
   "cell_type": "code",
   "execution_count": 5,
   "metadata": {},
   "outputs": [],
   "source": [
    "def spectral_centroid(item):\n",
    "    audio = tf.cast(item[\"audio\"], dtype = tf.float32)\n",
    "    audio = audio / 2**15\n",
    "    audio = tf.signal.stft(audio, frame_length=1024, frame_step=512)\n",
    "    audio = tf.abs(audio)\n",
    "    freqs = tf.constant(np.arange(0,513), dtype=audio.dtype)\n",
    "    item[\"audio\"] = tf.reduce_sum(audio * freqs, axis=1) / tf.reduce_sum(audio, axis=1)\n",
    "    return item"
   ]
  },
  {
   "cell_type": "markdown",
   "metadata": {},
   "source": [
    "Let's prepare the sets for training. AE models need that the input and the output be the same."
   ]
  },
  {
   "cell_type": "code",
   "execution_count": 6,
   "metadata": {},
   "outputs": [],
   "source": [
    "def prep_train(item):\n",
    "    return item[\"audio\"], item[\"audio\"]"
   ]
  },
  {
   "cell_type": "code",
   "execution_count": 7,
   "metadata": {},
   "outputs": [],
   "source": [
    "BATCH_SIZE = 256\n",
    "SHUFFLE_BUFFER_SIZE = 1024\n",
    "\n",
    "train = train.map(spectral_centroid)\n",
    "train2 = train.map(prep_train).batch(BATCH_SIZE)\n",
    "\n",
    "val = train.map(spectral_centroid)\n",
    "val2 = train.map(prep_train).batch(BATCH_SIZE)\n",
    "\n",
    "test = test.map(spectral_centroid)\n",
    "test2 = test.batch(BATCH_SIZE)"
   ]
  },
  {
   "cell_type": "markdown",
   "metadata": {},
   "source": [
    "## Training"
   ]
  },
  {
   "cell_type": "markdown",
   "metadata": {},
   "source": [
    "Let's create an simple AE model. \r\n",
    "\r\n",
    "![AE model](https://d1jnx9ba8s6j9r.cloudfront.net/blog/wp-content/uploads/2018/10/Autoencoders-528x265.png)"
   ]
  },
  {
   "cell_type": "code",
   "execution_count": 8,
   "metadata": {},
   "outputs": [
    {
     "name": "stdout",
     "output_type": "stream",
     "text": [
      "Model: \"sequential\"\n",
      "_________________________________________________________________\n",
      "Layer (type)                 Output Shape              Param #   \n",
      "=================================================================\n",
      "batch_normalization (BatchNo (None, 311)               1244      \n",
      "_________________________________________________________________\n",
      "dense (Dense)                (None, 128)               39936     \n",
      "_________________________________________________________________\n",
      "batch_normalization_1 (Batch (None, 128)               512       \n",
      "_________________________________________________________________\n",
      "activation (Activation)      (None, 128)               0         \n",
      "_________________________________________________________________\n",
      "dense_1 (Dense)              (None, 32)                4128      \n",
      "_________________________________________________________________\n",
      "batch_normalization_2 (Batch (None, 32)                128       \n",
      "_________________________________________________________________\n",
      "activation_1 (Activation)    (None, 32)                0         \n",
      "_________________________________________________________________\n",
      "dense_2 (Dense)              (None, 8)                 264       \n",
      "_________________________________________________________________\n",
      "batch_normalization_3 (Batch (None, 8)                 32        \n",
      "_________________________________________________________________\n",
      "activation_2 (Activation)    (None, 8)                 0         \n",
      "_________________________________________________________________\n",
      "dense_3 (Dense)              (None, 32)                288       \n",
      "_________________________________________________________________\n",
      "batch_normalization_4 (Batch (None, 32)                128       \n",
      "_________________________________________________________________\n",
      "activation_3 (Activation)    (None, 32)                0         \n",
      "_________________________________________________________________\n",
      "dense_4 (Dense)              (None, 128)               4224      \n",
      "_________________________________________________________________\n",
      "batch_normalization_5 (Batch (None, 128)               512       \n",
      "_________________________________________________________________\n",
      "activation_4 (Activation)    (None, 128)               0         \n",
      "_________________________________________________________________\n",
      "dense_5 (Dense)              (None, 311)               40119     \n",
      "=================================================================\n",
      "Total params: 91,515\n",
      "Trainable params: 90,237\n",
      "Non-trainable params: 1,278\n",
      "_________________________________________________________________\n"
     ]
    }
   ],
   "source": [
    "autoencoder = Sequential(\r\n",
    "    [\r\n",
    "        InputLayer(input_shape=311),\r\n",
    "        BatchNormalization(),\r\n",
    "        Dense(128),\r\n",
    "        BatchNormalization(),\r\n",
    "        Activation('elu'),\r\n",
    "        Dense(32),\r\n",
    "        BatchNormalization(),\r\n",
    "        Activation('elu'),\r\n",
    "        Dense(8),\r\n",
    "        BatchNormalization(),\r\n",
    "        Activation('elu'),\r\n",
    "        Dense(32),\r\n",
    "        BatchNormalization(),\r\n",
    "        Activation('elu'),\r\n",
    "        Dense(128),\r\n",
    "        BatchNormalization(),\r\n",
    "        Activation('elu'),\r\n",
    "        Dense(311, activation=None),\r\n",
    "    ]\r\n",
    ")\r\n",
    "\r\n",
    "autoencoder.summary()"
   ]
  },
  {
   "cell_type": "markdown",
   "metadata": {},
   "source": [
    "We can use [rmsprop](https://optimization.cbe.cornell.edu/index.php?title=RMSProp) as the optimizer and the [mean squared error](https://en.wikipedia.org/wiki/Mean_squared_error) as the loss function. "
   ]
  },
  {
   "cell_type": "code",
   "execution_count": 9,
   "metadata": {},
   "outputs": [],
   "source": [
    "autoencoder.compile(optimizer='rmsprop', loss='mse')"
   ]
  },
  {
   "cell_type": "markdown",
   "metadata": {},
   "source": [
    "Let's create a Tensorboard callback to check the results in Tensorboard and a ModelCheckpoint callback to save the best model."
   ]
  },
  {
   "cell_type": "code",
   "execution_count": 10,
   "metadata": {},
   "outputs": [],
   "source": [
    "log_dir = os.path.join('..', 'logs', 'semi-centroid', datetime.datetime.now().strftime('%Y%m%d-%H%M%S'))\n",
    "tb_callback = tf.keras.callbacks.TensorBoard(\n",
    "    log_dir, update_freq=1, histogram_freq=1, write_graph=True\n",
    ")"
   ]
  },
  {
   "cell_type": "code",
   "execution_count": 11,
   "metadata": {},
   "outputs": [],
   "source": [
    "checkpoint_filepath = os.path.join(\"tmp\", \"semi-centroid\", \"checkpoint\")\n",
    "model_checkpoint_callback = tf.keras.callbacks.ModelCheckpoint(\n",
    "    filepath=checkpoint_filepath,\n",
    "    save_weights_only=True,\n",
    "    monitor='val_loss',\n",
    "    mode='min',\n",
    "    save_best_only=True)"
   ]
  },
  {
   "cell_type": "markdown",
   "metadata": {},
   "source": [
    "AE models needs that the input and the output be same."
   ]
  },
  {
   "cell_type": "code",
   "execution_count": 12,
   "metadata": {},
   "outputs": [
    {
     "name": "stdout",
     "output_type": "stream",
     "text": [
      "Epoch 1/50\n",
      "12/12 [==============================] - 58s 5s/step - loss: 19114.8274 - val_loss: 17746.3496\n",
      "Epoch 2/50\n",
      "12/12 [==============================] - 53s 5s/step - loss: 18848.9563 - val_loss: 18444.8105\n",
      "Epoch 3/50\n",
      "12/12 [==============================] - 53s 5s/step - loss: 18673.2357 - val_loss: 18220.5195\n",
      "Epoch 4/50\n",
      "12/12 [==============================] - 52s 5s/step - loss: 18513.2046 - val_loss: 18077.8965\n",
      "Epoch 5/50\n",
      "12/12 [==============================] - 50s 4s/step - loss: 18383.4273 - val_loss: 17678.0996\n",
      "Epoch 6/50\n",
      "12/12 [==============================] - 50s 4s/step - loss: 18269.7270 - val_loss: 16903.7207\n",
      "Epoch 7/50\n",
      "12/12 [==============================] - 51s 4s/step - loss: 17766.8459 - val_loss: 17004.1523\n",
      "Epoch 8/50\n",
      "12/12 [==============================] - 53s 5s/step - loss: 17630.9740 - val_loss: 16243.7891\n",
      "Epoch 9/50\n",
      "12/12 [==============================] - 54s 5s/step - loss: 17371.6164 - val_loss: 15437.8301\n",
      "Epoch 10/50\n",
      "12/12 [==============================] - 53s 5s/step - loss: 17045.3956 - val_loss: 15689.4160\n",
      "Epoch 11/50\n",
      "12/12 [==============================] - 51s 4s/step - loss: 17027.2200 - val_loss: 14601.0752\n",
      "Epoch 12/50\n",
      "12/12 [==============================] - 51s 4s/step - loss: 16597.5907 - val_loss: 14091.8125\n",
      "Epoch 13/50\n",
      "12/12 [==============================] - 52s 4s/step - loss: 16522.6328 - val_loss: 13190.9824\n",
      "Epoch 14/50\n",
      "12/12 [==============================] - 53s 5s/step - loss: 16171.2215 - val_loss: 13162.0254\n",
      "Epoch 15/50\n",
      "12/12 [==============================] - 54s 5s/step - loss: 15940.5748 - val_loss: 12903.0068\n",
      "Epoch 16/50\n",
      "12/12 [==============================] - 54s 5s/step - loss: 15578.4280 - val_loss: 12426.1191\n",
      "Epoch 17/50\n",
      "12/12 [==============================] - 53s 5s/step - loss: 15324.9306 - val_loss: 12764.8545\n",
      "Epoch 18/50\n",
      "12/12 [==============================] - 50s 4s/step - loss: 15179.7740 - val_loss: 12182.2168\n",
      "Epoch 19/50\n",
      "12/12 [==============================] - 50s 4s/step - loss: 14813.5332 - val_loss: 12151.5791\n",
      "Epoch 20/50\n",
      "12/12 [==============================] - 52s 4s/step - loss: 14333.4321 - val_loss: 11645.0693\n",
      "Epoch 21/50\n",
      "12/12 [==============================] - 54s 5s/step - loss: 14095.2029 - val_loss: 11431.1816\n",
      "Epoch 22/50\n",
      "12/12 [==============================] - 54s 5s/step - loss: 13713.9085 - val_loss: 10946.0000\n",
      "Epoch 23/50\n",
      "12/12 [==============================] - 54s 5s/step - loss: 13513.9782 - val_loss: 10927.6191\n",
      "Epoch 24/50\n",
      "12/12 [==============================] - 49s 4s/step - loss: 13261.5285 - val_loss: 10567.0068\n",
      "Epoch 25/50\n",
      "12/12 [==============================] - 50s 4s/step - loss: 12933.8609 - val_loss: 10304.5498\n",
      "Epoch 26/50\n",
      "12/12 [==============================] - 53s 4s/step - loss: 12658.7044 - val_loss: 10476.1924\n",
      "Epoch 27/50\n",
      "12/12 [==============================] - 54s 5s/step - loss: 12394.1029 - val_loss: 10136.9473\n",
      "Epoch 28/50\n",
      "12/12 [==============================] - 54s 5s/step - loss: 11983.2469 - val_loss: 9531.4375\n",
      "Epoch 29/50\n",
      "12/12 [==============================] - 55s 5s/step - loss: 11713.9141 - val_loss: 9189.9229\n",
      "Epoch 30/50\n",
      "12/12 [==============================] - 51s 4s/step - loss: 11320.2651 - val_loss: 9428.1133\n",
      "Epoch 31/50\n",
      "12/12 [==============================] - 51s 4s/step - loss: 10919.7489 - val_loss: 9677.7920\n",
      "Epoch 32/50\n",
      "12/12 [==============================] - 51s 4s/step - loss: 10600.0518 - val_loss: 8932.6426\n",
      "Epoch 33/50\n",
      "12/12 [==============================] - 54s 5s/step - loss: 10342.7215 - val_loss: 8544.9326\n",
      "Epoch 34/50\n",
      "12/12 [==============================] - 54s 5s/step - loss: 9986.0944 - val_loss: 8209.0283\n",
      "Epoch 35/50\n",
      "12/12 [==============================] - 54s 5s/step - loss: 9770.5883 - val_loss: 7182.9595\n",
      "Epoch 36/50\n",
      "12/12 [==============================] - 51s 4s/step - loss: 9342.4838 - val_loss: 7054.4360\n",
      "Epoch 37/50\n",
      "12/12 [==============================] - 50s 4s/step - loss: 9275.6143 - val_loss: 6055.0571\n",
      "Epoch 38/50\n",
      "12/12 [==============================] - 51s 4s/step - loss: 8858.6773 - val_loss: 6700.3120\n",
      "Epoch 39/50\n",
      "12/12 [==============================] - 54s 5s/step - loss: 8444.2009 - val_loss: 5250.8340\n",
      "Epoch 40/50\n",
      "12/12 [==============================] - 54s 5s/step - loss: 8154.4272 - val_loss: 5938.8330\n",
      "Epoch 41/50\n",
      "12/12 [==============================] - 54s 5s/step - loss: 7808.5893 - val_loss: 6233.4292\n",
      "Epoch 42/50\n",
      "12/12 [==============================] - 48s 4s/step - loss: 7428.6229 - val_loss: 4999.1743\n",
      "Epoch 43/50\n",
      "12/12 [==============================] - 48s 4s/step - loss: 7249.9142 - val_loss: 4816.9575\n",
      "Epoch 44/50\n",
      "12/12 [==============================] - 45s 4s/step - loss: 6968.4024 - val_loss: 4501.3750\n",
      "Epoch 45/50\n",
      "12/12 [==============================] - 46s 4s/step - loss: 6512.6630 - val_loss: 4484.8340\n",
      "Epoch 46/50\n",
      "12/12 [==============================] - 47s 4s/step - loss: 6140.3482 - val_loss: 5992.3774\n",
      "Epoch 47/50\n",
      "12/12 [==============================] - 46s 4s/step - loss: 5683.0254 - val_loss: 8889.6328\n",
      "Epoch 48/50\n",
      "12/12 [==============================] - 44s 4s/step - loss: 5131.4489 - val_loss: 8266.2480\n",
      "Epoch 49/50\n",
      "12/12 [==============================] - 44s 4s/step - loss: 4845.4176 - val_loss: 8775.7988\n",
      "Epoch 50/50\n",
      "12/12 [==============================] - 45s 4s/step - loss: 4460.7110 - val_loss: 6170.5747\n"
     ]
    }
   ],
   "source": [
    "history = model.fit(\r\n",
    "    train2,\r\n",
    "    epochs=50,\r\n",
    "    shuffle=True,\r\n",
    "    validation_data=val2,\r\n",
    "    callbacks=[tb_callback, model_checkpoint_callback],\r\n",
    "    verbose=1,\r\n",
    ")"
   ]
  },
  {
   "cell_type": "markdown",
   "metadata": {},
   "source": [
    "## Testing"
   ]
  },
  {
   "cell_type": "markdown",
   "metadata": {},
   "source": [
    "Let's join train and test set together for faster predictions."
   ]
  },
  {
   "cell_type": "code",
   "execution_count": 13,
   "metadata": {},
   "outputs": [],
   "source": [
    "audios = train.concatenate(test)"
   ]
  },
  {
   "cell_type": "code",
   "execution_count": 14,
   "metadata": {},
   "outputs": [],
   "source": [
    "pred = autoencoder.predict(audios.map(lambda item: item[\"audio\"]).batch(BATCH_SIZE))"
   ]
  },
  {
   "cell_type": "markdown",
   "metadata": {},
   "source": [
    "Let's compute the reconstruction error for all audios."
   ]
  },
  {
   "cell_type": "code",
   "execution_count": 15,
   "metadata": {},
   "outputs": [],
   "source": [
    "error_lst = []\n",
    "for item, pred in zip(tfds.as_numpy(audios), pred):\n",
    "    error = np.mean(np.square(item[\"audio\"] - pred))\n",
    "    error_lst.append(error)"
   ]
  },
  {
   "cell_type": "markdown",
   "metadata": {},
   "source": [
    "To check how the model behaves, we can tranform the Tensorflow dataset into a dataframe and add the previous computed reconstruction error to it."
   ]
  },
  {
   "cell_type": "code",
   "execution_count": 16,
   "metadata": {},
   "outputs": [
    {
     "data": {
      "text/html": "<div>\n<style scoped>\n    .dataframe tbody tr th:only-of-type {\n        vertical-align: middle;\n    }\n\n    .dataframe tbody tr th {\n        vertical-align: top;\n    }\n\n    .dataframe thead th {\n        text-align: right;\n    }\n</style>\n<table border=\"1\" class=\"dataframe\">\n  <thead>\n    <tr style=\"text-align: right;\">\n      <th></th>\n      <th>audio</th>\n      <th>id</th>\n      <th>machine_id</th>\n      <th>split</th>\n      <th>label</th>\n    </tr>\n  </thead>\n  <tbody>\n    <tr>\n      <th>34</th>\n      <td>[82.65166, 87.10631, 89.10159, 83.11982, 72.39...</td>\n      <td>0620</td>\n      <td>06</td>\n      <td>0</td>\n      <td>0</td>\n    </tr>\n    <tr>\n      <th>108</th>\n      <td>[79.278786, 81.464966, 85.8879, 75.704956, 82....</td>\n      <td>0859</td>\n      <td>06</td>\n      <td>0</td>\n      <td>0</td>\n    </tr>\n    <tr>\n      <th>89</th>\n      <td>[163.02391, 166.22331, 152.43742, 162.5496, 16...</td>\n      <td>0235</td>\n      <td>06</td>\n      <td>0</td>\n      <td>0</td>\n    </tr>\n    <tr>\n      <th>2392</th>\n      <td>[80.64358, 92.7993, 80.08966, 86.35512, 89.903...</td>\n      <td>0474</td>\n      <td>06</td>\n      <td>0</td>\n      <td>0</td>\n    </tr>\n    <tr>\n      <th>3159</th>\n      <td>[154.89357, 118.82211, 130.7186, 121.424126, 1...</td>\n      <td>0061</td>\n      <td>00</td>\n      <td>1</td>\n      <td>1</td>\n    </tr>\n  </tbody>\n</table>\n</div>",
      "text/plain": "                                                  audio    id machine_id  \\\n34    [82.65166, 87.10631, 89.10159, 83.11982, 72.39...  0620         06   \n108   [79.278786, 81.464966, 85.8879, 75.704956, 82....  0859         06   \n89    [163.02391, 166.22331, 152.43742, 162.5496, 16...  0235         06   \n2392  [80.64358, 92.7993, 80.08966, 86.35512, 89.903...  0474         06   \n3159  [154.89357, 118.82211, 130.7186, 121.424126, 1...  0061         00   \n\n     split label  \n34       0     0  \n108      0     0  \n89       0     0  \n2392     0     0  \n3159     1     1  "
     },
     "execution_count": 16,
     "metadata": {},
     "output_type": "execute_result"
    }
   ],
   "source": [
    "audios_df = tfds.as_dataframe(audios, info)\n",
    "\n",
    "# Convert byte-type texts to string-type texts\n",
    "for col in audios_df:\n",
    "    if isinstance(audios_df[col][0], bytes):\n",
    "        audios_df[col] = audios_df[col].str.decode(\"utf8\")\n",
    "\n",
    "dct_columns = {\n",
    "    \"audio/id\": \"id\", \n",
    "    \"audio/machine\": \"machine_id\", \n",
    "    \"audio/split\": \"split\",\n",
    "}\n",
    "\n",
    "# Convert object-type columns to a more convenient data type\n",
    "dct_types = {\n",
    "    \"id\": \"string\",\n",
    "    \"machine_id\": \"category\",\n",
    "    \"split\": \"category\",\n",
    "    \"label\": \"category\",\n",
    "}\n",
    "\n",
    "audios_df = (\n",
    "    audios_df\n",
    "    .rename(columns=dct_columns)\n",
    "    .astype(dct_types)\n",
    ")\n",
    "\n",
    "audios_df.sample(5)"
   ]
  },
  {
   "cell_type": "code",
   "execution_count": 17,
   "metadata": {},
   "outputs": [],
   "source": [
    "audios_df[\"error\"] = error_lst"
   ]
  },
  {
   "cell_type": "code",
   "execution_count": 18,
   "metadata": {},
   "outputs": [
    {
     "data": {
      "text/html": "<div>\n<style scoped>\n    .dataframe tbody tr th:only-of-type {\n        vertical-align: middle;\n    }\n\n    .dataframe tbody tr th {\n        vertical-align: top;\n    }\n\n    .dataframe thead th {\n        text-align: right;\n    }\n</style>\n<table border=\"1\" class=\"dataframe\">\n  <thead>\n    <tr style=\"text-align: right;\">\n      <th></th>\n      <th>audio</th>\n      <th>id</th>\n      <th>machine_id</th>\n      <th>split</th>\n      <th>label</th>\n      <th>error</th>\n    </tr>\n  </thead>\n  <tbody>\n    <tr>\n      <th>2481</th>\n      <td>[142.84335, 119.777824, 110.095375, 114.74232,...</td>\n      <td>0639</td>\n      <td>00</td>\n      <td>0</td>\n      <td>0</td>\n      <td>10081.697266</td>\n    </tr>\n    <tr>\n      <th>2403</th>\n      <td>[124.90154, 124.564766, 127.15727, 111.01095, ...</td>\n      <td>0359</td>\n      <td>00</td>\n      <td>0</td>\n      <td>0</td>\n      <td>527.883545</td>\n    </tr>\n    <tr>\n      <th>426</th>\n      <td>[131.17766, 109.735695, 135.25594, 111.5642, 1...</td>\n      <td>0130</td>\n      <td>06</td>\n      <td>0</td>\n      <td>0</td>\n      <td>7002.477539</td>\n    </tr>\n    <tr>\n      <th>903</th>\n      <td>[149.08675, 150.34822, 145.53302, 149.88724, 1...</td>\n      <td>0530</td>\n      <td>02</td>\n      <td>0</td>\n      <td>0</td>\n      <td>2378.437012</td>\n    </tr>\n    <tr>\n      <th>2701</th>\n      <td>[129.34178, 126.731445, 114.71663, 94.28266, 9...</td>\n      <td>0542</td>\n      <td>06</td>\n      <td>0</td>\n      <td>0</td>\n      <td>11056.921875</td>\n    </tr>\n  </tbody>\n</table>\n</div>",
      "text/plain": "                                                  audio    id machine_id  \\\n2481  [142.84335, 119.777824, 110.095375, 114.74232,...  0639         00   \n2403  [124.90154, 124.564766, 127.15727, 111.01095, ...  0359         00   \n426   [131.17766, 109.735695, 135.25594, 111.5642, 1...  0130         06   \n903   [149.08675, 150.34822, 145.53302, 149.88724, 1...  0530         02   \n2701  [129.34178, 126.731445, 114.71663, 94.28266, 9...  0542         06   \n\n     split label         error  \n2481     0     0  10081.697266  \n2403     0     0    527.883545  \n426      0     0   7002.477539  \n903      0     0   2378.437012  \n2701     0     0  11056.921875  "
     },
     "execution_count": 18,
     "metadata": {},
     "output_type": "execute_result"
    }
   ],
   "source": [
    "audios_df.sample(5)"
   ]
  },
  {
   "cell_type": "code",
   "execution_count": 19,
   "metadata": {},
   "outputs": [
    {
     "data": {
      "text/html": "<div>\n<style scoped>\n    .dataframe tbody tr th:only-of-type {\n        vertical-align: middle;\n    }\n\n    .dataframe tbody tr th {\n        vertical-align: top;\n    }\n\n    .dataframe thead tr th {\n        text-align: left;\n    }\n\n    .dataframe thead tr:last-of-type th {\n        text-align: right;\n    }\n</style>\n<table border=\"1\" class=\"dataframe\">\n  <thead>\n    <tr>\n      <th></th>\n      <th colspan=\"2\" halign=\"left\">error</th>\n    </tr>\n    <tr>\n      <th></th>\n      <th>mean</th>\n      <th>std</th>\n    </tr>\n    <tr>\n      <th>machine_id</th>\n      <th></th>\n      <th></th>\n    </tr>\n  </thead>\n  <tbody>\n    <tr>\n      <th>00</th>\n      <td>6827.635807</td>\n      <td>5390.965319</td>\n    </tr>\n    <tr>\n      <th>02</th>\n      <td>7137.638278</td>\n      <td>6058.576393</td>\n    </tr>\n    <tr>\n      <th>04</th>\n      <td>6816.458829</td>\n      <td>5621.367352</td>\n    </tr>\n    <tr>\n      <th>06</th>\n      <td>7007.463559</td>\n      <td>5559.776154</td>\n    </tr>\n  </tbody>\n</table>\n</div>",
      "text/plain": "                  error             \n                   mean          std\nmachine_id                          \n00          6827.635807  5390.965319\n02          7137.638278  6058.576393\n04          6816.458829  5621.367352\n06          7007.463559  5559.776154"
     },
     "execution_count": 19,
     "metadata": {},
     "output_type": "execute_result"
    }
   ],
   "source": [
    "(\n",
    "    audios_df\n",
    "    .query(\"split == 0\")\n",
    "    .groupby(\"machine_id\")\n",
    "    .agg({\"error\": [\"mean\", \"std\"]})\n",
    ")"
   ]
  },
  {
   "cell_type": "code",
   "execution_count": 20,
   "metadata": {},
   "outputs": [
    {
     "data": {
      "text/html": "<div>\n<style scoped>\n    .dataframe tbody tr th:only-of-type {\n        vertical-align: middle;\n    }\n\n    .dataframe tbody tr th {\n        vertical-align: top;\n    }\n\n    .dataframe thead tr th {\n        text-align: left;\n    }\n\n    .dataframe thead tr:last-of-type th {\n        text-align: right;\n    }\n</style>\n<table border=\"1\" class=\"dataframe\">\n  <thead>\n    <tr>\n      <th></th>\n      <th></th>\n      <th colspan=\"2\" halign=\"left\">error</th>\n    </tr>\n    <tr>\n      <th></th>\n      <th></th>\n      <th>mean</th>\n      <th>std</th>\n    </tr>\n    <tr>\n      <th>label</th>\n      <th>machine_id</th>\n      <th></th>\n      <th></th>\n    </tr>\n  </thead>\n  <tbody>\n    <tr>\n      <th rowspan=\"4\" valign=\"top\">0</th>\n      <th>00</th>\n      <td>7863.843589</td>\n      <td>6790.610072</td>\n    </tr>\n    <tr>\n      <th>02</th>\n      <td>6217.026346</td>\n      <td>5094.969100</td>\n    </tr>\n    <tr>\n      <th>04</th>\n      <td>8046.304669</td>\n      <td>5815.120601</td>\n    </tr>\n    <tr>\n      <th>06</th>\n      <td>6421.869716</td>\n      <td>5070.037393</td>\n    </tr>\n    <tr>\n      <th rowspan=\"4\" valign=\"top\">1</th>\n      <th>00</th>\n      <td>6872.048815</td>\n      <td>5035.388590</td>\n    </tr>\n    <tr>\n      <th>02</th>\n      <td>7931.859856</td>\n      <td>6811.182849</td>\n    </tr>\n    <tr>\n      <th>04</th>\n      <td>7576.581340</td>\n      <td>5486.547814</td>\n    </tr>\n    <tr>\n      <th>06</th>\n      <td>5688.099276</td>\n      <td>4452.068343</td>\n    </tr>\n  </tbody>\n</table>\n</div>",
      "text/plain": "                        error             \n                         mean          std\nlabel machine_id                          \n0     00          7863.843589  6790.610072\n      02          6217.026346  5094.969100\n      04          8046.304669  5815.120601\n      06          6421.869716  5070.037393\n1     00          6872.048815  5035.388590\n      02          7931.859856  6811.182849\n      04          7576.581340  5486.547814\n      06          5688.099276  4452.068343"
     },
     "execution_count": 20,
     "metadata": {},
     "output_type": "execute_result"
    }
   ],
   "source": [
    "(\n",
    "    audios_df\n",
    "    .query(\"split == 1\")\n",
    "    .groupby([\"label\", \"machine_id\"])\n",
    "    .agg({\"error\": [\"mean\", \"std\"]})\n",
    ")"
   ]
  },
  {
   "cell_type": "markdown",
   "metadata": {},
   "source": [
    "It seems this model can't distinguish anomaly sound from normal sounds very well.\r\n",
    "\r\n",
    "Let's plot the a histogram of the construction error per machine to see more clear."
   ]
  },
  {
   "cell_type": "code",
   "execution_count": 21,
   "metadata": {},
   "outputs": [
    {
     "data": {
      "image/png": "[encoded data removed]",
      "text/plain": "<Figure size 640x480 with 4 Axes>"
     },
     "metadata": {},
     "output_type": "display_data"
    },
    {
     "name": "stdout",
     "output_type": "stream",
     "text": [
      "\n"
     ]
    }
   ],
   "source": [
    "p = (\n",
    "    p9.ggplot(audios_df.query(\"split == 1\"), p9.aes(x=\"error\", fill=\"label\"))\n",
    "    + p9.geom_histogram(\n",
    "        p9.aes(y=\"stat(count)\"), position=\"identity\", alpha=0.75\n",
    "    )\n",
    "    + p9.scale_x_continuous(name=\"Reconstruction error\")\n",
    "    + p9.scale_y_continuous(name=\"Count\")\n",
    "    + p9.labs(\n",
    "        title=\"Histogram of reconstruction error\",\n",
    "    )\n",
    "    + p9.scale_fill_brewer(type=\"qualitative\", palette=\"Accent\") \n",
    "    + p9.facet_grid(\"machine_id ~ .\", scales=\"free\")\n",
    "    + p9.theme_bw()\n",
    "    + p9.theme(\n",
    "        panel_border=p9.element_rect(colour=\"black\", fill=None, size=0.5),\n",
    "        axis_text_x=p9.element_text(colour=\"black\", size=9),\n",
    "        axis_text_y=p9.element_text(colour=\"black\", size=9),\n",
    "        legend_key=p9.element_blank(),\n",
    "        legend_title=p9.element_blank(),\n",
    "        panel_grid_major=p9.element_line(colour=\"#d3d3d3\"),\n",
    "        panel_grid_minor=p9.element_blank(),\n",
    "        panel_background=p9.element_blank(),\n",
    "        plot_title=p9.element_text(size=14, family=\"Tahoma\", face=\"bold\"),\n",
    "        text=p9.element_text(family=\"Tahoma\"),\n",
    "    )\n",
    ")\n",
    "\n",
    "print(p)"
   ]
  },
  {
   "cell_type": "markdown",
   "metadata": {},
   "source": [
    "Histograms show more clear that the model can't differentiate anomaly audios from normal audio very well."
   ]
  },
  {
   "cell_type": "markdown",
   "metadata": {},
   "source": [
    "This [AWS](https://aws.amazon.com/es/blogs/machine-learning/performing-anomaly-detection-on-industrial-equipment-using-audio-signals/) post shows how the histogram from a good model should look like.\r\n",
    "\r\n",
    "![Better model](https://d2908q01vomqb2.cloudfront.net/f1f836cb4ea6efb2a0b1b99f41ad8b103eff4b59/2020/12/22/ML-1479-4.jpg)"
   ]
  },
  {
   "cell_type": "markdown",
   "metadata": {},
   "source": [
    "## Metrics"
   ]
  },
  {
   "cell_type": "markdown",
   "metadata": {},
   "source": [
    "Let's see how bad our model is. To distinguish anomaly audios from normal audios, we set the threshold one standard deviation above the mean of the train set. "
   ]
  },
  {
   "cell_type": "code",
   "execution_count": 22,
   "metadata": {},
   "outputs": [],
   "source": [
    "avg = (\n",
    "    audios_df\n",
    "    .query(\"split == 0\")\n",
    "    [\"error\"]\n",
    "    .mean()\n",
    ")\n",
    "\n",
    "std = (\n",
    "    audios_df\n",
    "    .query(\"split == 0\")\n",
    "    [\"error\"]\n",
    "    .std()\n",
    ")\n",
    "\n",
    "threshold = avg + std"
   ]
  },
  {
   "cell_type": "code",
   "execution_count": 23,
   "metadata": {},
   "outputs": [
    {
     "name": "stdout",
     "output_type": "stream",
     "text": [
      "12622.784071925013\n"
     ]
    }
   ],
   "source": [
    "print(threshold)"
   ]
  },
  {
   "cell_type": "markdown",
   "metadata": {},
   "source": [
    "Let's create a new column with the predicted label based on the threshold."
   ]
  },
  {
   "cell_type": "code",
   "execution_count": 24,
   "metadata": {},
   "outputs": [
    {
     "data": {
      "text/html": "<div>\n<style scoped>\n    .dataframe tbody tr th:only-of-type {\n        vertical-align: middle;\n    }\n\n    .dataframe tbody tr th {\n        vertical-align: top;\n    }\n\n    .dataframe thead th {\n        text-align: right;\n    }\n</style>\n<table border=\"1\" class=\"dataframe\">\n  <thead>\n    <tr style=\"text-align: right;\">\n      <th></th>\n      <th>audio</th>\n      <th>id</th>\n      <th>machine_id</th>\n      <th>split</th>\n      <th>label</th>\n      <th>error</th>\n      <th>label_pred</th>\n    </tr>\n  </thead>\n  <tbody>\n    <tr>\n      <th>0</th>\n      <td>[103.06415, 107.74395, 100.87735, 99.36588, 10...</td>\n      <td>0784</td>\n      <td>06</td>\n      <td>0</td>\n      <td>0</td>\n      <td>5999.866699</td>\n      <td>0</td>\n    </tr>\n    <tr>\n      <th>1</th>\n      <td>[121.727745, 122.398575, 117.00896, 114.22704,...</td>\n      <td>0215</td>\n      <td>02</td>\n      <td>0</td>\n      <td>0</td>\n      <td>26397.511719</td>\n      <td>1</td>\n    </tr>\n    <tr>\n      <th>2</th>\n      <td>[105.83715, 95.27515, 101.53854, 102.32228, 96...</td>\n      <td>0918</td>\n      <td>06</td>\n      <td>0</td>\n      <td>0</td>\n      <td>6945.892090</td>\n      <td>0</td>\n    </tr>\n    <tr>\n      <th>3</th>\n      <td>[106.25704, 111.14007, 94.80665, 99.206795, 10...</td>\n      <td>0033</td>\n      <td>06</td>\n      <td>0</td>\n      <td>0</td>\n      <td>9580.779297</td>\n      <td>0</td>\n    </tr>\n    <tr>\n      <th>4</th>\n      <td>[115.84677, 108.69644, 101.92698, 124.113174, ...</td>\n      <td>0580</td>\n      <td>02</td>\n      <td>0</td>\n      <td>0</td>\n      <td>6252.775391</td>\n      <td>0</td>\n    </tr>\n  </tbody>\n</table>\n</div>",
      "text/plain": "                                               audio    id machine_id split  \\\n0  [103.06415, 107.74395, 100.87735, 99.36588, 10...  0784         06     0   \n1  [121.727745, 122.398575, 117.00896, 114.22704,...  0215         02     0   \n2  [105.83715, 95.27515, 101.53854, 102.32228, 96...  0918         06     0   \n3  [106.25704, 111.14007, 94.80665, 99.206795, 10...  0033         06     0   \n4  [115.84677, 108.69644, 101.92698, 124.113174, ...  0580         02     0   \n\n  label         error  label_pred  \n0     0   5999.866699           0  \n1     0  26397.511719           1  \n2     0   6945.892090           0  \n3     0   9580.779297           0  \n4     0   6252.775391           0  "
     },
     "execution_count": 24,
     "metadata": {},
     "output_type": "execute_result"
    }
   ],
   "source": [
    "audios_df[\"label_pred\"] = audios_df[\"error\"] > threshold\r\n",
    "\r\n",
    "audios_df = audios_df.astype({\"label_pred\": \"int\"})\r\n",
    "audios_df.head()"
   ]
  },
  {
   "cell_type": "markdown",
   "metadata": {},
   "source": [
    "Let's show the precision, recall, f1-score and roc-auc score for the four machines."
   ]
  },
  {
   "cell_type": "markdown",
   "metadata": {},
   "source": [
    "### Machine_id=00"
   ]
  },
  {
   "cell_type": "code",
   "execution_count": 25,
   "metadata": {},
   "outputs": [
    {
     "name": "stdout",
     "output_type": "stream",
     "text": [
      "              precision    recall  f1-score   support\n",
      "\n",
      "           0       0.40      0.86      0.54       100\n",
      "           1       0.46      0.08      0.14       143\n",
      "\n",
      "    accuracy                           0.40       243\n",
      "   macro avg       0.43      0.47      0.34       243\n",
      "weighted avg       0.43      0.40      0.31       243\n",
      "\n"
     ]
    }
   ],
   "source": [
    "machine_id = \"00\"\n",
    "temp = (\n",
    "    audios_df\n",
    "    .query(\"machine_id == @machine_id and split == 1\")\n",
    ")  \n",
    "print(classification_report(temp[\"label\"], temp[\"label_pred\"]))"
   ]
  },
  {
   "cell_type": "code",
   "execution_count": 26,
   "metadata": {},
   "outputs": [
    {
     "name": "stdout",
     "output_type": "stream",
     "text": [
      "[[ 86  14]\n",
      " [131  12]]\n"
     ]
    }
   ],
   "source": [
    "print(confusion_matrix(temp[\"label\"], temp[\"label_pred\"]))"
   ]
  },
  {
   "cell_type": "code",
   "execution_count": 27,
   "metadata": {},
   "outputs": [
    {
     "name": "stdout",
     "output_type": "stream",
     "text": [
      "ROC-AUC score: 0.4720\n"
     ]
    }
   ],
   "source": [
    "score = roc_auc_score(temp[\"label\"], temp[\"label_pred\"])\n",
    "print(f\"ROC-AUC score: {score:.4f}\")"
   ]
  },
  {
   "cell_type": "markdown",
   "metadata": {},
   "source": [
    "This model is so bad distinguishing sounds for this machine that tossing a coin can predict better. "
   ]
  },
  {
   "cell_type": "markdown",
   "metadata": {},
   "source": [
    "### Machine_id=02"
   ]
  },
  {
   "cell_type": "code",
   "execution_count": 28,
   "metadata": {},
   "outputs": [
    {
     "name": "stdout",
     "output_type": "stream",
     "text": [
      "              precision    recall  f1-score   support\n",
      "\n",
      "           0       0.49      0.93      0.65       100\n",
      "           1       0.70      0.14      0.24       111\n",
      "\n",
      "    accuracy                           0.52       211\n",
      "   macro avg       0.60      0.54      0.44       211\n",
      "weighted avg       0.60      0.52      0.43       211\n",
      "\n"
     ]
    }
   ],
   "source": [
    "machine_id = \"02\"\n",
    "temp = (\n",
    "    audios_df\n",
    "    .query(\"machine_id == @machine_id and split == 1\")\n",
    ")  \n",
    "print(classification_report(temp[\"label\"], temp[\"label_pred\"]))"
   ]
  },
  {
   "cell_type": "code",
   "execution_count": 29,
   "metadata": {},
   "outputs": [
    {
     "name": "stdout",
     "output_type": "stream",
     "text": [
      "[[93  7]\n",
      " [95 16]]\n"
     ]
    }
   ],
   "source": [
    "print(confusion_matrix(temp[\"label\"], temp[\"label_pred\"]))"
   ]
  },
  {
   "cell_type": "code",
   "execution_count": 30,
   "metadata": {},
   "outputs": [
    {
     "name": "stdout",
     "output_type": "stream",
     "text": [
      "ROC-AUC score: 0.5371\n"
     ]
    }
   ],
   "source": [
    "score = roc_auc_score(temp[\"label\"], temp[\"label_pred\"])\n",
    "print(f\"ROC-AUC score: {score:.4f}\")"
   ]
  },
  {
   "cell_type": "markdown",
   "metadata": {},
   "source": [
    "This model is slightly better distinguishing sounds for this machine that tossing a coin. "
   ]
  },
  {
   "cell_type": "markdown",
   "metadata": {},
   "source": [
    "### Machine_id=04"
   ]
  },
  {
   "cell_type": "code",
   "execution_count": 31,
   "metadata": {},
   "outputs": [
    {
     "name": "stdout",
     "output_type": "stream",
     "text": [
      "              precision    recall  f1-score   support\n",
      "\n",
      "           0       0.50      0.83      0.62       100\n",
      "           1       0.48      0.16      0.24       100\n",
      "\n",
      "    accuracy                           0.49       200\n",
      "   macro avg       0.49      0.49      0.43       200\n",
      "weighted avg       0.49      0.49      0.43       200\n",
      "\n"
     ]
    }
   ],
   "source": [
    "machine_id = \"04\"\n",
    "temp = (\n",
    "    audios_df\n",
    "    .query(\"machine_id == @machine_id and split == 1\")\n",
    ")  \n",
    "print(classification_report(temp[\"label\"], temp[\"label_pred\"]))"
   ]
  },
  {
   "cell_type": "code",
   "execution_count": 32,
   "metadata": {},
   "outputs": [
    {
     "name": "stdout",
     "output_type": "stream",
     "text": [
      "[[83 17]\n",
      " [84 16]]\n"
     ]
    }
   ],
   "source": [
    "print(confusion_matrix(temp[\"label\"], temp[\"label_pred\"]))"
   ]
  },
  {
   "cell_type": "code",
   "execution_count": 33,
   "metadata": {},
   "outputs": [
    {
     "name": "stdout",
     "output_type": "stream",
     "text": [
      "ROC-AUC score: 0.4950\n"
     ]
    }
   ],
   "source": [
    "score = roc_auc_score(temp[\"label\"], temp[\"label_pred\"])\n",
    "print(f\"ROC-AUC score: {score:.4f}\")"
   ]
  },
  {
   "cell_type": "markdown",
   "metadata": {},
   "source": [
    "This model is so bad distinguishing sounds for this machine that tossing a coin can predict better. "
   ]
  },
  {
   "cell_type": "markdown",
   "metadata": {},
   "source": [
    "### Machine_id=06"
   ]
  },
  {
   "cell_type": "code",
   "execution_count": 34,
   "metadata": {},
   "outputs": [
    {
     "name": "stdout",
     "output_type": "stream",
     "text": [
      "              precision    recall  f1-score   support\n",
      "\n",
      "           0       0.48      0.87      0.62       100\n",
      "           1       0.38      0.08      0.13       102\n",
      "\n",
      "    accuracy                           0.47       202\n",
      "   macro avg       0.43      0.47      0.37       202\n",
      "weighted avg       0.43      0.47      0.37       202\n",
      "\n"
     ]
    }
   ],
   "source": [
    "machine_id = \"06\"\n",
    "temp = (\n",
    "    audios_df\n",
    "    .query(\"machine_id == @machine_id and split == 1\")\n",
    ")  \n",
    "print(classification_report(temp[\"label\"], temp[\"label_pred\"]))"
   ]
  },
  {
   "cell_type": "code",
   "execution_count": 35,
   "metadata": {},
   "outputs": [
    {
     "name": "stdout",
     "output_type": "stream",
     "text": [
      "[[87 13]\n",
      " [94  8]]\n"
     ]
    }
   ],
   "source": [
    "print(confusion_matrix(temp[\"label\"], temp[\"label_pred\"]))"
   ]
  },
  {
   "cell_type": "code",
   "execution_count": 36,
   "metadata": {},
   "outputs": [
    {
     "name": "stdout",
     "output_type": "stream",
     "text": [
      "ROC-AUC score: 0.4742\n"
     ]
    }
   ],
   "source": [
    "score = roc_auc_score(temp[\"label\"], temp[\"label_pred\"])\n",
    "print(f\"ROC-AUC score: {score:.4f}\")"
   ]
  },
  {
   "cell_type": "markdown",
   "metadata": {},
   "source": [
    "This model is so bad distinguishing sounds for this machine that tossing a coin can predict better. "
   ]
  },
  {
   "cell_type": "markdown",
   "metadata": {},
   "source": [
    "## Conclusions"
   ]
  },
  {
   "cell_type": "markdown",
   "metadata": {},
   "source": [
    "This model doesn't help to distinguish anomaly sounds from normal audios. "
   ]
  }
 ],
 "metadata": {
  "interpreter": {
   "hash": "57fde4dc6cdb19e1d76ed7331772e4cf7a15b1a70b768f05e2959c60594bd89b"
  },
  "kernelspec": {
   "display_name": "Python 3.7.10 64-bit ('tfm': conda)",
   "name": "python3"
  },
  "language_info": {
   "name": "python",
   "version": ""
  },
  "metadata": {
   "interpreter": {
    "hash": "57fde4dc6cdb19e1d76ed7331772e4cf7a15b1a70b768f05e2959c60594bd89b"
   }
  }
 },
 "nbformat": 4,
 "nbformat_minor": 2
}