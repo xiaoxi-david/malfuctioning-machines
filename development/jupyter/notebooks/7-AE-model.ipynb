{
 "cells": [
  {
   "cell_type": "code",
   "execution_count": null,
   "metadata": {},
   "outputs": [],
   "source": [
    "import tensorflow_datasets as tfds\r\n",
    "import tensorflow as tf\r\n",
    "\r\n",
    "from tensorflow.keras.layers import (\r\n",
    "    Input,\r\n",
    "    Dense,\r\n",
    ")\r\n",
    "from tensorflow.keras.models import Model\r\n",
    "\r\n",
    "import numpy as np\r\n",
    "import pandas as pd\r\n",
    "import matplotlib\r\n",
    "import matplotlib.pyplot as plt\r\n",
    "\r\n",
    "import warnings\r\n",
    "warnings.filterwarnings('ignore')"
   ]
  },
  {
   "cell_type": "code",
   "execution_count": null,
   "metadata": {},
   "outputs": [],
   "source": [
    "print(f\"Tensorflow datasets: {tfds.__version__}\")\r\n",
    "print(f\"Tensorflow: {tf.__version__}\")\r\n",
    "print(f\"Numpy: {np.__version__}\")\r\n",
    "print(f\"Pandas: {pd.__version__}\")\r\n",
    "print(f\"Matplotlib: {matplotlib.__version__}\")"
   ]
  },
  {
   "cell_type": "code",
   "execution_count": null,
   "metadata": {},
   "outputs": [],
   "source": [
    "import pump\r\n",
    "data_dir = \"../dataset\"\r\n",
    "\r\n",
    "(train, test), info = tfds.load('pump', split=[\"train\", \"test\"], data_dir=data_dir, with_info=True)"
   ]
  },
  {
   "cell_type": "code",
   "execution_count": null,
   "metadata": {},
   "outputs": [],
   "source": [
    "def spectral_centroid(item):\r\n",
    "    audio = tf.cast(item[\"audio\"], dtype = tf.float32)\r\n",
    "    audio = audio / 2**15\r\n",
    "    audio = tf.signal.stft(audio, frame_length=1024, frame_step=512)\r\n",
    "    audio = tf.abs(audio)\r\n",
    "    freqs = tf.constant(np.arange(0,513), dtype=audio.dtype)\r\n",
    "    audio = tf.reduce_sum(audio * freqs, axis=1) / tf.reduce_sum(audio, axis=1)\r\n",
    "    return audio, audio"
   ]
  },
  {
   "cell_type": "code",
   "execution_count": null,
   "metadata": {},
   "outputs": [],
   "source": [
    "def spectral_centroid_test(item):\r\n",
    "    audio = tf.cast(item[\"audio\"], dtype = tf.float32)\r\n",
    "    audio = audio / 2**15\r\n",
    "    audio = tf.signal.stft(audio, frame_length=1024, frame_step=512)\r\n",
    "    audio = tf.abs(audio)\r\n",
    "    freqs = tf.constant(np.arange(0,513), dtype=audio.dtype)\r\n",
    "    item[\"audio\"] = tf.reduce_sum(audio * freqs, axis=1) / tf.reduce_sum(audio, axis=1)\r\n",
    "    return item"
   ]
  },
  {
   "cell_type": "code",
   "execution_count": null,
   "metadata": {},
   "outputs": [],
   "source": [
    "BATCH_SIZE = 128\r\n",
    "SHUFFLE_BUFFER_SIZE = 32\r\n",
    "\r\n",
    "audio_train = train.map(spectral_centroid).batch(BATCH_SIZE)\r\n",
    "label_train = train.map(lambda item: item[\"label\"])\r\n",
    "\r\n",
    "normal_test = test.filter(lambda item: item[\"label\"]==0).map(spectral_centroid_test).batch(BATCH_SIZE)\r\n",
    "anomaly_test = test.filter(lambda item: item[\"label\"]==1).map(spectral_centroid_test).batch(BATCH_SIZE)"
   ]
  },
  {
   "cell_type": "code",
   "execution_count": null,
   "metadata": {},
   "outputs": [],
   "source": [
    "class AnomalyDetector(Model):\r\n",
    "    def __init__(self):\r\n",
    "        super(AnomalyDetector, self).__init__()\r\n",
    "        self.encoder = tf.keras.Sequential(\r\n",
    "            [\r\n",
    "                Input(shape=311),\r\n",
    "                Dense(units=128, activation='relu'),\r\n",
    "                Dense(units=64, activation='relu'),\r\n",
    "                Dense(units=16, activation=\"relu\"),\r\n",
    "            ]\r\n",
    "        )\r\n",
    "        self.decoder = tf.keras.Sequential(\r\n",
    "            [\r\n",
    "                Dense(units=64, activation='relu'),\r\n",
    "                Dense(units=128, activation='relu'),\r\n",
    "                Dense(311),\r\n",
    "            ]\r\n",
    "        )\r\n",
    "\r\n",
    "    def call(self, x):\r\n",
    "        encoded = self.encoder(x)\r\n",
    "        decoded = self.decoder(encoded)\r\n",
    "        return decoded\r\n",
    "\r\n",
    "\r\n",
    "autoencoder = AnomalyDetector()"
   ]
  },
  {
   "cell_type": "code",
   "execution_count": null,
   "metadata": {},
   "outputs": [],
   "source": [
    "autoencoder.compile(optimizer='adam', loss='mean_squared_error')"
   ]
  },
  {
   "cell_type": "code",
   "execution_count": null,
   "metadata": {},
   "outputs": [],
   "source": [
    "history = autoencoder.fit(audio_train,\r\n",
    "                epochs=10,\r\n",
    "                shuffle=True)"
   ]
  },
  {
   "cell_type": "code",
   "execution_count": null,
   "metadata": {},
   "outputs": [],
   "source": [
    "autoencoder.summary()"
   ]
  },
  {
   "cell_type": "code",
   "execution_count": null,
   "metadata": {},
   "outputs": [],
   "source": [
    "reconstruction = autoencoder.predict(audio_train)\r\n",
    "train2 = np.stack(audio_train.unbatch().map(lambda x, _: x), axis=1).T\r\n",
    "\r\n",
    "train_loss = tf.keras.losses.mae(train2, reconstruction)\r\n",
    "\r\n",
    "plt.hist(train_loss, bins=20)\r\n",
    "plt.xlabel(\"Train loss\")\r\n",
    "plt.ylabel(\"No of examples\")\r\n",
    "plt.show()"
   ]
  },
  {
   "cell_type": "code",
   "execution_count": null,
   "metadata": {},
   "outputs": [],
   "source": [
    "df = pd.DataFrame({\"error\": train_loss.numpy()})\r\n",
    "df.describe()"
   ]
  },
  {
   "cell_type": "code",
   "execution_count": null,
   "metadata": {},
   "outputs": [],
   "source": [
    "threshold = np.mean(train_loss) + np.std(train_loss)\r\n",
    "print(threshold)"
   ]
  },
  {
   "cell_type": "code",
   "execution_count": null,
   "metadata": {},
   "outputs": [],
   "source": [
    "reconstruction = autoencoder.predict(normal_test.map(lambda item: item[\"audio\"]))\r\n",
    "test2 = np.stack(normal_test.unbatch().map(lambda item: item[\"audio\"]), axis=1).T\r\n",
    "\r\n",
    "test_loss = tf.keras.losses.mae(test2, reconstruction)\r\n",
    "\r\n",
    "plt.hist(test_loss, bins=10)\r\n",
    "plt.xlabel(\"Test loss\")\r\n",
    "plt.ylabel(\"No of examples\")\r\n",
    "plt.show()"
   ]
  },
  {
   "cell_type": "code",
   "execution_count": null,
   "metadata": {},
   "outputs": [],
   "source": [
    "df = pd.DataFrame({\"error\": test_loss.numpy()})\r\n",
    "df.describe()"
   ]
  },
  {
   "cell_type": "code",
   "execution_count": null,
   "metadata": {},
   "outputs": [],
   "source": [
    "reconstruction = autoencoder.predict(anomaly_test.map(lambda item: item[\"audio\"]))\r\n",
    "test2 = np.stack(anomaly_test.unbatch().map(lambda item: item[\"audio\"]), axis=1).T\r\n",
    "\r\n",
    "test_loss = tf.keras.losses.mae(test2, reconstruction)\r\n",
    "\r\n",
    "plt.hist(test_loss, bins=10)\r\n",
    "plt.xlabel(\"Test loss\")\r\n",
    "plt.ylabel(\"No of examples\")\r\n",
    "plt.show()"
   ]
  },
  {
   "cell_type": "code",
   "execution_count": null,
   "metadata": {},
   "outputs": [],
   "source": [
    "df = pd.DataFrame({\"error\": test_loss.numpy()})\r\n",
    "df.describe()"
   ]
  }
 ],
 "metadata": {
  "kernelspec": {
   "display_name": "Python 3.7.10 64-bit ('tfm': conda)",
   "name": "python3710jvsc74a57bd057fde4dc6cdb19e1d76ed7331772e4cf7a15b1a70b768f05e2959c60594bd89b"
  },
  "language_info": {
   "codemirror_mode": {
    "name": "ipython",
    "version": 3
   },
   "file_extension": ".py",
   "mimetype": "text/x-python",
   "name": "python",
   "nbconvert_exporter": "python",
   "pygments_lexer": "ipython3",
   "version": "3.7.10"
  },
  "metadata": {
   "interpreter": {
    "hash": "57fde4dc6cdb19e1d76ed7331772e4cf7a15b1a70b768f05e2959c60594bd89b"
   }
  }
 },
 "nbformat": 4,
 "nbformat_minor": 2
}