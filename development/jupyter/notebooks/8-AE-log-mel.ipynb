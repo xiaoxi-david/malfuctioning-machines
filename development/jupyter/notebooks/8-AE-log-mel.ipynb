{
 "cells": [
  {
   "cell_type": "markdown",
   "metadata": {},
   "source": [
    "# Semi-supervised anomaly detection: log mel-spectrogram - model 1"
   ]
  },
  {
   "cell_type": "markdown",
   "metadata": {},
   "source": [
    "This notebook will show how to implement in Tensorflow the AE model used as baseline for [DCASE 2020](http://dcase.community/challenge2020/task-unsupervised-detection-of-anomalous-sounds)"
   ]
  },
  {
   "cell_type": "markdown",
   "metadata": {},
   "source": [
    "## Libraries"
   ]
  },
  {
   "cell_type": "markdown",
   "metadata": {},
   "source": [
    "Let's load the libraries for this notebook.\n",
    "- **Tensorflow dataset** to load the dataset\n",
    "- **Tensorflow** to create an AE model\n",
    "- **Pandas** to manipulate results\n",
    "- **Sklearn** to compute metrics\n",
    "- **Plotnine** to plot results"
   ]
  },
  {
   "cell_type": "code",
   "execution_count": 1,
   "metadata": {},
   "outputs": [],
   "source": [
    "import tensorflow_datasets as tfds\n",
    "import tensorflow as tf\n",
    "\n",
    "from tensorflow.keras.layers import (\n",
    "    InputLayer,\n",
    "    Dense,\n",
    "    BatchNormalization,\n",
    "    Activation,\n",
    ")\n",
    "\n",
    "from tensorflow.keras import Sequential\n",
    "from tensorflow.keras.optimizers import Adam\n",
    "from tensorflow.keras.losses import MeanSquaredError\n",
    "\n",
    "import numpy as np\n",
    "import pandas as pd\n",
    "\n",
    "import sklearn\n",
    "from sklearn.metrics import (\n",
    "    confusion_matrix, \n",
    "    classification_report,\n",
    "    roc_auc_score\n",
    ")\n",
    "\n",
    "import plotnine as p9\n",
    "\n",
    "import datetime\n",
    "\n",
    "import os\n",
    "\n",
    "import warnings\n",
    "warnings.filterwarnings('ignore')"
   ]
  },
  {
   "cell_type": "code",
   "execution_count": 2,
   "metadata": {},
   "outputs": [
    {
     "name": "stdout",
     "output_type": "stream",
     "text": [
      "Tensorflow datasets: 4.2.0\n",
      "Tensorflow: 2.4.1\n",
      "Sklearn: 0.24.2\n",
      "Numpy: 1.19.5\n",
      "Pandas: 1.2.4\n",
      "Plotnine: 0.8.0\n"
     ]
    }
   ],
   "source": [
    "print(f\"Tensorflow datasets: {tfds.__version__}\")\n",
    "print(f\"Tensorflow: {tf.__version__}\")\n",
    "print(f\"Sklearn: {sklearn.__version__}\")\n",
    "print(f\"Numpy: {np.__version__}\")\n",
    "print(f\"Pandas: {pd.__version__}\")\n",
    "print(f\"Plotnine: {p9.__version__}\")"
   ]
  },
  {
   "cell_type": "markdown",
   "metadata": {},
   "source": [
    "Let's set the seed for the Tensorflow dataset."
   ]
  },
  {
   "cell_type": "code",
   "execution_count": 3,
   "metadata": {},
   "outputs": [],
   "source": [
    "config = tfds.ReadConfig(try_autocache=True, shuffle_seed=42)"
   ]
  },
  {
   "cell_type": "markdown",
   "metadata": {},
   "source": [
    "## Dataset"
   ]
  },
  {
   "cell_type": "markdown",
   "metadata": {},
   "source": [
    "Let's load the dataset and create three sets (train, validation, test). We make the train set (90%) and validation set (10%) from the train data and the test set from the test data. "
   ]
  },
  {
   "cell_type": "code",
   "execution_count": 4,
   "metadata": {},
   "outputs": [],
   "source": [
    "import pump\n",
    "data_dir = \"../dataset\"\n",
    "\n",
    "(train, val, test), info = tfds.load(\n",
    "    \"pump\",\n",
    "    split=[\"train[:90%]\", \"train[90%:]\", \"test\"],\n",
    "    data_dir=data_dir,\n",
    "    with_info=True,\n",
    "    shuffle_files=True,\n",
    "    read_config=config,\n",
    ")"
   ]
  },
  {
   "cell_type": "markdown",
   "metadata": {},
   "source": [
    "## Feature extraction"
   ]
  },
  {
   "cell_type": "markdown",
   "metadata": {},
   "source": [
    "We will use 128 log mel-band energies from a spectrogram with an analysis frame of 64 ms and 50% hop size. "
   ]
  },
  {
   "cell_type": "code",
   "execution_count": 5,
   "metadata": {},
   "outputs": [],
   "source": [
    "A = tf.signal.linear_to_mel_weight_matrix(\n",
    "    num_mel_bins=128, num_spectrogram_bins=512+1, sample_rate=16_000, dtype=tf.float32\n",
    ")"
   ]
  },
  {
   "cell_type": "code",
   "execution_count": 6,
   "metadata": {},
   "outputs": [],
   "source": [
    "def mel(item):\n",
    "    audio = tf.cast(item[\"audio\"], tf.float32)\n",
    "    audio = audio / 2**15\n",
    "\n",
    "    # Calculate the STFT of the audio signal\n",
    "    stfts = tf.signal.stft(\n",
    "            audio,\n",
    "            frame_length=1024,\n",
    "            frame_step=512,\n",
    "            pad_end=False,  # librosa test compatibility\n",
    "        )\n",
    "    # Get Magnitude fo the STFT\n",
    "    mag_stfts = tf.abs(stfts)\n",
    "\n",
    "    # Get the mel-spectrogram\n",
    "    melgrams = tf.tensordot(\n",
    "            tf.square(mag_stfts), A, axes=1\n",
    "    )\n",
    "\n",
    "    # Change of base for logarithmics: from natural logarithmic to common logarithmic \n",
    "    def _tf_log10(x):\n",
    "        numerator = tf.math.log(x)\n",
    "        denominator = tf.math.log(tf.constant(10, dtype=numerator.dtype))\n",
    "        return numerator / denominator\n",
    "\n",
    "    # Calculate the log-mel spectrogram    \n",
    "    log_melgrams = 20 / 2 * _tf_log10(melgrams + 10e-6)\n",
    "\n",
    "    # Concat 5 time frames together to feed the model\n",
    "    concat_melgrams = tf.concat(\n",
    "        [\n",
    "            tf.roll(log_melgrams, shift=1, axis=0),\n",
    "            tf.roll(log_melgrams, shift=2, axis=0),\n",
    "            log_melgrams,\n",
    "            tf.roll(log_melgrams, shift=-1, axis=0),\n",
    "            tf.roll(log_melgrams, shift=-2, axis=0)\n",
    "        ],\n",
    "        axis=1,\n",
    "    )\n",
    "    concat_melgrams = concat_melgrams[2:-2,:]\n",
    "\n",
    "    item[\"audio\"] = concat_melgrams\n",
    "    return item"
   ]
  },
  {
   "cell_type": "markdown",
   "metadata": {},
   "source": [
    "Let's prepare the sets for training. AE models need that the input and the output be the same."
   ]
  },
  {
   "cell_type": "code",
   "execution_count": 7,
   "metadata": {},
   "outputs": [],
   "source": [
    "def prep_train(item):\n",
    "    return item[\"audio\"], item[\"audio\"]"
   ]
  },
  {
   "cell_type": "code",
   "execution_count": 8,
   "metadata": {},
   "outputs": [],
   "source": [
    "BATCH_SIZE = 512\n",
    "SHUFFLE_BUFFER_SIZE = 1024\n",
    "\n",
    "train = train.map(mel)\n",
    "train2 = train.map(prep_train).batch(BATCH_SIZE)\n",
    "\n",
    "val = train.map(mel)\n",
    "val2 = train.map(prep_train).batch(BATCH_SIZE)\n",
    "\n",
    "test = test.map(mel)\n",
    "test2 = test.batch(BATCH_SIZE)"
   ]
  },
  {
   "cell_type": "markdown",
   "metadata": {},
   "source": [
    "## Training"
   ]
  },
  {
   "cell_type": "markdown",
   "metadata": {},
   "source": [
    "This is the same AE model described used as baseline."
   ]
  },
  {
   "cell_type": "code",
   "execution_count": 9,
   "metadata": {},
   "outputs": [],
   "source": [
    "autoencoder = Sequential(\n",
    "    [\n",
    "        InputLayer(input_shape=(307, 640)),\n",
    "        Dense(128),\n",
    "        BatchNormalization(),\n",
    "        Activation('relu'),\n",
    "        Dense(128),\n",
    "        BatchNormalization(),\n",
    "        Activation('relu'),\n",
    "        Dense(128),\n",
    "        BatchNormalization(),\n",
    "        Activation('relu'),\n",
    "        Dense(128),\n",
    "        BatchNormalization(),\n",
    "        Activation('relu'),\n",
    "        Dense(8),\n",
    "        BatchNormalization(),\n",
    "        Activation('relu'),\n",
    "        Dense(128),\n",
    "        BatchNormalization(),\n",
    "        Activation('relu'),\n",
    "        Dense(128),\n",
    "        BatchNormalization(),\n",
    "        Activation('relu'),\n",
    "        Dense(128),\n",
    "        BatchNormalization(),\n",
    "        Activation('relu'),\n",
    "        Dense(128),\n",
    "        BatchNormalization(),\n",
    "        Activation('relu'),\n",
    "        Dense(640)\n",
    "    ]\n",
    ")"
   ]
  },
  {
   "cell_type": "code",
   "execution_count": 10,
   "metadata": {},
   "outputs": [
    {
     "name": "stdout",
     "output_type": "stream",
     "text": [
      "Model: \"sequential\"\n",
      "_________________________________________________________________\n",
      "Layer (type)                 Output Shape              Param #   \n",
      "=================================================================\n",
      "dense (Dense)                (None, 307, 128)          82048     \n",
      "_________________________________________________________________\n",
      "batch_normalization (BatchNo (None, 307, 128)          512       \n",
      "_________________________________________________________________\n",
      "activation (Activation)      (None, 307, 128)          0         \n",
      "_________________________________________________________________\n",
      "dense_1 (Dense)              (None, 307, 128)          16512     \n",
      "_________________________________________________________________\n",
      "batch_normalization_1 (Batch (None, 307, 128)          512       \n",
      "_________________________________________________________________\n",
      "activation_1 (Activation)    (None, 307, 128)          0         \n",
      "_________________________________________________________________\n",
      "dense_2 (Dense)              (None, 307, 128)          16512     \n",
      "_________________________________________________________________\n",
      "batch_normalization_2 (Batch (None, 307, 128)          512       \n",
      "_________________________________________________________________\n",
      "activation_2 (Activation)    (None, 307, 128)          0         \n",
      "_________________________________________________________________\n",
      "dense_3 (Dense)              (None, 307, 128)          16512     \n",
      "_________________________________________________________________\n",
      "batch_normalization_3 (Batch (None, 307, 128)          512       \n",
      "_________________________________________________________________\n",
      "activation_3 (Activation)    (None, 307, 128)          0         \n",
      "_________________________________________________________________\n",
      "dense_4 (Dense)              (None, 307, 8)            1032      \n",
      "_________________________________________________________________\n",
      "batch_normalization_4 (Batch (None, 307, 8)            32        \n",
      "_________________________________________________________________\n",
      "activation_4 (Activation)    (None, 307, 8)            0         \n",
      "_________________________________________________________________\n",
      "dense_5 (Dense)              (None, 307, 128)          1152      \n",
      "_________________________________________________________________\n",
      "batch_normalization_5 (Batch (None, 307, 128)          512       \n",
      "_________________________________________________________________\n",
      "activation_5 (Activation)    (None, 307, 128)          0         \n",
      "_________________________________________________________________\n",
      "dense_6 (Dense)              (None, 307, 128)          16512     \n",
      "_________________________________________________________________\n",
      "batch_normalization_6 (Batch (None, 307, 128)          512       \n",
      "_________________________________________________________________\n",
      "activation_6 (Activation)    (None, 307, 128)          0         \n",
      "_________________________________________________________________\n",
      "dense_7 (Dense)              (None, 307, 128)          16512     \n",
      "_________________________________________________________________\n",
      "batch_normalization_7 (Batch (None, 307, 128)          512       \n",
      "_________________________________________________________________\n",
      "activation_7 (Activation)    (None, 307, 128)          0         \n",
      "_________________________________________________________________\n",
      "dense_8 (Dense)              (None, 307, 128)          16512     \n",
      "_________________________________________________________________\n",
      "batch_normalization_8 (Batch (None, 307, 128)          512       \n",
      "_________________________________________________________________\n",
      "activation_8 (Activation)    (None, 307, 128)          0         \n",
      "_________________________________________________________________\n",
      "dense_9 (Dense)              (None, 307, 640)          82560     \n",
      "=================================================================\n",
      "Total params: 269,992\n",
      "Trainable params: 267,928\n",
      "Non-trainable params: 2,064\n",
      "_________________________________________________________________\n"
     ]
    }
   ],
   "source": [
    "autoencoder.summary()"
   ]
  },
  {
   "cell_type": "markdown",
   "metadata": {},
   "source": [
    "We use same parameters as the paper."
   ]
  },
  {
   "cell_type": "code",
   "execution_count": 11,
   "metadata": {},
   "outputs": [],
   "source": [
    "autoencoder.compile(optimizer=Adam(learning_rate=0.001), loss=MeanSquaredError())"
   ]
  },
  {
   "cell_type": "markdown",
   "metadata": {},
   "source": [
    "Let's create a Tensorboard callback to check the results in Tensorboard and a ModelCheckpoint callback to save the best model."
   ]
  },
  {
   "cell_type": "code",
   "execution_count": 12,
   "metadata": {},
   "outputs": [],
   "source": [
    "log_dir = os.path.join('..', 'logs', 'semi-mel', datetime.datetime.now().strftime('%Y%m%d-%H%M%S'))\n",
    "tb_callback = tf.keras.callbacks.TensorBoard(\n",
    "    log_dir, update_freq=1, histogram_freq=1, write_graph=True\n",
    ")"
   ]
  },
  {
   "cell_type": "code",
   "execution_count": 13,
   "metadata": {},
   "outputs": [],
   "source": [
    "checkpoint_filepath = os.path.join(\"tmp\", \"semi-mel\", \"checkpoint\")\n",
    "model_checkpoint_callback = tf.keras.callbacks.ModelCheckpoint(\n",
    "    filepath=checkpoint_filepath,\n",
    "    save_weights_only=True,\n",
    "    monitor='val_loss',\n",
    "    mode='min',\n",
    "    save_best_only=True)"
   ]
  },
  {
   "cell_type": "code",
   "execution_count": 14,
   "metadata": {
    "scrolled": false
   },
   "outputs": [
    {
     "name": "stdout",
     "output_type": "stream",
     "text": [
      "Epoch 1/100\n",
      "6/6 [==============================] - 71s 12s/step - loss: 222.1035 - val_loss: 221.2142\n",
      "Epoch 2/100\n",
      "6/6 [==============================] - 68s 12s/step - loss: 213.8695 - val_loss: 214.2472\n",
      "Epoch 3/100\n",
      "6/6 [==============================] - 68s 12s/step - loss: 202.8994 - val_loss: 191.2484\n",
      "Epoch 4/100\n",
      "6/6 [==============================] - 68s 12s/step - loss: 191.1925 - val_loss: 166.1971\n",
      "Epoch 5/100\n",
      "6/6 [==============================] - 67s 12s/step - loss: 179.9613 - val_loss: 139.8357\n",
      "Epoch 6/100\n",
      "6/6 [==============================] - 67s 12s/step - loss: 167.8799 - val_loss: 124.0937\n",
      "Epoch 7/100\n",
      "6/6 [==============================] - 65s 11s/step - loss: 158.7889 - val_loss: 107.5820\n",
      "Epoch 8/100\n",
      "6/6 [==============================] - 66s 11s/step - loss: 148.2392 - val_loss: 95.0089\n",
      "Epoch 9/100\n",
      "6/6 [==============================] - 65s 11s/step - loss: 136.8130 - val_loss: 102.2799\n",
      "Epoch 10/100\n",
      "6/6 [==============================] - 66s 11s/step - loss: 127.6617 - val_loss: 107.9968\n",
      "Epoch 11/100\n",
      "6/6 [==============================] - 66s 11s/step - loss: 118.5323 - val_loss: 96.4742\n",
      "Epoch 12/100\n",
      "6/6 [==============================] - 66s 11s/step - loss: 110.1323 - val_loss: 93.3543\n",
      "Epoch 13/100\n",
      "6/6 [==============================] - 66s 11s/step - loss: 101.3055 - val_loss: 82.2488\n",
      "Epoch 14/100\n",
      "6/6 [==============================] - 66s 11s/step - loss: 93.1751 - val_loss: 90.1386\n",
      "Epoch 15/100\n",
      "6/6 [==============================] - 66s 11s/step - loss: 85.4615 - val_loss: 81.1834\n",
      "Epoch 16/100\n",
      "6/6 [==============================] - 66s 11s/step - loss: 78.5437 - val_loss: 82.3579\n",
      "Epoch 17/100\n",
      "6/6 [==============================] - 66s 12s/step - loss: 72.6503 - val_loss: 72.8478\n",
      "Epoch 18/100\n",
      "6/6 [==============================] - 66s 11s/step - loss: 66.6024 - val_loss: 65.1802\n",
      "Epoch 19/100\n",
      "6/6 [==============================] - 68s 12s/step - loss: 60.8543 - val_loss: 61.2912\n",
      "Epoch 20/100\n",
      "6/6 [==============================] - 67s 12s/step - loss: 56.0160 - val_loss: 54.8585\n",
      "Epoch 21/100\n",
      "6/6 [==============================] - 68s 12s/step - loss: 51.8923 - val_loss: 53.7966\n",
      "Epoch 22/100\n",
      "6/6 [==============================] - 68s 12s/step - loss: 47.6421 - val_loss: 46.5541\n",
      "Epoch 23/100\n",
      "6/6 [==============================] - 68s 12s/step - loss: 43.8203 - val_loss: 45.3750\n",
      "Epoch 24/100\n",
      "6/6 [==============================] - 67s 12s/step - loss: 40.4733 - val_loss: 42.9104\n",
      "Epoch 25/100\n",
      "6/6 [==============================] - 67s 12s/step - loss: 37.7748 - val_loss: 36.2077\n",
      "Epoch 26/100\n",
      "6/6 [==============================] - 66s 11s/step - loss: 35.2286 - val_loss: 37.8998\n",
      "Epoch 27/100\n",
      "6/6 [==============================] - 69s 12s/step - loss: 32.8795 - val_loss: 34.7197\n",
      "Epoch 28/100\n",
      "6/6 [==============================] - 70s 12s/step - loss: 31.3775 - val_loss: 35.0688\n",
      "Epoch 29/100\n",
      "6/6 [==============================] - 69s 12s/step - loss: 29.8090 - val_loss: 33.6410\n",
      "Epoch 30/100\n",
      "6/6 [==============================] - 70s 12s/step - loss: 28.3801 - val_loss: 28.8290\n",
      "Epoch 31/100\n",
      "6/6 [==============================] - 69s 12s/step - loss: 27.2803 - val_loss: 29.1413\n",
      "Epoch 32/100\n",
      "6/6 [==============================] - 69s 12s/step - loss: 26.2702 - val_loss: 28.4860\n",
      "Epoch 33/100\n",
      "6/6 [==============================] - 70s 12s/step - loss: 25.4860 - val_loss: 26.9985\n",
      "Epoch 34/100\n",
      "6/6 [==============================] - 68s 12s/step - loss: 24.9532 - val_loss: 27.0601\n",
      "Epoch 35/100\n",
      "6/6 [==============================] - 67s 12s/step - loss: 24.2372 - val_loss: 25.4018\n",
      "Epoch 36/100\n",
      "6/6 [==============================] - 67s 12s/step - loss: 23.7688 - val_loss: 25.6490\n",
      "Epoch 37/100\n",
      "6/6 [==============================] - 67s 12s/step - loss: 23.4370 - val_loss: 25.4442\n",
      "Epoch 38/100\n",
      "6/6 [==============================] - 67s 12s/step - loss: 23.0540 - val_loss: 24.3150\n",
      "Epoch 39/100\n",
      "6/6 [==============================] - 70s 12s/step - loss: 22.6747 - val_loss: 24.9680\n",
      "Epoch 40/100\n",
      "6/6 [==============================] - 70s 12s/step - loss: 22.5239 - val_loss: 23.6770\n",
      "Epoch 41/100\n",
      "6/6 [==============================] - 67s 12s/step - loss: 22.3922 - val_loss: 23.9861\n",
      "Epoch 42/100\n",
      "6/6 [==============================] - 69s 12s/step - loss: 22.2116 - val_loss: 24.0812\n",
      "Epoch 43/100\n",
      "6/6 [==============================] - 67s 12s/step - loss: 22.0958 - val_loss: 23.5230\n",
      "Epoch 44/100\n",
      "6/6 [==============================] - 69s 12s/step - loss: 21.9471 - val_loss: 23.4250\n",
      "Epoch 45/100\n",
      "6/6 [==============================] - 68s 12s/step - loss: 21.8124 - val_loss: 23.3695\n",
      "Epoch 46/100\n",
      "6/6 [==============================] - 68s 12s/step - loss: 21.9676 - val_loss: 23.6907\n",
      "Epoch 47/100\n",
      "6/6 [==============================] - 63s 11s/step - loss: 21.6392 - val_loss: 23.4227\n",
      "Epoch 48/100\n",
      "6/6 [==============================] - 60s 10s/step - loss: 21.6950 - val_loss: 23.5163\n",
      "Epoch 49/100\n",
      "6/6 [==============================] - 63s 11s/step - loss: 21.6054 - val_loss: 23.8040\n",
      "Epoch 50/100\n",
      "6/6 [==============================] - 54s 9s/step - loss: 21.5708 - val_loss: 23.4897\n",
      "Epoch 51/100\n",
      "6/6 [==============================] - 64s 11s/step - loss: 21.3713 - val_loss: 23.5600\n",
      "Epoch 52/100\n",
      "6/6 [==============================] - 58s 10s/step - loss: 21.4399 - val_loss: 23.8115\n",
      "Epoch 53/100\n",
      "6/6 [==============================] - 55s 9s/step - loss: 21.3154 - val_loss: 24.0024\n",
      "Epoch 54/100\n",
      "6/6 [==============================] - 54s 9s/step - loss: 21.2395 - val_loss: 24.3449\n",
      "Epoch 55/100\n",
      "6/6 [==============================] - 55s 9s/step - loss: 21.0514 - val_loss: 24.2029\n",
      "Epoch 56/100\n",
      "6/6 [==============================] - 63s 11s/step - loss: 21.1190 - val_loss: 24.2572\n",
      "Epoch 57/100\n",
      "6/6 [==============================] - 57s 10s/step - loss: 21.0694 - val_loss: 24.0079\n",
      "Epoch 58/100\n",
      "6/6 [==============================] - 56s 10s/step - loss: 21.0239 - val_loss: 23.8136\n",
      "Epoch 59/100\n",
      "6/6 [==============================] - 56s 10s/step - loss: 20.8863 - val_loss: 23.5592\n",
      "Epoch 60/100\n",
      "6/6 [==============================] - 56s 10s/step - loss: 20.9188 - val_loss: 23.0443\n",
      "Epoch 61/100\n",
      "6/6 [==============================] - 56s 10s/step - loss: 20.8734 - val_loss: 23.3135\n",
      "Epoch 62/100\n",
      "6/6 [==============================] - 55s 10s/step - loss: 20.6579 - val_loss: 23.6092\n",
      "Epoch 63/100\n",
      "6/6 [==============================] - 55s 9s/step - loss: 20.6804 - val_loss: 23.5965\n",
      "Epoch 64/100\n",
      "6/6 [==============================] - 56s 10s/step - loss: 20.7193 - val_loss: 23.4486\n",
      "Epoch 65/100\n",
      "6/6 [==============================] - 56s 10s/step - loss: 20.5326 - val_loss: 23.6779\n",
      "Epoch 66/100\n",
      "6/6 [==============================] - 56s 10s/step - loss: 20.5205 - val_loss: 23.4875\n",
      "Epoch 67/100\n",
      "6/6 [==============================] - 59s 10s/step - loss: 20.4129 - val_loss: 23.3379\n",
      "Epoch 68/100\n",
      "6/6 [==============================] - 57s 10s/step - loss: 20.4149 - val_loss: 23.1148\n",
      "Epoch 69/100\n",
      "6/6 [==============================] - 56s 10s/step - loss: 20.3453 - val_loss: 23.1678\n",
      "Epoch 70/100\n",
      "6/6 [==============================] - 57s 10s/step - loss: 20.3911 - val_loss: 22.8421\n",
      "Epoch 71/100\n",
      "6/6 [==============================] - 59s 10s/step - loss: 20.4451 - val_loss: 22.7239\n",
      "Epoch 72/100\n",
      "6/6 [==============================] - 62s 11s/step - loss: 20.3709 - val_loss: 22.6182\n",
      "Epoch 73/100\n",
      "6/6 [==============================] - 62s 11s/step - loss: 20.3314 - val_loss: 22.5058\n",
      "Epoch 74/100\n",
      "6/6 [==============================] - 59s 10s/step - loss: 20.1671 - val_loss: 22.3981\n",
      "Epoch 75/100\n",
      "6/6 [==============================] - 55s 9s/step - loss: 20.2344 - val_loss: 22.3663\n",
      "Epoch 76/100\n",
      "6/6 [==============================] - 54s 9s/step - loss: 20.1386 - val_loss: 22.3231\n",
      "Epoch 77/100\n",
      "6/6 [==============================] - 54s 9s/step - loss: 20.1435 - val_loss: 22.1647\n",
      "Epoch 78/100\n",
      "6/6 [==============================] - 54s 9s/step - loss: 20.0644 - val_loss: 22.0778\n",
      "Epoch 79/100\n",
      "6/6 [==============================] - 54s 9s/step - loss: 20.0460 - val_loss: 22.1434\n",
      "Epoch 80/100\n",
      "6/6 [==============================] - 56s 10s/step - loss: 20.0725 - val_loss: 22.1088\n",
      "Epoch 81/100\n",
      "6/6 [==============================] - 55s 9s/step - loss: 20.0626 - val_loss: 21.8455\n",
      "Epoch 82/100\n",
      "6/6 [==============================] - 55s 9s/step - loss: 19.9861 - val_loss: 21.8471\n",
      "Epoch 83/100\n",
      "6/6 [==============================] - 55s 9s/step - loss: 19.9011 - val_loss: 21.8188\n",
      "Epoch 84/100\n",
      "6/6 [==============================] - 56s 10s/step - loss: 19.9050 - val_loss: 21.7270\n",
      "Epoch 85/100\n",
      "6/6 [==============================] - 56s 10s/step - loss: 19.9152 - val_loss: 21.7796\n",
      "Epoch 86/100\n",
      "6/6 [==============================] - 54s 9s/step - loss: 19.7895 - val_loss: 21.6521\n",
      "Epoch 87/100\n",
      "6/6 [==============================] - 50s 9s/step - loss: 19.8270 - val_loss: 21.6769\n",
      "Epoch 88/100\n",
      "6/6 [==============================] - 50s 9s/step - loss: 19.7717 - val_loss: 21.5963\n",
      "Epoch 89/100\n",
      "6/6 [==============================] - 49s 9s/step - loss: 19.7440 - val_loss: 21.4725\n",
      "Epoch 90/100\n",
      "6/6 [==============================] - 50s 9s/step - loss: 19.7336 - val_loss: 21.4696\n",
      "Epoch 91/100\n",
      "6/6 [==============================] - 50s 9s/step - loss: 19.6599 - val_loss: 21.4828\n",
      "Epoch 92/100\n",
      "6/6 [==============================] - 51s 9s/step - loss: 19.6647 - val_loss: 21.4171\n",
      "Epoch 93/100\n",
      "6/6 [==============================] - 49s 9s/step - loss: 19.5394 - val_loss: 21.3514\n",
      "Epoch 94/100\n",
      "6/6 [==============================] - 49s 9s/step - loss: 19.5707 - val_loss: 21.2782\n",
      "Epoch 95/100\n",
      "6/6 [==============================] - 51s 9s/step - loss: 19.6070 - val_loss: 21.1413\n",
      "Epoch 96/100\n",
      "6/6 [==============================] - 49s 8s/step - loss: 19.4508 - val_loss: 21.2843\n",
      "Epoch 97/100\n",
      "6/6 [==============================] - 50s 9s/step - loss: 19.4551 - val_loss: 21.1884\n",
      "Epoch 98/100\n",
      "6/6 [==============================] - 50s 9s/step - loss: 19.5167 - val_loss: 20.7586\n",
      "Epoch 99/100\n",
      "6/6 [==============================] - 51s 9s/step - loss: 19.4455 - val_loss: 20.8249\n",
      "Epoch 100/100\n",
      "6/6 [==============================] - 55s 10s/step - loss: 19.3618 - val_loss: 20.8794\n"
     ]
    }
   ],
   "source": [
    "history = autoencoder.fit(\n",
    "    train2,\n",
    "    epochs=100,\n",
    "    shuffle=True,\n",
    "    validation_data=val2,\n",
    "    callbacks=[tb_callback, model_checkpoint_callback],\n",
    "    verbose=1,\n",
    ")"
   ]
  },
  {
   "cell_type": "markdown",
   "metadata": {},
   "source": [
    "## Testing"
   ]
  },
  {
   "cell_type": "code",
   "execution_count": 42,
   "metadata": {},
   "outputs": [
    {
     "data": {
      "text/plain": "<tensorflow.python.training.tracking.util.CheckpointLoadStatus at 0x1c4b6324d08>"
     },
     "execution_count": 42,
     "metadata": {},
     "output_type": "execute_result"
    }
   ],
   "source": [
    "autoencoder.load_weights(checkpoint_filepath)"
   ]
  },
  {
   "cell_type": "code",
   "execution_count": 43,
   "metadata": {},
   "outputs": [
    {
     "name": "stdout",
     "output_type": "stream",
     "text": [
      "INFO:tensorflow:Assets written to: ..\\..\\..\\production\\backend\\models\\mel\\1\\assets\n"
     ]
    },
    {
     "name": "stderr",
     "output_type": "stream",
     "text": [
      "INFO:tensorflow:Assets written to: ..\\..\\..\\production\\backend\\models\\mel\\1\\assets\n"
     ]
    }
   ],
   "source": [
    "VERSION=\"1\"\r\n",
    "saved_model_path = autoencoder.save(\r\n",
    "    os.path.join(\"..\", \"..\", \"..\", \"production\", \"backend\", \"models\", \"mel\", VERSION),\r\n",
    "    save_format=\"tf\",\r\n",
    ")"
   ]
  },
  {
   "cell_type": "markdown",
   "metadata": {},
   "source": [
    "Let's join train and test set together for faster predictions."
   ]
  },
  {
   "cell_type": "code",
   "execution_count": 44,
   "metadata": {},
   "outputs": [],
   "source": [
    "audios = train.concatenate(test)"
   ]
  },
  {
   "cell_type": "code",
   "execution_count": 45,
   "metadata": {},
   "outputs": [],
   "source": [
    "pred = autoencoder.predict(audios.map(lambda item: item[\"audio\"]).batch(BATCH_SIZE))"
   ]
  },
  {
   "cell_type": "markdown",
   "metadata": {},
   "source": [
    "Let's compute the reconstruction error for all audios."
   ]
  },
  {
   "cell_type": "code",
   "execution_count": 46,
   "metadata": {},
   "outputs": [],
   "source": [
    "error_lst = []\n",
    "for item, pred in zip(tfds.as_numpy(audios), pred):\n",
    "    error = np.mean(np.square(item[\"audio\"] - pred))\n",
    "    error_lst.append(error)"
   ]
  },
  {
   "cell_type": "markdown",
   "metadata": {},
   "source": [
    "To check how the model behaves, we can tranform the Tensorflow dataset into a dataframe and add the previous computed reconstruction error to it."
   ]
  },
  {
   "cell_type": "code",
   "execution_count": 47,
   "metadata": {},
   "outputs": [
    {
     "data": {
      "text/html": "<div>\n<style scoped>\n    .dataframe tbody tr th:only-of-type {\n        vertical-align: middle;\n    }\n\n    .dataframe tbody tr th {\n        vertical-align: top;\n    }\n\n    .dataframe thead th {\n        text-align: right;\n    }\n</style>\n<table border=\"1\" class=\"dataframe\">\n  <thead>\n    <tr style=\"text-align: right;\">\n      <th></th>\n      <th>audio</th>\n      <th>id</th>\n      <th>machine_id</th>\n      <th>split</th>\n      <th>label</th>\n    </tr>\n  </thead>\n  <tbody>\n    <tr>\n      <th>1307</th>\n      <td>[[-9.874631, -6.8349433, -2.0404174, -4.321853...</td>\n      <td>0164</td>\n      <td>04</td>\n      <td>train</td>\n      <td>normal</td>\n    </tr>\n    <tr>\n      <th>1663</th>\n      <td>[[-12.179075, -7.697941, -2.2378461, -6.618811...</td>\n      <td>0062</td>\n      <td>04</td>\n      <td>train</td>\n      <td>normal</td>\n    </tr>\n    <tr>\n      <th>3847</th>\n      <td>[[2.2923799, 1.3340228, -3.297722, -6.108287, ...</td>\n      <td>0007</td>\n      <td>04</td>\n      <td>test</td>\n      <td>anomaly</td>\n    </tr>\n    <tr>\n      <th>2092</th>\n      <td>[[-4.48533, -5.019704, -6.227432, -39.863815, ...</td>\n      <td>0018</td>\n      <td>04</td>\n      <td>train</td>\n      <td>normal</td>\n    </tr>\n    <tr>\n      <th>1534</th>\n      <td>[[-8.116749, -9.269882, -17.792938, -11.89989,...</td>\n      <td>0299</td>\n      <td>00</td>\n      <td>train</td>\n      <td>normal</td>\n    </tr>\n  </tbody>\n</table>\n</div>",
      "text/plain": "                                                  audio    id machine_id  \\\n1307  [[-9.874631, -6.8349433, -2.0404174, -4.321853...  0164         04   \n1663  [[-12.179075, -7.697941, -2.2378461, -6.618811...  0062         04   \n3847  [[2.2923799, 1.3340228, -3.297722, -6.108287, ...  0007         04   \n2092  [[-4.48533, -5.019704, -6.227432, -39.863815, ...  0018         04   \n1534  [[-8.116749, -9.269882, -17.792938, -11.89989,...  0299         00   \n\n      split    label  \n1307  train   normal  \n1663  train   normal  \n3847   test  anomaly  \n2092  train   normal  \n1534  train   normal  "
     },
     "execution_count": 47,
     "metadata": {},
     "output_type": "execute_result"
    }
   ],
   "source": [
    "audios_df = tfds.as_dataframe(audios, info)\n",
    "\n",
    "# Convert byte-type texts to string-type texts\n",
    "for col in audios_df:\n",
    "    if isinstance(audios_df[col][0], bytes):\n",
    "        audios_df[col] = audios_df[col].str.decode(\"utf8\")\n",
    "\n",
    "dct_columns = {\n",
    "    \"audio/id\": \"id\", \n",
    "    \"audio/machine\": \"machine_id\", \n",
    "    \"audio/split\": \"split\",\n",
    "}\n",
    "\n",
    "# Convert object-type columns to a more convenient data type\n",
    "dct_types = {\n",
    "    \"id\": \"string\",\n",
    "    \"machine_id\": \"category\",\n",
    "    \"split\": \"category\",\n",
    "    \"label\": \"category\",\n",
    "}\n",
    "\n",
    "audios_df = (\n",
    "    audios_df\n",
    "    .rename(columns=dct_columns)\n",
    "    .astype(dct_types)\n",
    ")\n",
    "\n",
    "audios_df[\"split\"] = audios_df[\"split\"].cat.rename_categories({0: \"train\", 1: \"test\"})\n",
    "audios_df[\"label\"] = audios_df[\"label\"].cat.rename_categories({0: \"normal\", 1: \"anomaly\"})\n",
    "\n",
    "audios_df.sample(5)"
   ]
  },
  {
   "cell_type": "code",
   "execution_count": 48,
   "metadata": {},
   "outputs": [],
   "source": [
    "audios_df[\"error\"] = error_lst"
   ]
  },
  {
   "cell_type": "code",
   "execution_count": 49,
   "metadata": {},
   "outputs": [
    {
     "data": {
      "text/html": "<div>\n<style scoped>\n    .dataframe tbody tr th:only-of-type {\n        vertical-align: middle;\n    }\n\n    .dataframe tbody tr th {\n        vertical-align: top;\n    }\n\n    .dataframe thead th {\n        text-align: right;\n    }\n</style>\n<table border=\"1\" class=\"dataframe\">\n  <thead>\n    <tr style=\"text-align: right;\">\n      <th></th>\n      <th>audio</th>\n      <th>id</th>\n      <th>machine_id</th>\n      <th>split</th>\n      <th>label</th>\n      <th>error</th>\n    </tr>\n  </thead>\n  <tbody>\n    <tr>\n      <th>2953</th>\n      <td>[[-3.1785088, -2.1869829, 0.71435684, -0.11960...</td>\n      <td>0496</td>\n      <td>06</td>\n      <td>train</td>\n      <td>normal</td>\n      <td>32.028820</td>\n    </tr>\n    <tr>\n      <th>1076</th>\n      <td>[[-2.4113069, -3.2431123, -6.5061135, -8.96151...</td>\n      <td>0472</td>\n      <td>00</td>\n      <td>train</td>\n      <td>normal</td>\n      <td>35.711353</td>\n    </tr>\n    <tr>\n      <th>2085</th>\n      <td>[[-9.033941, -2.5568657, 3.4455492, 3.7080374,...</td>\n      <td>0263</td>\n      <td>04</td>\n      <td>train</td>\n      <td>normal</td>\n      <td>51.452026</td>\n    </tr>\n    <tr>\n      <th>2523</th>\n      <td>[[-12.292691, -12.874882, -14.346399, -7.57007...</td>\n      <td>0583</td>\n      <td>04</td>\n      <td>train</td>\n      <td>normal</td>\n      <td>38.696583</td>\n    </tr>\n    <tr>\n      <th>1948</th>\n      <td>[[-0.7825079, -1.3064833, -2.4592886, -8.19665...</td>\n      <td>0684</td>\n      <td>02</td>\n      <td>train</td>\n      <td>normal</td>\n      <td>21.521887</td>\n    </tr>\n  </tbody>\n</table>\n</div>",
      "text/plain": "                                                  audio    id machine_id  \\\n2953  [[-3.1785088, -2.1869829, 0.71435684, -0.11960...  0496         06   \n1076  [[-2.4113069, -3.2431123, -6.5061135, -8.96151...  0472         00   \n2085  [[-9.033941, -2.5568657, 3.4455492, 3.7080374,...  0263         04   \n2523  [[-12.292691, -12.874882, -14.346399, -7.57007...  0583         04   \n1948  [[-0.7825079, -1.3064833, -2.4592886, -8.19665...  0684         02   \n\n      split   label      error  \n2953  train  normal  32.028820  \n1076  train  normal  35.711353  \n2085  train  normal  51.452026  \n2523  train  normal  38.696583  \n1948  train  normal  21.521887  "
     },
     "execution_count": 49,
     "metadata": {},
     "output_type": "execute_result"
    }
   ],
   "source": [
    "audios_df.sample(5)"
   ]
  },
  {
   "cell_type": "code",
   "execution_count": 50,
   "metadata": {},
   "outputs": [
    {
     "data": {
      "text/html": "<div>\n<style scoped>\n    .dataframe tbody tr th:only-of-type {\n        vertical-align: middle;\n    }\n\n    .dataframe tbody tr th {\n        vertical-align: top;\n    }\n\n    .dataframe thead tr th {\n        text-align: left;\n    }\n\n    .dataframe thead tr:last-of-type th {\n        text-align: right;\n    }\n</style>\n<table border=\"1\" class=\"dataframe\">\n  <thead>\n    <tr>\n      <th></th>\n      <th colspan=\"2\" halign=\"left\">error</th>\n    </tr>\n    <tr>\n      <th></th>\n      <th>mean</th>\n      <th>std</th>\n    </tr>\n    <tr>\n      <th>machine_id</th>\n      <th></th>\n      <th></th>\n    </tr>\n  </thead>\n  <tbody>\n    <tr>\n      <th>00</th>\n      <td>33.149893</td>\n      <td>15.331841</td>\n    </tr>\n    <tr>\n      <th>02</th>\n      <td>32.553738</td>\n      <td>14.315009</td>\n    </tr>\n    <tr>\n      <th>04</th>\n      <td>32.871041</td>\n      <td>14.002614</td>\n    </tr>\n    <tr>\n      <th>06</th>\n      <td>34.219801</td>\n      <td>15.921031</td>\n    </tr>\n  </tbody>\n</table>\n</div>",
      "text/plain": "                error           \n                 mean        std\nmachine_id                      \n00          33.149893  15.331841\n02          32.553738  14.315009\n04          32.871041  14.002614\n06          34.219801  15.921031"
     },
     "execution_count": 50,
     "metadata": {},
     "output_type": "execute_result"
    }
   ],
   "source": [
    "(\n",
    "    audios_df\n",
    "    .query(\"split == 'train'\")\n",
    "    .groupby(\"machine_id\")\n",
    "    .agg({\"error\": [\"mean\", \"std\"]})\n",
    ")"
   ]
  },
  {
   "cell_type": "code",
   "execution_count": 51,
   "metadata": {},
   "outputs": [
    {
     "data": {
      "text/html": "<div>\n<style scoped>\n    .dataframe tbody tr th:only-of-type {\n        vertical-align: middle;\n    }\n\n    .dataframe tbody tr th {\n        vertical-align: top;\n    }\n\n    .dataframe thead tr th {\n        text-align: left;\n    }\n\n    .dataframe thead tr:last-of-type th {\n        text-align: right;\n    }\n</style>\n<table border=\"1\" class=\"dataframe\">\n  <thead>\n    <tr>\n      <th></th>\n      <th></th>\n      <th colspan=\"2\" halign=\"left\">error</th>\n    </tr>\n    <tr>\n      <th></th>\n      <th></th>\n      <th>mean</th>\n      <th>std</th>\n    </tr>\n    <tr>\n      <th>label</th>\n      <th>machine_id</th>\n      <th></th>\n      <th></th>\n    </tr>\n  </thead>\n  <tbody>\n    <tr>\n      <th rowspan=\"4\" valign=\"top\">normal</th>\n      <th>00</th>\n      <td>37.253017</td>\n      <td>22.156428</td>\n    </tr>\n    <tr>\n      <th>02</th>\n      <td>34.656466</td>\n      <td>15.223976</td>\n    </tr>\n    <tr>\n      <th>04</th>\n      <td>35.231260</td>\n      <td>17.636893</td>\n    </tr>\n    <tr>\n      <th>06</th>\n      <td>36.572568</td>\n      <td>16.185259</td>\n    </tr>\n    <tr>\n      <th rowspan=\"4\" valign=\"top\">anomaly</th>\n      <th>00</th>\n      <td>40.008845</td>\n      <td>20.102486</td>\n    </tr>\n    <tr>\n      <th>02</th>\n      <td>38.128644</td>\n      <td>20.785872</td>\n    </tr>\n    <tr>\n      <th>04</th>\n      <td>36.555383</td>\n      <td>17.779424</td>\n    </tr>\n    <tr>\n      <th>06</th>\n      <td>34.843085</td>\n      <td>15.920741</td>\n    </tr>\n  </tbody>\n</table>\n</div>",
      "text/plain": "                        error           \n                         mean        std\nlabel   machine_id                      \nnormal  00          37.253017  22.156428\n        02          34.656466  15.223976\n        04          35.231260  17.636893\n        06          36.572568  16.185259\nanomaly 00          40.008845  20.102486\n        02          38.128644  20.785872\n        04          36.555383  17.779424\n        06          34.843085  15.920741"
     },
     "execution_count": 51,
     "metadata": {},
     "output_type": "execute_result"
    }
   ],
   "source": [
    "(\n",
    "    audios_df\n",
    "    .query(\"split == 'test'\")\n",
    "    .groupby([\"label\", \"machine_id\"])\n",
    "    .agg({\"error\": [\"mean\", \"std\"]})\n",
    ")"
   ]
  },
  {
   "cell_type": "markdown",
   "metadata": {},
   "source": [
    "It seems this model can't distinguish anomaly sound from normal sounds very well.\n",
    "\n",
    "Let's plot the a histogram of the construction error per machine to see more clear."
   ]
  },
  {
   "cell_type": "code",
   "execution_count": 52,
   "metadata": {},
   "outputs": [
    {
     "data": {
      "image/png": "[encoded data removed]",
      "text/plain": "<Figure size 640x480 with 4 Axes>"
     },
     "metadata": {},
     "output_type": "display_data"
    },
    {
     "name": "stdout",
     "output_type": "stream",
     "text": [
      "\n"
     ]
    }
   ],
   "source": [
    "p = (\n",
    "    p9.ggplot(audios_df.query(\"split == 'test'\"), p9.aes(x=\"error\", fill=\"label\"))\n",
    "    + p9.geom_histogram(\n",
    "        p9.aes(y=\"stat(count)\"), position=\"identity\", alpha=0.75\n",
    "    )\n",
    "    + p9.scale_x_continuous(name=\"Testing reconstruction error\")\n",
    "    + p9.scale_y_continuous(name=\"Number samples\")\n",
    "    + p9.labs(\n",
    "        title=\"Reconstruction error distributions\",\n",
    "    )\n",
    "    + p9.scale_fill_brewer(type=\"qualitative\", palette=\"Accent\") \n",
    "    + p9.facet_grid(\"machine_id ~ .\", scales=\"free\")\n",
    "    + p9.theme_bw()\n",
    "    + p9.theme(\n",
    "        panel_border=p9.element_rect(colour=\"black\", fill=None, size=0.5),\n",
    "        axis_text_x=p9.element_text(colour=\"black\", size=9),\n",
    "        axis_text_y=p9.element_text(colour=\"black\", size=9),\n",
    "        legend_key=p9.element_blank(),\n",
    "        legend_title=p9.element_blank(),\n",
    "        panel_grid_major=p9.element_line(colour=\"#d3d3d3\"),\n",
    "        panel_grid_minor=p9.element_blank(),\n",
    "        panel_background=p9.element_blank(),\n",
    "        plot_title=p9.element_text(size=14, family=\"Tahoma\", face=\"bold\"),\n",
    "        text=p9.element_text(family=\"Tahoma\"),\n",
    "    )\n",
    ")\n",
    "\n",
    "print(p)"
   ]
  },
  {
   "cell_type": "markdown",
   "metadata": {},
   "source": [
    "Histograms show more clear that the model can't differentiate anomaly audios from normal audio very well."
   ]
  },
  {
   "cell_type": "markdown",
   "metadata": {},
   "source": [
    "This [AWS](https://aws.amazon.com/es/blogs/machine-learning/performing-anomaly-detection-on-industrial-equipment-using-audio-signals/) post shows how the histogram from a good model should look like.\n",
    "\n",
    "![Better model](https://d2908q01vomqb2.cloudfront.net/f1f836cb4ea6efb2a0b1b99f41ad8b103eff4b59/2020/12/22/ML-1479-4.jpg)"
   ]
  },
  {
   "cell_type": "markdown",
   "metadata": {},
   "source": [
    "## Metrics"
   ]
  },
  {
   "cell_type": "markdown",
   "metadata": {},
   "source": [
    "Let's see how bad our model is. To distinguish anomaly audios from normal audios, we set the threshold one standard deviation above the mean of the train set. "
   ]
  },
  {
   "cell_type": "code",
   "execution_count": 53,
   "metadata": {},
   "outputs": [],
   "source": [
    "avg = (\n",
    "    audios_df\n",
    "    .query(\"split == 'train'\")\n",
    "    [\"error\"]\n",
    "    .mean()\n",
    ")\n",
    "\n",
    "std = (\n",
    "    audios_df\n",
    "    .query(\"split == 'train'\")\n",
    "    [\"error\"]\n",
    "    .std()\n",
    ")\n",
    "\n",
    "threshold = avg + std"
   ]
  },
  {
   "cell_type": "markdown",
   "metadata": {},
   "source": [
    "Let's create a new column with the predicted label based on the threshold."
   ]
  },
  {
   "cell_type": "code",
   "execution_count": 54,
   "metadata": {},
   "outputs": [
    {
     "name": "stdout",
     "output_type": "stream",
     "text": [
      "48.243759038053106\n"
     ]
    }
   ],
   "source": [
    "print(threshold)"
   ]
  },
  {
   "cell_type": "code",
   "execution_count": 55,
   "metadata": {},
   "outputs": [
    {
     "data": {
      "text/html": "<div>\n<style scoped>\n    .dataframe tbody tr th:only-of-type {\n        vertical-align: middle;\n    }\n\n    .dataframe tbody tr th {\n        vertical-align: top;\n    }\n\n    .dataframe thead th {\n        text-align: right;\n    }\n</style>\n<table border=\"1\" class=\"dataframe\">\n  <thead>\n    <tr style=\"text-align: right;\">\n      <th></th>\n      <th>audio</th>\n      <th>id</th>\n      <th>machine_id</th>\n      <th>split</th>\n      <th>label</th>\n      <th>error</th>\n      <th>label_pred</th>\n    </tr>\n  </thead>\n  <tbody>\n    <tr>\n      <th>0</th>\n      <td>[[1.5932982, 1.294384, 1.1611198, -24.297667, ...</td>\n      <td>0784</td>\n      <td>06</td>\n      <td>train</td>\n      <td>normal</td>\n      <td>19.163870</td>\n      <td>0</td>\n    </tr>\n    <tr>\n      <th>1</th>\n      <td>[[-7.030608, -7.263412, -7.1459956, -13.880009...</td>\n      <td>0215</td>\n      <td>02</td>\n      <td>train</td>\n      <td>normal</td>\n      <td>26.678539</td>\n      <td>0</td>\n    </tr>\n    <tr>\n      <th>2</th>\n      <td>[[-7.4239073, -7.0891733, -5.364052, -14.60322...</td>\n      <td>0918</td>\n      <td>06</td>\n      <td>train</td>\n      <td>normal</td>\n      <td>20.216681</td>\n      <td>0</td>\n    </tr>\n    <tr>\n      <th>3</th>\n      <td>[[-5.473754, -4.7174063, -2.182263, -6.692034,...</td>\n      <td>0033</td>\n      <td>06</td>\n      <td>train</td>\n      <td>normal</td>\n      <td>26.082094</td>\n      <td>0</td>\n    </tr>\n    <tr>\n      <th>4</th>\n      <td>[[-32.570705, -10.010296, -3.2296658, -0.16753...</td>\n      <td>0580</td>\n      <td>02</td>\n      <td>train</td>\n      <td>normal</td>\n      <td>29.236591</td>\n      <td>0</td>\n    </tr>\n  </tbody>\n</table>\n</div>",
      "text/plain": "                                               audio    id machine_id  split  \\\n0  [[1.5932982, 1.294384, 1.1611198, -24.297667, ...  0784         06  train   \n1  [[-7.030608, -7.263412, -7.1459956, -13.880009...  0215         02  train   \n2  [[-7.4239073, -7.0891733, -5.364052, -14.60322...  0918         06  train   \n3  [[-5.473754, -4.7174063, -2.182263, -6.692034,...  0033         06  train   \n4  [[-32.570705, -10.010296, -3.2296658, -0.16753...  0580         02  train   \n\n    label      error  label_pred  \n0  normal  19.163870           0  \n1  normal  26.678539           0  \n2  normal  20.216681           0  \n3  normal  26.082094           0  \n4  normal  29.236591           0  "
     },
     "execution_count": 55,
     "metadata": {},
     "output_type": "execute_result"
    }
   ],
   "source": [
    "audios_df[\"label_pred\"] = audios_df[\"error\"] > threshold\n",
    "\n",
    "audios_df = audios_df.astype({\"label_pred\": \"int\"})\n",
    "audios_df.head()"
   ]
  },
  {
   "cell_type": "markdown",
   "metadata": {},
   "source": [
    "Let's show the precision, recall, f1-score and roc-auc score for the four machines."
   ]
  },
  {
   "cell_type": "code",
   "execution_count": 56,
   "metadata": {},
   "outputs": [],
   "source": [
    "audios_df[\"label\"] = audios_df[\"label\"].cat.rename_categories({\"normal\": 0, \"anomaly\": 1})"
   ]
  },
  {
   "cell_type": "markdown",
   "metadata": {},
   "source": [
    "### Machine_id=00"
   ]
  },
  {
   "cell_type": "code",
   "execution_count": 57,
   "metadata": {},
   "outputs": [
    {
     "name": "stdout",
     "output_type": "stream",
     "text": [
      "              precision    recall  f1-score   support\n",
      "\n",
      "           0       0.42      0.79      0.55       100\n",
      "           1       0.63      0.25      0.36       143\n",
      "\n",
      "    accuracy                           0.47       243\n",
      "   macro avg       0.53      0.52      0.46       243\n",
      "weighted avg       0.55      0.47      0.44       243\n",
      "\n"
     ]
    }
   ],
   "source": [
    "machine_id = \"00\"\n",
    "temp = (\n",
    "    audios_df\n",
    "    .query(\"machine_id == @machine_id and split == 'test'\")\n",
    ")  \n",
    "print(classification_report(temp[\"label\"], temp[\"label_pred\"]))"
   ]
  },
  {
   "cell_type": "code",
   "execution_count": 58,
   "metadata": {},
   "outputs": [
    {
     "name": "stdout",
     "output_type": "stream",
     "text": [
      "[[ 79  21]\n",
      " [107  36]]\n"
     ]
    }
   ],
   "source": [
    "print(confusion_matrix(temp[\"label\"], temp[\"label_pred\"]))"
   ]
  },
  {
   "cell_type": "code",
   "execution_count": 59,
   "metadata": {},
   "outputs": [
    {
     "name": "stdout",
     "output_type": "stream",
     "text": [
      "ROC-AUC score: 0.5209\n"
     ]
    }
   ],
   "source": [
    "score = roc_auc_score(temp[\"label\"], temp[\"label_pred\"])\n",
    "print(f\"ROC-AUC score: {score:.4f}\")"
   ]
  },
  {
   "cell_type": "markdown",
   "metadata": {},
   "source": [
    "This model is slightly better distinguishing sounds for this machine that tossing a coin. "
   ]
  },
  {
   "cell_type": "markdown",
   "metadata": {},
   "source": [
    "### Machine_id=02"
   ]
  },
  {
   "cell_type": "code",
   "execution_count": 60,
   "metadata": {},
   "outputs": [
    {
     "name": "stdout",
     "output_type": "stream",
     "text": [
      "              precision    recall  f1-score   support\n",
      "\n",
      "           0       0.48      0.81      0.60       100\n",
      "           1       0.56      0.22      0.31       111\n",
      "\n",
      "    accuracy                           0.50       211\n",
      "   macro avg       0.52      0.51      0.46       211\n",
      "weighted avg       0.52      0.50      0.45       211\n",
      "\n"
     ]
    }
   ],
   "source": [
    "machine_id = \"02\"\n",
    "temp = (\n",
    "    audios_df\n",
    "    .query(\"machine_id == @machine_id and split == 'test'\")\n",
    ")  \n",
    "print(classification_report(temp[\"label\"], temp[\"label_pred\"]))"
   ]
  },
  {
   "cell_type": "code",
   "execution_count": 61,
   "metadata": {},
   "outputs": [
    {
     "name": "stdout",
     "output_type": "stream",
     "text": [
      "[[81 19]\n",
      " [87 24]]\n"
     ]
    }
   ],
   "source": [
    "print(confusion_matrix(temp[\"label\"], temp[\"label_pred\"]))"
   ]
  },
  {
   "cell_type": "code",
   "execution_count": 62,
   "metadata": {},
   "outputs": [
    {
     "name": "stdout",
     "output_type": "stream",
     "text": [
      "ROC-AUC score: 0.5131\n"
     ]
    }
   ],
   "source": [
    "score = roc_auc_score(temp[\"label\"], temp[\"label_pred\"])\n",
    "print(f\"ROC-AUC score: {score:.4f}\")"
   ]
  },
  {
   "cell_type": "markdown",
   "metadata": {},
   "source": [
    "This model is slightly better distinguishing sounds for this machine that tossing a coin. "
   ]
  },
  {
   "cell_type": "markdown",
   "metadata": {},
   "source": [
    "### Machine_id=04"
   ]
  },
  {
   "cell_type": "code",
   "execution_count": 63,
   "metadata": {},
   "outputs": [
    {
     "name": "stdout",
     "output_type": "stream",
     "text": [
      "              precision    recall  f1-score   support\n",
      "\n",
      "           0       0.51      0.83      0.63       100\n",
      "           1       0.54      0.20      0.29       100\n",
      "\n",
      "    accuracy                           0.52       200\n",
      "   macro avg       0.52      0.52      0.46       200\n",
      "weighted avg       0.52      0.52      0.46       200\n",
      "\n"
     ]
    }
   ],
   "source": [
    "machine_id = \"04\"\n",
    "temp = (\n",
    "    audios_df\n",
    "    .query(\"machine_id == @machine_id and split == 'test'\")\n",
    ")  \n",
    "print(classification_report(temp[\"label\"], temp[\"label_pred\"]))"
   ]
  },
  {
   "cell_type": "code",
   "execution_count": 64,
   "metadata": {},
   "outputs": [
    {
     "name": "stdout",
     "output_type": "stream",
     "text": [
      "[[83 17]\n",
      " [80 20]]\n"
     ]
    }
   ],
   "source": [
    "print(confusion_matrix(temp[\"label\"], temp[\"label_pred\"]))"
   ]
  },
  {
   "cell_type": "code",
   "execution_count": 65,
   "metadata": {},
   "outputs": [
    {
     "name": "stdout",
     "output_type": "stream",
     "text": [
      "ROC-AUC score: 0.5150\n"
     ]
    }
   ],
   "source": [
    "score = roc_auc_score(temp[\"label\"], temp[\"label_pred\"])\n",
    "print(f\"ROC-AUC score: {score:.4f}\")"
   ]
  },
  {
   "cell_type": "markdown",
   "metadata": {},
   "source": [
    "This model is slightly better distinguishing sounds for this machine that tossing a coin. "
   ]
  },
  {
   "cell_type": "markdown",
   "metadata": {},
   "source": [
    "### Machine_id=06"
   ]
  },
  {
   "cell_type": "code",
   "execution_count": 66,
   "metadata": {},
   "outputs": [
    {
     "name": "stdout",
     "output_type": "stream",
     "text": [
      "              precision    recall  f1-score   support\n",
      "\n",
      "           0       0.51      0.80      0.62       100\n",
      "           1       0.55      0.24      0.33       102\n",
      "\n",
      "    accuracy                           0.51       202\n",
      "   macro avg       0.53      0.52      0.47       202\n",
      "weighted avg       0.53      0.51      0.47       202\n",
      "\n"
     ]
    }
   ],
   "source": [
    "machine_id = \"06\"\n",
    "temp = (\n",
    "    audios_df\n",
    "    .query(\"machine_id == @machine_id and split == 'test'\")\n",
    ")  \n",
    "print(classification_report(temp[\"label\"], temp[\"label_pred\"]))"
   ]
  },
  {
   "cell_type": "code",
   "execution_count": 67,
   "metadata": {},
   "outputs": [
    {
     "name": "stdout",
     "output_type": "stream",
     "text": [
      "[[80 20]\n",
      " [78 24]]\n"
     ]
    }
   ],
   "source": [
    "print(confusion_matrix(temp[\"label\"], temp[\"label_pred\"]))"
   ]
  },
  {
   "cell_type": "code",
   "execution_count": 68,
   "metadata": {},
   "outputs": [
    {
     "name": "stdout",
     "output_type": "stream",
     "text": [
      "ROC-AUC score: 0.5176\n"
     ]
    }
   ],
   "source": [
    "score = roc_auc_score(temp[\"label\"], temp[\"label_pred\"])\n",
    "print(f\"ROC-AUC score: {score:.4f}\")"
   ]
  },
  {
   "cell_type": "markdown",
   "metadata": {},
   "source": [
    "This model is so bad distinguishing sounds for this machine that tossing a coin can predict better. "
   ]
  },
  {
   "cell_type": "markdown",
   "metadata": {},
   "source": [
    "## Conclusions"
   ]
  },
  {
   "cell_type": "markdown",
   "metadata": {},
   "source": [
    "Although we tried to copy the baseline model for the DCASE 2020 challenge, metrics are worse."
   ]
  }
 ],
 "metadata": {
  "interpreter": {
   "hash": "57fde4dc6cdb19e1d76ed7331772e4cf7a15b1a70b768f05e2959c60594bd89b"
  },
  "kernelspec": {
   "display_name": "Python 3.7.10 64-bit ('tfm': conda)",
   "name": "python3"
  },
  "language_info": {
   "codemirror_mode": {
    "name": "ipython",
    "version": 3
   },
   "file_extension": ".py",
   "mimetype": "text/x-python",
   "name": "python",
   "nbconvert_exporter": "python",
   "pygments_lexer": "ipython3",
   "version": "3.7.10"
  },
  "metadata": {
   "interpreter": {
    "hash": "57fde4dc6cdb19e1d76ed7331772e4cf7a15b1a70b768f05e2959c60594bd89b"
   }
  }
 },
 "nbformat": 4,
 "nbformat_minor": 2
}