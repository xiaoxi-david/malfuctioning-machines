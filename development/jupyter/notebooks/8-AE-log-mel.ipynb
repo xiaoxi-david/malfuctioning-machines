{
 "cells": [
  {
   "cell_type": "markdown",
   "metadata": {},
   "source": [
    "# Semi-supervised anomaly detection: log mel-spectrogram - model 1"
   ]
  },
  {
   "cell_type": "markdown",
   "metadata": {},
   "source": [
    "This notebook will show how to implement in Tensorflow the AE model used as baseline for [DCASE 2020](http://dcase.community/challenge2020/task-unsupervised-detection-of-anomalous-sounds)"
   ]
  },
  {
   "cell_type": "markdown",
   "metadata": {},
   "source": [
    "## Libraries"
   ]
  },
  {
   "cell_type": "markdown",
   "metadata": {},
   "source": [
    "Let's load the libraries for this notebook.\r\n",
    "- **Tensorflow dataset** to load the dataset\r\n",
    "- **Tensorflow** to create an AE model\r\n",
    "- **Pandas** to manipulate results\r\n",
    "- **Sklearn** to compute metrics\r\n",
    "- **Plotnine** to plot results"
   ]
  },
  {
   "cell_type": "code",
   "execution_count": 1,
   "metadata": {},
   "outputs": [],
   "source": [
    "import tensorflow_datasets as tfds\r\n",
    "import tensorflow as tf\r\n",
    "\r\n",
    "from tensorflow.keras.layers import (\r\n",
    "    InputLayer,\r\n",
    "    Dense,\r\n",
    "    BatchNormalization,\r\n",
    "    Activation,\r\n",
    ")\r\n",
    "\r\n",
    "from tensorflow.keras import Sequential\r\n",
    "from tensorflow.keras.optimizers import Adam\r\n",
    "from tensorflow.keras.losses import MeanSquaredError\r\n",
    "\r\n",
    "import numpy as np\r\n",
    "import pandas as pd\r\n",
    "\r\n",
    "import sklearn\r\n",
    "from sklearn.metrics import (\r\n",
    "    confusion_matrix, \r\n",
    "    classification_report,\r\n",
    "    roc_auc_score\r\n",
    ")\r\n",
    "\r\n",
    "import plotnine as p9\r\n",
    "\r\n",
    "import datetime\r\n",
    "\r\n",
    "import os\r\n",
    "\r\n",
    "import warnings\r\n",
    "warnings.filterwarnings('ignore')"
   ]
  },
  {
   "cell_type": "code",
   "execution_count": 2,
   "metadata": {},
   "outputs": [
    {
     "name": "stdout",
     "output_type": "stream",
     "text": [
      "Tensorflow datasets: 4.2.0\n",
      "Tensorflow: 2.4.1\n",
      "Sklearn: 0.24.2\n",
      "Numpy: 1.19.5\n",
      "Pandas: 1.2.4\n",
      "Plotnine: 0.8.0\n"
     ]
    }
   ],
   "source": [
    "print(f\"Tensorflow datasets: {tfds.__version__}\")\r\n",
    "print(f\"Tensorflow: {tf.__version__}\")\r\n",
    "print(f\"Sklearn: {sklearn.__version__}\")\r\n",
    "print(f\"Numpy: {np.__version__}\")\r\n",
    "print(f\"Pandas: {pd.__version__}\")\r\n",
    "print(f\"Plotnine: {p9.__version__}\")"
   ]
  },
  {
   "cell_type": "markdown",
   "metadata": {},
   "source": [
    "Let's set the seed for the Tensorflow dataset."
   ]
  },
  {
   "cell_type": "code",
   "execution_count": 3,
   "metadata": {},
   "outputs": [],
   "source": [
    "config = tfds.ReadConfig(try_autocache=True, shuffle_seed=42)"
   ]
  },
  {
   "cell_type": "markdown",
   "metadata": {},
   "source": [
    "## Dataset"
   ]
  },
  {
   "cell_type": "markdown",
   "metadata": {},
   "source": [
    "Let's load the dataset and create three sets (train, validation, test). We make the train set (90%) and validation set (10%) from the train data and the test set from the test data. "
   ]
  },
  {
   "cell_type": "code",
   "execution_count": 4,
   "metadata": {},
   "outputs": [],
   "source": [
    "import pump\n",
    "data_dir = \"../dataset\"\n",
    "\n",
    "(train, val, test), info = tfds.load(\n",
    "    \"pump\",\n",
    "    split=[\"train[:90%]\", \"train[90%:]\", \"test\"],\n",
    "    data_dir=data_dir,\n",
    "    with_info=True,\n",
    "    shuffle_files=True,\n",
    "    read_config=config,\n",
    ")"
   ]
  },
  {
   "cell_type": "markdown",
   "metadata": {},
   "source": [
    "## Feature extraction"
   ]
  },
  {
   "cell_type": "markdown",
   "metadata": {},
   "source": [
    "We will use 128 log mel-band energies from a spectrogram with an analysis frame of 64 ms and 50% hop size. "
   ]
  },
  {
   "cell_type": "code",
   "execution_count": 5,
   "metadata": {},
   "outputs": [],
   "source": [
    "A = tf.signal.linear_to_mel_weight_matrix(\r\n",
    "    num_mel_bins=128, num_spectrogram_bins=512+1, sample_rate=16_000, dtype=tf.float32\r\n",
    ")"
   ]
  },
  {
   "cell_type": "code",
   "execution_count": 6,
   "metadata": {},
   "outputs": [],
   "source": [
    "def mel(item):\r\n",
    "    audio = tf.cast(item[\"audio\"], tf.float32)\r\n",
    "    audio = audio / 2**15\r\n",
    "\r\n",
    "    # Calculate the STFT of the audio signal\r\n",
    "    stfts = tf.signal.stft(\r\n",
    "            audio,\r\n",
    "            frame_length=1024,\r\n",
    "            frame_step=512,\r\n",
    "            pad_end=False,  # librosa test compatibility\r\n",
    "        )\r\n",
    "    # Get Magnitude fo the STFT\r\n",
    "    mag_stfts = tf.abs(stfts)\r\n",
    "\r\n",
    "    # Get the mel-spectrogram\r\n",
    "    melgrams = tf.tensordot(\r\n",
    "            tf.square(mag_stfts), A, axes=1\r\n",
    "    )\r\n",
    "\r\n",
    "    # Change of base for logarithmics: from natural logarithmic to common logarithmic \r\n",
    "    def _tf_log10(x):\r\n",
    "        numerator = tf.math.log(x)\r\n",
    "        denominator = tf.math.log(tf.constant(10, dtype=numerator.dtype))\r\n",
    "        return numerator / denominator\r\n",
    "\r\n",
    "    # Calculate the log-mel spectrogram    \r\n",
    "    log_melgrams = 20 / 2 * _tf_log10(melgrams + 10e-6)\r\n",
    "\r\n",
    "    # Concat 5 time frames together to feed the model\r\n",
    "    concat_melgrams = tf.concat(\r\n",
    "        [\r\n",
    "            tf.roll(log_melgrams, shift=1, axis=0),\r\n",
    "            tf.roll(log_melgrams, shift=2, axis=0),\r\n",
    "            log_melgrams,\r\n",
    "            tf.roll(log_melgrams, shift=-1, axis=0),\r\n",
    "            tf.roll(log_melgrams, shift=-2, axis=0)\r\n",
    "        ],\r\n",
    "        axis=1,\r\n",
    "    )\r\n",
    "    concat_melgrams = concat_melgrams[2:-2,:]\r\n",
    "\r\n",
    "    item[\"audio\"] = concat_melgrams\r\n",
    "    return item"
   ]
  },
  {
   "cell_type": "markdown",
   "metadata": {},
   "source": [
    "Let's prepare the sets for training. AE models need that the input and the output be the same."
   ]
  },
  {
   "cell_type": "code",
   "execution_count": 7,
   "metadata": {},
   "outputs": [],
   "source": [
    "def prep_train(item):\r\n",
    "    return item[\"audio\"], item[\"audio\"]"
   ]
  },
  {
   "cell_type": "code",
   "execution_count": 8,
   "metadata": {},
   "outputs": [],
   "source": [
    "BATCH_SIZE = 512\n",
    "SHUFFLE_BUFFER_SIZE = 1024\n",
    "\n",
    "train = train.map(mel)\n",
    "train2 = train.map(prep_train).batch(BATCH_SIZE)\n",
    "\n",
    "val = train.map(mel)\n",
    "val2 = train.map(prep_train).batch(BATCH_SIZE)\n",
    "\n",
    "test = test.map(mel)\n",
    "test2 = test.batch(BATCH_SIZE)"
   ]
  },
  {
   "cell_type": "markdown",
   "metadata": {},
   "source": [
    "## Training"
   ]
  },
  {
   "cell_type": "markdown",
   "metadata": {},
   "source": [
    "This is the same AE model described used as baseline."
   ]
  },
  {
   "cell_type": "code",
   "execution_count": 9,
   "metadata": {},
   "outputs": [],
   "source": [
    "autoencoder = Sequential(\r\n",
    "    [\r\n",
    "        InputLayer(input_shape=(307, 640)),\r\n",
    "        Dense(128),\r\n",
    "        BatchNormalization(),\r\n",
    "        Activation('relu'),\r\n",
    "        Dense(128),\r\n",
    "        BatchNormalization(),\r\n",
    "        Activation('relu'),\r\n",
    "        Dense(128),\r\n",
    "        BatchNormalization(),\r\n",
    "        Activation('relu'),\r\n",
    "        Dense(128),\r\n",
    "        BatchNormalization(),\r\n",
    "        Activation('relu'),\r\n",
    "        Dense(8),\r\n",
    "        BatchNormalization(),\r\n",
    "        Activation('relu'),\r\n",
    "        Dense(128),\r\n",
    "        BatchNormalization(),\r\n",
    "        Activation('relu'),\r\n",
    "        Dense(128),\r\n",
    "        BatchNormalization(),\r\n",
    "        Activation('relu'),\r\n",
    "        Dense(128),\r\n",
    "        BatchNormalization(),\r\n",
    "        Activation('relu'),\r\n",
    "        Dense(128),\r\n",
    "        BatchNormalization(),\r\n",
    "        Activation('relu'),\r\n",
    "        Dense(640)\r\n",
    "    ]\r\n",
    ")"
   ]
  },
  {
   "cell_type": "code",
   "execution_count": 10,
   "metadata": {},
   "outputs": [
    {
     "name": "stdout",
     "output_type": "stream",
     "text": [
      "Model: \"sequential\"\n",
      "_________________________________________________________________\n",
      "Layer (type)                 Output Shape              Param #   \n",
      "=================================================================\n",
      "dense (Dense)                (None, 307, 128)          82048     \n",
      "_________________________________________________________________\n",
      "batch_normalization (BatchNo (None, 307, 128)          512       \n",
      "_________________________________________________________________\n",
      "activation (Activation)      (None, 307, 128)          0         \n",
      "_________________________________________________________________\n",
      "dense_1 (Dense)              (None, 307, 128)          16512     \n",
      "_________________________________________________________________\n",
      "batch_normalization_1 (Batch (None, 307, 128)          512       \n",
      "_________________________________________________________________\n",
      "activation_1 (Activation)    (None, 307, 128)          0         \n",
      "_________________________________________________________________\n",
      "dense_2 (Dense)              (None, 307, 128)          16512     \n",
      "_________________________________________________________________\n",
      "batch_normalization_2 (Batch (None, 307, 128)          512       \n",
      "_________________________________________________________________\n",
      "activation_2 (Activation)    (None, 307, 128)          0         \n",
      "_________________________________________________________________\n",
      "dense_3 (Dense)              (None, 307, 128)          16512     \n",
      "_________________________________________________________________\n",
      "batch_normalization_3 (Batch (None, 307, 128)          512       \n",
      "_________________________________________________________________\n",
      "activation_3 (Activation)    (None, 307, 128)          0         \n",
      "_________________________________________________________________\n",
      "dense_4 (Dense)              (None, 307, 8)            1032      \n",
      "_________________________________________________________________\n",
      "batch_normalization_4 (Batch (None, 307, 8)            32        \n",
      "_________________________________________________________________\n",
      "activation_4 (Activation)    (None, 307, 8)            0         \n",
      "_________________________________________________________________\n",
      "dense_5 (Dense)              (None, 307, 128)          1152      \n",
      "_________________________________________________________________\n",
      "batch_normalization_5 (Batch (None, 307, 128)          512       \n",
      "_________________________________________________________________\n",
      "activation_5 (Activation)    (None, 307, 128)          0         \n",
      "_________________________________________________________________\n",
      "dense_6 (Dense)              (None, 307, 128)          16512     \n",
      "_________________________________________________________________\n",
      "batch_normalization_6 (Batch (None, 307, 128)          512       \n",
      "_________________________________________________________________\n",
      "activation_6 (Activation)    (None, 307, 128)          0         \n",
      "_________________________________________________________________\n",
      "dense_7 (Dense)              (None, 307, 128)          16512     \n",
      "_________________________________________________________________\n",
      "batch_normalization_7 (Batch (None, 307, 128)          512       \n",
      "_________________________________________________________________\n",
      "activation_7 (Activation)    (None, 307, 128)          0         \n",
      "_________________________________________________________________\n",
      "dense_8 (Dense)              (None, 307, 128)          16512     \n",
      "_________________________________________________________________\n",
      "batch_normalization_8 (Batch (None, 307, 128)          512       \n",
      "_________________________________________________________________\n",
      "activation_8 (Activation)    (None, 307, 128)          0         \n",
      "_________________________________________________________________\n",
      "dense_9 (Dense)              (None, 307, 640)          82560     \n",
      "=================================================================\n",
      "Total params: 269,992\n",
      "Trainable params: 267,928\n",
      "Non-trainable params: 2,064\n",
      "_________________________________________________________________\n"
     ]
    }
   ],
   "source": [
    "autoencoder.summary()"
   ]
  },
  {
   "cell_type": "markdown",
   "metadata": {},
   "source": [
    "We use same parameters as the paper."
   ]
  },
  {
   "cell_type": "code",
   "execution_count": 11,
   "metadata": {},
   "outputs": [],
   "source": [
    "autoencoder.compile(optimizer=Adam(learning_rate=0.001), loss=MeanSquaredError())"
   ]
  },
  {
   "cell_type": "markdown",
   "metadata": {},
   "source": [
    "Let's create a Tensorboard callback to check the results in Tensorboard and a ModelCheckpoint callback to save the best model."
   ]
  },
  {
   "cell_type": "code",
   "execution_count": 12,
   "metadata": {},
   "outputs": [],
   "source": [
    "log_dir = os.path.join('..', 'logs', 'semi-mel', datetime.datetime.now().strftime('%Y%m%d-%H%M%S'))\n",
    "tb_callback = tf.keras.callbacks.TensorBoard(\n",
    "    log_dir, update_freq=1, histogram_freq=1, write_graph=True\n",
    ")"
   ]
  },
  {
   "cell_type": "code",
   "execution_count": 13,
   "metadata": {},
   "outputs": [],
   "source": [
    "checkpoint_filepath = os.path.join(\"tmp\", \"semi-mel\", \"checkpoint\")\n",
    "model_checkpoint_callback = tf.keras.callbacks.ModelCheckpoint(\n",
    "    filepath=checkpoint_filepath,\n",
    "    save_weights_only=True,\n",
    "    monitor='val_loss',\n",
    "    mode='min',\n",
    "    save_best_only=True)"
   ]
  },
  {
   "cell_type": "code",
   "execution_count": 14,
   "metadata": {},
   "outputs": [
    {
     "name": "stdout",
     "output_type": "stream",
     "text": [
      "Epoch 1/100\n",
      "6/6 [==============================] - 61s 10s/step - loss: 222.7778 - val_loss: 221.6551\n",
      "Epoch 2/100\n",
      "6/6 [==============================] - 56s 10s/step - loss: 214.5587 - val_loss: 212.7692\n",
      "Epoch 3/100\n",
      "6/6 [==============================] - 56s 10s/step - loss: 203.4214 - val_loss: 193.7221\n",
      "Epoch 4/100\n",
      "6/6 [==============================] - 55s 10s/step - loss: 191.7568 - val_loss: 165.1941\n",
      "Epoch 5/100\n",
      "6/6 [==============================] - 55s 10s/step - loss: 180.6123 - val_loss: 130.0419\n",
      "Epoch 6/100\n",
      "6/6 [==============================] - 55s 10s/step - loss: 168.6672 - val_loss: 118.1894\n",
      "Epoch 7/100\n",
      "6/6 [==============================] - 55s 10s/step - loss: 159.7115 - val_loss: 113.8179\n",
      "Epoch 8/100\n",
      "6/6 [==============================] - 55s 10s/step - loss: 149.2696 - val_loss: 102.8414\n",
      "Epoch 9/100\n",
      "6/6 [==============================] - 55s 10s/step - loss: 137.9536 - val_loss: 103.0131\n",
      "Epoch 10/100\n",
      "6/6 [==============================] - 55s 10s/step - loss: 128.8833 - val_loss: 103.8253\n",
      "Epoch 11/100\n",
      "6/6 [==============================] - 57s 10s/step - loss: 119.8052 - val_loss: 88.5706\n",
      "Epoch 12/100\n",
      "6/6 [==============================] - 56s 10s/step - loss: 111.4188 - val_loss: 91.5000\n",
      "Epoch 13/100\n",
      "6/6 [==============================] - 58s 10s/step - loss: 102.6275 - val_loss: 77.6114\n",
      "Epoch 14/100\n",
      "6/6 [==============================] - 58s 10s/step - loss: 94.5658 - val_loss: 83.3295\n",
      "Epoch 15/100\n",
      "6/6 [==============================] - 57s 10s/step - loss: 86.7370 - val_loss: 81.5289\n",
      "Epoch 16/100\n",
      "6/6 [==============================] - 58s 10s/step - loss: 79.8526 - val_loss: 74.1256\n",
      "Epoch 17/100\n",
      "6/6 [==============================] - 57s 10s/step - loss: 73.8585 - val_loss: 73.9493\n",
      "Epoch 18/100\n",
      "6/6 [==============================] - 57s 10s/step - loss: 67.7077 - val_loss: 70.6268\n",
      "Epoch 19/100\n",
      "6/6 [==============================] - 57s 10s/step - loss: 61.9431 - val_loss: 59.6652\n",
      "Epoch 20/100\n",
      "6/6 [==============================] - 57s 10s/step - loss: 57.0829 - val_loss: 58.9264\n",
      "Epoch 21/100\n",
      "6/6 [==============================] - 56s 10s/step - loss: 52.8343 - val_loss: 58.9135\n",
      "Epoch 22/100\n",
      "6/6 [==============================] - 57s 10s/step - loss: 48.4489 - val_loss: 52.5205\n",
      "Epoch 23/100\n",
      "6/6 [==============================] - 57s 10s/step - loss: 44.5485 - val_loss: 48.4507\n",
      "Epoch 24/100\n",
      "6/6 [==============================] - 57s 10s/step - loss: 41.1954 - val_loss: 45.9592\n",
      "Epoch 25/100\n",
      "6/6 [==============================] - 57s 10s/step - loss: 38.2407 - val_loss: 42.8817\n",
      "Epoch 26/100\n",
      "6/6 [==============================] - 57s 10s/step - loss: 35.7248 - val_loss: 41.8096\n",
      "Epoch 27/100\n",
      "6/6 [==============================] - 56s 10s/step - loss: 33.5460 - val_loss: 34.8965\n",
      "Epoch 28/100\n",
      "6/6 [==============================] - 56s 10s/step - loss: 31.7603 - val_loss: 37.0147\n",
      "Epoch 29/100\n",
      "6/6 [==============================] - 56s 10s/step - loss: 30.0888 - val_loss: 37.6719\n",
      "Epoch 30/100\n",
      "6/6 [==============================] - 57s 10s/step - loss: 28.4935 - val_loss: 35.2291\n",
      "Epoch 31/100\n",
      "6/6 [==============================] - 58s 10s/step - loss: 27.4790 - val_loss: 35.1754\n",
      "Epoch 32/100\n",
      "6/6 [==============================] - 57s 10s/step - loss: 26.3156 - val_loss: 31.4611\n",
      "Epoch 33/100\n",
      "6/6 [==============================] - 57s 10s/step - loss: 25.5183 - val_loss: 30.0608\n",
      "Epoch 34/100\n",
      "6/6 [==============================] - 57s 10s/step - loss: 24.9272 - val_loss: 30.2799\n",
      "Epoch 35/100\n",
      "6/6 [==============================] - 56s 10s/step - loss: 24.2269 - val_loss: 29.1653\n",
      "Epoch 36/100\n",
      "6/6 [==============================] - 55s 9s/step - loss: 23.7001 - val_loss: 28.1617\n",
      "Epoch 37/100\n",
      "6/6 [==============================] - 51s 9s/step - loss: 23.3849 - val_loss: 26.9677\n",
      "Epoch 38/100\n",
      "6/6 [==============================] - 49s 9s/step - loss: 23.3057 - val_loss: 27.5058\n",
      "Epoch 39/100\n",
      "6/6 [==============================] - 49s 8s/step - loss: 22.5844 - val_loss: 27.7353\n",
      "Epoch 40/100\n",
      "6/6 [==============================] - 51s 9s/step - loss: 22.3507 - val_loss: 25.8926\n",
      "Epoch 41/100\n",
      "6/6 [==============================] - 51s 9s/step - loss: 22.1893 - val_loss: 26.0711\n",
      "Epoch 42/100\n",
      "6/6 [==============================] - 51s 9s/step - loss: 22.0304 - val_loss: 25.6964\n",
      "Epoch 43/100\n",
      "6/6 [==============================] - 50s 9s/step - loss: 21.9096 - val_loss: 25.6576\n",
      "Epoch 44/100\n",
      "6/6 [==============================] - 50s 9s/step - loss: 21.7483 - val_loss: 25.6879\n",
      "Epoch 45/100\n",
      "6/6 [==============================] - 50s 9s/step - loss: 21.5716 - val_loss: 25.7397\n",
      "Epoch 46/100\n",
      "6/6 [==============================] - 50s 9s/step - loss: 21.6923 - val_loss: 25.5148\n",
      "Epoch 47/100\n",
      "6/6 [==============================] - 50s 9s/step - loss: 21.3924 - val_loss: 26.1045\n",
      "Epoch 48/100\n",
      "6/6 [==============================] - 50s 9s/step - loss: 21.3805 - val_loss: 26.3757\n",
      "Epoch 49/100\n",
      "6/6 [==============================] - 50s 9s/step - loss: 21.2959 - val_loss: 25.6874\n",
      "Epoch 50/100\n",
      "6/6 [==============================] - 50s 9s/step - loss: 21.2756 - val_loss: 25.1545\n",
      "Epoch 51/100\n",
      "6/6 [==============================] - 50s 9s/step - loss: 21.1495 - val_loss: 25.3546\n",
      "Epoch 52/100\n",
      "6/6 [==============================] - 50s 9s/step - loss: 21.1751 - val_loss: 25.9150\n",
      "Epoch 53/100\n",
      "6/6 [==============================] - 50s 9s/step - loss: 21.0998 - val_loss: 25.7309\n",
      "Epoch 54/100\n",
      "6/6 [==============================] - 50s 9s/step - loss: 21.0598 - val_loss: 25.2527\n",
      "Epoch 55/100\n",
      "6/6 [==============================] - 50s 9s/step - loss: 20.8795 - val_loss: 25.4366\n",
      "Epoch 56/100\n",
      "6/6 [==============================] - 53s 9s/step - loss: 20.9530 - val_loss: 25.1492\n",
      "Epoch 57/100\n",
      "6/6 [==============================] - 53s 9s/step - loss: 20.8361 - val_loss: 24.7956\n",
      "Epoch 58/100\n",
      "6/6 [==============================] - 51s 9s/step - loss: 20.8577 - val_loss: 24.5204\n",
      "Epoch 59/100\n",
      "6/6 [==============================] - 52s 9s/step - loss: 20.6551 - val_loss: 24.9706\n",
      "Epoch 60/100\n",
      "6/6 [==============================] - 51s 9s/step - loss: 20.7118 - val_loss: 24.4218\n",
      "Epoch 61/100\n",
      "6/6 [==============================] - 51s 9s/step - loss: 20.6821 - val_loss: 24.2204\n",
      "Epoch 62/100\n",
      "6/6 [==============================] - 54s 9s/step - loss: 20.5192 - val_loss: 23.8539\n",
      "Epoch 63/100\n",
      "6/6 [==============================] - 51s 9s/step - loss: 20.5702 - val_loss: 23.6124\n",
      "Epoch 64/100\n",
      "6/6 [==============================] - 51s 9s/step - loss: 20.5971 - val_loss: 23.2011\n",
      "Epoch 65/100\n",
      "6/6 [==============================] - 51s 9s/step - loss: 20.4295 - val_loss: 22.7923\n",
      "Epoch 66/100\n",
      "6/6 [==============================] - 55s 10s/step - loss: 20.4213 - val_loss: 22.7013\n",
      "Epoch 67/100\n",
      "6/6 [==============================] - 51s 9s/step - loss: 20.3070 - val_loss: 22.4448\n",
      "Epoch 68/100\n",
      "6/6 [==============================] - 51s 9s/step - loss: 20.2791 - val_loss: 22.2501\n",
      "Epoch 69/100\n",
      "6/6 [==============================] - 51s 9s/step - loss: 20.1514 - val_loss: 21.7646\n",
      "Epoch 70/100\n",
      "6/6 [==============================] - 51s 9s/step - loss: 20.1898 - val_loss: 21.6334\n",
      "Epoch 71/100\n",
      "6/6 [==============================] - 55s 9s/step - loss: 20.2387 - val_loss: 21.4269\n",
      "Epoch 72/100\n",
      "6/6 [==============================] - 51s 9s/step - loss: 20.1340 - val_loss: 21.4088\n",
      "Epoch 73/100\n",
      "6/6 [==============================] - 50s 9s/step - loss: 20.1177 - val_loss: 21.3572\n",
      "Epoch 74/100\n",
      "6/6 [==============================] - 51s 9s/step - loss: 19.9349 - val_loss: 21.2151\n",
      "Epoch 75/100\n",
      "6/6 [==============================] - 53s 9s/step - loss: 20.0179 - val_loss: 21.2141\n",
      "Epoch 76/100\n",
      "6/6 [==============================] - 60s 10s/step - loss: 19.8522 - val_loss: 21.0743\n",
      "Epoch 77/100\n",
      "6/6 [==============================] - 58s 10s/step - loss: 19.8648 - val_loss: 21.0212\n",
      "Epoch 78/100\n",
      "6/6 [==============================] - 58s 10s/step - loss: 19.7676 - val_loss: 20.8222\n",
      "Epoch 79/100\n",
      "6/6 [==============================] - 58s 10s/step - loss: 19.7478 - val_loss: 20.8968\n",
      "Epoch 80/100\n",
      "6/6 [==============================] - 58s 10s/step - loss: 19.7564 - val_loss: 20.8792\n",
      "Epoch 81/100\n",
      "6/6 [==============================] - 58s 10s/step - loss: 19.6724 - val_loss: 20.6737\n",
      "Epoch 82/100\n",
      "6/6 [==============================] - 60s 10s/step - loss: 19.6032 - val_loss: 20.6489\n",
      "Epoch 83/100\n",
      "6/6 [==============================] - 59s 10s/step - loss: 19.5022 - val_loss: 20.5292\n",
      "Epoch 84/100\n",
      "6/6 [==============================] - 59s 10s/step - loss: 19.4975 - val_loss: 20.5101\n",
      "Epoch 85/100\n",
      "6/6 [==============================] - 59s 10s/step - loss: 19.4861 - val_loss: 20.3917\n",
      "Epoch 86/100\n",
      "6/6 [==============================] - 59s 10s/step - loss: 19.3872 - val_loss: 20.2184\n",
      "Epoch 87/100\n",
      "6/6 [==============================] - 59s 10s/step - loss: 19.3690 - val_loss: 20.1819\n",
      "Epoch 88/100\n",
      "6/6 [==============================] - 58s 10s/step - loss: 19.3257 - val_loss: 20.0879\n",
      "Epoch 89/100\n",
      "6/6 [==============================] - 58s 10s/step - loss: 19.2660 - val_loss: 20.1360\n",
      "Epoch 90/100\n",
      "6/6 [==============================] - 58s 10s/step - loss: 19.2660 - val_loss: 20.0111\n",
      "Epoch 91/100\n",
      "6/6 [==============================] - 57s 10s/step - loss: 19.1565 - val_loss: 19.9673\n",
      "Epoch 92/100\n",
      "6/6 [==============================] - 58s 10s/step - loss: 19.1464 - val_loss: 19.8857\n",
      "Epoch 93/100\n",
      "6/6 [==============================] - 60s 10s/step - loss: 19.0243 - val_loss: 19.6607\n",
      "Epoch 94/100\n",
      "6/6 [==============================] - 59s 10s/step - loss: 19.0330 - val_loss: 19.6633\n",
      "Epoch 95/100\n",
      "6/6 [==============================] - 59s 10s/step - loss: 19.0483 - val_loss: 19.5740\n",
      "Epoch 96/100\n",
      "6/6 [==============================] - 58s 10s/step - loss: 18.9387 - val_loss: 19.5335\n",
      "Epoch 97/100\n",
      "6/6 [==============================] - 59s 10s/step - loss: 18.9348 - val_loss: 19.4610\n",
      "Epoch 98/100\n",
      "6/6 [==============================] - 59s 10s/step - loss: 18.9915 - val_loss: 19.5056\n",
      "Epoch 99/100\n",
      "6/6 [==============================] - 58s 10s/step - loss: 18.9091 - val_loss: 19.3817\n",
      "Epoch 100/100\n",
      "6/6 [==============================] - 58s 10s/step - loss: 18.8426 - val_loss: 19.3267\n"
     ]
    }
   ],
   "source": [
    "history = autoencoder.fit(\r\n",
    "    train2,\r\n",
    "    epochs=100,\r\n",
    "    shuffle=True,\r\n",
    "    validation_data=val2,\r\n",
    "    callbacks=[tb_callback, model_checkpoint_callback],\r\n",
    "    verbose=1,\r\n",
    ")"
   ]
  },
  {
   "cell_type": "markdown",
   "metadata": {},
   "source": [
    "## Testing"
   ]
  },
  {
   "cell_type": "markdown",
   "metadata": {},
   "source": [
    "Let's join train and test set together for faster predictions."
   ]
  },
  {
   "cell_type": "code",
   "execution_count": 15,
   "metadata": {},
   "outputs": [],
   "source": [
    "audios = train.concatenate(test)"
   ]
  },
  {
   "cell_type": "code",
   "execution_count": 16,
   "metadata": {},
   "outputs": [],
   "source": [
    "pred = autoencoder.predict(audios.map(lambda item: item[\"audio\"]).batch(BATCH_SIZE))"
   ]
  },
  {
   "cell_type": "markdown",
   "metadata": {},
   "source": [
    "Let's compute the reconstruction error for all audios."
   ]
  },
  {
   "cell_type": "code",
   "execution_count": 17,
   "metadata": {},
   "outputs": [],
   "source": [
    "error_lst = []\r\n",
    "for item, pred in zip(tfds.as_numpy(audios), pred):\r\n",
    "    error = np.mean(np.square(item[\"audio\"] - pred))\r\n",
    "    error_lst.append(error)"
   ]
  },
  {
   "cell_type": "markdown",
   "metadata": {},
   "source": [
    "To check how the model behaves, we can tranform the Tensorflow dataset into a dataframe and add the previous computed reconstruction error to it."
   ]
  },
  {
   "cell_type": "code",
   "execution_count": 18,
   "metadata": {},
   "outputs": [
    {
     "data": {
      "text/html": "<div>\n<style scoped>\n    .dataframe tbody tr th:only-of-type {\n        vertical-align: middle;\n    }\n\n    .dataframe tbody tr th {\n        vertical-align: top;\n    }\n\n    .dataframe thead th {\n        text-align: right;\n    }\n</style>\n<table border=\"1\" class=\"dataframe\">\n  <thead>\n    <tr style=\"text-align: right;\">\n      <th></th>\n      <th>audio</th>\n      <th>id</th>\n      <th>machine_id</th>\n      <th>split</th>\n      <th>label</th>\n    </tr>\n  </thead>\n  <tbody>\n    <tr>\n      <th>1757</th>\n      <td>[[-3.04029, -3.5188432, -4.4411397, -3.3230824...</td>\n      <td>0462</td>\n      <td>00</td>\n      <td>0</td>\n      <td>0</td>\n    </tr>\n    <tr>\n      <th>1859</th>\n      <td>[[3.376, 4.0787582, 6.522976, 3.2917256, -1.46...</td>\n      <td>0363</td>\n      <td>00</td>\n      <td>0</td>\n      <td>0</td>\n    </tr>\n    <tr>\n      <th>229</th>\n      <td>[[-11.679119, -12.636805, -17.260406, -23.9582...</td>\n      <td>0857</td>\n      <td>00</td>\n      <td>0</td>\n      <td>0</td>\n    </tr>\n    <tr>\n      <th>2366</th>\n      <td>[[-14.110062, -15.339539, -27.698782, -14.4990...</td>\n      <td>0058</td>\n      <td>00</td>\n      <td>0</td>\n      <td>0</td>\n    </tr>\n    <tr>\n      <th>1683</th>\n      <td>[[-7.402933, -8.136212, -10.589108, -2.9100976...</td>\n      <td>0019</td>\n      <td>00</td>\n      <td>0</td>\n      <td>0</td>\n    </tr>\n  </tbody>\n</table>\n</div>",
      "text/plain": "                                                  audio    id machine_id  \\\n1757  [[-3.04029, -3.5188432, -4.4411397, -3.3230824...  0462         00   \n1859  [[3.376, 4.0787582, 6.522976, 3.2917256, -1.46...  0363         00   \n229   [[-11.679119, -12.636805, -17.260406, -23.9582...  0857         00   \n2366  [[-14.110062, -15.339539, -27.698782, -14.4990...  0058         00   \n1683  [[-7.402933, -8.136212, -10.589108, -2.9100976...  0019         00   \n\n     split label  \n1757     0     0  \n1859     0     0  \n229      0     0  \n2366     0     0  \n1683     0     0  "
     },
     "execution_count": 18,
     "metadata": {},
     "output_type": "execute_result"
    }
   ],
   "source": [
    "audios_df = tfds.as_dataframe(audios, info)\n",
    "\n",
    "# Convert byte-type texts to string-type texts\n",
    "for col in audios_df:\n",
    "    if isinstance(audios_df[col][0], bytes):\n",
    "        audios_df[col] = audios_df[col].str.decode(\"utf8\")\n",
    "\n",
    "dct_columns = {\n",
    "    \"audio/id\": \"id\", \n",
    "    \"audio/machine\": \"machine_id\", \n",
    "    \"audio/split\": \"split\",\n",
    "}\n",
    "\n",
    "# Convert object-type columns to a more convenient data type\n",
    "dct_types = {\n",
    "    \"id\": \"string\",\n",
    "    \"machine_id\": \"category\",\n",
    "    \"split\": \"category\",\n",
    "    \"label\": \"category\",\n",
    "}\n",
    "\n",
    "audios_df = (\n",
    "    audios_df\n",
    "    .rename(columns=dct_columns)\n",
    "    .astype(dct_types)\n",
    ")\n",
    "\n",
    "audios_df.sample(5)"
   ]
  },
  {
   "cell_type": "code",
   "execution_count": 19,
   "metadata": {},
   "outputs": [],
   "source": [
    "audios_df[\"error\"] = error_lst"
   ]
  },
  {
   "cell_type": "code",
   "execution_count": 20,
   "metadata": {},
   "outputs": [
    {
     "data": {
      "text/html": "<div>\n<style scoped>\n    .dataframe tbody tr th:only-of-type {\n        vertical-align: middle;\n    }\n\n    .dataframe tbody tr th {\n        vertical-align: top;\n    }\n\n    .dataframe thead th {\n        text-align: right;\n    }\n</style>\n<table border=\"1\" class=\"dataframe\">\n  <thead>\n    <tr style=\"text-align: right;\">\n      <th></th>\n      <th>audio</th>\n      <th>id</th>\n      <th>machine_id</th>\n      <th>split</th>\n      <th>label</th>\n      <th>error</th>\n    </tr>\n  </thead>\n  <tbody>\n    <tr>\n      <th>2500</th>\n      <td>[[-15.055285, -14.061519, -11.157044, -1.05378...</td>\n      <td>0829</td>\n      <td>02</td>\n      <td>0</td>\n      <td>0</td>\n      <td>41.018757</td>\n    </tr>\n    <tr>\n      <th>3361</th>\n      <td>[[-1.6490643, -0.27319902, 3.1322317, -0.18713...</td>\n      <td>0089</td>\n      <td>00</td>\n      <td>1</td>\n      <td>1</td>\n      <td>33.193142</td>\n    </tr>\n    <tr>\n      <th>648</th>\n      <td>[[-15.040683, -14.947614, -13.811647, -5.13650...</td>\n      <td>0270</td>\n      <td>02</td>\n      <td>0</td>\n      <td>0</td>\n      <td>26.648193</td>\n    </tr>\n    <tr>\n      <th>1728</th>\n      <td>[[-11.432711, -10.505246, -7.6987658, -7.82518...</td>\n      <td>0038</td>\n      <td>04</td>\n      <td>0</td>\n      <td>0</td>\n      <td>20.967920</td>\n    </tr>\n    <tr>\n      <th>2448</th>\n      <td>[[-11.697044, -10.087462, -6.420618, -3.416823...</td>\n      <td>0401</td>\n      <td>02</td>\n      <td>0</td>\n      <td>0</td>\n      <td>22.544340</td>\n    </tr>\n  </tbody>\n</table>\n</div>",
      "text/plain": "                                                  audio    id machine_id  \\\n2500  [[-15.055285, -14.061519, -11.157044, -1.05378...  0829         02   \n3361  [[-1.6490643, -0.27319902, 3.1322317, -0.18713...  0089         00   \n648   [[-15.040683, -14.947614, -13.811647, -5.13650...  0270         02   \n1728  [[-11.432711, -10.505246, -7.6987658, -7.82518...  0038         04   \n2448  [[-11.697044, -10.087462, -6.420618, -3.416823...  0401         02   \n\n     split label      error  \n2500     0     0  41.018757  \n3361     1     1  33.193142  \n648      0     0  26.648193  \n1728     0     0  20.967920  \n2448     0     0  22.544340  "
     },
     "execution_count": 20,
     "metadata": {},
     "output_type": "execute_result"
    }
   ],
   "source": [
    "audios_df.sample(5)"
   ]
  },
  {
   "cell_type": "code",
   "execution_count": 21,
   "metadata": {},
   "outputs": [
    {
     "data": {
      "text/html": "<div>\n<style scoped>\n    .dataframe tbody tr th:only-of-type {\n        vertical-align: middle;\n    }\n\n    .dataframe tbody tr th {\n        vertical-align: top;\n    }\n\n    .dataframe thead tr th {\n        text-align: left;\n    }\n\n    .dataframe thead tr:last-of-type th {\n        text-align: right;\n    }\n</style>\n<table border=\"1\" class=\"dataframe\">\n  <thead>\n    <tr>\n      <th></th>\n      <th colspan=\"2\" halign=\"left\">error</th>\n    </tr>\n    <tr>\n      <th></th>\n      <th>mean</th>\n      <th>std</th>\n    </tr>\n    <tr>\n      <th>machine_id</th>\n      <th></th>\n      <th></th>\n    </tr>\n  </thead>\n  <tbody>\n    <tr>\n      <th>00</th>\n      <td>33.282516</td>\n      <td>14.097515</td>\n    </tr>\n    <tr>\n      <th>02</th>\n      <td>32.918655</td>\n      <td>15.178963</td>\n    </tr>\n    <tr>\n      <th>04</th>\n      <td>34.205400</td>\n      <td>16.445124</td>\n    </tr>\n    <tr>\n      <th>06</th>\n      <td>32.817989</td>\n      <td>12.519745</td>\n    </tr>\n  </tbody>\n</table>\n</div>",
      "text/plain": "                error           \n                 mean        std\nmachine_id                      \n00          33.282516  14.097515\n02          32.918655  15.178963\n04          34.205400  16.445124\n06          32.817989  12.519745"
     },
     "execution_count": 21,
     "metadata": {},
     "output_type": "execute_result"
    }
   ],
   "source": [
    "(\n",
    "    audios_df\n",
    "    .query(\"split == 0\")\n",
    "    .groupby(\"machine_id\")\n",
    "    .agg({\"error\": [\"mean\", \"std\"]})\n",
    ")"
   ]
  },
  {
   "cell_type": "code",
   "execution_count": 22,
   "metadata": {},
   "outputs": [
    {
     "data": {
      "text/html": "<div>\n<style scoped>\n    .dataframe tbody tr th:only-of-type {\n        vertical-align: middle;\n    }\n\n    .dataframe tbody tr th {\n        vertical-align: top;\n    }\n\n    .dataframe thead tr th {\n        text-align: left;\n    }\n\n    .dataframe thead tr:last-of-type th {\n        text-align: right;\n    }\n</style>\n<table border=\"1\" class=\"dataframe\">\n  <thead>\n    <tr>\n      <th></th>\n      <th></th>\n      <th colspan=\"2\" halign=\"left\">error</th>\n    </tr>\n    <tr>\n      <th></th>\n      <th></th>\n      <th>mean</th>\n      <th>std</th>\n    </tr>\n    <tr>\n      <th>label</th>\n      <th>machine_id</th>\n      <th></th>\n      <th></th>\n    </tr>\n  </thead>\n  <tbody>\n    <tr>\n      <th rowspan=\"4\" valign=\"top\">0</th>\n      <th>00</th>\n      <td>39.481560</td>\n      <td>20.855317</td>\n    </tr>\n    <tr>\n      <th>02</th>\n      <td>37.584921</td>\n      <td>16.674927</td>\n    </tr>\n    <tr>\n      <th>04</th>\n      <td>37.952985</td>\n      <td>14.877208</td>\n    </tr>\n    <tr>\n      <th>06</th>\n      <td>42.101414</td>\n      <td>22.763874</td>\n    </tr>\n    <tr>\n      <th rowspan=\"4\" valign=\"top\">1</th>\n      <th>00</th>\n      <td>42.980976</td>\n      <td>22.355795</td>\n    </tr>\n    <tr>\n      <th>02</th>\n      <td>41.256875</td>\n      <td>22.736207</td>\n    </tr>\n    <tr>\n      <th>04</th>\n      <td>37.791416</td>\n      <td>17.864098</td>\n    </tr>\n    <tr>\n      <th>06</th>\n      <td>37.364892</td>\n      <td>15.108028</td>\n    </tr>\n  </tbody>\n</table>\n</div>",
      "text/plain": "                      error           \n                       mean        std\nlabel machine_id                      \n0     00          39.481560  20.855317\n      02          37.584921  16.674927\n      04          37.952985  14.877208\n      06          42.101414  22.763874\n1     00          42.980976  22.355795\n      02          41.256875  22.736207\n      04          37.791416  17.864098\n      06          37.364892  15.108028"
     },
     "execution_count": 22,
     "metadata": {},
     "output_type": "execute_result"
    }
   ],
   "source": [
    "(\n",
    "    audios_df\n",
    "    .query(\"split == 1\")\n",
    "    .groupby([\"label\", \"machine_id\"])\n",
    "    .agg({\"error\": [\"mean\", \"std\"]})\n",
    ")"
   ]
  },
  {
   "cell_type": "markdown",
   "metadata": {},
   "source": [
    "It seems this model can't distinguish anomaly sound from normal sounds very well.\r\n",
    "\r\n",
    "Let's plot the a histogram of the construction error per machine to see more clear."
   ]
  },
  {
   "cell_type": "code",
   "execution_count": 23,
   "metadata": {},
   "outputs": [
    {
     "data": {
      "image/png": "[encoded data removed]",
      "text/plain": "<Figure size 640x480 with 4 Axes>"
     },
     "metadata": {},
     "output_type": "display_data"
    },
    {
     "name": "stdout",
     "output_type": "stream",
     "text": [
      "\n"
     ]
    }
   ],
   "source": [
    "p = (\n",
    "    p9.ggplot(audios_df.query(\"split == 1\"), p9.aes(x=\"error\", fill=\"label\"))\n",
    "    + p9.geom_histogram(\n",
    "        p9.aes(y=\"stat(count)\"), position=\"identity\", alpha=0.75\n",
    "    )\n",
    "    + p9.scale_x_continuous(name=\"Reconstruction error\")\n",
    "    + p9.scale_y_continuous(name=\"Count\")\n",
    "    + p9.labs(\n",
    "        title=\"Histogram of reconstruction error\",\n",
    "    )\n",
    "    + p9.scale_fill_brewer(type=\"qualitative\", palette=\"Accent\") \n",
    "    + p9.facet_grid(\"machine_id ~ .\", scales=\"free\")\n",
    "    + p9.theme_bw()\n",
    "    + p9.theme(\n",
    "        panel_border=p9.element_rect(colour=\"black\", fill=None, size=0.5),\n",
    "        axis_text_x=p9.element_text(colour=\"black\", size=9),\n",
    "        axis_text_y=p9.element_text(colour=\"black\", size=9),\n",
    "        legend_key=p9.element_blank(),\n",
    "        legend_title=p9.element_blank(),\n",
    "        panel_grid_major=p9.element_line(colour=\"#d3d3d3\"),\n",
    "        panel_grid_minor=p9.element_blank(),\n",
    "        panel_background=p9.element_blank(),\n",
    "        plot_title=p9.element_text(size=14, family=\"Tahoma\", face=\"bold\"),\n",
    "        text=p9.element_text(family=\"Tahoma\"),\n",
    "    )\n",
    ")\n",
    "\n",
    "print(p)"
   ]
  },
  {
   "cell_type": "markdown",
   "metadata": {},
   "source": [
    "Histograms show more clear that the model can't differentiate anomaly audios from normal audio very well."
   ]
  },
  {
   "cell_type": "markdown",
   "metadata": {},
   "source": [
    "This [AWS](https://aws.amazon.com/es/blogs/machine-learning/performing-anomaly-detection-on-industrial-equipment-using-audio-signals/) post shows how the histogram from a good model should look like.\r\n",
    "\r\n",
    "![Better model](https://d2908q01vomqb2.cloudfront.net/f1f836cb4ea6efb2a0b1b99f41ad8b103eff4b59/2020/12/22/ML-1479-4.jpg)"
   ]
  },
  {
   "cell_type": "markdown",
   "metadata": {},
   "source": [
    "## Metrics"
   ]
  },
  {
   "cell_type": "markdown",
   "metadata": {},
   "source": [
    "Let's see how bad our model is. To distinguish anomaly audios from normal audios, we set the threshold one standard deviation above the mean of the train set. "
   ]
  },
  {
   "cell_type": "code",
   "execution_count": 24,
   "metadata": {},
   "outputs": [],
   "source": [
    "avg = (\r\n",
    "    audios_df\r\n",
    "    .query(\"split == 0\")\r\n",
    "    [\"error\"]\r\n",
    "    .mean()\r\n",
    ")\r\n",
    "\r\n",
    "std = (\r\n",
    "    audios_df\r\n",
    "    .query(\"split == 0\")\r\n",
    "    [\"error\"]\r\n",
    "    .std()\r\n",
    ")\r\n",
    "\r\n",
    "threshold = avg + std"
   ]
  },
  {
   "cell_type": "markdown",
   "metadata": {},
   "source": [
    "Let's create a new column with the predicted label based on the threshold."
   ]
  },
  {
   "cell_type": "code",
   "execution_count": 25,
   "metadata": {},
   "outputs": [
    {
     "name": "stdout",
     "output_type": "stream",
     "text": [
      "47.659890841647126\n"
     ]
    }
   ],
   "source": [
    "print(threshold)"
   ]
  },
  {
   "cell_type": "code",
   "execution_count": 26,
   "metadata": {},
   "outputs": [
    {
     "data": {
      "text/html": "<div>\n<style scoped>\n    .dataframe tbody tr th:only-of-type {\n        vertical-align: middle;\n    }\n\n    .dataframe tbody tr th {\n        vertical-align: top;\n    }\n\n    .dataframe thead th {\n        text-align: right;\n    }\n</style>\n<table border=\"1\" class=\"dataframe\">\n  <thead>\n    <tr style=\"text-align: right;\">\n      <th></th>\n      <th>audio</th>\n      <th>id</th>\n      <th>machine_id</th>\n      <th>split</th>\n      <th>label</th>\n      <th>error</th>\n      <th>label_pred</th>\n    </tr>\n  </thead>\n  <tbody>\n    <tr>\n      <th>0</th>\n      <td>[[-4.487632, -5.356105, -8.969563, 0.9362756, ...</td>\n      <td>0811</td>\n      <td>02</td>\n      <td>0</td>\n      <td>0</td>\n      <td>27.111467</td>\n      <td>0</td>\n    </tr>\n    <tr>\n      <th>1</th>\n      <td>[[-3.4570742, -1.7174281, 2.0827863, -6.854372...</td>\n      <td>0144</td>\n      <td>00</td>\n      <td>0</td>\n      <td>0</td>\n      <td>33.474049</td>\n      <td>0</td>\n    </tr>\n    <tr>\n      <th>2</th>\n      <td>[[-18.791222, -12.935072, -7.0691338, 1.115096...</td>\n      <td>0773</td>\n      <td>06</td>\n      <td>0</td>\n      <td>0</td>\n      <td>43.369644</td>\n      <td>0</td>\n    </tr>\n    <tr>\n      <th>3</th>\n      <td>[[-2.9446628, -2.0784752, 0.634026, -0.0055954...</td>\n      <td>0425</td>\n      <td>02</td>\n      <td>0</td>\n      <td>0</td>\n      <td>43.816982</td>\n      <td>0</td>\n    </tr>\n    <tr>\n      <th>4</th>\n      <td>[[-0.97368175, -1.4708502, -2.4858472, -13.992...</td>\n      <td>0191</td>\n      <td>04</td>\n      <td>0</td>\n      <td>0</td>\n      <td>20.296885</td>\n      <td>0</td>\n    </tr>\n  </tbody>\n</table>\n</div>",
      "text/plain": "                                               audio    id machine_id split  \\\n0  [[-4.487632, -5.356105, -8.969563, 0.9362756, ...  0811         02     0   \n1  [[-3.4570742, -1.7174281, 2.0827863, -6.854372...  0144         00     0   \n2  [[-18.791222, -12.935072, -7.0691338, 1.115096...  0773         06     0   \n3  [[-2.9446628, -2.0784752, 0.634026, -0.0055954...  0425         02     0   \n4  [[-0.97368175, -1.4708502, -2.4858472, -13.992...  0191         04     0   \n\n  label      error  label_pred  \n0     0  27.111467           0  \n1     0  33.474049           0  \n2     0  43.369644           0  \n3     0  43.816982           0  \n4     0  20.296885           0  "
     },
     "execution_count": 26,
     "metadata": {},
     "output_type": "execute_result"
    }
   ],
   "source": [
    "audios_df[\"label_pred\"] = audios_df[\"error\"] > threshold\r\n",
    "\r\n",
    "audios_df = audios_df.astype({\"label_pred\": \"int\"})\r\n",
    "audios_df.head()"
   ]
  },
  {
   "cell_type": "markdown",
   "metadata": {},
   "source": [
    "Let's show the precision, recall, f1-score and roc-auc score for the four machines."
   ]
  },
  {
   "cell_type": "markdown",
   "metadata": {},
   "source": [
    "### Machine_id=00"
   ]
  },
  {
   "cell_type": "code",
   "execution_count": 27,
   "metadata": {},
   "outputs": [
    {
     "name": "stdout",
     "output_type": "stream",
     "text": [
      "              precision    recall  f1-score   support\n",
      "\n",
      "           0       0.43      0.78      0.56       100\n",
      "           1       0.65      0.28      0.39       143\n",
      "\n",
      "    accuracy                           0.49       243\n",
      "   macro avg       0.54      0.53      0.47       243\n",
      "weighted avg       0.56      0.49      0.46       243\n",
      "\n"
     ]
    }
   ],
   "source": [
    "machine_id = \"00\"\r\n",
    "temp = (\r\n",
    "    audios_df\r\n",
    "    .query(\"machine_id == @machine_id and split == 1\")\r\n",
    ")  \r\n",
    "print(classification_report(temp[\"label\"], temp[\"label_pred\"]))"
   ]
  },
  {
   "cell_type": "code",
   "execution_count": 28,
   "metadata": {},
   "outputs": [
    {
     "name": "stdout",
     "output_type": "stream",
     "text": [
      "[[ 78  22]\n",
      " [103  40]]\n"
     ]
    }
   ],
   "source": [
    "print(confusion_matrix(temp[\"label\"], temp[\"label_pred\"]))"
   ]
  },
  {
   "cell_type": "code",
   "execution_count": 29,
   "metadata": {},
   "outputs": [
    {
     "name": "stdout",
     "output_type": "stream",
     "text": [
      "ROC-AUC score: 0.5299\n"
     ]
    }
   ],
   "source": [
    "score = roc_auc_score(temp[\"label\"], temp[\"label_pred\"])\r\n",
    "print(f\"ROC-AUC score: {score:.4f}\")"
   ]
  },
  {
   "cell_type": "markdown",
   "metadata": {},
   "source": [
    "This model is slightly better distinguishing sounds for this machine that tossing a coin. "
   ]
  },
  {
   "cell_type": "markdown",
   "metadata": {},
   "source": [
    "### Machine_id=02"
   ]
  },
  {
   "cell_type": "code",
   "execution_count": 30,
   "metadata": {},
   "outputs": [
    {
     "name": "stdout",
     "output_type": "stream",
     "text": [
      "              precision    recall  f1-score   support\n",
      "\n",
      "           0       0.47      0.76      0.58       100\n",
      "           1       0.53      0.24      0.33       111\n",
      "\n",
      "    accuracy                           0.49       211\n",
      "   macro avg       0.50      0.50      0.46       211\n",
      "weighted avg       0.50      0.49      0.45       211\n",
      "\n"
     ]
    }
   ],
   "source": [
    "machine_id = \"02\"\r\n",
    "temp = (\r\n",
    "    audios_df\r\n",
    "    .query(\"machine_id == @machine_id and split == 1\")\r\n",
    ")  \r\n",
    "print(classification_report(temp[\"label\"], temp[\"label_pred\"]))"
   ]
  },
  {
   "cell_type": "code",
   "execution_count": 31,
   "metadata": {},
   "outputs": [
    {
     "name": "stdout",
     "output_type": "stream",
     "text": [
      "[[76 24]\n",
      " [84 27]]\n"
     ]
    }
   ],
   "source": [
    "print(confusion_matrix(temp[\"label\"], temp[\"label_pred\"]))"
   ]
  },
  {
   "cell_type": "code",
   "execution_count": 32,
   "metadata": {},
   "outputs": [
    {
     "name": "stdout",
     "output_type": "stream",
     "text": [
      "ROC-AUC score: 0.5016\n"
     ]
    }
   ],
   "source": [
    "score = roc_auc_score(temp[\"label\"], temp[\"label_pred\"])\r\n",
    "print(f\"ROC-AUC score: {score:.4f}\")"
   ]
  },
  {
   "cell_type": "markdown",
   "metadata": {},
   "source": [
    "This model is slightly better distinguishing sounds for this machine that tossing a coin. "
   ]
  },
  {
   "cell_type": "markdown",
   "metadata": {},
   "source": [
    "### Machine_id=04"
   ]
  },
  {
   "cell_type": "code",
   "execution_count": 33,
   "metadata": {},
   "outputs": [
    {
     "name": "stdout",
     "output_type": "stream",
     "text": [
      "              precision    recall  f1-score   support\n",
      "\n",
      "           0       0.51      0.81      0.63       100\n",
      "           1       0.55      0.23      0.32       100\n",
      "\n",
      "    accuracy                           0.52       200\n",
      "   macro avg       0.53      0.52      0.48       200\n",
      "weighted avg       0.53      0.52      0.48       200\n",
      "\n"
     ]
    }
   ],
   "source": [
    "machine_id = \"04\"\r\n",
    "temp = (\r\n",
    "    audios_df\r\n",
    "    .query(\"machine_id == @machine_id and split == 1\")\r\n",
    ")  \r\n",
    "print(classification_report(temp[\"label\"], temp[\"label_pred\"]))"
   ]
  },
  {
   "cell_type": "code",
   "execution_count": 34,
   "metadata": {},
   "outputs": [
    {
     "name": "stdout",
     "output_type": "stream",
     "text": [
      "[[81 19]\n",
      " [77 23]]\n"
     ]
    }
   ],
   "source": [
    "print(confusion_matrix(temp[\"label\"], temp[\"label_pred\"]))"
   ]
  },
  {
   "cell_type": "code",
   "execution_count": 35,
   "metadata": {},
   "outputs": [
    {
     "name": "stdout",
     "output_type": "stream",
     "text": [
      "ROC-AUC score: 0.5200\n"
     ]
    }
   ],
   "source": [
    "score = roc_auc_score(temp[\"label\"], temp[\"label_pred\"])\r\n",
    "print(f\"ROC-AUC score: {score:.4f}\")"
   ]
  },
  {
   "cell_type": "markdown",
   "metadata": {},
   "source": [
    "This model is slightly better distinguishing sounds for this machine that tossing a coin. "
   ]
  },
  {
   "cell_type": "markdown",
   "metadata": {},
   "source": [
    "### Machine_id=06"
   ]
  },
  {
   "cell_type": "code",
   "execution_count": 36,
   "metadata": {},
   "outputs": [
    {
     "name": "stdout",
     "output_type": "stream",
     "text": [
      "              precision    recall  f1-score   support\n",
      "\n",
      "           0       0.47      0.74      0.58       100\n",
      "           1       0.42      0.19      0.26       102\n",
      "\n",
      "    accuracy                           0.46       202\n",
      "   macro avg       0.45      0.46      0.42       202\n",
      "weighted avg       0.45      0.46      0.42       202\n",
      "\n"
     ]
    }
   ],
   "source": [
    "machine_id = \"06\"\r\n",
    "temp = (\r\n",
    "    audios_df\r\n",
    "    .query(\"machine_id == @machine_id and split == 1\")\r\n",
    ")  \r\n",
    "print(classification_report(temp[\"label\"], temp[\"label_pred\"]))"
   ]
  },
  {
   "cell_type": "code",
   "execution_count": 37,
   "metadata": {},
   "outputs": [
    {
     "name": "stdout",
     "output_type": "stream",
     "text": [
      "[[74 26]\n",
      " [83 19]]\n"
     ]
    }
   ],
   "source": [
    "print(confusion_matrix(temp[\"label\"], temp[\"label_pred\"]))"
   ]
  },
  {
   "cell_type": "code",
   "execution_count": 38,
   "metadata": {},
   "outputs": [
    {
     "name": "stdout",
     "output_type": "stream",
     "text": [
      "ROC-AUC score: 0.4631\n"
     ]
    }
   ],
   "source": [
    "score = roc_auc_score(temp[\"label\"], temp[\"label_pred\"])\r\n",
    "print(f\"ROC-AUC score: {score:.4f}\")"
   ]
  },
  {
   "cell_type": "markdown",
   "metadata": {},
   "source": [
    "This model is so bad distinguishing sounds for this machine that tossing a coin can predict better. "
   ]
  },
  {
   "cell_type": "markdown",
   "metadata": {},
   "source": [
    "## Conclusions"
   ]
  },
  {
   "cell_type": "markdown",
   "metadata": {},
   "source": [
    "Although we tried to copy the baseline model for the DCASE 2020 challenge, metrics are worse."
   ]
  }
 ],
 "metadata": {
  "interpreter": {
   "hash": "57fde4dc6cdb19e1d76ed7331772e4cf7a15b1a70b768f05e2959c60594bd89b"
  },
  "kernelspec": {
   "display_name": "Python 3.7.10 64-bit ('tfm': conda)",
   "name": "python3"
  },
  "language_info": {
   "name": "python",
   "version": ""
  },
  "metadata": {
   "interpreter": {
    "hash": "57fde4dc6cdb19e1d76ed7331772e4cf7a15b1a70b768f05e2959c60594bd89b"
   }
  }
 },
 "nbformat": 4,
 "nbformat_minor": 2
}