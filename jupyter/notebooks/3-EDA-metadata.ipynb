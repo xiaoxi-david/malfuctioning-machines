{
 "cells": [
  {
   "cell_type": "markdown",
   "metadata": {},
   "source": [
    "## Load libraries"
   ]
  },
  {
   "cell_type": "code",
   "execution_count": 1,
   "metadata": {},
   "outputs": [],
   "source": [
    "import pandas as pd\n",
    "\n",
    "import warnings\n",
    "warnings.filterwarnings('ignore')"
   ]
  },
  {
   "cell_type": "code",
   "execution_count": 2,
   "metadata": {},
   "outputs": [
    {
     "name": "stdout",
     "output_type": "stream",
     "text": [
      "Pandas: 1.2.4\n"
     ]
    }
   ],
   "source": [
    "print(f\"Pandas: {pd.__version__}\")"
   ]
  },
  {
   "cell_type": "markdown",
   "metadata": {},
   "source": [
    "## Load metadata"
   ]
  },
  {
   "cell_type": "code",
   "execution_count": 3,
   "metadata": {},
   "outputs": [],
   "source": [
    "filenames_df = pd.read_csv(\"https://raw.githubusercontent.com/xiaoxi-david/malfunctioning-machines/main/jupyter/csv/filenames.csv\")"
   ]
  },
  {
   "cell_type": "code",
   "execution_count": 4,
   "metadata": {},
   "outputs": [
    {
     "data": {
      "text/html": "<div>\n<style scoped>\n    .dataframe tbody tr th:only-of-type {\n        vertical-align: middle;\n    }\n\n    .dataframe tbody tr th {\n        vertical-align: top;\n    }\n\n    .dataframe thead th {\n        text-align: right;\n    }\n</style>\n<table border=\"1\" class=\"dataframe\">\n  <thead>\n    <tr style=\"text-align: right;\">\n      <th></th>\n      <th>filename</th>\n    </tr>\n  </thead>\n  <tbody>\n    <tr>\n      <th>141</th>\n      <td>pump\\test\\anomaly_id_00_00000141.wav</td>\n    </tr>\n    <tr>\n      <th>1897</th>\n      <td>pump\\train\\normal_id_02_00000135.wav</td>\n    </tr>\n    <tr>\n      <th>355</th>\n      <td>pump\\test\\anomaly_id_06_00000001.wav</td>\n    </tr>\n    <tr>\n      <th>3983</th>\n      <td>pump\\train\\normal_id_06_00000714.wav</td>\n    </tr>\n    <tr>\n      <th>1174</th>\n      <td>pump\\train\\normal_id_00_00000318.wav</td>\n    </tr>\n  </tbody>\n</table>\n</div>",
      "text/plain": "                                  filename\n141   pump\\test\\anomaly_id_00_00000141.wav\n1897  pump\\train\\normal_id_02_00000135.wav\n355   pump\\test\\anomaly_id_06_00000001.wav\n3983  pump\\train\\normal_id_06_00000714.wav\n1174  pump\\train\\normal_id_00_00000318.wav"
     },
     "execution_count": 4,
     "metadata": {},
     "output_type": "execute_result"
    }
   ],
   "source": [
    "filenames_df.sample(5)"
   ]
  },
  {
   "cell_type": "code",
   "execution_count": 5,
   "metadata": {},
   "outputs": [],
   "source": [
    "machines_df = (\n",
    "    filenames_df[\"filename\"]\n",
    "    .str.extract(r\"(pump).(train|test).(normal|anomaly)_id_(\\d{2})_\\d{4}(\\d{4})\", expand=True)\n",
    "    .rename(columns={0: \"machine_type\", 1: \"split\", 2: \"label\", 3: \"machine_id\", 4: \"audio_id\", 5: \"ext\"})\n",
    ")"
   ]
  },
  {
   "cell_type": "code",
   "execution_count": 6,
   "metadata": {},
   "outputs": [
    {
     "data": {
      "text/html": "<div>\n<style scoped>\n    .dataframe tbody tr th:only-of-type {\n        vertical-align: middle;\n    }\n\n    .dataframe tbody tr th {\n        vertical-align: top;\n    }\n\n    .dataframe thead th {\n        text-align: right;\n    }\n</style>\n<table border=\"1\" class=\"dataframe\">\n  <thead>\n    <tr style=\"text-align: right;\">\n      <th></th>\n      <th>machine_type</th>\n      <th>split</th>\n      <th>label</th>\n      <th>machine_id</th>\n      <th>audio_id</th>\n    </tr>\n  </thead>\n  <tbody>\n    <tr>\n      <th>2810</th>\n      <td>pump</td>\n      <td>train</td>\n      <td>normal</td>\n      <td>04</td>\n      <td>0143</td>\n    </tr>\n    <tr>\n      <th>1873</th>\n      <td>pump</td>\n      <td>train</td>\n      <td>normal</td>\n      <td>02</td>\n      <td>0111</td>\n    </tr>\n    <tr>\n      <th>1795</th>\n      <td>pump</td>\n      <td>train</td>\n      <td>normal</td>\n      <td>02</td>\n      <td>0033</td>\n    </tr>\n    <tr>\n      <th>3734</th>\n      <td>pump</td>\n      <td>train</td>\n      <td>normal</td>\n      <td>06</td>\n      <td>0465</td>\n    </tr>\n    <tr>\n      <th>3970</th>\n      <td>pump</td>\n      <td>train</td>\n      <td>normal</td>\n      <td>06</td>\n      <td>0701</td>\n    </tr>\n  </tbody>\n</table>\n</div>",
      "text/plain": "     machine_type  split   label machine_id audio_id\n2810         pump  train  normal         04     0143\n1873         pump  train  normal         02     0111\n1795         pump  train  normal         02     0033\n3734         pump  train  normal         06     0465\n3970         pump  train  normal         06     0701"
     },
     "execution_count": 6,
     "metadata": {},
     "output_type": "execute_result"
    }
   ],
   "source": [
    "machines_df.sample(5)"
   ]
  },
  {
   "cell_type": "markdown",
   "metadata": {},
   "source": [
    "## Dataframe manipulation"
   ]
  },
  {
   "cell_type": "code",
   "execution_count": 7,
   "metadata": {},
   "outputs": [
    {
     "name": "stdout",
     "output_type": "stream",
     "text": [
      "<class 'pandas.core.frame.DataFrame'>\n",
      "RangeIndex: 4205 entries, 0 to 4204\n",
      "Data columns (total 5 columns):\n",
      " #   Column        Non-Null Count  Dtype \n",
      "---  ------        --------------  ----- \n",
      " 0   machine_type  4205 non-null   object\n",
      " 1   split         4205 non-null   object\n",
      " 2   label         4205 non-null   object\n",
      " 3   machine_id    4205 non-null   object\n",
      " 4   audio_id      4205 non-null   object\n",
      "dtypes: object(5)\n",
      "memory usage: 164.4+ KB\n"
     ]
    }
   ],
   "source": [
    "machines_df.info()"
   ]
  },
  {
   "cell_type": "code",
   "execution_count": 8,
   "metadata": {},
   "outputs": [
    {
     "data": {
      "text/plain": "Index              128\nmachine_type    256505\nsplit           259854\nlabel           265371\nmachine_id      248095\naudio_id        256505\ndtype: int64"
     },
     "execution_count": 8,
     "metadata": {},
     "output_type": "execute_result"
    }
   ],
   "source": [
    "machines_df.memory_usage(deep=True)"
   ]
  },
  {
   "cell_type": "code",
   "execution_count": 9,
   "metadata": {},
   "outputs": [],
   "source": [
    "dct_types = {\n",
    "    \"machine_type\": \"category\",\n",
    "    \"split\": \"category\",\n",
    "    \"label\": \"category\",\n",
    "    \"machine_id\": \"category\",\n",
    "    \"audio_id\": \"category\",\n",
    "}\n",
    "machines_df = machines_df.astype(dct_types)"
   ]
  },
  {
   "cell_type": "code",
   "execution_count": 10,
   "metadata": {},
   "outputs": [
    {
     "data": {
      "text/plain": "machine_type    category\nsplit           category\nlabel           category\nmachine_id      category\naudio_id        category\ndtype: object"
     },
     "execution_count": 10,
     "metadata": {},
     "output_type": "execute_result"
    }
   ],
   "source": [
    "machines_df.dtypes"
   ]
  },
  {
   "cell_type": "code",
   "execution_count": 11,
   "metadata": {},
   "outputs": [
    {
     "data": {
      "text/html": "<div>\n<style scoped>\n    .dataframe tbody tr th:only-of-type {\n        vertical-align: middle;\n    }\n\n    .dataframe tbody tr th {\n        vertical-align: top;\n    }\n\n    .dataframe thead th {\n        text-align: right;\n    }\n</style>\n<table border=\"1\" class=\"dataframe\">\n  <thead>\n    <tr style=\"text-align: right;\">\n      <th></th>\n      <th>machine_type</th>\n      <th>split</th>\n      <th>label</th>\n      <th>machine_id</th>\n      <th>audio_id</th>\n    </tr>\n  </thead>\n  <tbody>\n    <tr>\n      <th>3656</th>\n      <td>pump</td>\n      <td>train</td>\n      <td>normal</td>\n      <td>06</td>\n      <td>0387</td>\n    </tr>\n    <tr>\n      <th>1047</th>\n      <td>pump</td>\n      <td>train</td>\n      <td>normal</td>\n      <td>00</td>\n      <td>0191</td>\n    </tr>\n    <tr>\n      <th>3111</th>\n      <td>pump</td>\n      <td>train</td>\n      <td>normal</td>\n      <td>04</td>\n      <td>0444</td>\n    </tr>\n    <tr>\n      <th>2102</th>\n      <td>pump</td>\n      <td>train</td>\n      <td>normal</td>\n      <td>02</td>\n      <td>0340</td>\n    </tr>\n    <tr>\n      <th>2263</th>\n      <td>pump</td>\n      <td>train</td>\n      <td>normal</td>\n      <td>02</td>\n      <td>0501</td>\n    </tr>\n  </tbody>\n</table>\n</div>",
      "text/plain": "     machine_type  split   label machine_id audio_id\n3656         pump  train  normal         06     0387\n1047         pump  train  normal         00     0191\n3111         pump  train  normal         04     0444\n2102         pump  train  normal         02     0340\n2263         pump  train  normal         02     0501"
     },
     "execution_count": 11,
     "metadata": {},
     "output_type": "execute_result"
    }
   ],
   "source": [
    "machines_df.sample(5)"
   ]
  },
  {
   "cell_type": "code",
   "execution_count": 12,
   "metadata": {},
   "outputs": [
    {
     "data": {
      "text/plain": "Index             128\nmachine_type     4374\nsplit            4436\nlabel            4440\nmachine_id       4613\naudio_id        98570\ndtype: int64"
     },
     "execution_count": 12,
     "metadata": {},
     "output_type": "execute_result"
    }
   ],
   "source": [
    "machines_df.memory_usage(deep=True)"
   ]
  },
  {
   "cell_type": "code",
   "execution_count": 13,
   "metadata": {},
   "outputs": [
    {
     "data": {
      "text/plain": "Index             128\nmachine_type     4374\nsplit            4436\nlabel            4440\nmachine_id       4613\naudio_id        98570\ndtype: int64"
     },
     "execution_count": 13,
     "metadata": {},
     "output_type": "execute_result"
    }
   ],
   "source": [
    "machines_df.memory_usage(deep=True)"
   ]
  },
  {
   "cell_type": "markdown",
   "metadata": {},
   "source": [
    "## Summary"
   ]
  },
  {
   "cell_type": "code",
   "execution_count": 14,
   "metadata": {},
   "outputs": [
    {
     "data": {
      "text/html": "<div>\n<style scoped>\n    .dataframe tbody tr th:only-of-type {\n        vertical-align: middle;\n    }\n\n    .dataframe tbody tr th {\n        vertical-align: top;\n    }\n\n    .dataframe thead tr th {\n        text-align: left;\n    }\n\n    .dataframe thead tr:last-of-type th {\n        text-align: right;\n    }\n</style>\n<table border=\"1\" class=\"dataframe\">\n  <thead>\n    <tr>\n      <th>split</th>\n      <th colspan=\"2\" halign=\"left\">test</th>\n      <th>train</th>\n    </tr>\n    <tr>\n      <th>label</th>\n      <th>anomaly</th>\n      <th>normal</th>\n      <th>normal</th>\n    </tr>\n    <tr>\n      <th>machine_id</th>\n      <th></th>\n      <th></th>\n      <th></th>\n    </tr>\n  </thead>\n  <tbody>\n    <tr>\n      <th>00</th>\n      <td>143</td>\n      <td>100</td>\n      <td>906</td>\n    </tr>\n    <tr>\n      <th>02</th>\n      <td>111</td>\n      <td>100</td>\n      <td>905</td>\n    </tr>\n    <tr>\n      <th>04</th>\n      <td>100</td>\n      <td>100</td>\n      <td>602</td>\n    </tr>\n    <tr>\n      <th>06</th>\n      <td>102</td>\n      <td>100</td>\n      <td>936</td>\n    </tr>\n  </tbody>\n</table>\n</div>",
      "text/plain": "split         test         train\nlabel      anomaly normal normal\nmachine_id                      \n00             143    100    906\n02             111    100    905\n04             100    100    602\n06             102    100    936"
     },
     "execution_count": 14,
     "metadata": {},
     "output_type": "execute_result"
    }
   ],
   "source": [
    "(\n",
    "    machines_df\n",
    "    .filter([\"machine_id\", \"split\", \"label\", \"audio_id\"])\n",
    "    .pivot_table(\n",
    "        values=\"audio_id\",\n",
    "        index=[\"machine_id\"],\n",
    "        columns=[\"split\",\"label\"],\n",
    "        aggfunc='count',\n",
    "        fill_value=0,\n",
    "        observed=True)\n",
    ")"
   ]
  }
 ],
 "metadata": {
  "kernelspec": {
   "display_name": "Python 3.7.10 64-bit ('tfm': conda)",
   "name": "python3710jvsc74a57bd057fde4dc6cdb19e1d76ed7331772e4cf7a15b1a70b768f05e2959c60594bd89b"
  },
  "language_info": {
   "codemirror_mode": {
    "name": "ipython",
    "version": 3
   },
   "file_extension": ".py",
   "mimetype": "text/x-python",
   "name": "python",
   "nbconvert_exporter": "python",
   "pygments_lexer": "ipython3",
   "version": "3.7.10"
  },
  "metadata": {
   "interpreter": {
    "hash": "57fde4dc6cdb19e1d76ed7331772e4cf7a15b1a70b768f05e2959c60594bd89b"
   }
  }
 },
 "nbformat": 4,
 "nbformat_minor": 2
}